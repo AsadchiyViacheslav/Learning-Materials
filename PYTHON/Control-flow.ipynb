{
 "cells": [
  {
   "cell_type": "markdown",
   "id": "ff1a81d7",
   "metadata": {},
   "source": [
    "# Управляющие конструкции if for while"
   ]
  },
  {
   "cell_type": "markdown",
   "id": "ac011aad",
   "metadata": {},
   "source": [
    "## Конструкция if"
   ]
  },
  {
   "cell_type": "code",
   "execution_count": 18,
   "id": "3cf7959b",
   "metadata": {},
   "outputs": [
    {
     "name": "stdout",
     "output_type": "stream",
     "text": [
      "Программа...\n"
     ]
    }
   ],
   "source": [
    "x = 3\n",
    "y = 4\n",
    "if (x < 4) and not(y > 5):\n",
    "    print('Программа...')\n",
    "elif (x == 5) or (y == 5):\n",
    "    print('Программа 2 ...')\n",
    "else:\n",
    "    print('Программа 3 ...')"
   ]
  },
  {
   "cell_type": "markdown",
   "id": "ed0cadc3",
   "metadata": {},
   "source": [
    "Тернарный условный оператор"
   ]
  },
  {
   "cell_type": "code",
   "execution_count": 19,
   "id": "8f4b4b7d",
   "metadata": {},
   "outputs": [
    {
     "name": "stdout",
     "output_type": "stream",
     "text": [
      "1\n"
     ]
    },
    {
     "data": {
      "text/plain": [
       "[1, 2, 7, 4, 5]"
      ]
     },
     "execution_count": 19,
     "metadata": {},
     "output_type": "execute_result"
    }
   ],
   "source": [
    "a = 12\n",
    "b = 7\n",
    "\n",
    "if a > b:\n",
    "    res = 1\n",
    "else:\n",
    "    res = 2\n",
    "\n",
    "res = 1 if a > b else 2\n",
    "print(res)\n",
    "\n",
    "[1, 2, a if a < b else b, 4, 5]\n",
    "\n",
    "# Также можно вложить один тертарный оператор в другой (делать так не надо)"
   ]
  },
  {
   "cell_type": "markdown",
   "id": "2cc49d9e",
   "metadata": {},
   "source": [
    "Также появился новый оператор match-case (Python 3.10+):"
   ]
  },
  {
   "cell_type": "code",
   "execution_count": 20,
   "id": "045f504e",
   "metadata": {},
   "outputs": [
    {
     "name": "stdout",
     "output_type": "stream",
     "text": [
      "Неизвестная команда\n",
      "строковая команда: c_top\n"
     ]
    }
   ],
   "source": [
    "command = \"test\"\n",
    "\n",
    "match command:\n",
    "    case \"start\":\n",
    "        print(\"Запуск\")\n",
    "    case \"stop\":\n",
    "        print(\"Остановка\")\n",
    "    case _:\n",
    "        print(\"Неизвестная команда\")\n",
    "\n",
    "cmd = \"c_top\"\n",
    " \n",
    "match cmd:\n",
    "    case str() as command if len(command) < 10 and command[0] == 'c':\n",
    "        print(f\"строковая команда: {command}\")\n",
    "    case bool() as command:\n",
    "        print(f\"булева команда: {command}\")\n",
    "    case int() as command if 0 <= command <= 9:\n",
    "        print(f\"целочисленная команда: {command}\")\n",
    "    case _: \n",
    "        print(f\"другая команда\")"
   ]
  },
  {
   "cell_type": "markdown",
   "id": "7a2df7d7",
   "metadata": {},
   "source": [
    "## Цикл While"
   ]
  },
  {
   "cell_type": "markdown",
   "id": "952c488d",
   "metadata": {},
   "source": [
    "![Схема цикла While](https://proproprogs.ru/htm/python_base/files/python3-operator-cikla-while.files/image002.png)"
   ]
  },
  {
   "cell_type": "code",
   "execution_count": 21,
   "id": "85952bcf",
   "metadata": {},
   "outputs": [
    {
     "name": "stdout",
     "output_type": "stream",
     "text": [
      "Вход в систему осуществлен\n"
     ]
    }
   ],
   "source": [
    "pass_true = '123'\n",
    "ps = ''\n",
    " \n",
    "while ps != pass_true:\n",
    "    ps = input(\"Введите пароль: \")\n",
    " \n",
    "print(\"Вход в систему осуществлен\")"
   ]
  },
  {
   "cell_type": "markdown",
   "id": "d0954c41",
   "metadata": {},
   "source": [
    "С помощью break мы можем остановить цикл  \n",
    "С помощью continue пропустить итерацию"
   ]
  },
  {
   "cell_type": "markdown",
   "id": "8395b8f2",
   "metadata": {},
   "source": [
    "else в циклах выполняется после заверешения цикла в штатном режиме (не с помощью break), работает и с for"
   ]
  },
  {
   "cell_type": "code",
   "execution_count": 22,
   "id": "8350a2bf",
   "metadata": {},
   "outputs": [
    {
     "name": "stdout",
     "output_type": "stream",
     "text": [
      "-2.9289682539682538\n"
     ]
    }
   ],
   "source": [
    "S=0\n",
    "i=-10\n",
    " \n",
    "while i < 100:\n",
    "    if i == 0:\n",
    "        break\n",
    " \n",
    "    S += 1/i\n",
    "    i += 1\n",
    "else:\n",
    "    print(\"Сумма вычислена корректно\")\n",
    " \n",
    "print(S)"
   ]
  },
  {
   "cell_type": "markdown",
   "id": "bfa59037",
   "metadata": {},
   "source": [
    "## Цикл for"
   ]
  },
  {
   "cell_type": "markdown",
   "id": "77b490db",
   "metadata": {},
   "source": [
    "Функция `range(start, stop, step)` возвращает итерируемый объект"
   ]
  },
  {
   "cell_type": "code",
   "execution_count": 23,
   "id": "efd8d147",
   "metadata": {},
   "outputs": [
    {
     "name": "stdout",
     "output_type": "stream",
     "text": [
      "range(0, 10)\n",
      "[0, 1, 2, 3, 4, 5, 6, 7, 8, 9]\n"
     ]
    }
   ],
   "source": [
    "print(range(0,10))\n",
    "print(list(range(0,10)))"
   ]
  },
  {
   "cell_type": "code",
   "execution_count": 24,
   "id": "b4a65222",
   "metadata": {},
   "outputs": [
    {
     "name": "stdout",
     "output_type": "stream",
     "text": [
      "10\n",
      "9\n",
      "8\n",
      "7\n",
      "6\n",
      "5\n",
      "4\n",
      "3\n",
      "2\n",
      "1\n",
      "0\n"
     ]
    }
   ],
   "source": [
    "for i in range(10, -1, -1):\n",
    "    print(i)"
   ]
  },
  {
   "cell_type": "markdown",
   "id": "8e0203b0",
   "metadata": {},
   "source": [
    "`enumerate` возвращает пару (индекс, значение)"
   ]
  },
  {
   "cell_type": "code",
   "execution_count": 25,
   "id": "cd038320",
   "metadata": {},
   "outputs": [
    {
     "name": "stdout",
     "output_type": "stream",
     "text": [
      "(0, 0)\n",
      "(1, 1)\n",
      "(2, 2)\n",
      "(3, 3)\n",
      "(4, 4)\n",
      "0 1\n",
      "1 2\n",
      "2 3\n",
      "3 4\n",
      "4 5\n"
     ]
    }
   ],
   "source": [
    "for i in enumerate(range(5)):\n",
    "    print(i)\n",
    "\n",
    "arr = [1,2,3,4,5]\n",
    "for i, val in enumerate(arr):\n",
    "    print(i, val)"
   ]
  },
  {
   "cell_type": "markdown",
   "id": "2afae676",
   "metadata": {},
   "source": [
    "Вложенные циклы"
   ]
  },
  {
   "cell_type": "code",
   "execution_count": 26,
   "id": "3ca7fb7b",
   "metadata": {},
   "outputs": [
    {
     "name": "stdout",
     "output_type": "stream",
     "text": [
      "1 <class 'int'> 2 <class 'int'> 3 <class 'int'> 4 <class 'int'> \n",
      "2 <class 'int'> 3 <class 'int'> 4 <class 'int'> 5 <class 'int'> \n",
      "3 <class 'int'> 4 <class 'int'> 5 <class 'int'> 6 <class 'int'> \n"
     ]
    }
   ],
   "source": [
    "a = [[1, 2, 3, 4], [2, 3, 4, 5], [3, 4, 5, 6]]\n",
    "for row in a:\n",
    "    for x in row:\n",
    "        print(x, type(x), end=' ')\n",
    "    print()"
   ]
  },
  {
   "cell_type": "markdown",
   "id": "c454cf02",
   "metadata": {},
   "source": [
    "## Итератор и итерируемые объекты. Генераторы списков"
   ]
  },
  {
   "cell_type": "markdown",
   "id": "04c711f6",
   "metadata": {},
   "source": [
    "### Итераторы"
   ]
  },
  {
   "cell_type": "markdown",
   "id": "e6aba7fb",
   "metadata": {},
   "source": [
    "Каждый итерируемый объект предоставляет доступ к своим элементам через итератор. \n",
    "\n",
    "С помощью этого итератора можно один раз пройтись по всем элементам коллекции от начала до конца."
   ]
  },
  {
   "cell_type": "code",
   "execution_count": 27,
   "id": "8b6edfaa",
   "metadata": {},
   "outputs": [
    {
     "name": "stdout",
     "output_type": "stream",
     "text": [
      "<list_iterator object at 0x000002C30F9D63E0>\n"
     ]
    }
   ],
   "source": [
    "d = [5, 3, 7, 10, 32]\n",
    "it = iter(d) # изначально находится до первого элемента\n",
    "print(it)"
   ]
  },
  {
   "cell_type": "code",
   "execution_count": 28,
   "id": "5cdd4b5d",
   "metadata": {},
   "outputs": [
    {
     "name": "stdout",
     "output_type": "stream",
     "text": [
      "5\n",
      "3\n"
     ]
    }
   ],
   "source": [
    "print(next(it))\n",
    "print(next(it))"
   ]
  },
  {
   "cell_type": "markdown",
   "id": "68bfc133",
   "metadata": {},
   "source": [
    "Итератор самый безопасный способ пройтись по итерируемому объекту. Поэтому например в цикле for мы можем проходиться по строкам, спискам, range и так далее. Механизм итератора одинаков для любого итерируемого объекта."
   ]
  },
  {
   "cell_type": "markdown",
   "id": "d72e723b",
   "metadata": {},
   "source": [
    "Объединить итерируемые объекты можно с помощью `zip()`"
   ]
  },
  {
   "cell_type": "code",
   "execution_count": 29,
   "id": "8b57e2fe",
   "metadata": {},
   "outputs": [
    {
     "name": "stdout",
     "output_type": "stream",
     "text": [
      "1 a\n",
      "2 b\n",
      "3 c\n"
     ]
    }
   ],
   "source": [
    "a = [1, 2, 3, 4]\n",
    "b = ['a', 'b', 'c']\n",
    "for x, y in zip(a, b):\n",
    "    print(x, y)"
   ]
  },
  {
   "cell_type": "markdown",
   "id": "af54a551",
   "metadata": {},
   "source": [
    "### Генераторы"
   ]
  },
  {
   "cell_type": "markdown",
   "id": "f604a55f",
   "metadata": {},
   "source": [
    "Генераторы списков (List comprehensions)"
   ]
  },
  {
   "cell_type": "markdown",
   "id": "f0dbdb69",
   "metadata": {},
   "source": [
    "Генератор списка - `[<способ формирования значения> for <переменная> in <итерируемый объект>]`"
   ]
  },
  {
   "cell_type": "code",
   "execution_count": 30,
   "id": "0b6bfd5f",
   "metadata": {},
   "outputs": [],
   "source": [
    "N = 6\n",
    "a = [0] * N\n",
    " \n",
    "for i in range(N):\n",
    "    a[i] = i ** 2\n",
    " \n",
    "a = [x ** 2 for x in range(N)] # Генератор списка - работает быстрее"
   ]
  },
  {
   "cell_type": "markdown",
   "id": "eeb607d3",
   "metadata": {},
   "source": [
    "Если использовать в генераторе (), получаем объект класса генератор по которому можно пройтись только один раз. Не занимает памяти так как считается отдельно на каждой итерации."
   ]
  },
  {
   "cell_type": "code",
   "execution_count": 31,
   "id": "c2a179be",
   "metadata": {},
   "outputs": [
    {
     "name": "stdout",
     "output_type": "stream",
     "text": [
      "<class 'generator'>\n",
      "0\n",
      "1\n",
      "4\n",
      "9\n",
      "16\n",
      "25\n",
      "36\n",
      "49\n",
      "64\n",
      "81\n"
     ]
    }
   ],
   "source": [
    "gen = (x ** 2 for x in range(10))\n",
    "print(type(gen))\n",
    "for i in gen:\n",
    "    print(i)"
   ]
  },
  {
   "cell_type": "markdown",
   "id": "9cfe5b82",
   "metadata": {},
   "source": [
    "К генераторам можно применять различные функции list, set, sum, max, min и другие"
   ]
  },
  {
   "cell_type": "code",
   "execution_count": 32,
   "id": "f7eb0d9c",
   "metadata": {},
   "outputs": [
    {
     "data": {
      "text/plain": [
       "55"
      ]
     },
     "execution_count": 32,
     "metadata": {},
     "output_type": "execute_result"
    }
   ],
   "source": [
    "sum((x ** 2 for x in range(6)))"
   ]
  },
  {
   "cell_type": "markdown",
   "id": "89955176",
   "metadata": {},
   "source": [
    "Условия в генераторах списков"
   ]
  },
  {
   "cell_type": "code",
   "execution_count": 33,
   "id": "0ceaf500",
   "metadata": {},
   "outputs": [],
   "source": [
    "a = [x for x in range(-5, 5) if x < 0] # Одно условие\n",
    "a = [x for x in range(-6, 7) if x % 2 == 0 and x % 3 == 0] # Два условия"
   ]
  },
  {
   "cell_type": "markdown",
   "id": "cb05b1f2",
   "metadata": {},
   "source": [
    "Вложенные генераторы списков:\n",
    "\n",
    "`[[генератор списка] for <переменная> in <итерируемый объект>]`"
   ]
  },
  {
   "cell_type": "code",
   "execution_count": 34,
   "id": "5226b76e",
   "metadata": {},
   "outputs": [
    {
     "name": "stdout",
     "output_type": "stream",
     "text": [
      "[(0, 0), (0, 1), (0, 2), (0, 3), (1, 0), (1, 1), (1, 2), (1, 3), (2, 0), (2, 1), (2, 2), (2, 3)]\n"
     ]
    }
   ],
   "source": [
    "a = [(i, j) for i in range(3) for j in range(4)]\n",
    "print(a)"
   ]
  },
  {
   "cell_type": "code",
   "execution_count": 35,
   "id": "6f071fbf",
   "metadata": {},
   "outputs": [
    {
     "name": "stdout",
     "output_type": "stream",
     "text": [
      "[0, 1, 2, 3, 10, 11, 12, 13, 20, 21, 22, 23]\n"
     ]
    }
   ],
   "source": [
    "matrix = [[0, 1, 2, 3],\n",
    "          [10, 11, 12, 13],\n",
    "          [20, 21, 22, 23]]\n",
    " \n",
    "a = [x\n",
    "     for row in matrix\n",
    "     for x in row\n",
    "]\n",
    "print(a)"
   ]
  },
  {
   "cell_type": "code",
   "execution_count": 36,
   "id": "5d1288a1",
   "metadata": {},
   "outputs": [
    {
     "name": "stdout",
     "output_type": "stream",
     "text": [
      "[[0, 1, 2], [0, 1, 2], [0, 1, 2], [0, 1, 2]]\n"
     ]
    }
   ],
   "source": [
    "M, N = 3, 4\n",
    "matrix = [[a for a in range(M)] for b in range(N)]\n",
    " \n",
    "print(matrix)"
   ]
  },
  {
   "cell_type": "markdown",
   "id": "2ddbd002",
   "metadata": {},
   "source": [
    "Функция генератор. "
   ]
  },
  {
   "cell_type": "markdown",
   "id": "e02d302c",
   "metadata": {},
   "source": [
    "yield - возвращает текущее значение x и «замораживает» состояние функции до следующего обращения к ней (в том числе и все локальные переменные). Именно так определяются функции-генераторы. "
   ]
  },
  {
   "cell_type": "code",
   "execution_count": 37,
   "id": "433f8650",
   "metadata": {},
   "outputs": [
    {
     "name": "stdout",
     "output_type": "stream",
     "text": [
      "<generator object get_list at 0x000002C30FEE0B80>\n",
      "1\n",
      "2\n"
     ]
    }
   ],
   "source": [
    "def get_list():\n",
    "    for x in [1, 2, 3, 4]:\n",
    "        yield x\n",
    "\n",
    "d = get_list()\n",
    "print(d)\n",
    "\n",
    "print(next(d))\n",
    "print(next(d))"
   ]
  },
  {
   "cell_type": "markdown",
   "id": "0e621ce8",
   "metadata": {},
   "source": [
    "В этом и заключается роль оператора yield. Он превращает обычную функцию в генератор и при каждом вызове функции next() активизируется функция-генератор, возвращает очередное значение и «замораживает» свое состояние вместе с локальными переменными до следующего вызова функции next()."
   ]
  },
  {
   "cell_type": "code",
   "execution_count": 38,
   "id": "d7d41a7f",
   "metadata": {},
   "outputs": [
    {
     "name": "stdout",
     "output_type": "stream",
     "text": [
      "5\n",
      "4\n",
      "3\n",
      "2\n",
      "1\n"
     ]
    }
   ],
   "source": [
    "def countdown(n):\n",
    "    while n > 0:\n",
    "        yield n\n",
    "        n -= 1\n",
    "\n",
    "for i in countdown(5):\n",
    "    print(i)"
   ]
  },
  {
   "cell_type": "code",
   "execution_count": 39,
   "id": "db23e9f3",
   "metadata": {},
   "outputs": [
    {
     "name": "stdout",
     "output_type": "stream",
     "text": [
      "[5.5, 6.0, 6.5, 7.0, 7.5, 8.0, 8.5, 9.0, 9.5]\n",
      "5.5\n",
      "6.0\n",
      "6.5\n",
      "7.0\n",
      "7.5\n",
      "8.0\n",
      "8.5\n",
      "9.0\n",
      "9.5\n"
     ]
    }
   ],
   "source": [
    "def avg_gen(N, step=1):\n",
    "    for i in range(1, N):\n",
    "        a = range(i, N+1, step)\n",
    "        yield sum(a) / len(a)\n",
    "\n",
    "b = avg_gen(10)\n",
    "print(list(b))\n",
    "\n",
    "for i in avg_gen(10):\n",
    "    print(i)"
   ]
  },
  {
   "cell_type": "markdown",
   "id": "6a03c6b5",
   "metadata": {},
   "source": [
    "Все это нужно, если нужен генератор более с чем 1 операцией, так как в обычном генераторе действие одно"
   ]
  },
  {
   "cell_type": "code",
   "execution_count": 40,
   "id": "c9b76665",
   "metadata": {},
   "outputs": [
    {
     "name": "stdout",
     "output_type": "stream",
     "text": [
      "[15, 43, 86]\n",
      "---------------------\n",
      "15\n",
      "43\n"
     ]
    }
   ],
   "source": [
    "\"\"\"Читаем строки и ищем там вхождение слова с помощью функции генератора\"\"\"\n",
    "\n",
    "def find_word(lines, word):\n",
    "    g_indx = 0\n",
    "    for line in lines:\n",
    "        indx = 0\n",
    "        while indx != -1:\n",
    "            indx = line.find(word, indx)\n",
    "            if indx > -1:\n",
    "                yield g_indx + indx\n",
    "                indx += 1\n",
    "        g_indx += len(line)\n",
    "\n",
    "text = [\n",
    "    \"Это строка про генераторы.\\n\",\n",
    "    \"Вот снова слово генератор здесь.\\n\",\n",
    "    \"А тут его нет.\\n\",\n",
    "    \"И еще один генератор в конце.\\n\"\n",
    "]\n",
    "\n",
    "result = find_word(text, \"генератор\")\n",
    "print(list(result))\n",
    "\n",
    "print('---------------------')\n",
    "result = find_word(text, \"генератор\")\n",
    "print(next(result))\n",
    "print(next(result))"
   ]
  },
  {
   "cell_type": "markdown",
   "id": "7628c378",
   "metadata": {},
   "source": [
    "Функция `map` применяет функцию ко всему итерируемому объекту"
   ]
  },
  {
   "cell_type": "code",
   "execution_count": 41,
   "id": "daa9e19b",
   "metadata": {},
   "outputs": [
    {
     "name": "stdout",
     "output_type": "stream",
     "text": [
      "<map object at 0x000002C30F9D66E0>\n",
      "['Авксом', 'Ьнахартса', 'Арамас', 'Афу', 'Кснеломс', 'Ьревт']\n"
     ]
    }
   ],
   "source": [
    "cities = [\"Москва\", \"Астрахань\", \"Самара\", \"Уфа\", \"Смоленск\", \"Тверь\"]\n",
    "\n",
    "b = map(lambda s: s[::-1].lower().capitalize(), cities)\n",
    "print(b)\n",
    "print(list(b))"
   ]
  },
  {
   "cell_type": "markdown",
   "id": "98cdaeae",
   "metadata": {},
   "source": [
    "Функция `filter` служит для фильтрации (отбора) элементов указанного итерированного объекта"
   ]
  },
  {
   "cell_type": "code",
   "execution_count": 42,
   "id": "e41caa1e",
   "metadata": {},
   "outputs": [
    {
     "name": "stdout",
     "output_type": "stream",
     "text": [
      "[2, 4, 6, 8, 10]\n"
     ]
    }
   ],
   "source": [
    "a = [1, 2, 3, 4, 5, 6, 7, 8, 9, 10]\n",
    "b = filter(lambda x: x % 2 == 0, a)\n",
    "print(list(b))"
   ]
  },
  {
   "cell_type": "code",
   "execution_count": 43,
   "id": "ff3dc873",
   "metadata": {},
   "outputs": [],
   "source": [
    "# Фильтрация только на простые числа\n",
    "\n",
    "def is_prost(x):\n",
    "    d = x-1\n",
    "    if d < 0:\n",
    "        return False\n",
    "    \n",
    "    while d > 1:\n",
    "        if x % d == 0:\n",
    "            return False\n",
    "        d -= 1\n",
    " \n",
    "    return True\n",
    "    \n",
    "b = filter(is_prost, a)"
   ]
  },
  {
   "cell_type": "markdown",
   "id": "59d7fd6d",
   "metadata": {},
   "source": [
    "Функции all и any"
   ]
  },
  {
   "cell_type": "code",
   "execution_count": 44,
   "id": "25b18ca4",
   "metadata": {},
   "outputs": [
    {
     "name": "stdout",
     "output_type": "stream",
     "text": [
      "True\n",
      "True\n",
      "False\n"
     ]
    }
   ],
   "source": [
    "arr1 = [2,4,6,8,10,12]\n",
    "arr2 = [1,2,3,5,7,9]\n",
    "arr3 = ['x','x','y']\n",
    "\n",
    "print(all(map(lambda x: x % 2 == 0, arr1)))\n",
    "print(any(map(lambda x: x % 2 == 0, arr2)))\n",
    "print(all(map(lambda x: x == 'x', arr3)))"
   ]
  }
 ],
 "metadata": {
  "kernelspec": {
   "display_name": "Python 3",
   "language": "python",
   "name": "python3"
  },
  "language_info": {
   "codemirror_mode": {
    "name": "ipython",
    "version": 3
   },
   "file_extension": ".py",
   "mimetype": "text/x-python",
   "name": "python",
   "nbconvert_exporter": "python",
   "pygments_lexer": "ipython3",
   "version": "3.13.4"
  }
 },
 "nbformat": 4,
 "nbformat_minor": 5
}
