{
 "cells": [
  {
   "cell_type": "markdown",
   "id": "ff1a81d7",
   "metadata": {},
   "source": [
    "# Управляющие конструкции if for while"
   ]
  },
  {
   "cell_type": "markdown",
   "id": "ac011aad",
   "metadata": {},
   "source": [
    "## Конструкция if"
   ]
  },
  {
   "cell_type": "code",
   "execution_count": 5,
   "id": "3cf7959b",
   "metadata": {},
   "outputs": [
    {
     "name": "stdout",
     "output_type": "stream",
     "text": [
      "Программа...\n"
     ]
    }
   ],
   "source": [
    "x = 3\n",
    "y = 4\n",
    "if (x < 4) and not(y > 5):\n",
    "    print('Программа...')\n",
    "elif (x == 5) or (y == 5):\n",
    "    print('Программа 2 ...')\n",
    "else:\n",
    "    print('Программа 3 ...')"
   ]
  },
  {
   "cell_type": "markdown",
   "id": "ed0cadc3",
   "metadata": {},
   "source": [
    "Тернарный условный оператор"
   ]
  },
  {
   "cell_type": "code",
   "execution_count": 6,
   "id": "8f4b4b7d",
   "metadata": {},
   "outputs": [
    {
     "name": "stdout",
     "output_type": "stream",
     "text": [
      "1\n"
     ]
    },
    {
     "data": {
      "text/plain": [
       "[1, 2, 7, 4, 5]"
      ]
     },
     "execution_count": 6,
     "metadata": {},
     "output_type": "execute_result"
    }
   ],
   "source": [
    "a = 12\n",
    "b = 7\n",
    "\n",
    "if a > b:\n",
    "    res = 1\n",
    "else:\n",
    "    res = 2\n",
    "\n",
    "res = 1 if a > b else 2\n",
    "print(res)\n",
    "\n",
    "[1, 2, a if a < b else b, 4, 5]\n",
    "\n",
    "# Также можно вложить один тертарный оператор в другой (делать так не надо)"
   ]
  },
  {
   "cell_type": "markdown",
   "id": "7a2df7d7",
   "metadata": {},
   "source": [
    "## Цикл While"
   ]
  },
  {
   "cell_type": "markdown",
   "id": "952c488d",
   "metadata": {},
   "source": [
    "![Схема цикла While](https://proproprogs.ru/htm/python_base/files/python3-operator-cikla-while.files/image002.png)"
   ]
  },
  {
   "cell_type": "code",
   "execution_count": null,
   "id": "85952bcf",
   "metadata": {},
   "outputs": [
    {
     "name": "stdout",
     "output_type": "stream",
     "text": [
      "Вход в систему осуществлен\n"
     ]
    }
   ],
   "source": [
    "pass_true = '123'\n",
    "ps = ''\n",
    " \n",
    "while ps != pass_true:\n",
    "    ps = input(\"Введите пароль: \")\n",
    " \n",
    "print(\"Вход в систему осуществлен\")"
   ]
  },
  {
   "cell_type": "markdown",
   "id": "d0954c41",
   "metadata": {},
   "source": [
    "С помощью break мы можем остановить цикл, с помощью continue пропустить итерацию"
   ]
  },
  {
   "cell_type": "markdown",
   "id": "8395b8f2",
   "metadata": {},
   "source": [
    "else выполняется после заверешения цикла в штатном режиме (не с помощью break)"
   ]
  },
  {
   "cell_type": "code",
   "execution_count": 8,
   "id": "8350a2bf",
   "metadata": {},
   "outputs": [
    {
     "name": "stdout",
     "output_type": "stream",
     "text": [
      "-2.9289682539682538\n"
     ]
    }
   ],
   "source": [
    "S=0\n",
    "i=-10\n",
    " \n",
    "while i < 100:\n",
    "    if i == 0:\n",
    "        break\n",
    " \n",
    "    S += 1/i\n",
    "    i += 1\n",
    "else:\n",
    "    print(\"Сумма вычислена корректно\")\n",
    " \n",
    "print(S)"
   ]
  },
  {
   "cell_type": "markdown",
   "id": "bfa59037",
   "metadata": {},
   "source": [
    "## Цикл for"
   ]
  },
  {
   "cell_type": "markdown",
   "id": "77b490db",
   "metadata": {},
   "source": [
    "Функция `range(start, stop, step)` возвращает итерируемый объект"
   ]
  },
  {
   "cell_type": "code",
   "execution_count": 10,
   "id": "efd8d147",
   "metadata": {},
   "outputs": [
    {
     "name": "stdout",
     "output_type": "stream",
     "text": [
      "range(0, 10)\n",
      "[0, 1, 2, 3, 4, 5, 6, 7, 8, 9]\n"
     ]
    }
   ],
   "source": [
    "print(range(0,10))\n",
    "print(list(range(0,10)))"
   ]
  },
  {
   "cell_type": "code",
   "execution_count": 11,
   "id": "b4a65222",
   "metadata": {},
   "outputs": [
    {
     "name": "stdout",
     "output_type": "stream",
     "text": [
      "10\n",
      "9\n",
      "8\n",
      "7\n",
      "6\n",
      "5\n",
      "4\n",
      "3\n",
      "2\n",
      "1\n",
      "0\n"
     ]
    }
   ],
   "source": [
    "for i in range(10, -1, -1):\n",
    "    print(i)"
   ]
  },
  {
   "cell_type": "markdown",
   "id": "8e0203b0",
   "metadata": {},
   "source": [
    "`enumerate` возвращает пару (индекс, значение)"
   ]
  },
  {
   "cell_type": "code",
   "execution_count": 13,
   "id": "cd038320",
   "metadata": {},
   "outputs": [
    {
     "name": "stdout",
     "output_type": "stream",
     "text": [
      "(0, 0)\n",
      "(1, 1)\n",
      "(2, 2)\n",
      "(3, 3)\n",
      "(4, 4)\n",
      "(0, 1)\n",
      "(1, 2)\n",
      "(2, 3)\n",
      "(3, 4)\n",
      "(4, 5)\n"
     ]
    }
   ],
   "source": [
    "for i in enumerate(range(5)):\n",
    "    print(i)\n",
    "\n",
    "arr = [1,2,3,4,5]\n",
    "for i in enumerate(arr):\n",
    "    print(i)"
   ]
  },
  {
   "cell_type": "code",
   "execution_count": 14,
   "id": "3ca7fb7b",
   "metadata": {},
   "outputs": [
    {
     "name": "stdout",
     "output_type": "stream",
     "text": [
      "1 <class 'int'> 2 <class 'int'> 3 <class 'int'> 4 <class 'int'> \n",
      "2 <class 'int'> 3 <class 'int'> 4 <class 'int'> 5 <class 'int'> \n",
      "3 <class 'int'> 4 <class 'int'> 5 <class 'int'> 6 <class 'int'> \n"
     ]
    }
   ],
   "source": [
    "a = [[1, 2, 3, 4], [2, 3, 4, 5], [3, 4, 5, 6]]\n",
    "for row in a:\n",
    "    for x in row:\n",
    "        print(x, type(x), end=' ')\n",
    "    print()"
   ]
  },
  {
   "cell_type": "markdown",
   "id": "c454cf02",
   "metadata": {},
   "source": [
    "## Итератор и итерируемые объекты. Генераторы списков"
   ]
  },
  {
   "cell_type": "markdown",
   "id": "e6aba7fb",
   "metadata": {},
   "source": [
    "Каждый итерируемый объект предоставляет доступ к своим элементам через итератор. С помощью этого итератора можно один раз пройтись по всем элементам коллекции от начала до конца."
   ]
  },
  {
   "cell_type": "code",
   "execution_count": null,
   "id": "8b6edfaa",
   "metadata": {},
   "outputs": [],
   "source": [
    "d = [5, 3, 7, 10, 32]\n",
    "it = iter(d) # изначально находится до первого элемента\n",
    "print(it)"
   ]
  },
  {
   "cell_type": "code",
   "execution_count": null,
   "id": "5cdd4b5d",
   "metadata": {},
   "outputs": [],
   "source": [
    "print(next(it))\n",
    "print(next(it))"
   ]
  },
  {
   "cell_type": "markdown",
   "id": "68bfc133",
   "metadata": {},
   "source": [
    "Итератор самый безопасный способ пройтись по итерируемому объекту. Поэтому например в цикле for мы можем проходиться по строкам, спискам, range и так далее. Механизм итератора един для любого итерируемого объекта."
   ]
  },
  {
   "cell_type": "markdown",
   "id": "f604a55f",
   "metadata": {},
   "source": [
    "Генераторы списков (List comprehensions)"
   ]
  },
  {
   "cell_type": "markdown",
   "id": "f0dbdb69",
   "metadata": {},
   "source": [
    "Генератор списка - `[<способ формирования значения> for <переменная> in <итерируемый объект>]`"
   ]
  },
  {
   "cell_type": "code",
   "execution_count": null,
   "id": "0b6bfd5f",
   "metadata": {},
   "outputs": [],
   "source": [
    "N = 6\n",
    "a = [0] * N\n",
    " \n",
    "for i in range(N):\n",
    "    a[i] = i ** 2\n",
    " \n",
    "a = [x ** 2 for x in range(N)] #генератор списка - работает быстрее"
   ]
  },
  {
   "cell_type": "markdown",
   "id": "89955176",
   "metadata": {},
   "source": [
    "Условия в генераторах списков"
   ]
  },
  {
   "cell_type": "code",
   "execution_count": null,
   "id": "0ceaf500",
   "metadata": {},
   "outputs": [],
   "source": [
    "a = [x for x in range(-5, 5) if x < 0] # Одно условие\n",
    "a = [x for x in range(-6, 7) if x % 2 == 0 and x % 3 == 0] # Два условия"
   ]
  },
  {
   "cell_type": "markdown",
   "id": "cb05b1f2",
   "metadata": {},
   "source": [
    "Вложенные генераторы списков:\n",
    "\n",
    "`[[генератор списка] for <переменная> in <итерируемый объект>]`"
   ]
  },
  {
   "cell_type": "code",
   "execution_count": 15,
   "id": "5226b76e",
   "metadata": {},
   "outputs": [
    {
     "name": "stdout",
     "output_type": "stream",
     "text": [
      "[(0, 0), (0, 1), (0, 2), (0, 3), (1, 0), (1, 1), (1, 2), (1, 3), (2, 0), (2, 1), (2, 2), (2, 3)]\n"
     ]
    }
   ],
   "source": [
    "a = [(i, j) for i in range(3) for j in range(4)]\n",
    "print(a)"
   ]
  },
  {
   "cell_type": "code",
   "execution_count": null,
   "id": "6f071fbf",
   "metadata": {},
   "outputs": [],
   "source": [
    "matrix = [[0, 1, 2, 3],\n",
    "          [10, 11, 12, 13],\n",
    "          [20, 21, 22, 23]]\n",
    " \n",
    "a = [x\n",
    "     for row in matrix\n",
    "     for x in row\n",
    "]\n",
    "print(a)"
   ]
  },
  {
   "cell_type": "code",
   "execution_count": null,
   "id": "5d1288a1",
   "metadata": {},
   "outputs": [],
   "source": [
    "M, N = 3, 4\n",
    "matrix = [[a for a in range(M)] for b in range(N)]\n",
    " \n",
    "print(matrix)"
   ]
  }
 ],
 "metadata": {
  "kernelspec": {
   "display_name": "Python 3",
   "language": "python",
   "name": "python3"
  },
  "language_info": {
   "codemirror_mode": {
    "name": "ipython",
    "version": 3
   },
   "file_extension": ".py",
   "mimetype": "text/x-python",
   "name": "python",
   "nbconvert_exporter": "python",
   "pygments_lexer": "ipython3",
   "version": "3.13.4"
  }
 },
 "nbformat": 4,
 "nbformat_minor": 5
}
