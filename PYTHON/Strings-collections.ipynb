{
 "cells": [
  {
   "cell_type": "markdown",
   "id": "83e063d1",
   "metadata": {},
   "source": [
    "# Строки и коллекции: list, tuple, dict, set"
   ]
  },
  {
   "cell_type": "markdown",
   "id": "53a0ead2",
   "metadata": {},
   "source": [
    "## Строки"
   ]
  },
  {
   "cell_type": "markdown",
   "id": "f4ca1f28",
   "metadata": {},
   "source": [
    "### Основы строк"
   ]
  },
  {
   "cell_type": "markdown",
   "id": "3c60b1ef",
   "metadata": {},
   "source": [
    "*   Строки в Python - упорядоченные последовательности символов, используемые для хранения и представления текстовой информации, поэтому с помощью строк можно работать со всем, что может быть представлено в текстовой форме\n",
    "*   Строки — неизменяемые последовательности символов!"
   ]
  },
  {
   "cell_type": "code",
   "execution_count": 48,
   "id": "ed42633f",
   "metadata": {},
   "outputs": [
    {
     "name": "stdout",
     "output_type": "stream",
     "text": [
      "helloworld\n",
      "Hello world \n",
      "next string\n",
      "new and new\n",
      "\n"
     ]
    }
   ],
   "source": [
    "string1 = \"hello\" # создание через \"\"\n",
    "string2 = 'world' # создание через ''\n",
    "\n",
    "# создание через ''' '''\n",
    "text = '''Hello world \n",
    "next string\n",
    "new and new\n",
    "'''\n",
    "\n",
    "print(string1 + string2)\n",
    "print(text)"
   ]
  },
  {
   "cell_type": "markdown",
   "id": "e34c7fd0",
   "metadata": {},
   "source": [
    "Операции со строками"
   ]
  },
  {
   "cell_type": "code",
   "execution_count": 49,
   "id": "b89a1936",
   "metadata": {},
   "outputs": [
    {
     "name": "stdout",
     "output_type": "stream",
     "text": [
      "hello world\n",
      "hello hello hello hello hello \n",
      "5\n"
     ]
    }
   ],
   "source": [
    "print('hello' + ' ' + 'world') # соединяет строки, конкатенация\n",
    "print('hello ' * 5) # дублирурет строку\n",
    "print(len('hello')) # длина строки"
   ]
  },
  {
   "cell_type": "code",
   "execution_count": 50,
   "id": "e9d99512",
   "metadata": {},
   "outputs": [
    {
     "name": "stdout",
     "output_type": "stream",
     "text": [
      "True\n",
      "False\n",
      "True\n",
      "1072\n"
     ]
    }
   ],
   "source": [
    "print('ell' in 'hello') # проверка на наличие подстроки\n",
    "print('Hello' == 'hello') # сравнение строк\n",
    "print('кот' > 'кит') # сравнения по кодам символов\n",
    "print(ord('а')) #узнать код символа по кодировке"
   ]
  },
  {
   "cell_type": "markdown",
   "id": "293999ad",
   "metadata": {},
   "source": [
    "На данный момент в Python везде unicode, однака база это ASCII. Про обе можно найти кодировки на вики"
   ]
  },
  {
   "cell_type": "markdown",
   "id": "fdf64461",
   "metadata": {},
   "source": [
    "Удобный способ работы со строками - срезы (slicing) `[start:end:step]`"
   ]
  },
  {
   "cell_type": "code",
   "execution_count": 51,
   "id": "e97b7354",
   "metadata": {},
   "outputs": [
    {
     "name": "stdout",
     "output_type": "stream",
     "text": [
      "1 9\n",
      "5\n"
     ]
    }
   ],
   "source": [
    "s = '123456789'\n",
    "\n",
    "print(s[0], s[-1])\n",
    "print(s[4])"
   ]
  },
  {
   "cell_type": "code",
   "execution_count": 52,
   "id": "eedef539",
   "metadata": {},
   "outputs": [
    {
     "name": "stdout",
     "output_type": "stream",
     "text": [
      "123456789\n",
      "3456789 12\n",
      "678\n",
      "34\n",
      "987654321\n",
      "35\n",
      "654321\n"
     ]
    }
   ],
   "source": [
    "s = '123456789'\n",
    "\n",
    "print(s[:]) # вся строка\n",
    "print(s[2:], s[:2]) #с 2 и до 2\n",
    "print(s[-4:-1]) # c -4 Элемента до -1\n",
    "print(s[2:4]) # c 2 по 4 элементы\n",
    "print(s[::-1]) # все элементы с шагом -1, получаем перевернутую строку\n",
    "print(s[2:6:2]) # с 2 по 6 число с шагом 2\n",
    "print(s[-4::-1]) #c -4 индекса до начала, т.к шаг -1"
   ]
  },
  {
   "cell_type": "markdown",
   "id": "2614eaf0",
   "metadata": {},
   "source": [
    "Внутри строкового литерала могут быть использованы *управляющие последовательности*\n",
    "\n",
    "| Последовательность |       Описание      |\n",
    "|:------------------:|:-------------------:|\n",
    "|         `\\\\`         | Обратный слеш (`\\`) |\n",
    "|         `\\'`         |       Апостроф      |\n",
    "|         `\\\"`         |       Кавычка       |\n",
    "|         `\\t`         |   Символ табуляции  |\n",
    "|         `\\n`         |    Перевод строки   |\n",
    "\n",
    "**Префикс «r»**  \n",
    "\"Сырые\" строки - подавляют экранирование!  "
   ]
  },
  {
   "cell_type": "markdown",
   "id": "072ed692",
   "metadata": {},
   "source": [
    "Форматирование строк:\n",
    "\n",
    "- f - строка\n",
    "\n",
    "- str.format\n",
    "\n",
    "- %"
   ]
  },
  {
   "cell_type": "code",
   "execution_count": 53,
   "id": "324b41d0",
   "metadata": {},
   "outputs": [
    {
     "name": "stdout",
     "output_type": "stream",
     "text": [
      "result is       12.1\n",
      "result is       12.1\n",
      "result is       12.1\n"
     ]
    }
   ],
   "source": [
    "var = 12.123\n",
    "\n",
    "# value:{width}.{precision}\n",
    "print(f\"result is {var:10.1f}\")\n",
    "\n",
    "print(\"result is {res:10.1f}\".format(res = var)) \n",
    "\n",
    "print(\"result is %10.1f\" % (var)) "
   ]
  },
  {
   "cell_type": "markdown",
   "id": "31d3bffe",
   "metadata": {},
   "source": [
    "### Встроенные функции и методы строк"
   ]
  },
  {
   "cell_type": "markdown",
   "id": "4c8acfea",
   "metadata": {},
   "source": [
    "Также весь список методов с примерами https://pyhub.ru/python/lecture-5-10-23/"
   ]
  },
  {
   "cell_type": "markdown",
   "id": "d735ef9d",
   "metadata": {},
   "source": [
    "| Метод                 | Описание |\n",
    "|----------------------|----------|\n",
    "| `capitalize()`       | Делает первую букву заглавной, остальные — строчными. |\n",
    "| `casefold()`         | Более агрессивная версия `lower()`, используется для сравнения без учёта регистра. |\n",
    "| `center(width)`      | Возвращает строку, выровненную по центру в строке длины `width`. |\n",
    "| `count(sub)`         | Возвращает количество вхождений подстроки `sub`. |\n",
    "| `encode()`           | Кодирует строку в байты (по умолчанию UTF-8). |\n",
    "| `endswith(suffix)`   | Проверяет, заканчивается ли строка на `suffix`. |\n",
    "| `expandtabs(tabsize)`| Заменяет табуляции `\\t` на пробелы (по умолчанию 8). |\n",
    "| `find(sub)`          | Возвращает индекс первого вхождения `sub`, либо `-1`. |\n",
    "| `format()`           | Форматирует строку с использованием подстановок `{}`. |\n",
    "| `format_map(dict)`   | Как `format()`, но принимает только словарь. |\n",
    "| `index(sub)`         | Как `find()`, но вызывает `ValueError`, если нет вхождения. |\n",
    "| `isalnum()`          | True, если строка состоит только из букв и цифр. |\n",
    "| `isalpha()`          | True, если строка состоит только из букв. |\n",
    "| `isascii()`          | True, если все символы — ASCII. |\n",
    "| `isdecimal()`        | True, если строка содержит только десятичные цифры. |\n",
    "| `isdigit()`          | True, если строка состоит из цифр. |\n",
    "| `isidentifier()`     | True, если строка — допустимый идентификатор Python. |\n",
    "| `islower()`          | True, если все буквы — строчные. |\n",
    "| `isnumeric()`        | True, если строка состоит из чисел (включая, например, римские цифры). |\n",
    "| `isprintable()`      | True, если все символы можно напечатать. |\n",
    "| `isspace()`          | True, если строка состоит только из пробельных символов. |\n",
    "| `istitle()`          | True, если строка в \"title case\" — Первая Буква Каждого Слова Заглавная. |\n",
    "| `isupper()`          | True, если все буквы — заглавные. |\n",
    "| `join(iterable)`     | Соединяет элементы `iterable` в строку с разделителем — текущей строкой. |\n",
    "| `ljust(width)`       | Выравнивает строку по левому краю в поле ширины `width`. |\n",
    "| `lower()`            | Переводит все буквы в нижний регистр. |\n",
    "| `lstrip()`           | Удаляет пробелы (или заданные символы) слева. |\n",
    "| `maketrans()`        | Возвращает таблицу преобразования символов для `translate()`. |\n",
    "| `partition(sep)`     | Разделяет строку на три части: до `sep`, `sep`, после. |\n",
    "| `removeprefix(p)`    | Удаляет префикс `p`, если он есть. (Python 3.9+) |\n",
    "| `removesuffix(s)`    | Удаляет суффикс `s`, если он есть. (Python 3.9+) |\n",
    "| `replace(old, new)`  | Заменяет `old` на `new`. |\n",
    "| `rfind(sub)`         | Последнее вхождение подстроки или `-1`. |\n",
    "| `rindex(sub)`        | Как `rfind()`, но вызывает ошибку, если не найдено. |\n",
    "| `rjust(width)`       | Выравнивает строку по правому краю. |\n",
    "| `rpartition(sep)`    | Разделяет строку по последнему вхождению `sep`. |\n",
    "| `rsplit(sep)`        | Разбивает строку справа налево. |\n",
    "| `rstrip()`           | Удаляет пробелы (или заданные символы) справа. |\n",
    "| `split(sep)`         | Разбивает строку по разделителю `sep` (по умолчанию — по пробелам). |\n",
    "| `splitlines()`       | Разбивает строку по строкам (`\\n`, `\\r\\n` и т.д.). |\n",
    "| `startswith(prefix)` | Проверяет, начинается ли строка с `prefix`. |\n",
    "| `strip()`            | Удаляет пробелы слева и справа (или заданные символы). |\n",
    "| `swapcase()`         | Меняет регистр: заглавные → строчные и наоборот. |\n",
    "| `title()`            | Делает каждое слово с заглавной буквы. |\n",
    "| `translate(table)`   | Заменяет символы согласно таблице `table` из `maketrans()`. |\n",
    "| `upper()`            | Переводит все буквы в верхний регистр. |\n",
    "| `zfill(width)`       | Дополняет строку нулями слева до длины `width`. |\n"
   ]
  },
  {
   "cell_type": "code",
   "execution_count": 54,
   "id": "a4d5d59c",
   "metadata": {},
   "outputs": [
    {
     "name": "stdout",
     "output_type": "stream",
     "text": [
      "heLLo\n",
      "      HELLO    \n",
      "      hello    \n",
      "      hello    \n"
     ]
    }
   ],
   "source": [
    "s1 = '      heLLo    '\n",
    "\n",
    "print(s1.strip())\n",
    "print(s1.upper())\n",
    "print(s1.lower())\n",
    "print(s1.capitalize())\n",
    "\n",
    "# В общем очень много методов под капотом"
   ]
  },
  {
   "cell_type": "markdown",
   "id": "9251b0b7",
   "metadata": {},
   "source": [
    "### Регулярные варажение"
   ]
  },
  {
   "cell_type": "markdown",
   "id": "747f0e11",
   "metadata": {},
   "source": [
    "Здесь только супер база, больше описал в NLP"
   ]
  },
  {
   "cell_type": "markdown",
   "id": "078ac927",
   "metadata": {},
   "source": [
    "Регулярные выражения (их еще называют регулярки, regexp или regex) — это мощный механизм для поиска и замены текста.\n",
    "\n",
    "Регулярные выражения ‒ выражения, последовательности символов, которые позволяют искать совпадения в тексте. Выражаясь более формально, они помогают найти подстроки определенного вида в строке."
   ]
  },
  {
   "cell_type": "markdown",
   "id": "89bdd32c",
   "metadata": {},
   "source": [
    "Статьи по регулярным выражениям:\n",
    "\n",
    "- https://habr.com/ru/articles/349860/\n",
    "\n",
    "- https://habr.com/ru/articles/545150/"
   ]
  },
  {
   "cell_type": "markdown",
   "id": "c50b78a2",
   "metadata": {},
   "source": [
    "Основые задачи, которые решают регулярные выражения\n",
    "\n",
    "*   поиск в строке\n",
    "*   разбиение строки на подстроки\n",
    "*   замена части строки\n",
    "*   валидация\n",
    "\n",
    "Сайт для проверки регулярок - https://regex101.com/"
   ]
  },
  {
   "cell_type": "markdown",
   "id": "fce2b8b7",
   "metadata": {},
   "source": [
    "**Таблица символов и конструкций регулярных выражений в Python**\n",
    "\n",
    "| Синтаксис        | Назначение |\n",
    "|------------------|------------|\n",
    "| `.`              | Любой символ, кроме новой строки (`\\n`) |\n",
    "| `^`              | Начало строки |\n",
    "| `$`              | Конец строки |\n",
    "| `*`              | 0 или более повторений |\n",
    "| `+`              | 1 или более повторений |\n",
    "| `?`              | 0 или 1 повторение |\n",
    "| `{n}`            | Ровно `n` повторений |\n",
    "| `{n,}`           | `n` или более повторений |\n",
    "| `{n,m}`          | От `n` до `m` повторений |\n",
    "| `[...]`          | Один из символов внутри скобок |\n",
    "| `[^...]`         | Любой символ, кроме указанных |\n",
    "| ``              | Альтернатива (ИЛИ), например: `abc|def` |\n",
    "| `(...)`          | Группа для захвата .group()|\n",
    "| `(?:...)`        | Группа без захвата просто для порядка операций|\n",
    "| `\\`              | Экранирование специального символа |\n",
    "\n",
    "**Специальные последовательности**\n",
    "\n",
    "| Синтаксис | Значение |\n",
    "|-----------|----------|\n",
    "| `\\d`      | Цифра `[0-9]` |\n",
    "| `\\D`      | Не цифра |\n",
    "| `\\w`      | Словесный символ: `[a-zA-Z0-9_]` |\n",
    "| `\\W`      | Не словесный символ |\n",
    "| `\\s`      | Пробельный символ (включает `\\t`, `\\n` и т.д.) |\n",
    "| `\\S`      | Не пробельный символ |\n",
    "| `\\b`      | Граница слова |\n",
    "| `\\B`      | Не граница слова |\n",
    "| `\\A`      | Начало всей строки |\n",
    "| `\\Z`      | Конец всей строки |\n",
    "| `\\n`, `\\t` и т.п. | Стандартные escape-последовательности |"
   ]
  },
  {
   "cell_type": "code",
   "execution_count": 55,
   "id": "cdf11ce9",
   "metadata": {},
   "outputs": [],
   "source": [
    "# библиотека регулярных выражений в Python\n",
    "import re"
   ]
  },
  {
   "cell_type": "code",
   "execution_count": 56,
   "id": "a20b9e8e",
   "metadata": {},
   "outputs": [
    {
     "name": "stdout",
     "output_type": "stream",
     "text": [
      "123-456-7890\n",
      "987-654-3210\n"
     ]
    }
   ],
   "source": [
    "text = ['1235', '2145', '123-456-7890', '987-654-3210']\n",
    "pattern = r\"\\d{3}-\\d{3}-\\d{4}\"\n",
    "\n",
    "# Функция match проверяет совпадение\n",
    "for str in text:\n",
    "    match = re.match(pattern, str)\n",
    "    if match:\n",
    "        print(match.group())"
   ]
  },
  {
   "cell_type": "code",
   "execution_count": 57,
   "id": "b7b161b2",
   "metadata": {},
   "outputs": [
    {
     "name": "stdout",
     "output_type": "stream",
     "text": [
      "123-456-7890\n"
     ]
    }
   ],
   "source": [
    "text = \"My phone numbers are 123-456-7890 and 987-654-3210.\"\n",
    "\n",
    "# Это ищет строки формата: XXX-XXX-XXXX\n",
    "pattern = r\"\\d{3}-\\d{3}-\\d{4}\"\n",
    "\n",
    "# Ищет первое совпадение в строке\n",
    "search = re.search(pattern, text)\n",
    "print(search.group())"
   ]
  },
  {
   "cell_type": "code",
   "execution_count": 58,
   "id": "3f535547",
   "metadata": {},
   "outputs": [
    {
     "name": "stdout",
     "output_type": "stream",
     "text": [
      "['123-456-7890', '987-654-3210']\n"
     ]
    }
   ],
   "source": [
    "# Возвращает все совпадения как список строк (без объектов Match)\n",
    "all_numbers = re.findall(pattern, text)\n",
    "print(all_numbers)"
   ]
  },
  {
   "cell_type": "code",
   "execution_count": 59,
   "id": "7c3bc88e",
   "metadata": {},
   "outputs": [
    {
     "name": "stdout",
     "output_type": "stream",
     "text": [
      "Найдено: 123-456-7890 на позиции 21–33\n",
      "Найдено: 987-654-3210 на позиции 38–50\n"
     ]
    }
   ],
   "source": [
    "# То же, что findall(), но возвращает итератор объектов Match — удобно, если нужны позиции.\n",
    "for match in re.finditer(pattern, text):\n",
    "    print(f\"Найдено: {match.group()} на позиции {match.start()}–{match.end()}\")"
   ]
  },
  {
   "cell_type": "code",
   "execution_count": 60,
   "id": "63b7b0ed",
   "metadata": {},
   "outputs": [
    {
     "name": "stdout",
     "output_type": "stream",
     "text": [
      "123-456-7890\n"
     ]
    }
   ],
   "source": [
    "# Сравнивает шаблон с всей строкой полностью.\n",
    "text = \"123-456-7890\"\n",
    "full = re.fullmatch(pattern, text)\n",
    "print(full.group())"
   ]
  },
  {
   "cell_type": "markdown",
   "id": "06416a80",
   "metadata": {},
   "source": [
    "`re.split(pattern, string, maxsplit=0)`\tАналог `str.split()`, только разделение происходит по подстрокам, подходящим под шаблон pattern;\n",
    "\n",
    "`re.sub(pattern, repl, string, count=0)`\tзаменяет в строке `string` все непересекающиеся шаблоны `pattern` на `repl`\n",
    "\n",
    "`re.compile` компелирует регулярное выражение в отдельный объект"
   ]
  },
  {
   "cell_type": "markdown",
   "id": "ac588264",
   "metadata": {},
   "source": [
    "## Коллекции"
   ]
  }
 ],
 "metadata": {
  "kernelspec": {
   "display_name": "Python 3",
   "language": "python",
   "name": "python3"
  },
  "language_info": {
   "codemirror_mode": {
    "name": "ipython",
    "version": 3
   },
   "file_extension": ".py",
   "mimetype": "text/x-python",
   "name": "python",
   "nbconvert_exporter": "python",
   "pygments_lexer": "ipython3",
   "version": "3.13.4"
  }
 },
 "nbformat": 4,
 "nbformat_minor": 5
}
