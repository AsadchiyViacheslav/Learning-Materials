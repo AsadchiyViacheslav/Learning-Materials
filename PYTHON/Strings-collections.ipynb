{
 "cells": [
  {
   "cell_type": "markdown",
   "id": "83e063d1",
   "metadata": {},
   "source": [
    "# Строки и коллекции: list, tuple, dict, set"
   ]
  },
  {
   "cell_type": "markdown",
   "id": "53a0ead2",
   "metadata": {},
   "source": [
    "## Строки"
   ]
  },
  {
   "cell_type": "markdown",
   "id": "f4ca1f28",
   "metadata": {},
   "source": [
    "### Основы строк"
   ]
  },
  {
   "cell_type": "markdown",
   "id": "3c60b1ef",
   "metadata": {},
   "source": [
    "*   Строки в Python - упорядоченные последовательности символов, используемые для хранения и представления текстовой информации, поэтому с помощью строк можно работать со всем, что может быть представлено в текстовой форме\n",
    "\n",
    "*   Строки — неизменяемые последовательности символов!"
   ]
  },
  {
   "cell_type": "code",
   "execution_count": 41,
   "id": "ed42633f",
   "metadata": {},
   "outputs": [
    {
     "name": "stdout",
     "output_type": "stream",
     "text": [
      "helloworld\n",
      "Hello world \n",
      "next string\n",
      "new and new\n",
      "\n"
     ]
    }
   ],
   "source": [
    "string1 = \"hello\" # создание через \"\"\n",
    "string2 = 'world' # создание через ''\n",
    "\n",
    "# создание через ''' '''\n",
    "text = '''Hello world \n",
    "next string\n",
    "new and new\n",
    "'''\n",
    "\n",
    "print(string1 + string2)\n",
    "print(text)"
   ]
  },
  {
   "cell_type": "markdown",
   "id": "e34c7fd0",
   "metadata": {},
   "source": [
    "Операции со строками"
   ]
  },
  {
   "cell_type": "code",
   "execution_count": 42,
   "id": "b89a1936",
   "metadata": {},
   "outputs": [
    {
     "name": "stdout",
     "output_type": "stream",
     "text": [
      "hello world\n",
      "hello hello hello hello hello \n",
      "5\n"
     ]
    }
   ],
   "source": [
    "print('hello' + ' ' + 'world') # соединяет строки, конкатенация\n",
    "print('hello ' * 5) # дублирурет строку\n",
    "print(len('hello')) # длина строки"
   ]
  },
  {
   "cell_type": "code",
   "execution_count": 43,
   "id": "e9d99512",
   "metadata": {},
   "outputs": [
    {
     "name": "stdout",
     "output_type": "stream",
     "text": [
      "True\n",
      "False\n",
      "True\n",
      "1072\n"
     ]
    }
   ],
   "source": [
    "print('ell' in 'hello') # проверка на наличие подстроки\n",
    "print('Hello' == 'hello') # сравнение строк\n",
    "print('кот' > 'кит') # сравнения по кодам символов\n",
    "print(ord('а')) #узнать код символа по кодировке"
   ]
  },
  {
   "cell_type": "markdown",
   "id": "293999ad",
   "metadata": {},
   "source": [
    "На данный момент в Python везде unicode, однака база это ASCII. Про обе можно найти кодировки на вики"
   ]
  },
  {
   "cell_type": "markdown",
   "id": "fdf64461",
   "metadata": {},
   "source": [
    "Удобный способ работы со строками - срезы (slicing) `[start:end:step]`"
   ]
  },
  {
   "cell_type": "code",
   "execution_count": 44,
   "id": "e97b7354",
   "metadata": {},
   "outputs": [
    {
     "name": "stdout",
     "output_type": "stream",
     "text": [
      "1 9\n",
      "5\n"
     ]
    }
   ],
   "source": [
    "s = '123456789'\n",
    "\n",
    "# Индексы\n",
    "print(s[0], s[-1])\n",
    "print(s[4])"
   ]
  },
  {
   "cell_type": "code",
   "execution_count": 45,
   "id": "eedef539",
   "metadata": {},
   "outputs": [
    {
     "name": "stdout",
     "output_type": "stream",
     "text": [
      "123456789\n",
      "3456789 12\n",
      "678\n",
      "34\n",
      "987654321\n",
      "35\n",
      "654321\n"
     ]
    }
   ],
   "source": [
    "s = '123456789'\n",
    "\n",
    "# Срезы (slicing)\n",
    "print(s[:]) # вся строка\n",
    "print(s[2:], s[:2]) #с 2 и до 2\n",
    "print(s[-4:-1]) # c -4 Элемента до -1\n",
    "print(s[2:4]) # c 2 по 4 элементы\n",
    "print(s[::-1]) # все элементы с шагом -1, получаем перевернутую строку\n",
    "print(s[2:6:2]) # с 2 по 6 число с шагом 2\n",
    "print(s[-4::-1]) #c -4 индекса до начала, т.к шаг -1"
   ]
  },
  {
   "cell_type": "markdown",
   "id": "2614eaf0",
   "metadata": {},
   "source": [
    "Внутри строкового литерала могут быть использованы *управляющие последовательности* (это только основные)\n",
    "\n",
    "| Последовательность |       Описание      |\n",
    "|:------------------:|:-------------------:|\n",
    "|         `\\\\`         | Обратный слеш (`\\`) |\n",
    "|         `\\'`         |       Апостроф      |\n",
    "|         `\\\"`         |       Кавычка       |\n",
    "|         `\\t`         |   Символ табуляции  |\n",
    "|         `\\n`         |    Перевод строки   |\n",
    "\n",
    "**Префикс «r»**  \n",
    "\"Сырые\" строки - подавляют экранирование!  "
   ]
  },
  {
   "cell_type": "markdown",
   "id": "072ed692",
   "metadata": {},
   "source": [
    "Форматирование строк:\n",
    "\n",
    "- f - строка\n",
    "\n",
    "- str.format\n",
    "\n",
    "- %"
   ]
  },
  {
   "cell_type": "code",
   "execution_count": 46,
   "id": "324b41d0",
   "metadata": {},
   "outputs": [
    {
     "name": "stdout",
     "output_type": "stream",
     "text": [
      "result is       12.1\n",
      "result is       12.1\n",
      "result is       12.1\n"
     ]
    }
   ],
   "source": [
    "var = 12.123\n",
    "\n",
    "# value:{width}.{precision}\n",
    "print(f\"result is {var:10.1f}\")\n",
    "\n",
    "print(\"result is {res:10.1f}\".format(res = var)) \n",
    "\n",
    "print(\"result is %10.1f\" % (var)) "
   ]
  },
  {
   "cell_type": "markdown",
   "id": "31d3bffe",
   "metadata": {},
   "source": [
    "### Встроенные функции и методы строк"
   ]
  },
  {
   "cell_type": "markdown",
   "id": "4c8acfea",
   "metadata": {},
   "source": [
    "Также весь список методов с примерами https://pyhub.ru/python/lecture-5-10-23/"
   ]
  },
  {
   "cell_type": "markdown",
   "id": "d735ef9d",
   "metadata": {},
   "source": [
    "| Метод                 | Описание |\n",
    "|----------------------|----------|\n",
    "| `capitalize()`       | Делает первую букву заглавной, остальные — строчными. |\n",
    "| `casefold()`         | Более агрессивная версия `lower()`, используется для сравнения без учёта регистра. |\n",
    "| `center(width)`      | Возвращает строку, выровненную по центру в строке длины `width`. |\n",
    "| `count(sub)`         | Возвращает количество вхождений подстроки `sub`. |\n",
    "| `encode()`           | Кодирует строку в байты (по умолчанию UTF-8). |\n",
    "| `endswith(suffix)`   | Проверяет, заканчивается ли строка на `suffix`. |\n",
    "| `expandtabs(tabsize)`| Заменяет табуляции `\\t` на пробелы (по умолчанию 8). |\n",
    "| `find(sub)`          | Возвращает индекс первого вхождения `sub`, либо `-1`. |\n",
    "| `format()`           | Форматирует строку с использованием подстановок `{}`. |\n",
    "| `format_map(dict)`   | Как `format()`, но принимает только словарь. |\n",
    "| `index(sub)`         | Как `find()`, но вызывает `ValueError`, если нет вхождения. |\n",
    "| `isalnum()`          | True, если строка состоит только из букв и цифр. |\n",
    "| `isalpha()`          | True, если строка состоит только из букв. |\n",
    "| `isascii()`          | True, если все символы — ASCII. |\n",
    "| `isdecimal()`        | True, если строка содержит только десятичные цифры. |\n",
    "| `isdigit()`          | True, если строка состоит из цифр. |\n",
    "| `isidentifier()`     | True, если строка — допустимый идентификатор Python. |\n",
    "| `islower()`          | True, если все буквы — строчные. |\n",
    "| `isnumeric()`        | True, если строка состоит из чисел (включая, например, римские цифры). |\n",
    "| `isprintable()`      | True, если все символы можно напечатать. |\n",
    "| `isspace()`          | True, если строка состоит только из пробельных символов. |\n",
    "| `istitle()`          | True, если строка в \"title case\" — Первая Буква Каждого Слова Заглавная. |\n",
    "| `isupper()`          | True, если все буквы — заглавные. |\n",
    "| `join(iterable)`     | Соединяет элементы `iterable` в строку с разделителем — текущей строкой. |\n",
    "| `ljust(width)`       | Выравнивает строку по левому краю в поле ширины `width`. |\n",
    "| `lower()`            | Переводит все буквы в нижний регистр. |\n",
    "| `lstrip()`           | Удаляет пробелы (или заданные символы) слева. |\n",
    "| `maketrans()`        | Возвращает таблицу преобразования символов для `translate()`. |\n",
    "| `partition(sep)`     | Разделяет строку на три части: до `sep`, `sep`, после. |\n",
    "| `removeprefix(p)`    | Удаляет префикс `p`, если он есть. (Python 3.9+) |\n",
    "| `removesuffix(s)`    | Удаляет суффикс `s`, если он есть. (Python 3.9+) |\n",
    "| `replace(old, new)`  | Заменяет `old` на `new`. |\n",
    "| `rfind(sub)`         | Последнее вхождение подстроки или `-1`. |\n",
    "| `rindex(sub)`        | Как `rfind()`, но вызывает ошибку, если не найдено. |\n",
    "| `rjust(width)`       | Выравнивает строку по правому краю. |\n",
    "| `rpartition(sep)`    | Разделяет строку по последнему вхождению `sep`. |\n",
    "| `rsplit(sep)`        | Разбивает строку справа налево. |\n",
    "| `rstrip()`           | Удаляет пробелы (или заданные символы) справа. |\n",
    "| `split(sep)`         | Разбивает строку по разделителю `sep` (по умолчанию — по пробелам). |\n",
    "| `splitlines()`       | Разбивает строку по строкам (`\\n`, `\\r\\n` и т.д.). |\n",
    "| `startswith(prefix)` | Проверяет, начинается ли строка с `prefix`. |\n",
    "| `strip()`            | Удаляет пробелы слева и справа (или заданные символы). |\n",
    "| `swapcase()`         | Меняет регистр: заглавные → строчные и наоборот. |\n",
    "| `title()`            | Делает каждое слово с заглавной буквы. |\n",
    "| `translate(table)`   | Заменяет символы согласно таблице `table` из `maketrans()`. |\n",
    "| `upper()`            | Переводит все буквы в верхний регистр. |\n",
    "| `zfill(width)`       | Дополняет строку нулями слева до длины `width`. |\n"
   ]
  },
  {
   "cell_type": "code",
   "execution_count": 47,
   "id": "a4d5d59c",
   "metadata": {},
   "outputs": [
    {
     "name": "stdout",
     "output_type": "stream",
     "text": [
      "heLLo\n",
      "      HELLO    \n",
      "      hello    \n",
      "      hello    \n"
     ]
    }
   ],
   "source": [
    "s1 = '      heLLo    '\n",
    "\n",
    "print(s1.strip())\n",
    "print(s1.upper())\n",
    "print(s1.lower())\n",
    "print(s1.capitalize())\n",
    "\n",
    "# В общем очень много методов под капотом"
   ]
  },
  {
   "cell_type": "code",
   "execution_count": 48,
   "id": "d11a7f86",
   "metadata": {},
   "outputs": [
    {
     "name": "stdout",
     "output_type": "stream",
     "text": [
      "['Hello', 'I', 'Love', 'Python']\n",
      "Hello / I / Love / Python\n"
     ]
    }
   ],
   "source": [
    "s = \"   Hello, I love python  \"\n",
    "s = s.strip().title().replace(',', '').split() #слева на право\n",
    "print(s)\n",
    "\n",
    "full = ' / '.join(s)\n",
    "print(full)"
   ]
  },
  {
   "cell_type": "markdown",
   "id": "9251b0b7",
   "metadata": {},
   "source": [
    "### Регулярные варажение"
   ]
  },
  {
   "cell_type": "markdown",
   "id": "747f0e11",
   "metadata": {},
   "source": [
    "Здесь только супер база, больше описал в NLP"
   ]
  },
  {
   "cell_type": "markdown",
   "id": "078ac927",
   "metadata": {},
   "source": [
    "Регулярные выражения (их еще называют регулярки, regexp или regex) — это мощный механизм для поиска и замены текста.\n",
    "\n",
    "Регулярные выражения ‒ выражения, последовательности символов, которые позволяют искать совпадения в тексте. Выражаясь более формально, они помогают найти подстроки определенного вида в строке."
   ]
  },
  {
   "cell_type": "markdown",
   "id": "89bdd32c",
   "metadata": {},
   "source": [
    "Статьи по регулярным выражениям:\n",
    "\n",
    "- https://habr.com/ru/articles/349860/\n",
    "\n",
    "- https://habr.com/ru/articles/545150/"
   ]
  },
  {
   "cell_type": "markdown",
   "id": "c50b78a2",
   "metadata": {},
   "source": [
    "Основые задачи, которые решают регулярные выражения\n",
    "\n",
    "*   поиск в строке\n",
    "*   разбиение строки на подстроки\n",
    "*   замена части строки\n",
    "*   валидация\n",
    "\n",
    "Сайт для проверки регулярок - https://regex101.com/"
   ]
  },
  {
   "cell_type": "markdown",
   "id": "fce2b8b7",
   "metadata": {},
   "source": [
    "**Таблица символов и конструкций регулярных выражений в Python**\n",
    "\n",
    "| Синтаксис        | Назначение |\n",
    "|------------------|------------|\n",
    "| `.`              | Любой символ, кроме новой строки (`\\n`) |\n",
    "| `^`              | Начало строки |\n",
    "| `$`              | Конец строки |\n",
    "| `*`              | 0 или более повторений |\n",
    "| `+`              | 1 или более повторений |\n",
    "| `?`              | 0 или 1 повторение |\n",
    "| `{n}`            | Ровно `n` повторений |\n",
    "| `{n,}`           | `n` или более повторений |\n",
    "| `{n,m}`          | От `n` до `m` повторений |\n",
    "| `[...]`          | Один из символов внутри скобок |\n",
    "| `[^...]`         | Любой символ, кроме указанных |\n",
    "| `Вертикальная черта`| Альтернатива (ИЛИ) |\n",
    "| `(...)`          | Группа для захвата .group()|\n",
    "| `(?:...)`        | Группа без захвата просто для порядка операций|\n",
    "| `\\`              | Экранирование специального символа |\n",
    "\n",
    "\n",
    "\n",
    "**Специальные последовательности**\n",
    "\n",
    "| Синтаксис | Значение |\n",
    "|-----------|----------|\n",
    "| `\\d`      | Цифра `[0-9]` |\n",
    "| `\\D`      | Не цифра |\n",
    "| `\\w`      | Словесный символ: `[a-zA-Z0-9_]` |\n",
    "| `\\W`      | Не словесный символ |\n",
    "| `\\s`      | Пробельный символ (включает `\\t`, `\\n` и т.д.) |\n",
    "| `\\S`      | Не пробельный символ |\n",
    "| `\\b`      | Граница слова |\n",
    "| `\\B`      | Не граница слова |\n",
    "| `\\A`      | Начало всей строки |\n",
    "| `\\Z`      | Конец всей строки |\n",
    "| `\\n`, `\\t` и т.п. | Стандартные escape-последовательности |"
   ]
  },
  {
   "cell_type": "code",
   "execution_count": 49,
   "id": "cdf11ce9",
   "metadata": {},
   "outputs": [],
   "source": [
    "# библиотека регулярных выражений в Python\n",
    "import re"
   ]
  },
  {
   "cell_type": "code",
   "execution_count": 50,
   "id": "a20b9e8e",
   "metadata": {},
   "outputs": [
    {
     "name": "stdout",
     "output_type": "stream",
     "text": [
      "123-456-7890\n",
      "987-654-3210\n"
     ]
    }
   ],
   "source": [
    "text = ['1235', '2145', '123-456-7890', '987-654-3210']\n",
    "pattern = r\"\\d{3}-\\d{3}-\\d{4}\"\n",
    "\n",
    "# Функция match проверяет совпадение\n",
    "for str in text:\n",
    "    match = re.match(pattern, str)\n",
    "    if match:\n",
    "        print(match.group())"
   ]
  },
  {
   "cell_type": "code",
   "execution_count": 51,
   "id": "b7b161b2",
   "metadata": {},
   "outputs": [
    {
     "name": "stdout",
     "output_type": "stream",
     "text": [
      "123-456-7890\n"
     ]
    }
   ],
   "source": [
    "text = \"My phone numbers are 123-456-7890 and 987-654-3210.\"\n",
    "\n",
    "# Это ищет строки формата: XXX-XXX-XXXX\n",
    "pattern = r\"\\d{3}-\\d{3}-\\d{4}\"\n",
    "\n",
    "# Ищет первое совпадение в строке\n",
    "search = re.search(pattern, text)\n",
    "print(search.group())"
   ]
  },
  {
   "cell_type": "code",
   "execution_count": 52,
   "id": "3f535547",
   "metadata": {},
   "outputs": [
    {
     "name": "stdout",
     "output_type": "stream",
     "text": [
      "['123-456-7890', '987-654-3210']\n"
     ]
    }
   ],
   "source": [
    "# Возвращает все совпадения как список строк (без объектов Match)\n",
    "all_numbers = re.findall(pattern, text)\n",
    "print(all_numbers)"
   ]
  },
  {
   "cell_type": "code",
   "execution_count": 53,
   "id": "7c3bc88e",
   "metadata": {},
   "outputs": [
    {
     "name": "stdout",
     "output_type": "stream",
     "text": [
      "Найдено: 123-456-7890 на позиции 21–33\n",
      "Найдено: 987-654-3210 на позиции 38–50\n"
     ]
    }
   ],
   "source": [
    "# То же, что findall(), но возвращает итератор объектов Match — удобно, если нужны позиции.\n",
    "for match in re.finditer(pattern, text):\n",
    "    print(f\"Найдено: {match.group()} на позиции {match.start()}–{match.end()}\")"
   ]
  },
  {
   "cell_type": "code",
   "execution_count": 54,
   "id": "63b7b0ed",
   "metadata": {},
   "outputs": [
    {
     "name": "stdout",
     "output_type": "stream",
     "text": [
      "123-456-7890\n",
      "v.a.asadchiy@gmail.com\n"
     ]
    }
   ],
   "source": [
    "# Сравнивает шаблон с всей строкой полностью.\n",
    "text = \"123-456-7890\"\n",
    "full = re.fullmatch(pattern, text)\n",
    "print(full.group())\n",
    "\n",
    "text = \"v.a.asadchiy@gmail.com\"\n",
    "pattern = r'[\\w._]+@[\\w._]+.[\\w._]{2,5}'\n",
    "\n",
    "match = re.fullmatch(pattern, text)\n",
    "if match:\n",
    "    print(match.group())"
   ]
  },
  {
   "cell_type": "markdown",
   "id": "06416a80",
   "metadata": {},
   "source": [
    "`re.split(pattern, string, maxsplit=0)`\tАналог `str.split()`, только разделение происходит по подстрокам, подходящим под шаблон pattern;\n",
    "\n",
    "`re.sub(pattern, repl, string, count=0)`\tзаменяет в строке `string` все непересекающиеся шаблоны `pattern` на `repl`\n",
    "\n",
    "`re.compile` компелирует регулярное выражение в отдельный объект"
   ]
  },
  {
   "cell_type": "markdown",
   "id": "ac588264",
   "metadata": {},
   "source": [
    "## Коллекции"
   ]
  },
  {
   "cell_type": "markdown",
   "id": "8ccc520d",
   "metadata": {},
   "source": [
    "### Списки (list)"
   ]
  },
  {
   "cell_type": "markdown",
   "id": "6d9a749d",
   "metadata": {},
   "source": [
    "Список - упорядоченная коллекция данных (упорядоченная значит имеет индекс); изменяемый тип данных"
   ]
  },
  {
   "cell_type": "code",
   "execution_count": 55,
   "id": "a875899e",
   "metadata": {},
   "outputs": [
    {
     "name": "stdout",
     "output_type": "stream",
     "text": [
      "[1, 'hello', 245.24, True, [1, 2]]\n",
      "[1, 2, 3, 4, 5, 6]\n",
      "['p', 'y', 't', 'h', 'o', 'n']\n",
      "[]\n"
     ]
    }
   ],
   "source": [
    "arr = [1, 'hello', 245.24, True, [1, 2]]\n",
    "print(arr)\n",
    "\n",
    "a = list([1,2,3,4,5,6])\n",
    "print(a)\n",
    "\n",
    "b = list('python') # Строит список из итерируемых объектов\n",
    "print(b)\n",
    "\n",
    "c = list()\n",
    "print(c)"
   ]
  },
  {
   "cell_type": "markdown",
   "id": "dd0ae307",
   "metadata": {},
   "source": [
    "Функции применимые к спискам\n",
    "\n",
    "| Функция |       Описание      |\n",
    "|:------------------:|:-------------------:|\n",
    "|         `len()`         | Длина |\n",
    "|         `max()`         |       Максимальный элемент      |\n",
    "|         `min()`         |       Минимальный элемент       |\n",
    "|         `sum()`         |   Сумма  |\n",
    "|         `sorted()`         |    Сортировка   | \n",
    "\n",
    "Методы списка\n",
    "\n",
    "| Метод |       Описание      |\n",
    "|:------------------:|:-------------------:|\n",
    "|         `+`         | Соединение двух списков |\n",
    "|         `*`         |       Дублирование списка      |\n",
    "|         `in`         |       Проверка вхождения элемента в список       |\n",
    "|         `del()`         |   Удаляет по индексу или срезу  |\n",
    "|         `append()`         |   Добавить в конец  |\n",
    "|         `insert()`         |   Добавить в индекс  |\n",
    "|         `remove()`         |   Удалить по значению  |\n",
    "|         `pop()`         |   Удалить последний или по индексу  |\n",
    "|         `clear()`         |   Отчищает массив  |\n",
    "|         `copy()`         |   Возвращает копию списка;  |\n",
    "|         `count()`         |   Возвращает количество вхождений  |\n",
    "|         `index()`         |   Возвращает индекс первого вхождения  |\n",
    "|         `reverse()`         |   Разворачивает список на месте  |\n",
    "|         `sort()`         |   Сортирует список на месте, возвращает None  |\n",
    "\n",
    "Также работают срезы как и со строками\n",
    "Сравнения через `==` `>` `>=` `<` `<=`"
   ]
  },
  {
   "cell_type": "code",
   "execution_count": 56,
   "id": "1855f06a",
   "metadata": {},
   "outputs": [
    {
     "name": "stdout",
     "output_type": "stream",
     "text": [
      "[4, 5, 12, 19, 51, 51, 0, 0, 0, 0, 0]\n"
     ]
    }
   ],
   "source": [
    "arr = [4,12,51,19,51,5,2,1]\n",
    "arr = sorted(arr, reverse = False) # Прежний список не меняется\n",
    "arr.sort(reverse = False) # Прежний список меняется\n",
    "\n",
    "arr += [0,0,0,0,0]\n",
    "del arr[0:2]\n",
    "print(arr)"
   ]
  },
  {
   "cell_type": "markdown",
   "id": "0913ab61",
   "metadata": {},
   "source": [
    "### Словарь (dict)"
   ]
  },
  {
   "cell_type": "markdown",
   "id": "ac566d2b",
   "metadata": {},
   "source": [
    "Ключ - значение:\n",
    "\n",
    "house -> дом  \n",
    "car -> машина  \n",
    "tree -> дерево  \n",
    "road -> дорога  \n",
    "river -> река"
   ]
  },
  {
   "cell_type": "markdown",
   "id": "bf9ff1bf",
   "metadata": {},
   "source": [
    "Ключи могут быть любыми неизменяемыми объектами (включая числа, кортежи и даже frozenset).  \n",
    "\n",
    "Словарь изменяемый тип данных. Ключи словаря должны быть уникальными и неизменяемыми (если ключ не уникален, то соответсвие будет последний ключ)"
   ]
  },
  {
   "cell_type": "code",
   "execution_count": 57,
   "id": "657c4246",
   "metadata": {},
   "outputs": [
    {
     "name": "stdout",
     "output_type": "stream",
     "text": [
      "дом\n"
     ]
    }
   ],
   "source": [
    "d = dict()\n",
    "\n",
    "d = {}\n",
    "\n",
    "d = {\"house\": \"дом\", \"car\": \"машина\",\n",
    "     \"tree\": \"дерево\", \"road\": \"дорога\",\n",
    "     \"river\": \"река\"}\n",
    "\n",
    "print(d[\"house\"])"
   ]
  },
  {
   "cell_type": "code",
   "execution_count": 58,
   "id": "7f1e599c",
   "metadata": {},
   "outputs": [
    {
     "name": "stdout",
     "output_type": "stream",
     "text": [
      "{'one': 1, 'two': 2, 'three': '3', 'four': '4'}\n"
     ]
    }
   ],
   "source": [
    "# Здесь ключи преобразовываются в строки и должны определяться как и имена переменных. Например, использовать числа уже не получится\n",
    "d2 = dict(one = 1, two = 2, three = \"3\", four = \"4\")\n",
    "print(d2)"
   ]
  },
  {
   "cell_type": "markdown",
   "id": "527e2c9a",
   "metadata": {},
   "source": [
    "Можно создать словарь из списка специального вида"
   ]
  },
  {
   "cell_type": "code",
   "execution_count": 59,
   "id": "06a83b7f",
   "metadata": {},
   "outputs": [
    {
     "name": "stdout",
     "output_type": "stream",
     "text": [
      "{2: 'неудовлетворительно', 3: 'удовлетворительно', 4: 'хорошо', 5: 'отлично'}\n"
     ]
    }
   ],
   "source": [
    "lst = [[2, \"неудовлетворительно\"], [3, \"удовлетворительно\"], [4, \"хорошо\"], [5, \"отлично\"]]\n",
    "d3 = dict(lst)\n",
    "print(d3)"
   ]
  },
  {
   "cell_type": "markdown",
   "id": "0776a08a",
   "metadata": {},
   "source": [
    "Операторы и функции работы со словарем"
   ]
  },
  {
   "cell_type": "code",
   "execution_count": 60,
   "id": "2f424133",
   "metadata": {},
   "outputs": [
    {
     "name": "stdout",
     "output_type": "stream",
     "text": [
      "4\n"
     ]
    }
   ],
   "source": [
    "print(len(d3)) # Длина\n",
    "\n",
    "del d3[2] # Удаление по ключю"
   ]
  },
  {
   "cell_type": "code",
   "execution_count": 61,
   "id": "580907e3",
   "metadata": {},
   "outputs": [
    {
     "name": "stdout",
     "output_type": "stream",
     "text": [
      "{'+7': None, '+6': None, '+5': None, '+4': None}\n",
      "{'+7': 'код страны', '+6': 'код страны', '+5': 'код страны', '+4': 'код страны'}\n"
     ]
    }
   ],
   "source": [
    "# Формирует словарь с ключами, указанными в списке и некоторым значением\n",
    "a = dict.fromkeys([\"+7\", \"+6\", \"+5\", \"+4\"])\n",
    "print(a)\n",
    "\n",
    "a = dict.fromkeys([\"+7\", \"+6\", \"+5\", \"+4\"], \"код страны\")\n",
    "print(a)\n",
    "\n",
    "d1 = d.copy() # Копирует\n",
    "\n",
    "d.clear() # Отчищает"
   ]
  },
  {
   "cell_type": "code",
   "execution_count": 62,
   "id": "0beaf357",
   "metadata": {},
   "outputs": [
    {
     "name": "stdout",
     "output_type": "stream",
     "text": [
      "дом\n"
     ]
    }
   ],
   "source": [
    "d = {\"house\": \"дом\", \"car\": \"машина\",\n",
    "     \"tree\": \"дерево\", \"road\": \"дорога\",\n",
    "     \"river\": \"река\"}\n",
    "\n",
    "print(d.get(\"house\")) # Возвращает None при отсутствии, а не ошибку"
   ]
  },
  {
   "cell_type": "markdown",
   "id": "9a30eac3",
   "metadata": {},
   "source": [
    "`dict.setdefault(key, default)` - возвращает значение, ассоциированное с ключом key и если его нет, то добавляет в словарь со значением None, либо default"
   ]
  },
  {
   "cell_type": "code",
   "execution_count": 63,
   "id": "74a80fed",
   "metadata": {},
   "outputs": [
    {
     "name": "stdout",
     "output_type": "stream",
     "text": [
      "100\n",
      "{'car': 'машина', 'tree': 'дерево', 'road': 'дорога', 'river': 'река', 'house': 100}\n"
     ]
    }
   ],
   "source": [
    "del d[\"house\"]\n",
    "print(d.setdefault(\"house\", 100))\n",
    "print(d)"
   ]
  },
  {
   "cell_type": "markdown",
   "id": "0875b44c",
   "metadata": {},
   "source": [
    "`d.pop(key, default)` - удаляет указанный ключ и возвращает его значение, если ключа нет вернется default"
   ]
  },
  {
   "cell_type": "markdown",
   "id": "ad6a33fb",
   "metadata": {},
   "source": [
    "`d.keys()` - возвращает коллекцию ключей  \n",
    "`d.values()` - возвращает коллекцию значений  \n",
    "`d.items` - возвращает записи в виде кортежей: ключ, значение  "
   ]
  },
  {
   "cell_type": "code",
   "execution_count": 64,
   "id": "84daaddb",
   "metadata": {},
   "outputs": [
    {
     "name": "stdout",
     "output_type": "stream",
     "text": [
      "a\n",
      "b\n",
      "c\n",
      "1\n",
      "2\n",
      "3\n",
      "a 1\n",
      "b 2\n",
      "c 3\n"
     ]
    }
   ],
   "source": [
    "d = {\"a\": 1, \"b\": 2, \"c\": 3}\n",
    "\n",
    "for i in d.keys():\n",
    "    print(i)\n",
    "\n",
    "for i in d.values():\n",
    "    print(i)\n",
    "\n",
    "for i, val in d.items():\n",
    "    print(i, val)"
   ]
  },
  {
   "cell_type": "markdown",
   "id": "f541e53c",
   "metadata": {},
   "source": [
    "Метод `update` - позволяет обновлять словарь содержимым другого словаря. То есть словарь получает те ключи, которых не было, а ключи которые есть и во втором словаре, их значения обновляются."
   ]
  },
  {
   "cell_type": "code",
   "execution_count": 65,
   "id": "9dce3380",
   "metadata": {},
   "outputs": [
    {
     "name": "stdout",
     "output_type": "stream",
     "text": [
      "{'one': '1', 'two': '2', 'three': '3', 'four': 'хорошо', 2: 'неудовлетворительно', 3: 'удовлетворительно', 5: 'отлично'}\n"
     ]
    }
   ],
   "source": [
    "d = dict(one = \"1\", two = \"2\", three = \"3\", four = \"4\")\n",
    "d2 = {2: \"неудовлетворительно\", 3: \"удовлетворительно\", 'four': \"хорошо\", 5: \"отлично\"}\n",
    "\n",
    "d.update(d2)\n",
    "print(d)"
   ]
  },
  {
   "cell_type": "markdown",
   "id": "211640ee",
   "metadata": {},
   "source": [
    "Если же нам нужно создать новый словарь, который бы объединял содержимое обоих, то для этого можно воспользоваться конструкцией:"
   ]
  },
  {
   "cell_type": "code",
   "execution_count": 66,
   "id": "0b4de63b",
   "metadata": {},
   "outputs": [
    {
     "name": "stdout",
     "output_type": "stream",
     "text": [
      "{'one': '1', 'two': '2', 'three': '3', 'four': 'хорошо', 2: 'неудовлетворительно', 3: 'удовлетворительно', 5: 'отлично'}\n"
     ]
    }
   ],
   "source": [
    "d3 = {**d, **d2}\n",
    "print(d3)"
   ]
  },
  {
   "cell_type": "markdown",
   "id": "f9aedceb",
   "metadata": {},
   "source": [
    "### Кортежи (tuple)"
   ]
  },
  {
   "cell_type": "markdown",
   "id": "5620b237",
   "metadata": {},
   "source": [
    "Это упорядоченная, но неизменяемая коллекция произвольных данных. Они, в целом, аналогичны спискам, но в отличие от них, элементы кортежей менять нельзя – это неизменяемый тип данных.  \n",
    "\n",
    "Обладают тем же функционалом что и списки, но являются неизменяемыми, следоватльно могут быть ключами словаря и занимают меньше места"
   ]
  },
  {
   "cell_type": "code",
   "execution_count": 67,
   "id": "4ff66d17",
   "metadata": {},
   "outputs": [
    {
     "name": "stdout",
     "output_type": "stream",
     "text": [
      "1 2 3\n",
      "(3,)\n"
     ]
    }
   ],
   "source": [
    "a = (1, 2, 3)\n",
    "\n",
    "x, y, z = a\n",
    "print(x,y,z)\n",
    "\n",
    "b = tuple()\n",
    "b = b + (3,) # Кортежи нельзя изменять напрямую, но можно создать новый кортеж на основе старого, как мы делали с переменными\n",
    "print(b)\n"
   ]
  },
  {
   "cell_type": "markdown",
   "id": "28b3925a",
   "metadata": {},
   "source": [
    "### Множества (set)"
   ]
  },
  {
   "cell_type": "markdown",
   "id": "0ab10170",
   "metadata": {},
   "source": [
    "Формально, множество (set) – это неупорядоченная коллекция уникальных элементов. Уникальных, то есть, в ней отсутствуют дублирующие значения.\n",
    "\n",
    "Во множество мы можем записывать только неизменяемые данные. Само множество изменяемый тип данных."
   ]
  },
  {
   "cell_type": "code",
   "execution_count": 68,
   "id": "df2f4165",
   "metadata": {},
   "outputs": [
    {
     "name": "stdout",
     "output_type": "stream",
     "text": [
      "{1, 2, 'hello'} <class 'set'>\n"
     ]
    }
   ],
   "source": [
    "a = {1,2,'hello',1,2}\n",
    "print(a, type(a))\n",
    "\n",
    "b = set()"
   ]
  },
  {
   "cell_type": "markdown",
   "id": "65ac554f",
   "metadata": {},
   "source": [
    "Мы не можем обращаться в множестве по индексам, но можем пройтись через цикл, ведь это итерируемый объект"
   ]
  },
  {
   "cell_type": "code",
   "execution_count": 69,
   "id": "eaa36577",
   "metadata": {},
   "outputs": [
    {
     "name": "stdout",
     "output_type": "stream",
     "text": [
      "1\n",
      "2\n",
      "3\n",
      "4\n",
      "5\n"
     ]
    }
   ],
   "source": [
    "a = set([1,2,3,4,5])\n",
    "for i in a:\n",
    "    print(i)"
   ]
  },
  {
   "cell_type": "markdown",
   "id": "3cf3d922",
   "metadata": {},
   "source": [
    "frozenset() - множество, но уже неизменяемое"
   ]
  },
  {
   "cell_type": "code",
   "execution_count": 70,
   "id": "5b842c12",
   "metadata": {},
   "outputs": [
    {
     "name": "stdout",
     "output_type": "stream",
     "text": [
      "frozenset({1, 2, 3})\n",
      "Нельзя!!!\n"
     ]
    }
   ],
   "source": [
    "a = frozenset([1,1,1,2,2,2,3,3,3])\n",
    "print(a)\n",
    "\n",
    "try:\n",
    "    a.add(4)\n",
    "except:\n",
    "    print(\"Нельзя!!!\")"
   ]
  },
  {
   "cell_type": "markdown",
   "id": "06b472ae",
   "metadata": {},
   "source": [
    "Метода множества:\n",
    "\n",
    "- `add()` добавление элемента\n",
    "\n",
    "- `update()` добавление нескольких элементов, передаем перебираемый объект\n",
    "\n",
    "- `discard()` удаление по значению (не вызывает ошибку при отсутствии элемента)\n",
    "\n",
    "- `remove()` удаление по значению\n",
    "\n",
    "- `clear()` чистит множество\n",
    "\n",
    "Существует глубокое копирование из библиотеки copy - копируется всё, включая вложенные объекты — создаётся полная независимая копия."
   ]
  },
  {
   "cell_type": "markdown",
   "id": "4f3bcb61",
   "metadata": {},
   "source": [
    "Операции над множествами:\n",
    "\n",
    "- пересечение множеств;\n",
    "\n",
    "- объединение множеств;\n",
    "\n",
    "- вычитание множеств;\n",
    "\n",
    "- вычисление симметричной разности."
   ]
  },
  {
   "cell_type": "code",
   "execution_count": 71,
   "id": "f01ad1fc",
   "metadata": {},
   "outputs": [
    {
     "name": "stdout",
     "output_type": "stream",
     "text": [
      "{3, 4}\n",
      "{3, 4}\n",
      "{3, 4}\n"
     ]
    }
   ],
   "source": [
    "setA = {1, 2, 3, 4}\n",
    "setB = {3, 4, 5, 6, 7}\n",
    "\n",
    "# Пересечение\n",
    "print(setA & setB)\n",
    "print(setA.intersection(setB))\n",
    "setA.intersection_update(setB)\n",
    "print(setA)"
   ]
  },
  {
   "cell_type": "code",
   "execution_count": 72,
   "id": "fbb96a50",
   "metadata": {},
   "outputs": [
    {
     "name": "stdout",
     "output_type": "stream",
     "text": [
      "{1, 2, 3, 4, 5, 6, 7}\n",
      "{1, 2, 3, 4, 5, 6, 7}\n"
     ]
    }
   ],
   "source": [
    "setA = {1, 2, 3, 4}\n",
    "setB = {3, 4, 5, 6, 7}\n",
    "\n",
    "# Объединение\n",
    "print(setA | setB)\n",
    "print(setA.union(setB))"
   ]
  },
  {
   "cell_type": "code",
   "execution_count": 73,
   "id": "43a99893",
   "metadata": {},
   "outputs": [
    {
     "name": "stdout",
     "output_type": "stream",
     "text": [
      "{1, 2}\n",
      "{1, 2, 5, 6, 7}\n"
     ]
    }
   ],
   "source": [
    "setA = {1,2,3,4}\n",
    "setB = {3,4,5,6,7}\n",
    "\n",
    "# Вычитаение множеств\n",
    "print(setA - setB)\n",
    "\n",
    "# Симметричная разность\n",
    "print(setA ^ setB)"
   ]
  },
  {
   "cell_type": "code",
   "execution_count": 74,
   "id": "7dce194b",
   "metadata": {},
   "outputs": [
    {
     "name": "stdout",
     "output_type": "stream",
     "text": [
      "True\n"
     ]
    }
   ],
   "source": [
    "setA = {1,2}\n",
    "setB = {1,2,3,4,5,6}\n",
    "print(setA < setB) # множество А входит в множество В"
   ]
  },
  {
   "cell_type": "markdown",
   "id": "540ea095",
   "metadata": {},
   "source": [
    "### Генераторы множеств и генераторы словарей"
   ]
  },
  {
   "cell_type": "code",
   "execution_count": 75,
   "id": "d74861d1",
   "metadata": {},
   "outputs": [
    {
     "name": "stdout",
     "output_type": "stream",
     "text": [
      "{16, 1, 4, 9}\n",
      "{1: 1, 2: 4, 3: 9, 4: 16}\n",
      "{'НЕУДОВЛ.': 2, 'УДОВЛ.': 3, 'ХОРОШО': 4, 'ОТЛИЧНО': 5}\n"
     ]
    }
   ],
   "source": [
    "# Множество\n",
    "a = {x ** 2 for x in range(1, 5)}\n",
    "print(a)\n",
    "\n",
    "# Словарь\n",
    "a = {x: x ** 2 for x in range(1,5)}\n",
    "print(a)\n",
    "\n",
    "m = {\"неудовл.\": 2, \"удовл.\": 3, \"хорошо\": '4', \"отлично\": '5'}\n",
    "a = {key.upper(): int(value) for key, value in m.items()}\n",
    "print(a)"
   ]
  }
 ],
 "metadata": {
  "kernelspec": {
   "display_name": "Python 3",
   "language": "python",
   "name": "python3"
  },
  "language_info": {
   "codemirror_mode": {
    "name": "ipython",
    "version": 3
   },
   "file_extension": ".py",
   "mimetype": "text/x-python",
   "name": "python",
   "nbconvert_exporter": "python",
   "pygments_lexer": "ipython3",
   "version": "3.13.4"
  }
 },
 "nbformat": 4,
 "nbformat_minor": 5
}
