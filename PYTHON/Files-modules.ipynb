{
 "cells": [
  {
   "cell_type": "markdown",
   "id": "2b2710d0",
   "metadata": {},
   "source": [
    "# Работа с файлами, модулями и стандартными библиотеками"
   ]
  },
  {
   "cell_type": "markdown",
   "id": "c46b0a60",
   "metadata": {},
   "source": [
    "## Модули и пакеты"
   ]
  },
  {
   "cell_type": "code",
   "execution_count": 1,
   "id": "b5357ef1",
   "metadata": {},
   "outputs": [
    {
     "name": "stdout",
     "output_type": "stream",
     "text": [
      "{'__name__': '__main__', '__doc__': 'Automatically created module for IPython interactive environment', '__package__': None, '__loader__': None, '__spec__': None, '__builtin__': <module 'builtins' (built-in)>, '__builtins__': <module 'builtins' (built-in)>, '_ih': ['', \"print(locals()) # Вывод локальных переменных\\n\\nimport pprint\\nimport math\\n\\npprint.pprint(locals())\\nprint('---------------------')\\npprint.pprint(dir(math)) # Видим пространство имен модуля math\"], '_oh': {}, '_dh': [WindowsPath('c:/MyLaptop/Education/PYTHON')], 'In': ['', \"print(locals()) # Вывод локальных переменных\\n\\nimport pprint\\nimport math\\n\\npprint.pprint(locals())\\nprint('---------------------')\\npprint.pprint(dir(math)) # Видим пространство имен модуля math\"], 'Out': {}, 'get_ipython': <bound method InteractiveShell.get_ipython of <ipykernel.zmqshell.ZMQInteractiveShell object at 0x00000247ABD63230>>, 'exit': <IPython.core.autocall.ZMQExitAutocall object at 0x00000247ABDF8AD0>, 'quit': <IPython.core.autocall.ZMQExitAutocall object at 0x00000247ABDF8AD0>, 'open': <function open at 0x00000247A9AEE840>, '_': '', '__': '', '___': '', '__vsc_ipynb_file__': 'c:\\\\MyLaptop\\\\Education\\\\PYTHON\\\\Files-modules.ipynb', '_i': '', '_ii': '', '_iii': '', '_i1': \"print(locals()) # Вывод локальных переменных\\n\\nimport pprint\\nimport math\\n\\npprint.pprint(locals())\\nprint('---------------------')\\npprint.pprint(dir(math)) # Видим пространство имен модуля math\"}\n",
      "{'In': ['',\n",
      "        'print(locals()) # Вывод локальных переменных\\n'\n",
      "        '\\n'\n",
      "        'import pprint\\n'\n",
      "        'import math\\n'\n",
      "        '\\n'\n",
      "        'pprint.pprint(locals())\\n'\n",
      "        \"print('---------------------')\\n\"\n",
      "        'pprint.pprint(dir(math)) # Видим пространство имен модуля math'],\n",
      " 'Out': {},\n",
      " '_': '',\n",
      " '__': '',\n",
      " '___': '',\n",
      " '__builtin__': <module 'builtins' (built-in)>,\n",
      " '__builtins__': <module 'builtins' (built-in)>,\n",
      " '__doc__': 'Automatically created module for IPython interactive environment',\n",
      " '__loader__': None,\n",
      " '__name__': '__main__',\n",
      " '__package__': None,\n",
      " '__spec__': None,\n",
      " '__vsc_ipynb_file__': 'c:\\\\MyLaptop\\\\Education\\\\PYTHON\\\\Files-modules.ipynb',\n",
      " '_dh': [WindowsPath('c:/MyLaptop/Education/PYTHON')],\n",
      " '_i': '',\n",
      " '_i1': 'print(locals()) # Вывод локальных переменных\\n'\n",
      "        '\\n'\n",
      "        'import pprint\\n'\n",
      "        'import math\\n'\n",
      "        '\\n'\n",
      "        'pprint.pprint(locals())\\n'\n",
      "        \"print('---------------------')\\n\"\n",
      "        'pprint.pprint(dir(math)) # Видим пространство имен модуля math',\n",
      " '_ih': ['',\n",
      "         'print(locals()) # Вывод локальных переменных\\n'\n",
      "         '\\n'\n",
      "         'import pprint\\n'\n",
      "         'import math\\n'\n",
      "         '\\n'\n",
      "         'pprint.pprint(locals())\\n'\n",
      "         \"print('---------------------')\\n\"\n",
      "         'pprint.pprint(dir(math)) # Видим пространство имен модуля math'],\n",
      " '_ii': '',\n",
      " '_iii': '',\n",
      " '_oh': {},\n",
      " 'exit': <IPython.core.autocall.ZMQExitAutocall object at 0x00000247ABDF8AD0>,\n",
      " 'get_ipython': <bound method InteractiveShell.get_ipython of <ipykernel.zmqshell.ZMQInteractiveShell object at 0x00000247ABD63230>>,\n",
      " 'math': <module 'math' (built-in)>,\n",
      " 'open': <function open at 0x00000247A9AEE840>,\n",
      " 'pprint': <module 'pprint' from 'c:\\\\Program Files\\\\Python313\\\\Lib\\\\pprint.py'>,\n",
      " 'quit': <IPython.core.autocall.ZMQExitAutocall object at 0x00000247ABDF8AD0>}\n",
      "---------------------\n",
      "['__doc__',\n",
      " '__loader__',\n",
      " '__name__',\n",
      " '__package__',\n",
      " '__spec__',\n",
      " 'acos',\n",
      " 'acosh',\n",
      " 'asin',\n",
      " 'asinh',\n",
      " 'atan',\n",
      " 'atan2',\n",
      " 'atanh',\n",
      " 'cbrt',\n",
      " 'ceil',\n",
      " 'comb',\n",
      " 'copysign',\n",
      " 'cos',\n",
      " 'cosh',\n",
      " 'degrees',\n",
      " 'dist',\n",
      " 'e',\n",
      " 'erf',\n",
      " 'erfc',\n",
      " 'exp',\n",
      " 'exp2',\n",
      " 'expm1',\n",
      " 'fabs',\n",
      " 'factorial',\n",
      " 'floor',\n",
      " 'fma',\n",
      " 'fmod',\n",
      " 'frexp',\n",
      " 'fsum',\n",
      " 'gamma',\n",
      " 'gcd',\n",
      " 'hypot',\n",
      " 'inf',\n",
      " 'isclose',\n",
      " 'isfinite',\n",
      " 'isinf',\n",
      " 'isnan',\n",
      " 'isqrt',\n",
      " 'lcm',\n",
      " 'ldexp',\n",
      " 'lgamma',\n",
      " 'log',\n",
      " 'log10',\n",
      " 'log1p',\n",
      " 'log2',\n",
      " 'modf',\n",
      " 'nan',\n",
      " 'nextafter',\n",
      " 'perm',\n",
      " 'pi',\n",
      " 'pow',\n",
      " 'prod',\n",
      " 'radians',\n",
      " 'remainder',\n",
      " 'sin',\n",
      " 'sinh',\n",
      " 'sqrt',\n",
      " 'sumprod',\n",
      " 'tan',\n",
      " 'tanh',\n",
      " 'tau',\n",
      " 'trunc',\n",
      " 'ulp']\n"
     ]
    }
   ],
   "source": [
    "print(locals()) # Вывод локальных переменных\n",
    "\n",
    "import pprint\n",
    "import math\n",
    "\n",
    "pprint.pprint(locals())\n",
    "print('---------------------')\n",
    "pprint.pprint(dir(math)) # Видим пространство имен модуля math"
   ]
  },
  {
   "cell_type": "markdown",
   "id": "c7927bd6",
   "metadata": {},
   "source": [
    "То есть, в сточке import math автоматически создается пространство имен math в нашей программе, через которое мы можем обращаться к любому глобальному атрибуту этого модуля. И так с каждым импортируемым модулем."
   ]
  },
  {
   "cell_type": "markdown",
   "id": "3e58e9ad",
   "metadata": {},
   "source": [
    "https://docs.python.org/3/library/ Все модули входящие в стандартную библиотеку"
   ]
  },
  {
   "cell_type": "markdown",
   "id": "6c34d081",
   "metadata": {},
   "source": [
    "Язык Python позволяет нам в момент импорта указывать псевдонимы импортируемых модулей, используя ключевое слово as. Или импортировать отдельно только необходимые функции"
   ]
  },
  {
   "cell_type": "code",
   "execution_count": 2,
   "id": "c2d3b7a2",
   "metadata": {},
   "outputs": [],
   "source": [
    "import math as mt\n",
    "from math import ceil, pi\n",
    "from math import ceil as m_ceil, pi\n",
    "from math import * # Импорт всего"
   ]
  },
  {
   "cell_type": "markdown",
   "id": "a840598e",
   "metadata": {},
   "source": [
    "Точно также можно импортировать свои модули, при этом мы подтягиваем всю иерархию модулей."
   ]
  },
  {
   "cell_type": "code",
   "execution_count": 3,
   "id": "05af5832",
   "metadata": {},
   "outputs": [
    {
     "name": "stdout",
     "output_type": "stream",
     "text": [
      "['c:\\\\Program Files\\\\Python313\\\\python313.zip',\n",
      " 'c:\\\\Program Files\\\\Python313\\\\DLLs',\n",
      " 'c:\\\\Program Files\\\\Python313\\\\Lib',\n",
      " 'c:\\\\Program Files\\\\Python313',\n",
      " '',\n",
      " 'C:\\\\Users\\\\sgbdz\\\\AppData\\\\Roaming\\\\Python\\\\Python313\\\\site-packages',\n",
      " 'C:\\\\Users\\\\sgbdz\\\\AppData\\\\Roaming\\\\Python\\\\Python313\\\\site-packages\\\\win32',\n",
      " 'C:\\\\Users\\\\sgbdz\\\\AppData\\\\Roaming\\\\Python\\\\Python313\\\\site-packages\\\\win32\\\\lib',\n",
      " 'C:\\\\Users\\\\sgbdz\\\\AppData\\\\Roaming\\\\Python\\\\Python313\\\\site-packages\\\\Pythonwin',\n",
      " 'c:\\\\Program Files\\\\Python313\\\\Lib\\\\site-packages']\n"
     ]
    }
   ],
   "source": [
    "import sys\n",
    "pprint.pprint(sys.path)\n",
    "\n",
    "# Если перенесли наш модуль, то:\n",
    "# import folder.mymodule"
   ]
  },
  {
   "cell_type": "markdown",
   "id": "93d63372",
   "metadata": {},
   "source": [
    "В каждом модуле есть специальная переменная __name__, которая принимает имя модуля, если они запускается при импорте и значение \"__main__\", если он запускается как самостоятельная программа"
   ]
  },
  {
   "cell_type": "code",
   "execution_count": 4,
   "id": "20881543",
   "metadata": {},
   "outputs": [
    {
     "name": "stdout",
     "output_type": "stream",
     "text": [
      "самостоятельный запуск\n"
     ]
    }
   ],
   "source": [
    "if __name__ == \"__main__\":\n",
    "    print(\"самостоятельный запуск\")\n",
    "else:\n",
    "    print(\"запуски при импорте\")"
   ]
  },
  {
   "cell_type": "markdown",
   "id": "54da3c75",
   "metadata": {},
   "source": [
    "Установка пакетов через `pip` - https://pypi.org (тут все пакеты и документации)"
   ]
  },
  {
   "cell_type": "markdown",
   "id": "20fdb533",
   "metadata": {},
   "source": [
    "pip freeze > requirements.txt - сохранение модулей проекта\n",
    "\n",
    "pip install -r requirements.txt - установка модулей проекта"
   ]
  },
  {
   "cell_type": "markdown",
   "id": "40c6cb54",
   "metadata": {},
   "source": [
    "Пакет (package) – это специальным образом организованный подкаталог с набором модулей, как правило, решающих сходные задачи с отдельными модулями. Итак, пакет в Python – это обычный каталог, в котором обязательно должен располагаться специальный файл __init__.py (Инициализатор пакета).\n",
    "\n",
    "Можно добавить __init__.py NAME = \"package courses\", тогда после импорта модуля можно print( courses.NAME )\n",
    "\n",
    "`from courses.python import get_python`"
   ]
  },
  {
   "cell_type": "markdown",
   "id": "1fc73180",
   "metadata": {},
   "source": [
    "Но, все же, у такого способа импортирования модулей в инициализаторе пакета есть один существенный недостаток – мы, фактически, указываем полный путь к модулю (это называется абсолютным импортом)\n",
    "\n",
    "`from .python import get_python` Эта точка означает «использовать текущий каталог»\n",
    "\n",
    "`from .python import *`\n",
    "\n",
    "`from . import html, java, php, python`\n",
    "\n",
    "В инициализаторе можно написать `__all__ = ['python', 'php']`. Если используется оператор * то импрортируются только данные модули"
   ]
  },
  {
   "cell_type": "code",
   "execution_count": 5,
   "id": "44ebbc71",
   "metadata": {},
   "outputs": [
    {
     "data": {
      "text/plain": [
       "'from .python import *\\nfrom .php import *\\n\\nNAME = \"package courses\"\\n\\n__all__ = [\\'python\\', \\'php\\']'"
      ]
     },
     "execution_count": 5,
     "metadata": {},
     "output_type": "execute_result"
    }
   ],
   "source": [
    "'''from .python import *\n",
    "from .php import *\n",
    " \n",
    "NAME = \"package courses\"\n",
    " \n",
    "__all__ = ['python', 'php']'''\n",
    "\n",
    "# Тогда модули python и php импортируются, а переменная NAME нет."
   ]
  },
  {
   "cell_type": "markdown",
   "id": "52369f15",
   "metadata": {},
   "source": [
    "Модуль random"
   ]
  },
  {
   "cell_type": "code",
   "execution_count": 6,
   "id": "aa78dc44",
   "metadata": {},
   "outputs": [
    {
     "name": "stdout",
     "output_type": "stream",
     "text": [
      "0.3117619875703992\n",
      "1.363075749785983\n",
      "-3\n"
     ]
    }
   ],
   "source": [
    "import random\n",
    "\n",
    "a = random.random() # Нормальное распределение от 0 до 1\n",
    "print(a)\n",
    "\n",
    "a = random.uniform(1, 5) # Нормальное распределение от 1 до 5\n",
    "print(a)\n",
    "\n",
    "a = random.randint(-3, 7)   # [-3; 7]\n",
    "print(a)\n",
    "\n",
    "a = random.gauss(0, 3.5) # Распределение гаусса (нормальное) gauss(mu, sigma) "
   ]
  },
  {
   "cell_type": "code",
   "execution_count": 7,
   "id": "0da6f9e2",
   "metadata": {},
   "outputs": [
    {
     "name": "stdout",
     "output_type": "stream",
     "text": [
      "76\n",
      "[76, 0, 5]\n",
      "[0, 4, 1, 6, 4, 1, 0, 6, 8, 8, 5, 5, 0, 2, 2, 5, 8, 5, 3, 2]\n"
     ]
    }
   ],
   "source": [
    "# Случайный выбор\n",
    "lst = [4, 5, 0, -1, 10, 76, 3]\n",
    "a = random.choice(lst)\n",
    "print(a)\n",
    "\n",
    "# Возвращает новый список с указанным числом неповторяющихся элементов \n",
    "a = random.sample(lst, 3)\n",
    "print(a)\n",
    "\n",
    "random.seed(123) # Фиксируем начальное случайное число :)\n",
    "a = [random.randint(0, 10) for i in range(20)]\n",
    "print(a)"
   ]
  },
  {
   "cell_type": "markdown",
   "id": "cb8c1fa1",
   "metadata": {},
   "source": [
    "## Файлы"
   ]
  },
  {
   "cell_type": "markdown",
   "id": "298ad5ec",
   "metadata": {},
   "source": [
    "Функция open для открытия - `open(file [, mode=’r’, encoding=None, …])`"
   ]
  },
  {
   "cell_type": "code",
   "execution_count": 8,
   "id": "ce297129",
   "metadata": {},
   "outputs": [],
   "source": [
    "# file = open(\"myfile.txt\", encoding=\"utf-8\" )\n",
    "# print( file.read() )\n",
    "# print( file.read(4) ) "
   ]
  },
  {
   "cell_type": "markdown",
   "id": "b669dfde",
   "metadata": {},
   "source": [
    "Управление файловой позицией - `file.seek(offset[, from_what])`"
   ]
  },
  {
   "cell_type": "code",
   "execution_count": 9,
   "id": "f8af6790",
   "metadata": {},
   "outputs": [
    {
     "data": {
      "text/plain": [
       "'    print( file.read(4) )\\n    file.seek(0)\\n    print( file.read(4) ) '"
      ]
     },
     "execution_count": 9,
     "metadata": {},
     "output_type": "execute_result"
    }
   ],
   "source": [
    "'''    print( file.read(4) )\n",
    "    file.seek(0)\n",
    "    print( file.read(4) ) '''\n",
    "\n",
    "# pos = file.tell() текущая позиция"
   ]
  },
  {
   "cell_type": "code",
   "execution_count": 10,
   "id": "10c0cc81",
   "metadata": {},
   "outputs": [],
   "source": [
    "#  s = file.readline() построчно считывать информацию из текстового файла\n",
    "# s = file.readlines() вовзвращает список строк\n",
    "# file.close() закрытие файла"
   ]
  },
  {
   "cell_type": "code",
   "execution_count": 11,
   "id": "99672afa",
   "metadata": {},
   "outputs": [
    {
     "data": {
      "text/plain": [
       "'try:\\n    file = open(\"my_file.txt\", encoding=\\'utf-8\\')\\n    s = file.readlines()\\n    print(s)\\n    file.close()\\nexcept FileNotFoundError:\\n    print(\"Невозможно открыть файл\") '"
      ]
     },
     "execution_count": 11,
     "metadata": {},
     "output_type": "execute_result"
    }
   ],
   "source": [
    "'''try:\n",
    "    file = open(\"my_file.txt\", encoding='utf-8')\n",
    "    s = file.readlines()\n",
    "    print(s)\n",
    "    file.close()\n",
    "except FileNotFoundError:\n",
    "    print(\"Невозможно открыть файл\") '''"
   ]
  },
  {
   "cell_type": "markdown",
   "id": "c3875c1b",
   "metadata": {},
   "source": [
    "Запись в файлы"
   ]
  },
  {
   "cell_type": "code",
   "execution_count": 12,
   "id": "3de428a2",
   "metadata": {},
   "outputs": [
    {
     "data": {
      "text/plain": [
       "'with open(\"out.txt\", \"a\") as file:\\n    ...'"
      ]
     },
     "execution_count": 12,
     "metadata": {},
     "output_type": "execute_result"
    }
   ],
   "source": [
    "# Создание нового файла или отчистка и запись\n",
    "\n",
    "'''file = open(\"out.txt\", \"w\")\n",
    "file.write(\"Hello World!\")\n",
    "file.close()'''\n",
    "\n",
    "# Добавление\n",
    "\n",
    "'''with open(\"out.txt\", \"a\") as file:\n",
    "    ...'''"
   ]
  },
  {
   "cell_type": "markdown",
   "id": "2fff8012",
   "metadata": {},
   "source": [
    "Бинарный режим - используется для сохранения и считывания объектов целиком"
   ]
  },
  {
   "cell_type": "code",
   "execution_count": 13,
   "id": "ef8354bd",
   "metadata": {},
   "outputs": [
    {
     "data": {
      "text/plain": [
       "'import pickle\\n\\nbooks = [\\n    (\"Евгений Онегин\", \"Пушкин А.С.\", 200),\\n    (\"Муму\", \"Тургенев И.С.\", 250),\\n    (\"Мастер и Маргарита\", \"Булгаков М.А.\", 500),\\n    (\"Мертвые души\", \"Гоголь Н.В.\", 190)\\n]\\n\\nfile = open(\"out.bin\", \"wb\")\\npickle.dump(books, file)\\n\\nfile = open(\"out.bin\", \"rb\")\\nbs = pickle.load(file)\\n\\nprint( bs )'"
      ]
     },
     "execution_count": 13,
     "metadata": {},
     "output_type": "execute_result"
    }
   ],
   "source": [
    "'''import pickle\n",
    "\n",
    "books = [\n",
    "    (\"Евгений Онегин\", \"Пушкин А.С.\", 200),\n",
    "    (\"Муму\", \"Тургенев И.С.\", 250),\n",
    "    (\"Мастер и Маргарита\", \"Булгаков М.А.\", 500),\n",
    "    (\"Мертвые души\", \"Гоголь Н.В.\", 190)\n",
    "]\n",
    "\n",
    "file = open(\"out.bin\", \"wb\")\n",
    "pickle.dump(books, file)\n",
    "\n",
    "file = open(\"out.bin\", \"rb\")\n",
    "bs = pickle.load(file)\n",
    "\n",
    "print( bs )'''"
   ]
  }
 ],
 "metadata": {
  "kernelspec": {
   "display_name": "Python 3",
   "language": "python",
   "name": "python3"
  },
  "language_info": {
   "codemirror_mode": {
    "name": "ipython",
    "version": 3
   },
   "file_extension": ".py",
   "mimetype": "text/x-python",
   "name": "python",
   "nbconvert_exporter": "python",
   "pygments_lexer": "ipython3",
   "version": "3.13.4"
  }
 },
 "nbformat": 4,
 "nbformat_minor": 5
}
