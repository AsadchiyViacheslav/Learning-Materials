{
 "cells": [
  {
   "cell_type": "markdown",
   "id": "c931c34a",
   "metadata": {},
   "source": [
    "# Функции (DRY – Don’t Repeat Yourself)"
   ]
  },
  {
   "cell_type": "markdown",
   "id": "fed710f3",
   "metadata": {},
   "source": [
    "## Основы"
   ]
  },
  {
   "cell_type": "markdown",
   "id": "9d018664",
   "metadata": {},
   "source": [
    "Функция — это именованный блок кода, который можно вызывать несколько раз. Она может принимать аргументы и возвращать результат.\n",
    "\n",
    "Метод — это функция, которая \"принадлежит\" какому-то объекту (например, строке, списку, словарю и т.д.). Методы вызываются через точку.\n",
    "\n",
    "Имя функции это ссылка на объект функции\n",
    "\n",
    "![Фото](https://proproprogs.ru/htm/python_base/files/python3-funkcii-pervoe-znakomstvo-opredelenie-def-i-ih-vyzov.files/image002.jpg)"
   ]
  },
  {
   "cell_type": "code",
   "execution_count": 1,
   "id": "fe4a12ad",
   "metadata": {},
   "outputs": [
    {
     "name": "stdout",
     "output_type": "stream",
     "text": [
      "Hello world\n"
     ]
    }
   ],
   "source": [
    "f = print\n",
    "f(\"Hello world\")"
   ]
  },
  {
   "cell_type": "markdown",
   "id": "fbb5faa5",
   "metadata": {},
   "source": [
    "Фунции в Python имеют следующую структуру:\n",
    "\n",
    "![Структура функции](https://proproprogs.ru/htm/python_base/files/python3-funkcii-pervoe-znakomstvo-opredelenie-def-i-ih-vyzov.files/image003.jpg)\n",
    "\n",
    "Принято называть функции глаголами (go, show, get, set и т.п)"
   ]
  },
  {
   "cell_type": "code",
   "execution_count": 2,
   "id": "e8a339cf",
   "metadata": {},
   "outputs": [
    {
     "name": "stdout",
     "output_type": "stream",
     "text": [
      "Hello, My name is Slava\n",
      "I want to say, I learn python!\n",
      "\n"
     ]
    }
   ],
   "source": [
    "def send_text(your_name):\n",
    "    text = f'''Hello, My name is {your_name}\n",
    "I want to say, I learn python!\n",
    "'''\n",
    "    print(text)\n",
    "\n",
    "send_text('Slava')"
   ]
  },
  {
   "cell_type": "markdown",
   "id": "78793429",
   "metadata": {},
   "source": [
    "`return` - возращает значение функции и завершает её выполнение"
   ]
  },
  {
   "cell_type": "code",
   "execution_count": 3,
   "id": "3660648d",
   "metadata": {},
   "outputs": [
    {
     "name": "stdout",
     "output_type": "stream",
     "text": [
      "11\n"
     ]
    }
   ],
   "source": [
    "def get_max2(a,b):\n",
    "    return a if a > b else b\n",
    "\n",
    "print(get_max2(10,get_max2(7,11)))"
   ]
  },
  {
   "cell_type": "markdown",
   "id": "c4e61a1b",
   "metadata": {},
   "source": [
    "Мы можем использовать `if` в объявлении функции"
   ]
  },
  {
   "cell_type": "code",
   "execution_count": 4,
   "id": "ad79f10b",
   "metadata": {},
   "outputs": [
    {
     "name": "stdout",
     "output_type": "stream",
     "text": [
      "25\n",
      "5\n"
     ]
    }
   ],
   "source": [
    "FLAG = True\n",
    "\n",
    "if FLAG:\n",
    "    def get_res(a,b):\n",
    "        return a + b\n",
    "else:\n",
    "    def get_res(a,b):\n",
    "        return abs(a-b)\n",
    "    \n",
    "print(get_res(10,15))\n",
    "\n",
    "\n",
    "FLAG = False\n",
    "\n",
    "if FLAG:\n",
    "    def get_res(a,b):\n",
    "        return a + b\n",
    "else:\n",
    "    def get_res(a,b):\n",
    "        return abs(a-b)\n",
    "\n",
    "print(get_res(10,15))"
   ]
  },
  {
   "cell_type": "markdown",
   "id": "f2380901",
   "metadata": {},
   "source": [
    "**Именованные аргументы. Фактические и формальные параметры**"
   ]
  },
  {
   "cell_type": "code",
   "execution_count": 5,
   "id": "2d9ec247",
   "metadata": {},
   "outputs": [
    {
     "name": "stdout",
     "output_type": "stream",
     "text": [
      "Help on function compare_str in module __main__:\n",
      "\n",
      "compare_str(s1, s2, reg=False) -> bool\n",
      "    Функция сравнивания строк\n",
      "    Аргументы: (строка1, строка2, нужно ли привести к одному регистур)\n",
      "\n",
      "False\n",
      "True\n",
      "True\n",
      "True\n"
     ]
    }
   ],
   "source": [
    "def compare_str(s1, s2, reg=False) -> bool:\n",
    "    '''Функция сравнивания строк \n",
    "    Аргументы: (строка1, строка2, нужно ли привести к одному регистур)'''\n",
    "    if reg:\n",
    "        s1 = s1.lower()\n",
    "        s2 = s2.lower()\n",
    " \n",
    "    return s1 == s2\n",
    "\n",
    "s1 = 'Hello'\n",
    "s2 = 'hELLO'\n",
    "\n",
    "help(compare_str) # Вывод описания функции\n",
    "print(compare_str(s1,s2)) # Можно не задавать параметр reg, так как есть по умолчанию\n",
    "print(compare_str(s1,s2,True)) \n",
    "print(compare_str(s1,s2,reg = True)) # Сначала задаем неименованные аргументы, потом именованные\n",
    "print(compare_str(s1 = s1,s2 = s2,reg = True))"
   ]
  },
  {
   "cell_type": "markdown",
   "id": "80d54420",
   "metadata": {},
   "source": [
    "<b> Функции с произвольным числом параметров *args и **kwargs </b>"
   ]
  },
  {
   "cell_type": "markdown",
   "id": "b0c17bfd",
   "metadata": {},
   "source": [
    "Мы можем передавать фактические параметры с помощью *args и после формальные с помощью **kwargs"
   ]
  },
  {
   "cell_type": "code",
   "execution_count": 6,
   "id": "29f362f4",
   "metadata": {},
   "outputs": [
    {
     "name": "stdout",
     "output_type": "stream",
     "text": [
      "('1', '2', '3')\n",
      "{'sep': '/', 'trim': ' '}\n"
     ]
    }
   ],
   "source": [
    "def show_path(*args, **kwargs):\n",
    "    print(args)\n",
    "    print(kwargs)\n",
    "\n",
    "show_path('1', '2', '3', sep = '/', trim = ' ')"
   ]
  },
  {
   "cell_type": "code",
   "execution_count": 7,
   "id": "ebc0b51c",
   "metadata": {},
   "outputs": [
    {
     "data": {
      "text/plain": [
       "'C:--mylaptop--folder'"
      ]
     },
     "execution_count": 7,
     "metadata": {},
     "output_type": "execute_result"
    }
   ],
   "source": [
    "def os_path(*args, sep='\\\\', **kwargs):\n",
    "    if 'trim' in kwargs and kwargs['trim']:\n",
    "        args = [x.strip() for x in args]\n",
    " \n",
    "    path = sep.join(args)\n",
    "    return path\n",
    "\n",
    "os_path('C:', 'mylaptop', 'folder', sep = '--', trim = True)"
   ]
  },
  {
   "cell_type": "code",
   "execution_count": 8,
   "id": "000ddce5",
   "metadata": {},
   "outputs": [],
   "source": [
    "def os_path(disk, *args, sep='\\\\', **kwargs):\n",
    "    args = (disk,) + args\n",
    " \n",
    "    if 'trim' in kwargs and kwargs['trim']:\n",
    "        args = [x.strip() for x in args]\n",
    " \n",
    "    path = sep.join(args)\n",
    "    return path"
   ]
  },
  {
   "cell_type": "markdown",
   "id": "f8d8364f",
   "metadata": {},
   "source": [
    "**Рекурсивные функции - функции которые вызывают сами себя.**"
   ]
  },
  {
   "cell_type": "code",
   "execution_count": 9,
   "id": "1af11c81",
   "metadata": {},
   "outputs": [
    {
     "name": "stdout",
     "output_type": "stream",
     "text": [
      "55\n"
     ]
    }
   ],
   "source": [
    "# Популярный пример рекурсивной функции - числа Фибоначи\n",
    "\n",
    "def fib(number):\n",
    "    if number == 0:\n",
    "        return 0\n",
    "    elif number == 1:\n",
    "        return 1\n",
    "    else:\n",
    "        return fib(number-1) + fib(number-2)\n",
    "    \n",
    "print(fib(10))"
   ]
  },
  {
   "cell_type": "markdown",
   "id": "c69f79db",
   "metadata": {},
   "source": [
    "**Анонимные (lambda) функции**\n",
    "\n",
    "Лямбда функция определяется по очень простому синтаксису:  \n",
    "`lambda param_1, param_2, …: команда`"
   ]
  },
  {
   "cell_type": "code",
   "execution_count": 10,
   "id": "04238644",
   "metadata": {},
   "outputs": [
    {
     "name": "stdout",
     "output_type": "stream",
     "text": [
      "4\n",
      "[0, 2, 4, 6, 8]\n"
     ]
    }
   ],
   "source": [
    "s = lambda x, y: x + y\n",
    "print(s(2,2))\n",
    "\n",
    "lst = [0,1,2,3,4,5,6,7,8,9]\n",
    "\n",
    "def get_filter(arr, filter = None):\n",
    "    if filter is None:\n",
    "        return arr\n",
    "    res = []\n",
    "    if filter:\n",
    "        for x in arr:\n",
    "            if filter(x):\n",
    "                res.append(x)\n",
    "    return res\n",
    "\n",
    "print(get_filter(lst, lambda x: x % 2 == 0))"
   ]
  },
  {
   "cell_type": "markdown",
   "id": "8bf13444",
   "metadata": {},
   "source": [
    "**Области видимости переменных. Ключевые слова global и nonlocal**"
   ]
  },
  {
   "cell_type": "markdown",
   "id": "af5796dd",
   "metadata": {},
   "source": [
    "Если внутри функции попробывать изменить глобальную переменную, объявленную ранее, мы просто создадим локальную переменную внутри функции, так как все переменные в функции являются локальными и доступны только в ней. Чтобы исправить данную ситуацию используем global"
   ]
  },
  {
   "cell_type": "code",
   "execution_count": 11,
   "id": "315ad74c",
   "metadata": {},
   "outputs": [
    {
     "name": "stdout",
     "output_type": "stream",
     "text": [
      "10\n",
      "100\n",
      "10\n",
      "10\n"
     ]
    }
   ],
   "source": [
    "N = 100\n",
    "\n",
    "def func():\n",
    "    N = 10\n",
    "    print(N)\n",
    "\n",
    "func()\n",
    "print(N)\n",
    "\n",
    "def func1():\n",
    "    global N\n",
    "    N = 10\n",
    "    print(N)\n",
    "\n",
    "func1()\n",
    "print(N)"
   ]
  },
  {
   "cell_type": "markdown",
   "id": "12f3e03c",
   "metadata": {},
   "source": [
    "Есть также ключевое слово nonlocal для работа с локальными переменными"
   ]
  },
  {
   "cell_type": "code",
   "execution_count": 12,
   "id": "99a73434",
   "metadata": {},
   "outputs": [
    {
     "name": "stdout",
     "output_type": "stream",
     "text": [
      "inner: 2\n",
      "outer: 1\n",
      "global: 0\n"
     ]
    }
   ],
   "source": [
    "x = 0\n",
    "def outer():\n",
    "    x = 1\n",
    "    def inner():\n",
    "        x = 2\n",
    "        print(\"inner:\", x)\n",
    " \n",
    "    inner()\n",
    "    print(\"outer:\", x)\n",
    " \n",
    "outer()\n",
    "print(\"global:\", x)"
   ]
  },
  {
   "cell_type": "code",
   "execution_count": 13,
   "id": "bbbf5a12",
   "metadata": {},
   "outputs": [
    {
     "name": "stdout",
     "output_type": "stream",
     "text": [
      "inner: 2\n",
      "outer: 2\n",
      "global: 0\n"
     ]
    }
   ],
   "source": [
    "x = 0\n",
    "def outer():\n",
    "    x = 1\n",
    "    def inner():\n",
    "        nonlocal x\n",
    "        x = 2\n",
    "        print(\"inner:\", x)\n",
    " \n",
    "    inner()\n",
    "    print(\"outer:\", x)\n",
    " \n",
    "outer()\n",
    "print(\"global:\", x)"
   ]
  },
  {
   "cell_type": "code",
   "execution_count": 14,
   "id": "f6f10d38",
   "metadata": {},
   "outputs": [
    {
     "name": "stdout",
     "output_type": "stream",
     "text": [
      "inner: 2\n",
      "outer: 1\n",
      "global: 1\n"
     ]
    }
   ],
   "source": [
    "x = 0\n",
    "def outer():\n",
    "    global x\n",
    "    x = 1\n",
    "    def inner():\n",
    "        x = 2\n",
    "        print(\"inner:\", x)\n",
    " \n",
    "    inner()\n",
    "    print(\"outer:\", x)\n",
    " \n",
    "outer()\n",
    "print(\"global:\", x)"
   ]
  },
  {
   "cell_type": "markdown",
   "id": "3e63de2c",
   "metadata": {},
   "source": [
    "## Замыкания и декораторы функций"
   ]
  },
  {
   "cell_type": "markdown",
   "id": "6bfa07ff",
   "metadata": {},
   "source": [
    "**Замыкания**"
   ]
  },
  {
   "cell_type": "code",
   "execution_count": 15,
   "id": "f12cc8b8",
   "metadata": {},
   "outputs": [
    {
     "name": "stdout",
     "output_type": "stream",
     "text": [
      "Don't say me goodbye, Sergey!\n"
     ]
    }
   ],
   "source": [
    "def say_name(name):\n",
    "    def say_goodbye():\n",
    "        print(\"Don't say me goodbye, \" + name + \"!\")\n",
    " \n",
    "    return say_goodbye\n",
    "\n",
    "f = say_name(\"Sergey\")\n",
    "f()"
   ]
  },
  {
   "cell_type": "markdown",
   "id": "ec8c3436",
   "metadata": {},
   "source": [
    "Откуда say_goodbye вызванная по ссылке f знает переменную name?\n",
    "\n",
    "Дело в том, что когда у нас имеется глобальная ссылка f на внутреннее, локальное окружение функции say_goodbye(), то это окружение продолжает существовать, оно не удаляется автоматически сборщиком мусора, именно из-за этой глобальной ссылки на него. А вместе с ним, продолжают существовать и все внешние локальные окружения, в данном случае – окружение функции say_name(), потому что также существует неявная, скрытая ссылка на него из внутреннего окружения. Такие ссылки формируются автоматически и позволяют, в частности, обращаться к переменным, объявленным в этих внешних окружениях. Именно поэтому функция print() в say_goodbye() имеет доступ к переменной name и эта переменная продолжает существовать, пока существует окружение say_goodbye, а значит и окружение say_name.\n",
    "\n",
    "Замыкание в том смысле, что мы держим внутреннее окружение say_goodbye переменной f из глобального окружения. Получается цепочка ссылок, замыкающаяся на глобальном окружении."
   ]
  },
  {
   "cell_type": "markdown",
   "id": "f28850cf",
   "metadata": {},
   "source": [
    "**Декораторы функций**"
   ]
  },
  {
   "cell_type": "markdown",
   "id": "f0f1c452",
   "metadata": {},
   "source": [
    "Декоратор в Python — это функция, которая принимает другую функцию (или метод, или класс) как аргумент, расширяет или изменяет её поведение, и возвращает новую функцию (или объект) без изменения исходного кода.\n",
    "\n",
    "Декоратор — это \"обёртка\" над функцией, добавляющая дополнительную логику до и/или после её вызова."
   ]
  },
  {
   "cell_type": "markdown",
   "id": "740fbc4e",
   "metadata": {},
   "source": [
    "Допустим, используем вложенную функцию wrapper и механизм замыканий, будем вызывать переданную функцию func внутри вложенной функции wrapper."
   ]
  },
  {
   "cell_type": "code",
   "execution_count": 16,
   "id": "77f80a9f",
   "metadata": {},
   "outputs": [
    {
     "name": "stdout",
     "output_type": "stream",
     "text": [
      "------ что-то делаем перед вызовом функции ------\n",
      "Вызов функции some_func\n",
      "------ что-то делаем после вызова функции ------\n",
      "------ что-то делаем перед вызовом функции ------\n",
      "Вызов функции some_func\n",
      "------ что-то делаем после вызова функции ------\n",
      "------ что-то делаем перед вызовом функции ------\n",
      "My name is Slava\n",
      "------ что-то делаем после вызова функции ------\n",
      "------ что-то делаем перед вызовом функции ------\n",
      "test\n",
      "------ что-то делаем после вызова функции ------\n"
     ]
    }
   ],
   "source": [
    "def func_decorator(func):\n",
    "    def wrapper():\n",
    "        print(\"------ что-то делаем перед вызовом функции ------\")\n",
    "        func()\n",
    "        print(\"------ что-то делаем после вызова функции ------\")\n",
    " \n",
    "    return wrapper\n",
    "\n",
    "def some_func():\n",
    "    print(\"Вызов функции some_func\")\n",
    "\n",
    "f = func_decorator(some_func)\n",
    "f()\n",
    "\n",
    "some_func = func_decorator(some_func)\n",
    "some_func()\n",
    "\n",
    "def show_name(name):\n",
    "    print(f\"My name is {name}\")\n",
    "\n",
    "\n",
    "# Универсальный декоратор\n",
    "def func_decorator(func): # Если функция принимает параметры на вход\n",
    "    def wrapper(*args, **kwargs):\n",
    "        print(\"------ что-то делаем перед вызовом функции ------\")\n",
    "        res = func(*args, **kwargs)\n",
    "        print(\"------ что-то делаем после вызова функции ------\")\n",
    "        return res\n",
    " \n",
    "    return wrapper\n",
    "\n",
    "show_name = func_decorator(show_name)\n",
    "show_name('Slava')\n",
    "\n",
    "@func_decorator # Альтернативный метод навесить декоратор\n",
    "def show_title(title):\n",
    "    print(title)\n",
    "\n",
    "show_title('test')\n"
   ]
  },
  {
   "cell_type": "markdown",
   "id": "bf47b916",
   "metadata": {},
   "source": [
    "Можем использовать декораторы например для замера скорости работы различных функций )"
   ]
  },
  {
   "cell_type": "markdown",
   "id": "36d544bf",
   "metadata": {},
   "source": [
    "Декораторы с параметрами. Сохранение свойств декорируемых функций"
   ]
  },
  {
   "cell_type": "markdown",
   "id": "722dd28d",
   "metadata": {},
   "source": [
    "Если хотим передавать аргумент в декоратор, то вот так"
   ]
  },
  {
   "cell_type": "code",
   "execution_count": 17,
   "id": "1964a7a4",
   "metadata": {},
   "outputs": [
    {
     "name": "stdout",
     "output_type": "stream",
     "text": [
      "0.4956615757736871\n"
     ]
    }
   ],
   "source": [
    "import math\n",
    "\n",
    "def df_decorator(dx=0.0001):\n",
    "    def func_decorator(func):\n",
    "        def wrapper(x, *args, **kwargs):\n",
    "            res = (func(x+dx, *args, **kwargs) - func(x, *args, **kwargs)) / dx\n",
    "            return res\n",
    "        return wrapper\n",
    "    return func_decorator\n",
    "\n",
    "@df_decorator(dx=0.01)\n",
    "def sin_df(x):\n",
    "    return math.sin(x)\n",
    "\n",
    "df = sin_df(math.pi/3)\n",
    "print(df)"
   ]
  },
  {
   "cell_type": "markdown",
   "id": "6f8593dd",
   "metadata": {},
   "source": [
    "Как сохранять имя и описание функции при использовании декоратора"
   ]
  },
  {
   "cell_type": "code",
   "execution_count": 18,
   "id": "fceb503f",
   "metadata": {},
   "outputs": [
    {
     "name": "stdout",
     "output_type": "stream",
     "text": [
      "sin_df\n",
      "Функция для вычисления производной синуса\n"
     ]
    }
   ],
   "source": [
    "def df_decorator(dx=0.0001):\n",
    "    def func_decorator(func):\n",
    "        def wrapper(x, *args, **kwargs):\n",
    "            res = (func(x+dx, *args, **kwargs) - func(x, *args, **kwargs)) / dx\n",
    "            return res\n",
    " \n",
    "        wrapper.__name__ = func.__name__\n",
    "        wrapper.__doc__ = func.__doc__\n",
    "        return wrapper\n",
    " \n",
    "    return func_decorator\n",
    "\n",
    "def sin_df(x):\n",
    "    \"\"\"Функция для вычисления производной синуса\"\"\"\n",
    "    return math.sin(x)\n",
    "\n",
    "f = df_decorator(dx = 0.01)(sin_df)\n",
    "print(f.__name__)\n",
    "print(f.__doc__)"
   ]
  },
  {
   "cell_type": "code",
   "execution_count": 19,
   "id": "8ead5d99",
   "metadata": {},
   "outputs": [
    {
     "name": "stdout",
     "output_type": "stream",
     "text": [
      "sin_df\n",
      "Функция для вычисления производной синуса\n"
     ]
    }
   ],
   "source": [
    "from functools import wraps\n",
    "\n",
    "def df_decorator(dx=0.0001):\n",
    "    def func_decorator(func):\n",
    "        @wraps(func)\n",
    "        def wrapper(x, *args, **kwargs):\n",
    "            res = (func(x+dx, *args, **kwargs) - func(x, *args, **kwargs)) / dx\n",
    "            return res\n",
    " \n",
    "        return wrapper\n",
    " \n",
    "    return func_decorator\n",
    "\n",
    "def sin_df(x):\n",
    "    \"\"\"Функция для вычисления производной синуса\"\"\"\n",
    "    return math.sin(x)\n",
    "\n",
    "f = df_decorator(dx = 0.01)(sin_df)\n",
    "print(f.__name__)\n",
    "print(f.__doc__)"
   ]
  }
 ],
 "metadata": {
  "kernelspec": {
   "display_name": "Python 3",
   "language": "python",
   "name": "python3"
  },
  "language_info": {
   "codemirror_mode": {
    "name": "ipython",
    "version": 3
   },
   "file_extension": ".py",
   "mimetype": "text/x-python",
   "name": "python",
   "nbconvert_exporter": "python",
   "pygments_lexer": "ipython3",
   "version": "3.13.4"
  }
 },
 "nbformat": 4,
 "nbformat_minor": 5
}
