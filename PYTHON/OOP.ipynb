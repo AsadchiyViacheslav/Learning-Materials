{
 "cells": [
  {
   "cell_type": "markdown",
   "id": "2edc247b",
   "metadata": {},
   "source": [
    "# **Объектно-ориентированное программирование**"
   ]
  },
  {
   "cell_type": "markdown",
   "id": "181294cb",
   "metadata": {},
   "source": [
    "Объектно-ориентированное программирование (ООП) — это парадигма программирования, в которой основными единицами являются объекты, а программа организуется как совокупность объектов, взаимодействующих между собой. Объекты создаются на основе классов, которые определяют их структуру и поведение."
   ]
  },
  {
   "cell_type": "markdown",
   "id": "59a6569a",
   "metadata": {},
   "source": [
    "ООП позволяет группировать данные и функции, которые с этими данными работают, в единое целое — объект. Это как шаблон и экземпляр: есть \"чертёж\" — класс, и есть конкретные \"объекты\" по этому чертежу.\n",
    "\n",
    "![exp1](https://proproprogs.ru/htm/python_oop/files/koncepciya-oop-prostymi-slovami.files/image001.png) \n",
    "\n",
    "![exp2](https://proproprogs.ru/htm/python_oop/files/koncepciya-oop-prostymi-slovami.files/image002.jpg)"
   ]
  },
  {
   "cell_type": "markdown",
   "id": "bd9646d4",
   "metadata": {},
   "source": [
    "**📚 Основные концепции ООП**  \n",
    "| Концепция        | Объяснение                                                                                                             |\n",
    "| ---------------- | ---------------------------------------------------------------------------------------------------------------------- |\n",
    "| **Класс**        | Шаблон/описание объекта. Определяет, какие данные и методы у него есть.                                                |\n",
    "| **Объект**       | Конкретный экземпляр класса с реальными данными.                                                                       |\n",
    "| **Инкапсуляция** | Сокрытие внутренней реализации и предоставление внешнего интерфейса. Защита данных от некорректного доступа.           |\n",
    "| **Наследование** | Возможность создать новый класс на основе существующего. Позволяет переиспользовать и расширять поведение.             |\n",
    "| **Полиморфизм**  | Возможность использовать один интерфейс для разных типов объектов. Метод работает по-разному в зависимости от объекта. |\n",
    "| **Абстракция**   | Выделение только значимых характеристик объекта и игнорирование неважных.                                              |\n"
   ]
  },
  {
   "cell_type": "markdown",
   "id": "fcdd9a42",
   "metadata": {},
   "source": [
    "## **Свойства и методы класса**"
   ]
  },
  {
   "cell_type": "markdown",
   "id": "a829bbfc",
   "metadata": {},
   "source": [
    "### Классы и объекты. Атрибуты классов и объектов"
   ]
  },
  {
   "cell_type": "code",
   "execution_count": 15,
   "id": "77c7e546",
   "metadata": {},
   "outputs": [
    {
     "name": "stdout",
     "output_type": "stream",
     "text": [
      "black\n",
      "{'__module__': '__main__', '__firstlineno__': 1, '__doc__': 'Класс для представления координат точек на плоскости', 'color': 'black', 'circle': 2, '__static_attributes__': (), '__dict__': <attribute '__dict__' of 'Point' objects>, '__weakref__': <attribute '__weakref__' of 'Point' objects>}\n",
      "10 10\n",
      "5 10\n",
      "disc 1\n",
      "1\n",
      "False\n",
      "True\n",
      "Класс для представления координат точек на плоскости\n"
     ]
    }
   ],
   "source": [
    "class Point():\n",
    "    \"Класс для представления координат точек на плоскости\"\n",
    "    color = 'red' # Атрибут (свойство)\n",
    "    circle = 2\n",
    "\n",
    "# Класс образует пространство имен\n",
    "Point.color = 'black'\n",
    "print(Point.color)\n",
    "\n",
    "# Вывод всех атрибутов класса (много служебных)\n",
    "print(Point.__dict__)\n",
    "\n",
    "# Создание экземпляра класса\n",
    "a = Point()\n",
    "b = Point()\n",
    "\n",
    "Point.circle = 10\n",
    "print(a.circle, b.circle)\n",
    "a.circle = 5\n",
    "print(a.circle, b.circle)\n",
    "\n",
    "# Добавление атрибута \n",
    "Point.type_pt = 'disc'\n",
    "setattr(Point, 'prop', 1)\n",
    "print(Point.type_pt, Point.prop)\n",
    "\n",
    "# Получение значения атрибута без ошибки\n",
    "print(getattr(a, 'prop', False))\n",
    "print(getattr(a, 'p132', False))\n",
    "\n",
    "# Проверка на существование атрибута\n",
    "print(hasattr(Point, 'prop'))\n",
    "\n",
    "# Удаление атрибутов класса\n",
    "del Point.prop\n",
    "delattr(Point, \"type_pt\")\n",
    "\n",
    "# Вывод описания класса\n",
    "print(Point.__doc__)\n"
   ]
  },
  {
   "cell_type": "markdown",
   "id": "4f589085",
   "metadata": {},
   "source": [
    "### Методы классов. Параметр self"
   ]
  },
  {
   "cell_type": "markdown",
   "id": "6c5022a8",
   "metadata": {},
   "source": [
    "Параметр `self` будет ссылаться на экземпляр класса, из которого вызывается метод  \n",
    "То есть, когда метод вызывается через класс, то Python автоматически не подставляет никаких аргументов.   \n",
    "А когда вызов идет через экземпляры класса, то первый аргумент – это всегда ссылка на экземпляр.  `"
   ]
  },
  {
   "cell_type": "code",
   "execution_count": 16,
   "id": "dd190127",
   "metadata": {},
   "outputs": [
    {
     "name": "stdout",
     "output_type": "stream",
     "text": [
      "вызов метода set_coords <__main__.Point object at 0x0000020E96741400>\n",
      "None\n",
      "вызов метода set_coords <__main__.Point object at 0x0000020E96D88690>\n",
      "None\n",
      "1\n",
      "<bound method Point.set_coords of <__main__.Point object at 0x0000020E96740EC0>>\n"
     ]
    }
   ],
   "source": [
    "class Point:\n",
    "    color = 'red'\n",
    "    circle = 2\n",
    " \n",
    "    def set_coords(self):\n",
    "        print(\"вызов метода set_coords \" + str(self))\n",
    "\n",
    "a = Point()\n",
    "print(Point.set_coords(a))\n",
    "b = Point()\n",
    "print(b.set_coords()) #self подставляется автоматически\n",
    "\n",
    "\n",
    "class Point:\n",
    "    color = 'red'\n",
    "    circle = 2\n",
    " \n",
    "    def set_coords(self, x, y):\n",
    "        self.x = x\n",
    "        self.y = y\n",
    "\n",
    "pt = Point()\n",
    "pt.set_coords(1, 2)\n",
    "print(getattr(pt, 'x'))\n",
    "\n",
    "#Имена методов также являются атрибутами класса\n",
    "print(getattr(pt, 'set_coords'))"
   ]
  },
  {
   "cell_type": "markdown",
   "id": "94659a83",
   "metadata": {},
   "source": [
    "### Инициализатор `__init__` и финализатор `__del__`"
   ]
  },
  {
   "cell_type": "markdown",
   "id": "6d345ba5",
   "metadata": {},
   "source": [
    "`__init__` и `__del__` - магические методы, то есть предопределенны  \n",
    "`__init__`  - вызывается сразу после создания экземпляра класса  \n",
    "`__del__` - вызывается перед непосредственным его удалением  "
   ]
  },
  {
   "cell_type": "code",
   "execution_count": 17,
   "id": "246c9f25",
   "metadata": {},
   "outputs": [
    {
     "name": "stdout",
     "output_type": "stream",
     "text": [
      "Инициализатор сработал\n",
      "5 3 0\n"
     ]
    }
   ],
   "source": [
    "class Point():\n",
    "    color = 'red'\n",
    "    circle = 5\n",
    "\n",
    "    def __init__(self, x, y, z = 0):\n",
    "        print(\"Инициализатор сработал\")\n",
    "        self.x = x\n",
    "        self.y = y\n",
    "        self.z = z\n",
    "\n",
    "    # Вызывается, когда сборщик мусора удаляет объект из памяти (когда счётчик ссылок на него становится равен нулю)\n",
    "    def __del__(self):\n",
    "        # действия перед уничтожением\n",
    "        print(\"Удаление экземпляра: \"+ str(self))\n",
    "\n",
    "a = Point(5,3)\n",
    "print(a.x, a.y, a.z)"
   ]
  },
  {
   "cell_type": "markdown",
   "id": "190c1269",
   "metadata": {},
   "source": [
    "### Магический метод `__new__`. Пример паттерна Singleton"
   ]
  },
  {
   "cell_type": "markdown",
   "id": "d1d18b5b",
   "metadata": {},
   "source": [
    "`__new__` - вызывается непосредственно перед созданием объекта класса  \n",
    "Должен возвращать адрес нового созданного объекта  \n",
    "По умолчанию от наследуюется от базового класса (object), от которого наследуются все классы в Python 3  \n",
    "\n",
    "Паттерн Singleton гарантирует, что у класса будет только один экземпляр"
   ]
  },
  {
   "cell_type": "code",
   "execution_count": 18,
   "id": "6b8412fd",
   "metadata": {},
   "outputs": [],
   "source": [
    "class DataBase:\n",
    "    __instance = None\n",
    "\n",
    "    def __new__(cls, *args, **kwargs):\n",
    "        if cls.__instance is None:\n",
    "            cls.__instance = super().__new__(cls)\n",
    "        return cls.__instance\n",
    "    \n",
    "    def __init__(self, user, psw, port):\n",
    "        self.user = user\n",
    "        self.psw = psw\n",
    "        self.port = port\n",
    "    \n",
    "    def __del__(self):\n",
    "        DataBase.__instance = None\n",
    " \n",
    "    def connect(self):\n",
    "        print(f\"соединение с БД: {self.user}, {self.psw}, {self.port}\")\n",
    " \n",
    "    def close(self):\n",
    "        print(\"закрытие соединения с БД\")\n",
    " \n",
    "    def read(self):\n",
    "        return \"данные из БД\"\n",
    " \n",
    "    def write(self, data):\n",
    "        print(f\"запись в БД {data}\")\n"
   ]
  },
  {
   "cell_type": "markdown",
   "id": "169a95b0",
   "metadata": {},
   "source": [
    "Мы проверяем атрибут класса `__instance`, если None, то вызываем метод `__new__` базового класса и тем самым разрешаем создание объекта. Иначе, просто возвращаем ссылку на ранее созданный экземпляр. Как видите, все достаточно просто. При удалении делаем `__instance` None."
   ]
  },
  {
   "cell_type": "markdown",
   "id": "47c77ee5",
   "metadata": {},
   "source": [
    "### Методы класса (classmethod) и статические методы (staticmethod)"
   ]
  },
  {
   "cell_type": "markdown",
   "id": "47af3069",
   "metadata": {},
   "source": [
    "| Тип метода            | Объявление                | Доступ к атрибутам экземпляра | Доступ к атрибутам класса | Где используется                                                 |\n",
    "| --------------------- | -------------------  | ----------------------------- | ------------------------- | ---------------------------------------------------------------- |\n",
    "| **Обычный метод**     | `def method(self):`   | ✅ Да                          | ✅ Через `self.__class__`  | Работает с конкретным объектом                                   |\n",
    "| **Метод класса**      | `@classmethod`          | ❌ Нет                         | ✅ Да                      | Операции на уровне класса (например, альтернативный конструктор) |\n",
    "| **Статический метод** | `@staticmethod`      | ❌ Нет                         | ❌ Нет                     | Утилитные функции, логика не зависит от класса/экземпляра        |\n"
   ]
  },
  {
   "cell_type": "code",
   "execution_count": 19,
   "id": "29d30398",
   "metadata": {},
   "outputs": [
    {
     "name": "stdout",
     "output_type": "stream",
     "text": [
      "Удаление экземпляра: <__main__.Point object at 0x0000020E967412B0>\n",
      "True\n",
      "True\n",
      "False\n"
     ]
    }
   ],
   "source": [
    "class Vector:\n",
    "    MIN_COORD = 0\n",
    "    MAX_COORD = 100\n",
    "\n",
    "    @classmethod\n",
    "    def validate(cls, arg):\n",
    "        return cls.MIN_COORD <= arg <= cls.MAX_COORD\n",
    "    \n",
    "    @staticmethod\n",
    "    def sq(x,y):\n",
    "        return x**2 + y **2\n",
    "    \n",
    "    def __init__(self, x):\n",
    "        self.x = 0\n",
    "        if Vector.validate(x):\n",
    "            self.x = x\n",
    "\n",
    "a = Vector(50)\n",
    "print(a.validate(30))\n",
    "a.MIN_COORD = 50\n",
    "print(a.validate(30)) # Результат тот же, так как метод класса\n",
    "Vector.MIN_COORD = 50\n",
    "print(a.validate(30))"
   ]
  },
  {
   "cell_type": "markdown",
   "id": "407ea5fd",
   "metadata": {},
   "source": [
    "### Режимы доступа public, private, protected. Сеттеры и геттеры *(основы инкапсуляции)*"
   ]
  },
  {
   "cell_type": "markdown",
   "id": "299eaade",
   "metadata": {},
   "source": [
    "Ооочень сомнительно реализовано в python: *(также с методами)*\n",
    "- attribute (без одного или двух подчеркиваний вначале) – публичное свойство (public);\n",
    "- _attribute (с одним подчеркиванием) – режим доступа protected (служит для обращения внутри класса и во всех его дочерних классах)\n",
    "- __attribute (с двумя подчеркиваниями) – режим доступа private (служит для обращения только внутри класса).\n",
    "\n",
    "Однако к protected аттрибуту все равно можно обратиться, это лишь сигнал для разработчиков. При обращении к private будут ошибки. \n",
    "Но даже к private легко обратиться так как у них есть секретный путь, например _Point__x, при этом __x private.\n",
    "\n",
    "Для получения и изменения private аттрибутов используются сеттеры и геттеры"
   ]
  },
  {
   "cell_type": "code",
   "execution_count": 20,
   "id": "769d0a61",
   "metadata": {},
   "outputs": [
    {
     "name": "stdout",
     "output_type": "stream",
     "text": [
      "Ошибка доступа\n",
      "(10, 5)\n",
      "10\n"
     ]
    }
   ],
   "source": [
    "class Point():\n",
    "    @classmethod\n",
    "    def __check_value(cls, x):\n",
    "        return type(x) in (int, float)\n",
    "\n",
    "    def __init__(self, x=0, y=0):\n",
    "        self.__x = self.__y = 0\n",
    " \n",
    "        if self.__check_value(x) and self.__check_value(y):\n",
    "            self.__x = x\n",
    "            self.__y = y\n",
    " \n",
    "    def set_coord(self, x, y):\n",
    "        if self.__check_value(x) and self.__check_value(y):\n",
    "            self.__x = x\n",
    "            self.__y = y\n",
    "        else:\n",
    "            raise ValueError(\"Координаты должны быть числами\")\n",
    "    def get_сoord(self):\n",
    "        return self.__x, self.__y\n",
    "    \n",
    "\n",
    "\n",
    "pt = Point(5,10)\n",
    "\n",
    "try:\n",
    "    print(pt.__x)\n",
    "except:\n",
    "    print(\"Ошибка доступа\")\n",
    "\n",
    "pt.set_coord(10, 5)\n",
    "print(pt.get_сoord())\n",
    "\n",
    "try:\n",
    "    print(pt._Point__x)\n",
    "except:\n",
    "    print(\"Ошибка доступа\")"
   ]
  },
  {
   "cell_type": "markdown",
   "id": "a4ce6d94",
   "metadata": {},
   "source": [
    "Чтобы улучшить защиту нужен модуль `accessify`"
   ]
  },
  {
   "cell_type": "code",
   "execution_count": 21,
   "id": "5bbaa786",
   "metadata": {},
   "outputs": [
    {
     "name": "stdout",
     "output_type": "stream",
     "text": [
      "Defaulting to user installation because normal site-packages is not writeable\n",
      "Requirement already satisfied: accessify in c:\\users\\sgbdz\\appdata\\roaming\\python\\python313\\site-packages (0.3.1)\n"
     ]
    }
   ],
   "source": [
    "!pip install accessify"
   ]
  },
  {
   "cell_type": "code",
   "execution_count": 22,
   "id": "6e3b7428",
   "metadata": {},
   "outputs": [
    {
     "name": "stdout",
     "output_type": "stream",
     "text": [
      "(10, 5)\n",
      "Ошибка доступа\n"
     ]
    }
   ],
   "source": [
    "from accessify import private, protected\n",
    "\n",
    "class Point():\n",
    "    @private\n",
    "    @classmethod\n",
    "    def check_value(cls, x):\n",
    "        return type(x) in (int, float)\n",
    "\n",
    "    def __init__(self, x=0, y=0):\n",
    "        self.__x = self.__y = 0\n",
    " \n",
    "        if self.check_value(x) and self.check_value(y):\n",
    "            self.__x = x\n",
    "            self.__y = y\n",
    " \n",
    "    def set_coord(self, x, y):\n",
    "        if self.check_value(x) and self.check_value(y):\n",
    "            self.__x = x\n",
    "            self.__y = y\n",
    "        else:\n",
    "            raise ValueError(\"Координаты должны быть числами\")\n",
    "    def get_сoord(self):\n",
    "        return self.__x, self.__y\n",
    "    \n",
    "\n",
    "\n",
    "pt = Point(5,10)\n",
    "\n",
    "pt.set_coord(10, 5)\n",
    "print(pt.get_сoord())\n",
    "\n",
    "try:\n",
    "    print(pt.check_value(5))\n",
    "except:\n",
    "    print(\"Ошибка доступа\")"
   ]
  },
  {
   "cell_type": "markdown",
   "id": "fd2de20d",
   "metadata": {},
   "source": [
    "### Магические методы `__setattr__`, `__getattribute__`, `__getattr__` и `__delattr__`"
   ]
  },
  {
   "cell_type": "markdown",
   "id": "0a4b7a6b",
   "metadata": {},
   "source": [
    "- `__setattr__(self, key, value)`__ – автоматически вызывается при изменении свойства key класса;\n",
    "\n",
    "- `__getattribute__(self, item)` – автоматически вызывается при получении свойства класса с именем item;\n",
    "\n",
    "- `__getattr__(self, item)` – автоматически вызывается при получении несуществующего свойства item класса;\n",
    "\n",
    "- `__delattr__(self, item)` – автоматически вызывается при удалении свойства item (не важно: существует оно или нет)."
   ]
  },
  {
   "cell_type": "markdown",
   "id": "d1234b25",
   "metadata": {},
   "source": [
    "Например можем использовать чтобы предотварить создание нежелательных атрибутов или чтобы запретить доступ к приватным"
   ]
  },
  {
   "cell_type": "code",
   "execution_count": 23,
   "id": "2afe17e3",
   "metadata": {},
   "outputs": [],
   "source": [
    "class Point():\n",
    "    MIN_COORD = 0\n",
    "    MAX_COORD = 100\n",
    "\n",
    "    def __init__(self,x,y):\n",
    "        self.__x = x\n",
    "        self.__y = y\n",
    "\n",
    "    def __setattr__(self, name, value):\n",
    "        if name == 'z':\n",
    "            raise ValueError(\"Нельзя создать такой атрибут\")\n",
    "        else:\n",
    "            object.__setattr__(self,name,value)\n",
    "\n",
    "    def __getattribute__(self, name):\n",
    "        if name == \"_Point__x\":\n",
    "            raise ValueError(\"Отказано в доступе\")\n",
    "        else:\n",
    "            return object.__getattribute__(self,name)"
   ]
  },
  {
   "cell_type": "markdown",
   "id": "a5a39c1b",
   "metadata": {},
   "source": [
    "### Паттерн моносостояние"
   ]
  },
  {
   "cell_type": "markdown",
   "id": "faaa8872",
   "metadata": {},
   "source": [
    "Суть паттерна в том, чтобы экземпляры классов имели одинаковые локальные свойства. Словарь `__dict__` был бы одинаков для всех этих экземпляров.\n",
    "\n",
    "Реализуется очень просто. В инициализаторе присваем словарю уже ранее созданный словарь с локальными свойствами."
   ]
  },
  {
   "cell_type": "code",
   "execution_count": 24,
   "id": "71194270",
   "metadata": {},
   "outputs": [],
   "source": [
    "class ThreadData:\n",
    "    __shared_attrs = {\n",
    "        'name': 'thread_1',\n",
    "        'data': {},\n",
    "        'id': 1,\n",
    "    }\n",
    " \n",
    "    def __init__(self):\n",
    "        self.__dict__ = self.__shared_attrs"
   ]
  },
  {
   "cell_type": "markdown",
   "id": "7d97fbeb",
   "metadata": {},
   "source": [
    "### Свойства property. Декоратор @property"
   ]
  },
  {
   "cell_type": "markdown",
   "id": "ef428d0e",
   "metadata": {},
   "source": [
    "Property позволяет нам не запоминать куча названий геттеров и сеттеров, а обращаться к ним через точку."
   ]
  },
  {
   "cell_type": "code",
   "execution_count": 25,
   "id": "51413c0b",
   "metadata": {},
   "outputs": [
    {
     "name": "stdout",
     "output_type": "stream",
     "text": [
      "21\n"
     ]
    }
   ],
   "source": [
    "class Person:\n",
    "    def __init__(self, name, old):\n",
    "        self.__name = name\n",
    "        self.__old = old\n",
    "\n",
    "    def get_old(self):\n",
    "        return self.__old\n",
    " \n",
    "    def set_old(self, old):\n",
    "        self.__old = old\n",
    "\n",
    "    old = property(get_old, set_old)\n",
    "\n",
    "p1 = Person('Slava',20)\n",
    "p1.old = 21 # Теперь можем так, хотя он private\n",
    "print(p1.old) "
   ]
  },
  {
   "cell_type": "markdown",
   "id": "d9a67de9",
   "metadata": {},
   "source": [
    "Декоратор @property позволяет использовать единый интерфейс для взаимодействия с атрибутами."
   ]
  },
  {
   "cell_type": "code",
   "execution_count": 26,
   "id": "404e7d98",
   "metadata": {},
   "outputs": [
    {
     "name": "stdout",
     "output_type": "stream",
     "text": [
      "21\n"
     ]
    }
   ],
   "source": [
    "class Person:\n",
    "    def __init__(self, name, old):\n",
    "        self.__name = name\n",
    "        self.__old = old\n",
    "\n",
    "    @property\n",
    "    def old(self):\n",
    "        return self.__old\n",
    " \n",
    "    @old.setter\n",
    "    def old(self, old):\n",
    "        self.__old = old\n",
    "\n",
    "    @old.deleter\n",
    "    def old(self):\n",
    "        del self.__old\n",
    "\n",
    "\n",
    "p1 = Person('Slava',20)\n",
    "p1.old = 21 # Теперь можем так, хотя он private\n",
    "print(p1.old) \n",
    "del p1.old"
   ]
  },
  {
   "cell_type": "markdown",
   "id": "3164f07a",
   "metadata": {},
   "source": [
    "Полноценный пример"
   ]
  },
  {
   "cell_type": "code",
   "execution_count": 27,
   "id": "922c8955",
   "metadata": {},
   "outputs": [
    {
     "name": "stdout",
     "output_type": "stream",
     "text": [
      "{'_Person__fio': ['Асадчий', 'Вячеслав', 'Александрович'], '_Person__old': 100, '_Person__passport': '4567 123456', '_Person__weight': 70.0}\n"
     ]
    }
   ],
   "source": [
    "from string import ascii_letters\n",
    "\n",
    "\n",
    "class Person:\n",
    "    S_RUS = 'абвгдеёжзийклмнопрстуфхцчшщьыъэюя-'\n",
    "    S_RUS_UPPER = S_RUS.upper()\n",
    "\n",
    "    def __init__(self, fio, old, ps, weight):\n",
    "        self.verify_fio(fio)\n",
    "        self.verify_old(old)\n",
    "        self.verify_ps(ps)\n",
    "        self.verify_weight(weight)\n",
    " \n",
    "        self.__fio = fio.split()\n",
    "        self.__old = old\n",
    "        self.__passport = ps\n",
    "        self.__weight = weight\n",
    "\n",
    "    @classmethod\n",
    "    def verify_fio(cls, fio):\n",
    "        if type(fio) != str:\n",
    "            raise TypeError(\"ФИО должно быть строкой\")\n",
    " \n",
    "        f = fio.split()\n",
    "        if len(f) != 3:\n",
    "            raise TypeError(\"Неверный формат записи ФИО\")\n",
    " \n",
    "        letters = ascii_letters + cls.S_RUS + cls.S_RUS_UPPER\n",
    "        for s in f:\n",
    "            if len(s) < 1:\n",
    "                raise TypeError(\"В ФИО должен быть хотя бы один символ\")\n",
    "            if len(s.strip(letters)) != 0:\n",
    "                raise TypeError(\"В ФИО можно использовать только буквенные символы и дефис\")\n",
    "            \n",
    "    @classmethod\n",
    "    def verify_old(cls, old):\n",
    "        if type(old) != int or old < 14 or old > 120:\n",
    "            raise TypeError(\"Возраст должен быть целым числом в диапазоне [14; 120]\")\n",
    "        \n",
    "    @classmethod\n",
    "    def verify_weight(cls, w):\n",
    "        if type(w) != float or w < 20:\n",
    "            raise TypeError(\"Вес должен быть вещественным числом от 20 и выше\")\n",
    "        \n",
    "    @classmethod\n",
    "    def verify_ps(cls, ps):\n",
    "        if type(ps) != str:\n",
    "            raise TypeError(\"Паспорт должен быть строкой\")\n",
    " \n",
    "        s = ps.split()\n",
    "        if len(s) != 2 or len(s[0]) != 4 or len(s[1]) != 6:\n",
    "            raise TypeError(\"Неверный формат паспорта\")\n",
    " \n",
    "        for p in s:\n",
    "            if not p.isdigit():\n",
    "                raise TypeError(\"Серия и номер паспорта должны быть числами\")\n",
    "            \n",
    "    @property\n",
    "    def fio(self):\n",
    "        return self.__fio\n",
    "    \n",
    "    @property\n",
    "    def old(self):\n",
    "        return self.__old\n",
    " \n",
    "    @old.setter\n",
    "    def old(self, old):\n",
    "        self.verify_old(old)\n",
    "        self.__old = old\n",
    "\n",
    "    @property\n",
    "    def passport(self):\n",
    "        return self.__passport\n",
    " \n",
    "    @passport.setter\n",
    "    def passport(self, ps):\n",
    "        self.verify_ps(ps)\n",
    "        self.__passport = ps\n",
    "\n",
    "    @property\n",
    "    def weight(self):\n",
    "        return self.__weight\n",
    " \n",
    "    @weight.setter\n",
    "    def weight(self, w):\n",
    "        self.verify_weight(w)\n",
    "        self.__weight = w\n",
    "\n",
    "\n",
    "p = Person('Асадчий Вячеслав Александрович', 20, '1111 567890', 65.0)\n",
    "p.old = 100\n",
    "p.passport = '4567 123456'\n",
    "p.weight = 70.0\n",
    "print(p.__dict__)"
   ]
  },
  {
   "cell_type": "markdown",
   "id": "e0a1c961",
   "metadata": {},
   "source": [
    "### Дескрипторы (data descriptor и non-data descriptor)"
   ]
  },
  {
   "cell_type": "markdown",
   "id": "f380686c",
   "metadata": {},
   "source": [
    "Дескрипторы - это отдельные классы, которые позволяют определить поведение при чтении, записи и удалении атрибута через специальные методы. По простому чтобы у нас не было в сумме 30 функций валидации для сеттеров и геттеров 10 атрибутов."
   ]
  },
  {
   "cell_type": "code",
   "execution_count": 29,
   "id": "dab99be0",
   "metadata": {},
   "outputs": [
    {
     "name": "stdout",
     "output_type": "stream",
     "text": [
      "__set__: _x = 1\n",
      "__set__: _y = 2\n",
      "__set__: _z = 3\n",
      "__set__: _x = 10\n",
      "10\n",
      "__set__: _x = 1\n",
      "__set__: _y = 2.3\n",
      "Введена вещественная координата\n"
     ]
    }
   ],
   "source": [
    "class Integer:\n",
    "    def __set_name__(self, owner, name):\n",
    "        self.name = \"_\" + name\n",
    " \n",
    "    def __get__(self, instance, owner):\n",
    "        return instance.__dict__[self.name]\n",
    " \n",
    "    def __set__(self, instance, value):\n",
    "        print(f\"__set__: {self.name} = {value}\")\n",
    "        if type(value) != int:\n",
    "            raise ValueError(\"Type Error\")\n",
    "        else:\n",
    "            instance.__dict__[self.name] = value\n",
    "\n",
    "class Point3D:\n",
    "    x = Integer()\n",
    "    y = Integer()\n",
    "    z = Integer()\n",
    " \n",
    "    def __init__(self, x, y, z):\n",
    "        self.x = x\n",
    "        self.y = y\n",
    "        self.z = z\n",
    "\n",
    "pt = Point3D(1, 2, 3)\n",
    "\n",
    "pt.x = 10\n",
    "print(pt.x)\n",
    "\n",
    "try:\n",
    "    pt2 = Point3D(1, 2.3, 3)\n",
    "except ValueError:\n",
    "    print(\"Введена вещественная координата\")"
   ]
  },
  {
   "cell_type": "code",
   "execution_count": null,
   "id": "12f02063",
   "metadata": {},
   "outputs": [],
   "source": [
    "class Integer:\n",
    "    def __set_name__(self, owner, name):\n",
    "        self.name = \"_\" + name\n",
    " \n",
    "    def __get__(self, instance, owner):\n",
    "        return getattr(instance, self.name)\n",
    " \n",
    "    def __set__(self, instance, value):\n",
    "        self.verify_coord(value)\n",
    "        setattr(instance, self.name, value)"
   ]
  },
  {
   "cell_type": "markdown",
   "id": "6285552f",
   "metadata": {},
   "source": [
    "В отличие от property Дескриптор — отдельный класс, переиспользуемый в нескольких местах, а property используется в одном классе и не решает проблему повторения кода."
   ]
  },
  {
   "cell_type": "markdown",
   "id": "6c45bfc3",
   "metadata": {},
   "source": [
    "## **Магические методы классов**"
   ]
  },
  {
   "cell_type": "markdown",
   "id": "a06e16d5",
   "metadata": {},
   "source": [
    "## **Наследование и полиморфизм**"
   ]
  },
  {
   "cell_type": "markdown",
   "id": "ef2cff80",
   "metadata": {},
   "source": [
    "## **Исключения и менеджеры контекста**"
   ]
  },
  {
   "cell_type": "markdown",
   "id": "32135476",
   "metadata": {},
   "source": [
    "## **Метаклассы, вложенные классы, Data Classes**"
   ]
  }
 ],
 "metadata": {
  "kernelspec": {
   "display_name": "Python 3",
   "language": "python",
   "name": "python3"
  },
  "language_info": {
   "codemirror_mode": {
    "name": "ipython",
    "version": 3
   },
   "file_extension": ".py",
   "mimetype": "text/x-python",
   "name": "python",
   "nbconvert_exporter": "python",
   "pygments_lexer": "ipython3",
   "version": "3.13.4"
  }
 },
 "nbformat": 4,
 "nbformat_minor": 5
}
