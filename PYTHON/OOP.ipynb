{
 "cells": [
  {
   "cell_type": "markdown",
   "id": "2edc247b",
   "metadata": {},
   "source": [
    "# Объектно-ориентированное программирование"
   ]
  },
  {
   "cell_type": "markdown",
   "id": "181294cb",
   "metadata": {},
   "source": [
    "Объектно-ориентированное программирование (ООП) — это парадигма программирования, в которой основными единицами являются объекты, а программа организуется как совокупность объектов, взаимодействующих между собой. Объекты создаются на основе классов, которые определяют их структуру и поведение."
   ]
  },
  {
   "cell_type": "markdown",
   "id": "59a6569a",
   "metadata": {},
   "source": [
    "ООП позволяет группировать данные и функции, которые с этими данными работают, в единое целое — объект. Это как шаблон и экземпляр: есть \"чертёж\" — класс, и есть конкретные \"объекты\" по этому чертежу.\n",
    "\n",
    "![exp1](https://proproprogs.ru/htm/python_oop/files/koncepciya-oop-prostymi-slovami.files/image001.png) \n",
    "\n",
    "![exp2](https://proproprogs.ru/htm/python_oop/files/koncepciya-oop-prostymi-slovami.files/image002.jpg)"
   ]
  },
  {
   "cell_type": "markdown",
   "id": "bd9646d4",
   "metadata": {},
   "source": [
    "**📚 Основные концепции ООП**  \n",
    "| Концепция        | Объяснение                                                                                                             |\n",
    "| ---------------- | ---------------------------------------------------------------------------------------------------------------------- |\n",
    "| **Класс**        | Шаблон/описание объекта. Определяет, какие данные и методы у него есть.                                                |\n",
    "| **Объект**       | Конкретный экземпляр класса с реальными данными.                                                                       |\n",
    "| **Инкапсуляция** | Сокрытие внутренней реализации и предоставление внешнего интерфейса. Защита данных от некорректного доступа.           |\n",
    "| **Наследование** | Возможность создать новый класс на основе существующего. Позволяет переиспользовать и расширять поведение.             |\n",
    "| **Полиморфизм**  | Возможность использовать один интерфейс для разных типов объектов. Метод работает по-разному в зависимости от объекта. |\n",
    "| **Абстракция**   | Выделение только значимых характеристик объекта и игнорирование неважных.                                              |\n"
   ]
  },
  {
   "cell_type": "markdown",
   "id": "fcdd9a42",
   "metadata": {},
   "source": [
    "## Свойства и методы класса"
   ]
  },
  {
   "cell_type": "markdown",
   "id": "a829bbfc",
   "metadata": {},
   "source": [
    "**Классы и объекты. Атрибуты классов и объектов**"
   ]
  },
  {
   "cell_type": "code",
   "execution_count": 43,
   "id": "77c7e546",
   "metadata": {},
   "outputs": [
    {
     "name": "stdout",
     "output_type": "stream",
     "text": [
      "black\n",
      "{'__module__': '__main__', '__firstlineno__': 1, '__doc__': 'Класс для представления координат точек на плоскости', 'color': 'black', 'circle': 2, '__static_attributes__': (), '__dict__': <attribute '__dict__' of 'Point' objects>, '__weakref__': <attribute '__weakref__' of 'Point' objects>}\n",
      "10 10\n",
      "5 10\n",
      "disc 1\n",
      "1\n",
      "False\n",
      "True\n",
      "Класс для представления координат точек на плоскости\n"
     ]
    }
   ],
   "source": [
    "class Point():\n",
    "    \"Класс для представления координат точек на плоскости\"\n",
    "    color = 'red' # Атрибут (свойство)\n",
    "    circle = 2\n",
    "\n",
    "# Класс образует пространство имен\n",
    "Point.color = 'black'\n",
    "print(Point.color)\n",
    "\n",
    "# Вывод всех атрибутов класса (много служебных)\n",
    "print(Point.__dict__)\n",
    "\n",
    "# Создание экземпляра класса\n",
    "a = Point()\n",
    "b = Point()\n",
    "\n",
    "Point.circle = 10\n",
    "print(a.circle, b.circle)\n",
    "a.circle = 5\n",
    "print(a.circle, b.circle)\n",
    "\n",
    "# Добавление атрибута \n",
    "Point.type_pt = 'disc'\n",
    "setattr(Point, 'prop', 1)\n",
    "print(Point.type_pt, Point.prop)\n",
    "\n",
    "# Получение значения атрибута без ошибки\n",
    "print(getattr(a, 'prop', False))\n",
    "print(getattr(a, 'p132', False))\n",
    "\n",
    "# Проверка на существование атрибута\n",
    "print(hasattr(Point, 'prop'))\n",
    "\n",
    "# Удаление атрибутов класса\n",
    "del Point.prop\n",
    "delattr(Point, \"type_pt\")\n",
    "\n",
    "# Вывод описания класса\n",
    "print(Point.__doc__)\n"
   ]
  },
  {
   "cell_type": "markdown",
   "id": "4f589085",
   "metadata": {},
   "source": [
    "**Методы классов. Параметр self**"
   ]
  },
  {
   "cell_type": "markdown",
   "id": "6c5022a8",
   "metadata": {},
   "source": [
    "Параметр `self` будет ссылаться на экземпляр класса, из которого вызывается метод  \n",
    "То есть, когда метод вызывается через класс, то Python автоматически не подставляет никаких аргументов.   \n",
    "А когда вызов идет через экземпляры класса, то первый аргумент – это всегда ссылка на экземпляр.  `"
   ]
  },
  {
   "cell_type": "code",
   "execution_count": 44,
   "id": "dd190127",
   "metadata": {},
   "outputs": [
    {
     "name": "stdout",
     "output_type": "stream",
     "text": [
      "вызов метода set_coords <__main__.Point object at 0x00000217F8382270>\n",
      "None\n",
      "вызов метода set_coords <__main__.Point object at 0x00000217F8343610>\n",
      "None\n",
      "1\n",
      "<bound method Point.set_coords of <__main__.Point object at 0x00000217F83823C0>>\n"
     ]
    }
   ],
   "source": [
    "class Point:\n",
    "    color = 'red'\n",
    "    circle = 2\n",
    " \n",
    "    def set_coords(self):\n",
    "        print(\"вызов метода set_coords \" + str(self))\n",
    "\n",
    "a = Point()\n",
    "print(Point.set_coords(a))\n",
    "b = Point()\n",
    "print(b.set_coords()) #self подставляется автоматически\n",
    "\n",
    "\n",
    "class Point:\n",
    "    color = 'red'\n",
    "    circle = 2\n",
    " \n",
    "    def set_coords(self, x, y):\n",
    "        self.x = x\n",
    "        self.y = y\n",
    "\n",
    "pt = Point()\n",
    "pt.set_coords(1, 2)\n",
    "print(getattr(pt, 'x'))\n",
    "\n",
    "#Имена методов также являются атрибутами класса\n",
    "print(getattr(pt, 'set_coords'))"
   ]
  },
  {
   "cell_type": "markdown",
   "id": "94659a83",
   "metadata": {},
   "source": [
    "**Инициализатор __init__ и финализатор __del__**"
   ]
  },
  {
   "cell_type": "markdown",
   "id": "6d345ba5",
   "metadata": {},
   "source": [
    "`__init__` и `__del__` - магические методы, то есть предопределенны  \n",
    "`__init__`  - вызывается сразу после создания экземпляра класса  \n",
    "`__del__` - вызывается перед непосредственным его удалением  "
   ]
  },
  {
   "cell_type": "code",
   "execution_count": 45,
   "id": "246c9f25",
   "metadata": {},
   "outputs": [
    {
     "name": "stdout",
     "output_type": "stream",
     "text": [
      "Инициализатор сработал\n",
      "5 3 0\n"
     ]
    }
   ],
   "source": [
    "class Point():\n",
    "    color = 'red'\n",
    "    circle = 5\n",
    "\n",
    "    def __init__(self, x, y, z = 0):\n",
    "        print(\"Инициализатор сработал\")\n",
    "        self.x = x\n",
    "        self.y = y\n",
    "        self.z = z\n",
    "\n",
    "    # Вызывается, когда сборщик мусора удаляет объект из памяти (когда счётчик ссылок на него становится равен нулю)\n",
    "    def __del__(self):\n",
    "        # действия перед уничтожением\n",
    "        print(\"Удаление экземпляра: \"+ str(self))\n",
    "\n",
    "a = Point(5,3)\n",
    "print(a.x, a.y, a.z)"
   ]
  },
  {
   "cell_type": "markdown",
   "id": "190c1269",
   "metadata": {},
   "source": [
    "**Магический метод __new__. Пример паттерна Singleton**"
   ]
  },
  {
   "cell_type": "markdown",
   "id": "d1d18b5b",
   "metadata": {},
   "source": [
    "`__new__` - вызывается непосредственно перед созданием объекта класса  \n",
    "Должен возвращать адрес нового созданного объекта  \n",
    "По умолчанию от наследуюется от базового класса (object), от которого наследуются все классы в Python 3  \n",
    "\n",
    "Паттерн Singleton гарантирует, что у класса будет только один экземпляр"
   ]
  },
  {
   "cell_type": "code",
   "execution_count": 46,
   "id": "6b8412fd",
   "metadata": {},
   "outputs": [],
   "source": [
    "class DataBase:\n",
    "    __instance = None\n",
    "\n",
    "    def __new__(cls, *args, **kwargs):\n",
    "        if cls.__instance is None:\n",
    "            cls.__instance = super().__new__(cls)\n",
    "        return cls.__instance\n",
    "    \n",
    "    def __init__(self, user, psw, port):\n",
    "        self.user = user\n",
    "        self.psw = psw\n",
    "        self.port = port\n",
    "    \n",
    "    def __del__(self):\n",
    "        DataBase.__instance = None\n",
    " \n",
    "    def connect(self):\n",
    "        print(f\"соединение с БД: {self.user}, {self.psw}, {self.port}\")\n",
    " \n",
    "    def close(self):\n",
    "        print(\"закрытие соединения с БД\")\n",
    " \n",
    "    def read(self):\n",
    "        return \"данные из БД\"\n",
    " \n",
    "    def write(self, data):\n",
    "        print(f\"запись в БД {data}\")\n"
   ]
  },
  {
   "cell_type": "markdown",
   "id": "169a95b0",
   "metadata": {},
   "source": [
    "Мы проверяем атрибут класса `__instance`, если None, то вызываем метод `__new__` базового класса и тем самым разрешаем создание объекта. Иначе, просто возвращаем ссылку на ранее созданный экземпляр. Как видите, все достаточно просто. При удалении делаем `__instance` None."
   ]
  },
  {
   "cell_type": "markdown",
   "id": "47c77ee5",
   "metadata": {},
   "source": [
    "**Методы класса (classmethod) и статические методы (staticmethod)**"
   ]
  },
  {
   "cell_type": "markdown",
   "id": "47af3069",
   "metadata": {},
   "source": [
    "| Тип метода            | Объявление                | Доступ к атрибутам экземпляра | Доступ к атрибутам класса | Где используется                                                 |\n",
    "| --------------------- | -------------------  | ----------------------------- | ------------------------- | ---------------------------------------------------------------- |\n",
    "| **Обычный метод**     | `def method(self):`   | ✅ Да                          | ✅ Через `self.__class__`  | Работает с конкретным объектом                                   |\n",
    "| **Метод класса**      | `@classmethod`          | ❌ Нет                         | ✅ Да                      | Операции на уровне класса (например, альтернативный конструктор) |\n",
    "| **Статический метод** | `@staticmethod`      | ❌ Нет                         | ❌ Нет                     | Утилитные функции, логика не зависит от класса/экземпляра        |\n"
   ]
  },
  {
   "cell_type": "code",
   "execution_count": 47,
   "id": "29d30398",
   "metadata": {},
   "outputs": [
    {
     "name": "stdout",
     "output_type": "stream",
     "text": [
      "Удаление экземпляра: <__main__.Point object at 0x00000217F8382900>\n",
      "True\n",
      "True\n",
      "False\n"
     ]
    }
   ],
   "source": [
    "class Vector:\n",
    "    MIN_COORD = 0\n",
    "    MAX_COORD = 100\n",
    "\n",
    "    @classmethod\n",
    "    def validate(cls, arg):\n",
    "        return cls.MIN_COORD <= arg <= cls.MAX_COORD\n",
    "    \n",
    "    @staticmethod\n",
    "    def sq(x,y):\n",
    "        return x**2 + y **2\n",
    "    \n",
    "    def __init__(self, x):\n",
    "        self.x = 0\n",
    "        if Vector.validate(x):\n",
    "            self.x = x\n",
    "\n",
    "a = Vector(50)\n",
    "print(a.validate(30))\n",
    "a.MIN_COORD = 50\n",
    "print(a.validate(30)) # Результат тот же, так как метод класса\n",
    "Vector.MIN_COORD = 50\n",
    "print(a.validate(30))"
   ]
  },
  {
   "cell_type": "markdown",
   "id": "407ea5fd",
   "metadata": {},
   "source": [
    "**Режимы доступа public, private, protected. Сеттеры и геттеры** (основы инкапсуляции)"
   ]
  },
  {
   "cell_type": "markdown",
   "id": "299eaade",
   "metadata": {},
   "source": [
    "Ооочень сомнительно реализовано в python: *(также с методами)*\n",
    "- attribute (без одного или двух подчеркиваний вначале) – публичное свойство (public);\n",
    "- _attribute (с одним подчеркиванием) – режим доступа protected (служит для обращения внутри класса и во всех его дочерних классах)\n",
    "- __attribute (с двумя подчеркиваниями) – режим доступа private (служит для обращения только внутри класса).\n",
    "\n",
    "Однако к protected аттрибуту все равно можно обратиться, это лишь сигнал для разработчиков. При обращении к private будут ошибки. \n",
    "Но даже к private легко обратиться так как у них есть секретный путь, например _Point__x, при этом __x private.\n",
    "\n",
    "Для получения и изменения private аттрибутов используются сеттеры и геттеры"
   ]
  },
  {
   "cell_type": "code",
   "execution_count": 48,
   "id": "769d0a61",
   "metadata": {},
   "outputs": [
    {
     "name": "stdout",
     "output_type": "stream",
     "text": [
      "Ошибка доступа\n",
      "(10, 5)\n",
      "10\n"
     ]
    }
   ],
   "source": [
    "class Point():\n",
    "    @classmethod\n",
    "    def __check_value(cls, x):\n",
    "        return type(x) in (int, float)\n",
    "\n",
    "    def __init__(self, x=0, y=0):\n",
    "        self.__x = self.__y = 0\n",
    " \n",
    "        if self.__check_value(x) and self.__check_value(y):\n",
    "            self.__x = x\n",
    "            self.__y = y\n",
    " \n",
    "    def set_coord(self, x, y):\n",
    "        if self.__check_value(x) and self.__check_value(y):\n",
    "            self.__x = x\n",
    "            self.__y = y\n",
    "        else:\n",
    "            raise ValueError(\"Координаты должны быть числами\")\n",
    "    def get_сoord(self):\n",
    "        return self.__x, self.__y\n",
    "    \n",
    "\n",
    "\n",
    "pt = Point(5,10)\n",
    "\n",
    "try:\n",
    "    print(pt.__x)\n",
    "except:\n",
    "    print(\"Ошибка доступа\")\n",
    "\n",
    "pt.set_coord(10, 5)\n",
    "print(pt.get_сoord())\n",
    "\n",
    "try:\n",
    "    print(pt._Point__x)\n",
    "except:\n",
    "    print(\"Ошибка доступа\")"
   ]
  },
  {
   "cell_type": "markdown",
   "id": "a4ce6d94",
   "metadata": {},
   "source": [
    "Чтобы улучшить защиту нужен модуль `accessify`"
   ]
  },
  {
   "cell_type": "code",
   "execution_count": 49,
   "id": "5bbaa786",
   "metadata": {},
   "outputs": [
    {
     "name": "stdout",
     "output_type": "stream",
     "text": [
      "Defaulting to user installation because normal site-packages is not writeable\n",
      "Requirement already satisfied: accessify in c:\\users\\sgbdz\\appdata\\roaming\\python\\python313\\site-packages (0.3.1)\n"
     ]
    }
   ],
   "source": [
    "!pip install accessify"
   ]
  },
  {
   "cell_type": "code",
   "execution_count": 50,
   "id": "6e3b7428",
   "metadata": {},
   "outputs": [
    {
     "name": "stdout",
     "output_type": "stream",
     "text": [
      "(10, 5)\n",
      "Ошибка доступа\n"
     ]
    }
   ],
   "source": [
    "from accessify import private, protected\n",
    "\n",
    "class Point():\n",
    "    @private\n",
    "    @classmethod\n",
    "    def check_value(cls, x):\n",
    "        return type(x) in (int, float)\n",
    "\n",
    "    def __init__(self, x=0, y=0):\n",
    "        self.__x = self.__y = 0\n",
    " \n",
    "        if self.check_value(x) and self.check_value(y):\n",
    "            self.__x = x\n",
    "            self.__y = y\n",
    " \n",
    "    def set_coord(self, x, y):\n",
    "        if self.check_value(x) and self.check_value(y):\n",
    "            self.__x = x\n",
    "            self.__y = y\n",
    "        else:\n",
    "            raise ValueError(\"Координаты должны быть числами\")\n",
    "    def get_сoord(self):\n",
    "        return self.__x, self.__y\n",
    "    \n",
    "\n",
    "\n",
    "pt = Point(5,10)\n",
    "\n",
    "pt.set_coord(10, 5)\n",
    "print(pt.get_сoord())\n",
    "\n",
    "try:\n",
    "    print(pt.check_value(5))\n",
    "except:\n",
    "    print(\"Ошибка доступа\")"
   ]
  },
  {
   "cell_type": "markdown",
   "id": "6c45bfc3",
   "metadata": {},
   "source": [
    "## Магические методы классов"
   ]
  },
  {
   "cell_type": "markdown",
   "id": "a06e16d5",
   "metadata": {},
   "source": [
    "## Наследование и полиморфизм"
   ]
  },
  {
   "cell_type": "markdown",
   "id": "ef2cff80",
   "metadata": {},
   "source": [
    "## Исключения и менеджеры контекста"
   ]
  },
  {
   "cell_type": "markdown",
   "id": "32135476",
   "metadata": {},
   "source": [
    "## Метаклассы, вложенные классы, Data Classes"
   ]
  }
 ],
 "metadata": {
  "kernelspec": {
   "display_name": "Python 3",
   "language": "python",
   "name": "python3"
  },
  "language_info": {
   "codemirror_mode": {
    "name": "ipython",
    "version": 3
   },
   "file_extension": ".py",
   "mimetype": "text/x-python",
   "name": "python",
   "nbconvert_exporter": "python",
   "pygments_lexer": "ipython3",
   "version": "3.13.4"
  }
 },
 "nbformat": 4,
 "nbformat_minor": 5
}
