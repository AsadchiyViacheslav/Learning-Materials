{
 "cells": [
  {
   "cell_type": "markdown",
   "id": "2edc247b",
   "metadata": {},
   "source": [
    "# **Объектно-ориентированное программирование**"
   ]
  },
  {
   "cell_type": "markdown",
   "id": "181294cb",
   "metadata": {},
   "source": [
    "Объектно-ориентированное программирование (ООП) — это парадигма программирования, в которой основными единицами являются объекты, а программа организуется как совокупность объектов, взаимодействующих между собой. Объекты создаются на основе классов, которые определяют их структуру и поведение."
   ]
  },
  {
   "cell_type": "markdown",
   "id": "59a6569a",
   "metadata": {},
   "source": [
    "ООП позволяет группировать данные и функции, которые с этими данными работают, в единое целое — объект. Это как шаблон и экземпляр: есть \"чертёж\" — класс, и есть конкретные \"объекты\" по этому чертежу.\n",
    "\n",
    "![exp1](https://proproprogs.ru/htm/python_oop/files/koncepciya-oop-prostymi-slovami.files/image001.png) \n",
    "\n",
    "![exp2](https://proproprogs.ru/htm/python_oop/files/koncepciya-oop-prostymi-slovami.files/image002.jpg)"
   ]
  },
  {
   "cell_type": "markdown",
   "id": "bd9646d4",
   "metadata": {},
   "source": [
    "**📚 Основные концепции ООП**  \n",
    "| Концепция        | Объяснение                                                                                                             |\n",
    "| ---------------- | ---------------------------------------------------------------------------------------------------------------------- |\n",
    "| **Класс**        | Шаблон/описание объекта. Определяет, какие данные и методы у него есть.                                                |\n",
    "| **Объект**       | Конкретный экземпляр класса с реальными данными.                                                                       |\n",
    "| **Инкапсуляция** | Сокрытие внутренней реализации и предоставление внешнего интерфейса. Защита данных от некорректного доступа.           |\n",
    "| **Наследование** | Возможность создать новый класс на основе существующего. Позволяет переиспользовать и расширять поведение.             |\n",
    "| **Полиморфизм**  | Возможность использовать один интерфейс для разных типов объектов. Метод работает по-разному в зависимости от объекта. |\n",
    "| **Абстракция**   | Выделение только значимых характеристик объекта и игнорирование неважных.                                              |\n"
   ]
  },
  {
   "cell_type": "markdown",
   "id": "fcdd9a42",
   "metadata": {},
   "source": [
    "## **Свойства и методы класса**"
   ]
  },
  {
   "cell_type": "markdown",
   "id": "a829bbfc",
   "metadata": {},
   "source": [
    "### Классы и объекты. Атрибуты классов и объектов"
   ]
  },
  {
   "cell_type": "code",
   "execution_count": 144,
   "id": "77c7e546",
   "metadata": {},
   "outputs": [
    {
     "name": "stdout",
     "output_type": "stream",
     "text": [
      "black\n",
      "{'__module__': '__main__', '__firstlineno__': 1, '__doc__': 'Класс для представления координат точек на плоскости', 'color': 'black', 'circle': 2, '__static_attributes__': (), '__dict__': <attribute '__dict__' of 'Point' objects>, '__weakref__': <attribute '__weakref__' of 'Point' objects>}\n",
      "10 10\n",
      "5 10\n",
      "disc 1\n",
      "1\n",
      "False\n",
      "True\n",
      "Класс для представления координат точек на плоскости\n"
     ]
    }
   ],
   "source": [
    "class Point():\n",
    "    \"Класс для представления координат точек на плоскости\"\n",
    "    color = 'red' # Атрибут (свойство)\n",
    "    circle = 2\n",
    "\n",
    "# Класс образует пространство имен\n",
    "Point.color = 'black'\n",
    "print(Point.color)\n",
    "\n",
    "# Вывод всех атрибутов класса (много служебных)\n",
    "print(Point.__dict__)\n",
    "\n",
    "# Создание экземпляра класса\n",
    "a = Point()\n",
    "b = Point()\n",
    "\n",
    "Point.circle = 10\n",
    "print(a.circle, b.circle)\n",
    "a.circle = 5\n",
    "print(a.circle, b.circle)\n",
    "\n",
    "# Добавление атрибута \n",
    "Point.type_pt = 'disc'\n",
    "setattr(Point, 'prop', 1)\n",
    "print(Point.type_pt, Point.prop)\n",
    "\n",
    "# Получение значения атрибута без ошибки\n",
    "print(getattr(a, 'prop', False))\n",
    "print(getattr(a, 'p132', False))\n",
    "\n",
    "# Проверка на существование атрибута\n",
    "print(hasattr(Point, 'prop'))\n",
    "\n",
    "# Удаление атрибутов класса\n",
    "del Point.prop\n",
    "delattr(Point, \"type_pt\")\n",
    "\n",
    "# Вывод описания класса\n",
    "print(Point.__doc__)\n"
   ]
  },
  {
   "cell_type": "markdown",
   "id": "4f589085",
   "metadata": {},
   "source": [
    "### Методы классов. Параметр self"
   ]
  },
  {
   "cell_type": "markdown",
   "id": "6c5022a8",
   "metadata": {},
   "source": [
    "Параметр `self` будет ссылаться на экземпляр класса, из которого вызывается метод  \n",
    "То есть, когда метод вызывается через класс, то Python автоматически не подставляет никаких аргументов.   \n",
    "А когда вызов идет через экземпляры класса, то первый аргумент – это всегда ссылка на экземпляр.  `"
   ]
  },
  {
   "cell_type": "code",
   "execution_count": 145,
   "id": "dd190127",
   "metadata": {},
   "outputs": [
    {
     "name": "stdout",
     "output_type": "stream",
     "text": [
      "вызов метода set_coords <__main__.Point object at 0x00000234D99A5BE0>\n",
      "None\n",
      "вызов метода set_coords <__main__.Point object at 0x00000234D9845590>\n",
      "None\n",
      "1\n",
      "<bound method Point.set_coords of <__main__.Point object at 0x00000234D99A5400>>\n"
     ]
    }
   ],
   "source": [
    "class Point:\n",
    "    color = 'red'\n",
    "    circle = 2\n",
    " \n",
    "    def set_coords(self):\n",
    "        print(\"вызов метода set_coords \" + str(self))\n",
    "\n",
    "a = Point()\n",
    "print(Point.set_coords(a))\n",
    "b = Point()\n",
    "print(b.set_coords()) #self подставляется автоматически\n",
    "\n",
    "\n",
    "class Point:\n",
    "    color = 'red'\n",
    "    circle = 2\n",
    " \n",
    "    def set_coords(self, x, y):\n",
    "        self.x = x\n",
    "        self.y = y\n",
    "\n",
    "pt = Point()\n",
    "pt.set_coords(1, 2)\n",
    "print(getattr(pt, 'x'))\n",
    "\n",
    "#Имена методов также являются атрибутами класса\n",
    "print(getattr(pt, 'set_coords'))"
   ]
  },
  {
   "cell_type": "markdown",
   "id": "94659a83",
   "metadata": {},
   "source": [
    "### Инициализатор `__init__` и финализатор `__del__`"
   ]
  },
  {
   "cell_type": "markdown",
   "id": "6d345ba5",
   "metadata": {},
   "source": [
    "`__init__` и `__del__` - магические методы, то есть предопределенны  \n",
    "`__init__`  - вызывается сразу после создания экземпляра класса  \n",
    "`__del__` - вызывается перед непосредственным его удалением  "
   ]
  },
  {
   "cell_type": "code",
   "execution_count": 146,
   "id": "246c9f25",
   "metadata": {},
   "outputs": [
    {
     "name": "stdout",
     "output_type": "stream",
     "text": [
      "Инициализатор сработал\n",
      "5 3 0\n"
     ]
    }
   ],
   "source": [
    "class Point():\n",
    "    color = 'red'\n",
    "    circle = 5\n",
    "\n",
    "    def __init__(self, x, y, z = 0):\n",
    "        print(\"Инициализатор сработал\")\n",
    "        self.x = x\n",
    "        self.y = y\n",
    "        self.z = z\n",
    "\n",
    "    # Вызывается, когда сборщик мусора удаляет объект из памяти (когда счётчик ссылок на него становится равен нулю)\n",
    "    def __del__(self):\n",
    "        # действия перед уничтожением\n",
    "        print(\"Удаление экземпляра: \"+ str(self))\n",
    "\n",
    "a = Point(5,3)\n",
    "print(a.x, a.y, a.z)"
   ]
  },
  {
   "cell_type": "markdown",
   "id": "190c1269",
   "metadata": {},
   "source": [
    "### Магический метод `__new__`. Пример паттерна Singleton"
   ]
  },
  {
   "cell_type": "markdown",
   "id": "d1d18b5b",
   "metadata": {},
   "source": [
    "`__new__` - вызывается непосредственно перед созданием объекта класса  \n",
    "Должен возвращать адрес нового созданного объекта  \n",
    "По умолчанию от наследуюется от базового класса (object), от которого наследуются все классы в Python 3  \n",
    "\n",
    "Паттерн Singleton гарантирует, что у класса будет только один экземпляр"
   ]
  },
  {
   "cell_type": "code",
   "execution_count": 147,
   "id": "6b8412fd",
   "metadata": {},
   "outputs": [],
   "source": [
    "class DataBase:\n",
    "    __instance = None\n",
    "\n",
    "    def __new__(cls, *args, **kwargs):\n",
    "        if cls.__instance is None:\n",
    "            cls.__instance = super().__new__(cls)\n",
    "        return cls.__instance\n",
    "    \n",
    "    def __init__(self, user, psw, port):\n",
    "        self.user = user\n",
    "        self.psw = psw\n",
    "        self.port = port\n",
    "    \n",
    "    def __del__(self):\n",
    "        DataBase.__instance = None\n",
    " \n",
    "    def connect(self):\n",
    "        print(f\"соединение с БД: {self.user}, {self.psw}, {self.port}\")\n",
    " \n",
    "    def close(self):\n",
    "        print(\"закрытие соединения с БД\")\n",
    " \n",
    "    def read(self):\n",
    "        return \"данные из БД\"\n",
    " \n",
    "    def write(self, data):\n",
    "        print(f\"запись в БД {data}\")\n"
   ]
  },
  {
   "cell_type": "markdown",
   "id": "169a95b0",
   "metadata": {},
   "source": [
    "Мы проверяем атрибут класса `__instance`, если None, то вызываем метод `__new__` базового класса и тем самым разрешаем создание объекта. Иначе, просто возвращаем ссылку на ранее созданный экземпляр. Как видите, все достаточно просто. При удалении делаем `__instance` None."
   ]
  },
  {
   "cell_type": "markdown",
   "id": "47c77ee5",
   "metadata": {},
   "source": [
    "### Методы класса (classmethod) и статические методы (staticmethod)"
   ]
  },
  {
   "cell_type": "markdown",
   "id": "47af3069",
   "metadata": {},
   "source": [
    "| Тип метода            | Объявление                | Доступ к атрибутам экземпляра | Доступ к атрибутам класса | Где используется                                                 |\n",
    "| --------------------- | -------------------  | ----------------------------- | ------------------------- | ---------------------------------------------------------------- |\n",
    "| **Обычный метод**     | `def method(self):`   | ✅ Да                          | ✅ Через `self.__class__`  | Работает с конкретным объектом                                   |\n",
    "| **Метод класса**      | `@classmethod`          | ❌ Нет                         | ✅ Да                      | Операции на уровне класса (например, альтернативный конструктор) |\n",
    "| **Статический метод** | `@staticmethod`      | ❌ Нет                         | ❌ Нет                     | Утилитные функции, логика не зависит от класса/экземпляра        |\n"
   ]
  },
  {
   "cell_type": "code",
   "execution_count": 148,
   "id": "29d30398",
   "metadata": {},
   "outputs": [
    {
     "name": "stdout",
     "output_type": "stream",
     "text": [
      "Удаление экземпляра: <__main__.Point object at 0x00000234D99A5FD0>\n",
      "True\n",
      "True\n",
      "False\n"
     ]
    }
   ],
   "source": [
    "class Vector:\n",
    "    MIN_COORD = 0\n",
    "    MAX_COORD = 100\n",
    "\n",
    "    @classmethod\n",
    "    def validate(cls, arg):\n",
    "        return cls.MIN_COORD <= arg <= cls.MAX_COORD\n",
    "    \n",
    "    @staticmethod\n",
    "    def sq(x,y):\n",
    "        return x**2 + y **2\n",
    "    \n",
    "    def __init__(self, x):\n",
    "        self.x = 0\n",
    "        if Vector.validate(x):\n",
    "            self.x = x\n",
    "\n",
    "a = Vector(50)\n",
    "print(a.validate(30))\n",
    "a.MIN_COORD = 50\n",
    "print(a.validate(30)) # Результат тот же, так как метод класса\n",
    "Vector.MIN_COORD = 50\n",
    "print(a.validate(30))"
   ]
  },
  {
   "cell_type": "markdown",
   "id": "407ea5fd",
   "metadata": {},
   "source": [
    "### Режимы доступа public, private, protected. Сеттеры и геттеры *(основы инкапсуляции)*"
   ]
  },
  {
   "cell_type": "markdown",
   "id": "299eaade",
   "metadata": {},
   "source": [
    "Ооочень сомнительно реализовано в python: *(также с методами)*\n",
    "- attribute (без одного или двух подчеркиваний вначале) – публичное свойство (public);\n",
    "- _attribute (с одним подчеркиванием) – режим доступа protected (служит для обращения внутри класса и во всех его дочерних классах)\n",
    "- __attribute (с двумя подчеркиваниями) – режим доступа private (служит для обращения только внутри класса).\n",
    "\n",
    "Однако к protected аттрибуту все равно можно обратиться, это лишь сигнал для разработчиков. При обращении к private будут ошибки. \n",
    "Но даже к private легко обратиться так как у них есть секретный путь, например _Point__x, при этом __x private.\n",
    "\n",
    "Для получения и изменения private аттрибутов используются сеттеры и геттеры"
   ]
  },
  {
   "cell_type": "code",
   "execution_count": 149,
   "id": "769d0a61",
   "metadata": {},
   "outputs": [
    {
     "name": "stdout",
     "output_type": "stream",
     "text": [
      "Ошибка доступа\n",
      "(10, 5)\n",
      "10\n"
     ]
    }
   ],
   "source": [
    "class Point():\n",
    "    @classmethod\n",
    "    def __check_value(cls, x):\n",
    "        return type(x) in (int, float)\n",
    "\n",
    "    def __init__(self, x=0, y=0):\n",
    "        self.__x = self.__y = 0\n",
    " \n",
    "        if self.__check_value(x) and self.__check_value(y):\n",
    "            self.__x = x\n",
    "            self.__y = y\n",
    " \n",
    "    def set_coord(self, x, y):\n",
    "        if self.__check_value(x) and self.__check_value(y):\n",
    "            self.__x = x\n",
    "            self.__y = y\n",
    "        else:\n",
    "            raise ValueError(\"Координаты должны быть числами\")\n",
    "    def get_сoord(self):\n",
    "        return self.__x, self.__y\n",
    "    \n",
    "\n",
    "\n",
    "pt = Point(5,10)\n",
    "\n",
    "try:\n",
    "    print(pt.__x)\n",
    "except:\n",
    "    print(\"Ошибка доступа\")\n",
    "\n",
    "pt.set_coord(10, 5)\n",
    "print(pt.get_сoord())\n",
    "\n",
    "try:\n",
    "    print(pt._Point__x)\n",
    "except:\n",
    "    print(\"Ошибка доступа\")"
   ]
  },
  {
   "cell_type": "markdown",
   "id": "a4ce6d94",
   "metadata": {},
   "source": [
    "Чтобы улучшить защиту нужен модуль `accessify`"
   ]
  },
  {
   "cell_type": "code",
   "execution_count": 150,
   "id": "5bbaa786",
   "metadata": {},
   "outputs": [
    {
     "name": "stdout",
     "output_type": "stream",
     "text": [
      "Defaulting to user installation because normal site-packages is not writeable\n",
      "Requirement already satisfied: accessify in c:\\users\\sgbdz\\appdata\\roaming\\python\\python313\\site-packages (0.3.1)\n"
     ]
    }
   ],
   "source": [
    "!pip install accessify"
   ]
  },
  {
   "cell_type": "code",
   "execution_count": 151,
   "id": "6e3b7428",
   "metadata": {},
   "outputs": [
    {
     "name": "stdout",
     "output_type": "stream",
     "text": [
      "(10, 5)\n",
      "Ошибка доступа\n"
     ]
    }
   ],
   "source": [
    "from accessify import private, protected\n",
    "\n",
    "class Point():\n",
    "    @private\n",
    "    @classmethod\n",
    "    def check_value(cls, x):\n",
    "        return type(x) in (int, float)\n",
    "\n",
    "    def __init__(self, x=0, y=0):\n",
    "        self.__x = self.__y = 0\n",
    " \n",
    "        if self.check_value(x) and self.check_value(y):\n",
    "            self.__x = x\n",
    "            self.__y = y\n",
    " \n",
    "    def set_coord(self, x, y):\n",
    "        if self.check_value(x) and self.check_value(y):\n",
    "            self.__x = x\n",
    "            self.__y = y\n",
    "        else:\n",
    "            raise ValueError(\"Координаты должны быть числами\")\n",
    "    def get_сoord(self):\n",
    "        return self.__x, self.__y\n",
    "    \n",
    "\n",
    "\n",
    "pt = Point(5,10)\n",
    "\n",
    "pt.set_coord(10, 5)\n",
    "print(pt.get_сoord())\n",
    "\n",
    "try:\n",
    "    print(pt.check_value(5))\n",
    "except:\n",
    "    print(\"Ошибка доступа\")"
   ]
  },
  {
   "cell_type": "markdown",
   "id": "fd2de20d",
   "metadata": {},
   "source": [
    "### Магические методы `__setattr__`, `__getattribute__`, `__getattr__` и `__delattr__`"
   ]
  },
  {
   "cell_type": "markdown",
   "id": "0a4b7a6b",
   "metadata": {},
   "source": [
    "- `__setattr__(self, key, value)`__ – автоматически вызывается при изменении свойства key класса;\n",
    "\n",
    "- `__getattribute__(self, item)` – автоматически вызывается при получении свойства класса с именем item;\n",
    "\n",
    "- `__getattr__(self, item)` – автоматически вызывается при получении несуществующего свойства item класса;\n",
    "\n",
    "- `__delattr__(self, item)` – автоматически вызывается при удалении свойства item (не важно: существует оно или нет)."
   ]
  },
  {
   "cell_type": "markdown",
   "id": "d1234b25",
   "metadata": {},
   "source": [
    "Например можем использовать чтобы предотварить создание нежелательных атрибутов или чтобы запретить доступ к приватным"
   ]
  },
  {
   "cell_type": "code",
   "execution_count": 152,
   "id": "2afe17e3",
   "metadata": {},
   "outputs": [],
   "source": [
    "class Point():\n",
    "    MIN_COORD = 0\n",
    "    MAX_COORD = 100\n",
    "\n",
    "    def __init__(self,x,y):\n",
    "        self.__x = x\n",
    "        self.__y = y\n",
    "\n",
    "    def __setattr__(self, name, value):\n",
    "        if name == 'z':\n",
    "            raise ValueError(\"Нельзя создать такой атрибут\")\n",
    "        else:\n",
    "            object.__setattr__(self,name,value)\n",
    "\n",
    "    def __getattribute__(self, name):\n",
    "        if name == \"_Point__x\":\n",
    "            raise ValueError(\"Отказано в доступе\")\n",
    "        else:\n",
    "            return object.__getattribute__(self,name)"
   ]
  },
  {
   "cell_type": "markdown",
   "id": "a5a39c1b",
   "metadata": {},
   "source": [
    "### Паттерн моносостояние"
   ]
  },
  {
   "cell_type": "markdown",
   "id": "faaa8872",
   "metadata": {},
   "source": [
    "Суть паттерна в том, чтобы экземпляры классов имели одинаковые локальные свойства. Словарь `__dict__` был бы одинаков для всех этих экземпляров.\n",
    "\n",
    "Реализуется очень просто. В инициализаторе присваем словарю уже ранее созданный словарь с локальными свойствами."
   ]
  },
  {
   "cell_type": "code",
   "execution_count": 153,
   "id": "71194270",
   "metadata": {},
   "outputs": [],
   "source": [
    "class ThreadData:\n",
    "    __shared_attrs = {\n",
    "        'name': 'thread_1',\n",
    "        'data': {},\n",
    "        'id': 1,\n",
    "    }\n",
    " \n",
    "    def __init__(self):\n",
    "        self.__dict__ = self.__shared_attrs"
   ]
  },
  {
   "cell_type": "markdown",
   "id": "7d97fbeb",
   "metadata": {},
   "source": [
    "### Свойства property. Декоратор @property"
   ]
  },
  {
   "cell_type": "markdown",
   "id": "ef428d0e",
   "metadata": {},
   "source": [
    "Property позволяет нам не запоминать куча названий геттеров и сеттеров, а обращаться к ним через точку."
   ]
  },
  {
   "cell_type": "code",
   "execution_count": 154,
   "id": "51413c0b",
   "metadata": {},
   "outputs": [
    {
     "name": "stdout",
     "output_type": "stream",
     "text": [
      "21\n"
     ]
    }
   ],
   "source": [
    "class Person:\n",
    "    def __init__(self, name, old):\n",
    "        self.__name = name\n",
    "        self.__old = old\n",
    "\n",
    "    def get_old(self):\n",
    "        return self.__old\n",
    " \n",
    "    def set_old(self, old):\n",
    "        self.__old = old\n",
    "\n",
    "    old = property(get_old, set_old)\n",
    "\n",
    "p1 = Person('Slava',20)\n",
    "p1.old = 21 # Теперь можем так, хотя он private\n",
    "print(p1.old) "
   ]
  },
  {
   "cell_type": "markdown",
   "id": "d9a67de9",
   "metadata": {},
   "source": [
    "Декоратор @property позволяет использовать единый интерфейс для взаимодействия с атрибутами."
   ]
  },
  {
   "cell_type": "code",
   "execution_count": 155,
   "id": "404e7d98",
   "metadata": {},
   "outputs": [
    {
     "name": "stdout",
     "output_type": "stream",
     "text": [
      "21\n"
     ]
    }
   ],
   "source": [
    "class Person:\n",
    "    def __init__(self, name, old):\n",
    "        self.__name = name\n",
    "        self.__old = old\n",
    "\n",
    "    @property\n",
    "    def old(self):\n",
    "        return self.__old\n",
    " \n",
    "    @old.setter\n",
    "    def old(self, old):\n",
    "        self.__old = old\n",
    "\n",
    "    @old.deleter\n",
    "    def old(self):\n",
    "        del self.__old\n",
    "\n",
    "\n",
    "p1 = Person('Slava',20)\n",
    "p1.old = 21 # Теперь можем так, хотя он private\n",
    "print(p1.old) \n",
    "del p1.old"
   ]
  },
  {
   "cell_type": "markdown",
   "id": "3164f07a",
   "metadata": {},
   "source": [
    "Полноценный пример"
   ]
  },
  {
   "cell_type": "code",
   "execution_count": 156,
   "id": "922c8955",
   "metadata": {},
   "outputs": [
    {
     "name": "stdout",
     "output_type": "stream",
     "text": [
      "{'_Person__fio': ['Асадчий', 'Вячеслав', 'Александрович'], '_Person__old': 100, '_Person__passport': '4567 123456', '_Person__weight': 70.0}\n"
     ]
    }
   ],
   "source": [
    "from string import ascii_letters\n",
    "\n",
    "\n",
    "class Person:\n",
    "    S_RUS = 'абвгдеёжзийклмнопрстуфхцчшщьыъэюя-'\n",
    "    S_RUS_UPPER = S_RUS.upper()\n",
    "\n",
    "    def __init__(self, fio, old, ps, weight):\n",
    "        self.verify_fio(fio)\n",
    "        self.verify_old(old)\n",
    "        self.verify_ps(ps)\n",
    "        self.verify_weight(weight)\n",
    " \n",
    "        self.__fio = fio.split()\n",
    "        self.__old = old\n",
    "        self.__passport = ps\n",
    "        self.__weight = weight\n",
    "\n",
    "    @classmethod\n",
    "    def verify_fio(cls, fio):\n",
    "        if type(fio) != str:\n",
    "            raise TypeError(\"ФИО должно быть строкой\")\n",
    " \n",
    "        f = fio.split()\n",
    "        if len(f) != 3:\n",
    "            raise TypeError(\"Неверный формат записи ФИО\")\n",
    " \n",
    "        letters = ascii_letters + cls.S_RUS + cls.S_RUS_UPPER\n",
    "        for s in f:\n",
    "            if len(s) < 1:\n",
    "                raise TypeError(\"В ФИО должен быть хотя бы один символ\")\n",
    "            if len(s.strip(letters)) != 0:\n",
    "                raise TypeError(\"В ФИО можно использовать только буквенные символы и дефис\")\n",
    "            \n",
    "    @classmethod\n",
    "    def verify_old(cls, old):\n",
    "        if type(old) != int or old < 14 or old > 120:\n",
    "            raise TypeError(\"Возраст должен быть целым числом в диапазоне [14; 120]\")\n",
    "        \n",
    "    @classmethod\n",
    "    def verify_weight(cls, w):\n",
    "        if type(w) != float or w < 20:\n",
    "            raise TypeError(\"Вес должен быть вещественным числом от 20 и выше\")\n",
    "        \n",
    "    @classmethod\n",
    "    def verify_ps(cls, ps):\n",
    "        if type(ps) != str:\n",
    "            raise TypeError(\"Паспорт должен быть строкой\")\n",
    " \n",
    "        s = ps.split()\n",
    "        if len(s) != 2 or len(s[0]) != 4 or len(s[1]) != 6:\n",
    "            raise TypeError(\"Неверный формат паспорта\")\n",
    " \n",
    "        for p in s:\n",
    "            if not p.isdigit():\n",
    "                raise TypeError(\"Серия и номер паспорта должны быть числами\")\n",
    "            \n",
    "    @property\n",
    "    def fio(self):\n",
    "        return self.__fio\n",
    "    \n",
    "    @property\n",
    "    def old(self):\n",
    "        return self.__old\n",
    " \n",
    "    @old.setter\n",
    "    def old(self, old):\n",
    "        self.verify_old(old)\n",
    "        self.__old = old\n",
    "\n",
    "    @property\n",
    "    def passport(self):\n",
    "        return self.__passport\n",
    " \n",
    "    @passport.setter\n",
    "    def passport(self, ps):\n",
    "        self.verify_ps(ps)\n",
    "        self.__passport = ps\n",
    "\n",
    "    @property\n",
    "    def weight(self):\n",
    "        return self.__weight\n",
    " \n",
    "    @weight.setter\n",
    "    def weight(self, w):\n",
    "        self.verify_weight(w)\n",
    "        self.__weight = w\n",
    "\n",
    "\n",
    "p = Person('Асадчий Вячеслав Александрович', 20, '1111 567890', 65.0)\n",
    "p.old = 100\n",
    "p.passport = '4567 123456'\n",
    "p.weight = 70.0\n",
    "print(p.__dict__)"
   ]
  },
  {
   "cell_type": "markdown",
   "id": "e0a1c961",
   "metadata": {},
   "source": [
    "### Дескрипторы (data descriptor и non-data descriptor)"
   ]
  },
  {
   "cell_type": "markdown",
   "id": "f380686c",
   "metadata": {},
   "source": [
    "Дескрипторы - это отдельные классы, которые позволяют определить поведение при чтении, записи и удалении атрибута через специальные методы. По простому чтобы у нас не было в сумме 30 функций валидации для сеттеров и геттеров 10 атрибутов."
   ]
  },
  {
   "cell_type": "code",
   "execution_count": 157,
   "id": "dab99be0",
   "metadata": {},
   "outputs": [
    {
     "name": "stdout",
     "output_type": "stream",
     "text": [
      "__set__: _x = 1\n",
      "__set__: _y = 2\n",
      "__set__: _z = 3\n",
      "__set__: _x = 10\n",
      "10\n",
      "__set__: _x = 1\n",
      "__set__: _y = 2.3\n",
      "Введена вещественная координата\n"
     ]
    }
   ],
   "source": [
    "class Integer:\n",
    "    def __set_name__(self, owner, name):\n",
    "        self.name = \"_\" + name\n",
    " \n",
    "    def __get__(self, instance, owner):\n",
    "        return instance.__dict__[self.name]\n",
    " \n",
    "    def __set__(self, instance, value):\n",
    "        print(f\"__set__: {self.name} = {value}\")\n",
    "        if type(value) != int:\n",
    "            raise ValueError(\"Type Error\")\n",
    "        else:\n",
    "            instance.__dict__[self.name] = value\n",
    "\n",
    "class Point3D:\n",
    "    x = Integer()\n",
    "    y = Integer()\n",
    "    z = Integer()\n",
    " \n",
    "    def __init__(self, x, y, z):\n",
    "        self.x = x\n",
    "        self.y = y\n",
    "        self.z = z\n",
    "\n",
    "pt = Point3D(1, 2, 3)\n",
    "\n",
    "pt.x = 10\n",
    "print(pt.x)\n",
    "\n",
    "try:\n",
    "    pt2 = Point3D(1, 2.3, 3)\n",
    "except ValueError:\n",
    "    print(\"Введена вещественная координата\")"
   ]
  },
  {
   "cell_type": "code",
   "execution_count": 158,
   "id": "12f02063",
   "metadata": {},
   "outputs": [],
   "source": [
    "class Integer:\n",
    "    def __set_name__(self, owner, name):\n",
    "        self.name = \"_\" + name\n",
    " \n",
    "    def __get__(self, instance, owner):\n",
    "        return getattr(instance, self.name)\n",
    " \n",
    "    def __set__(self, instance, value):\n",
    "        self.verify_coord(value)\n",
    "        setattr(instance, self.name, value)"
   ]
  },
  {
   "cell_type": "markdown",
   "id": "6285552f",
   "metadata": {},
   "source": [
    "В отличие от property Дескриптор — отдельный класс, переиспользуемый в нескольких местах, а property используется в одном классе и не решает проблему повторения кода."
   ]
  },
  {
   "cell_type": "markdown",
   "id": "6c45bfc3",
   "metadata": {},
   "source": [
    "## **Магические методы классов**"
   ]
  },
  {
   "cell_type": "markdown",
   "id": "e64f4343",
   "metadata": {},
   "source": [
    "### Метод `__call__`. Функторы и классы-декораторы"
   ]
  },
  {
   "cell_type": "markdown",
   "id": "e1ac7847",
   "metadata": {},
   "source": [
    "Метод `__call__` вызывается при вызове класса и данном случае создает новый экземпляр класса (внутри new, init и так далее). Однако если мы хотим вызвать экзмепляр класса нужно объявить данный метод `__call__`. Классы, экземпляры которых можно вызывать подобно функциям, получили название функторы."
   ]
  },
  {
   "cell_type": "code",
   "execution_count": 159,
   "id": "5b6b6bb6",
   "metadata": {},
   "outputs": [
    {
     "name": "stdout",
     "output_type": "stream",
     "text": [
      "__call__\n",
      "__call__\n",
      "__call__\n",
      "3\n"
     ]
    }
   ],
   "source": [
    "class Counter:\n",
    "    def __init__(self):\n",
    "        self.__counter = 0\n",
    " \n",
    "    def __call__(self, *args, **kwargs):\n",
    "        print(\"__call__\")\n",
    "        self.__counter += 1\n",
    "        return self.__counter\n",
    "    \n",
    "\n",
    "c = Counter()\n",
    "c()\n",
    "c()\n",
    "res = c()\n",
    "print(res)"
   ]
  },
  {
   "cell_type": "code",
   "execution_count": 160,
   "id": "81af1975",
   "metadata": {},
   "outputs": [
    {
     "name": "stdout",
     "output_type": "stream",
     "text": [
      "Hello World\n",
      "!!!Hello World!!!\n"
     ]
    }
   ],
   "source": [
    "class StripChars:\n",
    "    def __init__(self, chars):\n",
    "        self.__chars = chars\n",
    " \n",
    "    def __call__(self, *args, **kwargs):\n",
    "        if not isinstance(args[0], str):\n",
    "            raise ValueError(\"Аргумент должен быть строкой\")\n",
    " \n",
    "        return args[0].strip(self.__chars)\n",
    "    \n",
    "\n",
    "s1 = StripChars(\"?:!.; \")\n",
    "s2 = StripChars(\" \")\n",
    "res = s1(\" !!!Hello World!!! \")\n",
    "res2 = s2(\" !!!Hello World!!! \")\n",
    "print(res, res2, sep='\\n')"
   ]
  },
  {
   "cell_type": "markdown",
   "id": "6b52189d",
   "metadata": {},
   "source": [
    "Также можно использовать подобные классы с объявленным методом `__call__` как декораторы"
   ]
  },
  {
   "cell_type": "code",
   "execution_count": 161,
   "id": "58c4ab07",
   "metadata": {},
   "outputs": [
    {
     "name": "stdout",
     "output_type": "stream",
     "text": [
      "Сработал декоратор\n",
      "0.7035594916891985\n"
     ]
    }
   ],
   "source": [
    "import math\n",
    "\n",
    "class Derivate:\n",
    "    def __init__(self, func):\n",
    "        self.__fn = func\n",
    " \n",
    "    def __call__(self, x, dx=0.0001, *args, **kwargs):\n",
    "        print(\"Сработал декоратор\")\n",
    "        res = (self.__fn(x + dx) - self.__fn(x)) / dx\n",
    "        return res\n",
    "    \n",
    "@Derivate\n",
    "def df_sin(x):\n",
    "    return math.sin(x)\n",
    "\n",
    "print(df_sin(math.pi/4, 0.01))"
   ]
  },
  {
   "cell_type": "markdown",
   "id": "01fed324",
   "metadata": {},
   "source": [
    "### Методы `__str__`, `__repr__`, `__len__`, `__abs__`"
   ]
  },
  {
   "cell_type": "markdown",
   "id": "72ac62f3",
   "metadata": {},
   "source": [
    "| Метод      | Назначение                                           | Когда вызывается         |\n",
    "| ---------- | ---------------------------------------------------- | ------------------------ |\n",
    "| `__str__`  | Возвращает строку для `print()` и `str(obj)`         | `str(obj)`, `print(obj)` |\n",
    "| `__repr__` | Возвращает строку, понятную интерпретатору/отладчику *(обычно используют разработчики)* | `repr(obj)`              |\n",
    "| `__len__`  | Возвращает длину объекта                             | `len(obj)`               |\n",
    "| `__abs__`  | Возвращает абсолютное значение объекта               | `abs(obj)`               |\n"
   ]
  },
  {
   "cell_type": "code",
   "execution_count": 162,
   "id": "e4fb7ace",
   "metadata": {},
   "outputs": [
    {
     "name": "stdout",
     "output_type": "stream",
     "text": [
      "Пользователь: Вячеслав\n",
      "User (<class '__main__.User'>: Вячеслав Асадчий)\n",
      "15\n",
      "Модуль\n"
     ]
    }
   ],
   "source": [
    "class User:\n",
    "    def __init__(self, name,surname):\n",
    "        self.name = name\n",
    "        self.surname = surname\n",
    "\n",
    "    def __str__(self):\n",
    "        return f\"Пользователь: {self.name}\"\n",
    "    \n",
    "    def __repr__(self):\n",
    "        return f\"User ({self.__class__}: {self.name} {self.surname})\"\n",
    "    \n",
    "    def __len__(self):\n",
    "        return len(self.name) + len(self.surname)\n",
    "    \n",
    "    def __abs__(self):\n",
    "        return \"Модуль\"\n",
    "\n",
    "u = User(\"Вячеслав\", \"Асадчий\")\n",
    "print(u) \n",
    "\n",
    "print(repr(u))\n",
    "\n",
    "print(len(u))\n",
    "\n",
    "print(abs(u))"
   ]
  },
  {
   "cell_type": "markdown",
   "id": "878a7a63",
   "metadata": {},
   "source": [
    "### Методы `__add__`, `__sub__`, `__mul__`, `__truediv__`"
   ]
  },
  {
   "cell_type": "markdown",
   "id": "68e263fd",
   "metadata": {},
   "source": [
    "| **Оператор**   | **Метод оператора**         | **Оператор** | **Метод оператора**          |\n",
    "| -------------- | --------------------------- | ------------ | ---------------------------- |\n",
    "| `x + y`        | `__add__(self, other)`      | `x += y`     | `__iadd__(self, other)`      |\n",
    "| `x - y`        | `__sub__(self, other)`      | `x -= y`     | `__isub__(self, other)`      |\n",
    "| `x * y`        | `__mul__(self, other)`      | `x *= y`     | `__imul__(self, other)`      |\n",
    "| `x / y`        | `__truediv__(self, other)`  | `x /= y`     | `__itruediv__(self, other)`  |\n",
    "| `x // y`       | `__floordiv__(self, other)` | `x //= y`    | `__ifloordiv__(self, other)` |\n",
    "| `x % y`        | `__mod__(self, other)`      | `x %= y`     | `__imod__(self, other)`      |\n",
    "| `-x`           | `__neg__(self)`             | `+x`         | `__pos__(self)`              |\n",
    "| `x ** y`       | `__pow__(self, other)`      | `x **= y`    | `__ipow__(self, other)`      |\n"
   ]
  },
  {
   "cell_type": "code",
   "execution_count": 163,
   "id": "c43dd866",
   "metadata": {},
   "outputs": [
    {
     "name": "stdout",
     "output_type": "stream",
     "text": [
      "Number(15)\n",
      "Number(15)\n",
      "Number(3.0)\n",
      "Number(75)\n",
      "Number(75)\n"
     ]
    }
   ],
   "source": [
    "class Number:\n",
    "    def __init__(self, value):\n",
    "        self.value = value\n",
    "\n",
    "    def __str__(self):\n",
    "        return f\"Number({self.value})\"\n",
    "\n",
    "    def __add__(self, other):\n",
    "        return Number(self.value + other.value)\n",
    "\n",
    "    def __iadd__(self, other):\n",
    "        self.value += other.value\n",
    "        return self\n",
    "\n",
    "    def __sub__(self, other):\n",
    "        return Number(self.value - other.value)\n",
    "\n",
    "    def __isub__(self, other):\n",
    "        self.value -= other.value\n",
    "        return self\n",
    "\n",
    "    def __mul__(self, other):\n",
    "        return Number(self.value * other.value)\n",
    "\n",
    "    def __imul__(self, other):\n",
    "        self.value *= other.value\n",
    "        return self\n",
    "\n",
    "    def __truediv__(self, other):\n",
    "        return Number(self.value / other.value)\n",
    "\n",
    "    def __itruediv__(self, other):\n",
    "        self.value /= other.value\n",
    "        return self\n",
    "\n",
    "# Использование\n",
    "a = Number(10)\n",
    "b = Number(5)\n",
    "\n",
    "print(a + b)  \n",
    "a += b\n",
    "print(a) \n",
    "\n",
    "print(a/b)\n",
    "\n",
    "print(a*b)\n",
    "\n",
    "a *= b\n",
    "print(a)\n"
   ]
  },
  {
   "cell_type": "markdown",
   "id": "3d26f49c",
   "metadata": {},
   "source": [
    "### Методы сравнений `__eq__`, `__ne__`, `__lt__`, `__gt__` и другие"
   ]
  },
  {
   "cell_type": "markdown",
   "id": "59b02b30",
   "metadata": {},
   "source": [
    "| **Оператор** | **Метод оператора**   | **Описание**     |\n",
    "| ------------ | --------------------- | ---------------- |\n",
    "| `x == y`     | `__eq__(self, other)` | Равно            |\n",
    "| `x != y`     | `__ne__(self, other)` | Не равно         |\n",
    "| `x < y`      | `__lt__(self, other)` | Меньше           |\n",
    "| `x <= y`     | `__le__(self, other)` | Меньше или равно |\n",
    "| `x > y`      | `__gt__(self, other)` | Больше           |\n",
    "| `x >= y`     | `__ge__(self, other)` | Больше или равно |\n"
   ]
  },
  {
   "cell_type": "code",
   "execution_count": 164,
   "id": "145a9d0d",
   "metadata": {},
   "outputs": [
    {
     "name": "stdout",
     "output_type": "stream",
     "text": [
      "False\n",
      "True\n",
      "False\n",
      "False\n",
      "True\n",
      "True\n"
     ]
    }
   ],
   "source": [
    "class Number:\n",
    "    def __init__(self, value):\n",
    "        self.value = value\n",
    "\n",
    "    def __repr__(self):\n",
    "        return f\"Number({self.value})\"\n",
    "\n",
    "    def __eq__(self, other):\n",
    "        return self.value == other.value\n",
    "\n",
    "    def __ne__(self, other):\n",
    "        return self.value != other.value\n",
    "\n",
    "    def __lt__(self, other):\n",
    "        return self.value < other.value\n",
    "\n",
    "    def __le__(self, other):\n",
    "        return self.value <= other.value\n",
    "\n",
    "    def __gt__(self, other):\n",
    "        return self.value > other.value\n",
    "\n",
    "    def __ge__(self, other):\n",
    "        return self.value >= other.value\n",
    "\n",
    "# Пример использования\n",
    "a = Number(10)\n",
    "b = Number(5)\n",
    "\n",
    "print(a == b)  # False\n",
    "print(a != b)  # True\n",
    "print(a < b)   # False\n",
    "print(a <= b)  # False\n",
    "print(a > b)   # True\n",
    "print(a >= b)  # True\n"
   ]
  },
  {
   "cell_type": "markdown",
   "id": "6e9190e4",
   "metadata": {},
   "source": [
    "### Методы `__eq__` и `__hash__`"
   ]
  },
  {
   "cell_type": "markdown",
   "id": "28ff73f9",
   "metadata": {},
   "source": [
    "Хэш (или хэш-значение, hash) — это уникальный числовой идентификатор, который создаётся на основе содержимого объекта.\n",
    "1. Если объекты a == b (равны), то равен и их хэш.\n",
    "2. Если равны хеши: hash(a) == hash(b), то объекты могут быть равны, но могут быть и не равны.\n",
    "3. Если хеши не равны: hash(a) != hash(b), то объекты точно не равны.\n",
    "\n",
    "С помощью функции `hash()` можно вычислить хэш для любой неизменяемой переменной"
   ]
  },
  {
   "cell_type": "code",
   "execution_count": 165,
   "id": "9fbba585",
   "metadata": {},
   "outputs": [
    {
     "name": "stdout",
     "output_type": "stream",
     "text": [
      "6100424601627280906\n",
      "Error\n"
     ]
    }
   ],
   "source": [
    "print(hash('123'))\n",
    "\n",
    "try:\n",
    "    hash([1,2,3])\n",
    "except:\n",
    "    print(\"Error\")"
   ]
  },
  {
   "cell_type": "markdown",
   "id": "a78a089f",
   "metadata": {},
   "source": [
    "При переопределении метода `__eq__` перестает работать встроенный `__hash__` для классов"
   ]
  },
  {
   "cell_type": "code",
   "execution_count": 166,
   "id": "62b389fe",
   "metadata": {},
   "outputs": [
    {
     "name": "stdout",
     "output_type": "stream",
     "text": [
      "True\n",
      "True\n",
      "{<__main__.Point object at 0x00000234D9405D30>: 2}\n"
     ]
    }
   ],
   "source": [
    "class Point:\n",
    "    def __init__(self, x, y):\n",
    "        self.x = x\n",
    "        self.y = y\n",
    "\n",
    "    def __eq__(self, other):\n",
    "        return self.x == other.x and self.y == other.y\n",
    "    \n",
    "    def __hash__(self):\n",
    "        return hash((self.x, self.y))\n",
    "    \n",
    "    \n",
    "\n",
    "p1 = Point(1, 2)\n",
    "p2 = Point(1, 2)\n",
    "print(hash(p1) == hash(p2))\n",
    "print(p1 == p2)\n",
    "\n",
    "\n",
    "d = {}\n",
    "d[p1] = 1\n",
    "d[p2] = 2\n",
    "print(d) # Теперь всего 1 точка в словаре, что говорит что точки одинаковые объекты"
   ]
  },
  {
   "cell_type": "markdown",
   "id": "4347e5aa",
   "metadata": {},
   "source": [
    "### Метод `__bool__` определения правдивости объектов"
   ]
  },
  {
   "cell_type": "markdown",
   "id": "eb2c11e2",
   "metadata": {},
   "source": [
    "Метод `__bool__` — это магический метод в Python, который определяет, какое булево значение (True или False) будет возвращено при проверке объекта в логическом контексте."
   ]
  },
  {
   "cell_type": "code",
   "execution_count": 167,
   "id": "c2ce4ce6",
   "metadata": {},
   "outputs": [
    {
     "name": "stdout",
     "output_type": "stream",
     "text": [
      "Вызван __bool__\n",
      "Точка имеет одинаковые координаты\n"
     ]
    }
   ],
   "source": [
    "class Point:\n",
    "    def __init__(self, x, y):\n",
    "        self.x = x\n",
    "        self.y = y\n",
    "\n",
    "    def __bool__(self):\n",
    "        print(\"Вызван __bool__\")\n",
    "        return self.x == self.y\n",
    "\n",
    "p = Point(2,2)\n",
    "\n",
    "if p:\n",
    "    print(\"Точка имеет одинаковые координаты\")\n",
    "else:\n",
    "    print(\"Точка имеет разные кординаты\")\n"
   ]
  },
  {
   "cell_type": "markdown",
   "id": "659a1e88",
   "metadata": {},
   "source": [
    "### Методы `__getitem__`, `__setitem__` и `__delitem__`"
   ]
  },
  {
   "cell_type": "markdown",
   "id": "345ef822",
   "metadata": {},
   "source": [
    "| Метод         | Оператор / поведение | Описание                                |\n",
    "| ------------- | -------------------- | --------------------------------------- |\n",
    "| `__getitem__` | `obj[key]`           | Получение значения по ключу или индексу |\n",
    "| `__setitem__` | `obj[key] = value`   | Присвоение значения по ключу/индексу    |\n",
    "| `__delitem__` | `del obj[key]`       | Удаление значения по ключу/индексу      |\n"
   ]
  },
  {
   "cell_type": "code",
   "execution_count": 168,
   "id": "76f81f8f",
   "metadata": {},
   "outputs": [
    {
     "name": "stdout",
     "output_type": "stream",
     "text": [
      "90\n",
      "Студент: Слава, оценки: {'Математика': 90, 'Физика': 85}\n",
      "Студент: Слава, оценки: {'Математика': 90}\n"
     ]
    }
   ],
   "source": [
    "class Student:\n",
    "    def __init__(self, name):\n",
    "        self.name = name\n",
    "        self._grades = {}\n",
    "\n",
    "    def __getitem__(self, subject):\n",
    "        return self._grades[subject]\n",
    "\n",
    "    def __setitem__(self, subject, grade):\n",
    "        if not isinstance(grade, int) or not (0 <= grade <= 100):\n",
    "            raise ValueError(\"Оценка должна быть целым числом от 0 до 100\")\n",
    "        self._grades[subject] = grade\n",
    "\n",
    "    def __delitem__(self, subject):\n",
    "        if subject in self._grades:\n",
    "            del self._grades[subject]\n",
    "\n",
    "    def __str__(self):\n",
    "        return f\"Студент: {self.name}, оценки: {self._grades}\"\n",
    "\n",
    "\n",
    "s = Student(\"Слава\")\n",
    "\n",
    "s[\"Математика\"] = 90     \n",
    "s[\"Физика\"] = 85\n",
    "\n",
    "print(s[\"Математика\"])    \n",
    "print(s)                  \n",
    "\n",
    "del s[\"Физика\"]           \n",
    "print(s)                  \n"
   ]
  },
  {
   "cell_type": "markdown",
   "id": "10a66868",
   "metadata": {},
   "source": [
    "### Методы `__iter__ и __next__`"
   ]
  },
  {
   "cell_type": "markdown",
   "id": "047b0362",
   "metadata": {},
   "source": [
    "| Метод        | Назначение                                                                                         |\n",
    "| ------------ | -------------------------------------------------------------------------------------------------- |\n",
    "| `__iter__()` | Возвращает **итератор** (обычно `self`)                                                            |\n",
    "| `__next__()` | Возвращает **следующее значение** последовательности, либо вызывает `StopIteration` для завершения |\n"
   ]
  },
  {
   "cell_type": "markdown",
   "id": "218293d0",
   "metadata": {},
   "source": [
    "Можно классом описать генератор, например range()"
   ]
  },
  {
   "cell_type": "code",
   "execution_count": 169,
   "id": "725eae96",
   "metadata": {},
   "outputs": [
    {
     "name": "stdout",
     "output_type": "stream",
     "text": [
      "1.0\n",
      "2.0\n",
      "3.0\n",
      "4.0\n",
      "1.0\n",
      "2.0\n"
     ]
    }
   ],
   "source": [
    "class FRange:\n",
    "    def __init__(self, start=0.0, stop=0.0, step=1.0):\n",
    "        self.start = start\n",
    "        self.stop = stop\n",
    "        self.step = step\n",
    "        self.value = self.start - self.step\n",
    "\n",
    "    def __iter__(self):\n",
    "        return self  \n",
    "\n",
    "    def __next__(self):\n",
    "        if self.value + self.step < self.stop:\n",
    "            self.value += self.step\n",
    "            return self.value\n",
    "        else:\n",
    "            raise StopIteration\n",
    "        \n",
    "\n",
    "for x in FRange(1.0, 5.0, 1.0):\n",
    "    print(x)\n",
    "\n",
    "a = iter(FRange(1,5))\n",
    "print(next(a))\n",
    "print(next(a))\n"
   ]
  },
  {
   "cell_type": "markdown",
   "id": "a06e16d5",
   "metadata": {},
   "source": [
    "## **Наследование и полиморфизм**"
   ]
  },
  {
   "cell_type": "markdown",
   "id": "90363216",
   "metadata": {},
   "source": [
    "### Наследование в объектно-ориентированном программировании"
   ]
  },
  {
   "cell_type": "markdown",
   "id": "128380b0",
   "metadata": {},
   "source": [
    "Наследование — это механизм объектно-ориентированного программирования, при котором один класс (дочерний, или подкласс) наследует свойства и методы другого класса (родительского, или базового)."
   ]
  },
  {
   "cell_type": "code",
   "execution_count": 170,
   "id": "a41041c1",
   "metadata": {},
   "outputs": [],
   "source": [
    "class Geom:\n",
    "    name = 'Geom'\n",
    " \n",
    "    def set_coords(self, x1, y1, x2, y2):\n",
    "        self.x1 = x1\n",
    "        self.y1 = y1\n",
    "        self.x2 = x2\n",
    "        self.y2 = y2\n",
    " \n",
    " \n",
    "class Line(Geom):\n",
    "    def draw(self):\n",
    "        print(\"Рисование линии\")\n",
    " \n",
    " \n",
    "class Rect(Geom):\n",
    "    def draw(self):\n",
    "        print(\"Рисование прямоугольника\")\n",
    "\n",
    "\n",
    "l = Line()\n",
    "r = Rect()\n",
    "l.set_coords(1, 1, 2, 2)\n",
    "r.set_coords(1, 1, 2, 2)"
   ]
  },
  {
   "cell_type": "markdown",
   "id": "ed577514",
   "metadata": {},
   "source": [
    "### Функция `issubclass()`. Наследование от встроенных типов и от object"
   ]
  },
  {
   "cell_type": "markdown",
   "id": "8e4116ac",
   "metadata": {},
   "source": [
    "Все классы в Python 3 по умолчанию наследуются от базового классы object. Однако если мы явно указываем классу родительский класс, то происходит уже косвенное наследование от класса object через родительский класс.  \n",
    "\n",
    "![Photo](https://proproprogs.ru/htm/python_oop/files/python-funkciya-issubclass-nasledovanie-ot-vstroennyh-tipov-i-ot-object.files/image002.png)"
   ]
  },
  {
   "cell_type": "markdown",
   "id": "667d2a69",
   "metadata": {},
   "source": [
    "Для проверки является ли тот или иной класс подклассом, используется функций `issubclass()`. Для сравнения экзмепляра класса используем `isinstance()`"
   ]
  },
  {
   "cell_type": "code",
   "execution_count": 171,
   "id": "355cd453",
   "metadata": {},
   "outputs": [
    {
     "name": "stdout",
     "output_type": "stream",
     "text": [
      "True\n",
      "False\n",
      "True\n",
      "True\n"
     ]
    }
   ],
   "source": [
    "print(issubclass(Line, Geom))\n",
    "\n",
    "print(issubclass(Geom, Line))\n",
    "\n",
    "print(isinstance(l, Geom))\n",
    "print(isinstance(l, Line))"
   ]
  },
  {
   "cell_type": "markdown",
   "id": "0ab7cfd8",
   "metadata": {},
   "source": [
    "### Наследование. Функция super() и делегирование"
   ]
  },
  {
   "cell_type": "markdown",
   "id": "23744b81",
   "metadata": {},
   "source": [
    "`super()` — это встроенная функция в Python, которая позволяет обратиться к родительскому классу и вызвать его методы из дочернего класса без явного указания имени родителя.\n",
    "\n",
    "Одна из причин, чтобы делегировать часть работы родительскому классу"
   ]
  },
  {
   "cell_type": "code",
   "execution_count": 172,
   "id": "ab46eb29",
   "metadata": {},
   "outputs": [],
   "source": [
    "class Geom:\n",
    "    name = 'Geom'\n",
    " \n",
    "    def __init__(self, x1, y1, x2, y2):\n",
    "        print(f\"инициализатор Geom для {self.__class__}\")\n",
    "        self.x1 = x1\n",
    "        self.y1 = y1\n",
    "        self.x2 = x2\n",
    "        self.y2 = y2\n",
    "\n",
    "class Line(Geom):   \n",
    "    def draw(self):\n",
    "        print(\"Рисование линии\")\n",
    "\n",
    "class Rect(Geom):\n",
    "    def __init__(self, x1, y1, x2, y2, fill=None):\n",
    "        super().__init__(x1,y1,x2,y2)\n",
    "        print(\"инициализатор Rect\")\n",
    "        self.fill = fill\n",
    " \n",
    "    def draw(self):\n",
    "        print(\"Рисование прямоугольника\")"
   ]
  },
  {
   "cell_type": "markdown",
   "id": "eeb473a9",
   "metadata": {},
   "source": [
    "### Наследование. Атрибуты private и protected"
   ]
  },
  {
   "cell_type": "code",
   "execution_count": 173,
   "id": "240fd599",
   "metadata": {},
   "outputs": [
    {
     "name": "stdout",
     "output_type": "stream",
     "text": [
      "инициализатор Geom для <class '__main__.Rect'>\n",
      "{'_Geom__x1': 0, '_Geom__y1': 0, '_Geom__x2': 10, '_Geom__y2': 20, '_Rect__fill': 'red'}\n"
     ]
    }
   ],
   "source": [
    "class Geom:\n",
    "    name = 'Geom'\n",
    " \n",
    "    def __init__(self, x1, y1, x2, y2):\n",
    "        print(f\"инициализатор Geom для {self.__class__}\")\n",
    "        self.__x1 = x1\n",
    "        self.__y1 = y1\n",
    "        self.__x2 = x2\n",
    "        self.__y2 = y2\n",
    " \n",
    " \n",
    "class Rect(Geom):\n",
    "    def __init__(self, x1, y1, x2, y2, fill='red'):\n",
    "        super().__init__(x1, y1, x2, y2)\n",
    "        self.__fill = fill\n",
    "\n",
    "r = Rect(0, 0, 10, 20)\n",
    "print(r.__dict__) # Получаем атрибуты которые нельзя будет использовать в Rect, так как они принадлежат базову классу"
   ]
  },
  {
   "cell_type": "markdown",
   "id": "3b13084e",
   "metadata": {},
   "source": [
    "Поэтому если атрибуты будут использоваться в дочерних классах лучше делать их protected, а не private"
   ]
  },
  {
   "cell_type": "markdown",
   "id": "4d5c8b30",
   "metadata": {},
   "source": [
    "### Полиморфизм и абстрактные методы"
   ]
  },
  {
   "cell_type": "markdown",
   "id": "9bc0aba7",
   "metadata": {},
   "source": [
    "Полиморфизм – это возможность работы с совершенно разными объектами (языка Python) единым образом."
   ]
  },
  {
   "cell_type": "code",
   "execution_count": 174,
   "id": "dc065c1d",
   "metadata": {},
   "outputs": [],
   "source": [
    "class Geom:\n",
    "    def get_pr(self):\n",
    "        return -1\n",
    "    \n",
    "class Rectangle(Geom):\n",
    "    pass\n",
    " \n",
    " \n",
    "class Square(Geom):\n",
    "    pass\n",
    " \n",
    " \n",
    "class Triangle(Geom):\n",
    "    pass"
   ]
  },
  {
   "cell_type": "code",
   "execution_count": 175,
   "id": "f9ced805",
   "metadata": {},
   "outputs": [],
   "source": [
    "class Geom:\n",
    "    def get_pr(self):\n",
    "        raise NotImplementedError(\"В дочернем классе должен быть переопределен метод get_pr()\")"
   ]
  },
  {
   "cell_type": "markdown",
   "id": "d97d1f4c",
   "metadata": {},
   "source": [
    "### Множественное наследование"
   ]
  },
  {
   "cell_type": "markdown",
   "id": "c3fd7f19",
   "metadata": {},
   "source": [
    "В языке Python допускается множественное наследование, когда один дочерний класс образуется сразу от нескольких базовых, согласно синтаксису:\n",
    "`class A(base1, base2, …, baseN):`"
   ]
  },
  {
   "cell_type": "markdown",
   "id": "6930d0c8",
   "metadata": {},
   "source": [
    "Рассмотреть пример множественного наследования можно рассмотреть на примере интернет-магазина"
   ]
  },
  {
   "cell_type": "code",
   "execution_count": 176,
   "id": "7d95178f",
   "metadata": {},
   "outputs": [
    {
     "name": "stdout",
     "output_type": "stream",
     "text": [
      "init MixinLog\n",
      "init MixinLog\n",
      "1: товар продан в 00:00 часов\n",
      "Acer, 1.5, 30000\n"
     ]
    }
   ],
   "source": [
    "# Для логирования\n",
    "class MixinLog:\n",
    "    ID = 0\n",
    " \n",
    "    def __init__(self):\n",
    "        print(\"init MixinLog\")\n",
    "        self.ID += 1\n",
    "        self.id = self.ID\n",
    " \n",
    "    def save_sell_log(self):\n",
    "        print(f\"{self.id}: товар продан в 00:00 часов\")\n",
    "\n",
    "class Goods:\n",
    "    def __init__(self, name, weight, price):\n",
    "        super().__init__() # Необходимо для вызова инициализатора MixinLog\n",
    "        print(\"init MixinLog\")\n",
    "        self.name = name\n",
    "        self.weight = weight\n",
    "        self.price = price\n",
    " \n",
    "    def print_info(self):\n",
    "        print(f\"{self.name}, {self.weight}, {self.price}\")\n",
    "\n",
    "class NoteBook(Goods, MixinLog):\n",
    "    pass\n",
    "\n",
    "n = NoteBook(\"Acer\", 1.5, 30000)\n",
    "n.save_sell_log()\n",
    "n.print_info()"
   ]
  },
  {
   "cell_type": "markdown",
   "id": "d4bf8169",
   "metadata": {},
   "source": [
    "Наследование идёт по MRO, сначала наследуются от основных класссов, но как тогда использовать метод из 2 класса например"
   ]
  },
  {
   "cell_type": "code",
   "execution_count": 177,
   "id": "8f105d38",
   "metadata": {},
   "outputs": [
    {
     "name": "stdout",
     "output_type": "stream",
     "text": [
      "init MixinLog\n",
      "Acer, 1.5, 30000\n",
      "hello\n",
      "init MixinLog\n",
      "hello\n"
     ]
    }
   ],
   "source": [
    "# Для логирования\n",
    "class MixinLog:\n",
    "    ID = 0\n",
    " \n",
    "    def __init__(self):\n",
    "        self.ID += 1\n",
    "        self.id = self.ID\n",
    " \n",
    "    def save_sell_log(self):\n",
    "        print(f\"{self.id}: товар продан в 00:00 часов\")\n",
    "\n",
    "    def print_info(self):\n",
    "        print(f\"hello\")\n",
    "\n",
    "class Goods:\n",
    "    def __init__(self, name, weight, price):\n",
    "        super().__init__() # Необходимо для вызова инициализатора MixinLog\n",
    "        print(\"init MixinLog\")\n",
    "        self.name = name\n",
    "        self.weight = weight\n",
    "        self.price = price\n",
    " \n",
    "    def print_info(self):\n",
    "        print(f\"{self.name}, {self.weight}, {self.price}\")\n",
    "\n",
    "class NoteBook(Goods, MixinLog):\n",
    "    pass\n",
    "\n",
    "n = NoteBook(\"Acer\", 1.5, 30000)\n",
    "n.print_info()\n",
    "\n",
    "MixinLog.print_info(n) # Локальный вызов из 2 класса\n",
    "\n",
    "# Если всегда нужно вызывать метод второго класса\n",
    "class NoteBook(Goods, MixinLog):\n",
    "    def print_info(self):\n",
    "        MixinLog.print_info(self)\n",
    "\n",
    "n = NoteBook(\"Acer\", 1.5, 30000)\n",
    "n.print_info()"
   ]
  },
  {
   "cell_type": "markdown",
   "id": "0ee6bf4f",
   "metadata": {},
   "source": [
    "### Коллекция `__slots__`"
   ]
  },
  {
   "cell_type": "markdown",
   "id": "7e498475",
   "metadata": {},
   "source": [
    "Чтобы у класса строго задать список локальных атрибутов мы используем коллекцию `__slots__`"
   ]
  },
  {
   "cell_type": "code",
   "execution_count": 178,
   "id": "229c1a84",
   "metadata": {},
   "outputs": [
    {
     "name": "stdout",
     "output_type": "stream",
     "text": [
      "Ошибка\n"
     ]
    }
   ],
   "source": [
    "class Point2D:\n",
    "    __slots__ = ('x', 'y')\n",
    "    MAX_COORD = 100\n",
    " \n",
    "    def __init__(self, x, y):\n",
    "        self.x = x\n",
    "        self.y = y\n",
    "\n",
    "pt = Point2D(10, 20)\n",
    "try:\n",
    "    pt.z = 5\n",
    "except:\n",
    "    print(\"Ошибка\")"
   ]
  },
  {
   "cell_type": "markdown",
   "id": "75fe1d16",
   "metadata": {},
   "source": [
    "При использовании `__slots__` доступ к локальным свойствам идёт быстрее"
   ]
  },
  {
   "cell_type": "markdown",
   "id": "508d3c55",
   "metadata": {},
   "source": [
    "### Как работает `__slots__` с property и при наследовании"
   ]
  },
  {
   "cell_type": "markdown",
   "id": "0514d033",
   "metadata": {},
   "source": [
    "`__slots__` работает с property, мы обращаемся к свойству которого нету в slots, потому что наше свойство становится атрибутом не локальным, а класса."
   ]
  },
  {
   "cell_type": "code",
   "execution_count": 179,
   "id": "203be07e",
   "metadata": {},
   "outputs": [
    {
     "name": "stdout",
     "output_type": "stream",
     "text": [
      "2.23606797749979\n"
     ]
    }
   ],
   "source": [
    "class Point2D:\n",
    "    __slots__ = ('x', 'y', '__length')\n",
    " \n",
    "    def __init__(self, x, y):\n",
    "        self.x = x\n",
    "        self.y = y\n",
    "        self.__length = (x*x + y*y) ** 0.5\n",
    "\n",
    "    @property\n",
    "    def length(self):\n",
    "        return self.__length\n",
    " \n",
    "    @length.setter\n",
    "    def length(self, value):\n",
    "        self.__length = value\n",
    "\n",
    "pt = Point2D(1, 2)\n",
    "print(pt.length)"
   ]
  },
  {
   "cell_type": "markdown",
   "id": "180ec0e1",
   "metadata": {},
   "source": [
    "При наследовании коллекция `__slots__` не наследуется, однако стоит её объявить даже пустую наследование происходит."
   ]
  },
  {
   "cell_type": "code",
   "execution_count": 180,
   "id": "86ff993e",
   "metadata": {},
   "outputs": [],
   "source": [
    "class Point3D(Point2D):\n",
    "    __slots__ = ('z',)\n",
    " \n",
    "    def __init__(self, x, y, z):\n",
    "        super().__init__(x, y)\n",
    "        self.z = z\n",
    "\n",
    "pt3 = Point3D(10, 20, 30)"
   ]
  },
  {
   "cell_type": "markdown",
   "id": "ef2cff80",
   "metadata": {},
   "source": [
    "## **Исключения и менеджеры контекста**"
   ]
  },
  {
   "cell_type": "markdown",
   "id": "d5ebe385",
   "metadata": {},
   "source": [
    "### Введение в обработку исключений. Блоки try / except"
   ]
  },
  {
   "cell_type": "markdown",
   "id": "d91ce571",
   "metadata": {},
   "source": [
    "Существует два вида искючений:  \n",
    "- исключения в момент исполнения;\n",
    "- исключения при компиляции (до исполнения кода).\n",
    " \n",
    "Мы будем отлавливать искоючения в момент исполнения благодаря try/except"
   ]
  },
  {
   "cell_type": "code",
   "execution_count": 181,
   "id": "15e2cbd7",
   "metadata": {},
   "outputs": [
    {
     "name": "stdout",
     "output_type": "stream",
     "text": [
      "Ошибка типа данных\n"
     ]
    }
   ],
   "source": [
    "try:\n",
    "    x, y = 5, '2'\n",
    "    res = x / y\n",
    "except ZeroDivisionError:\n",
    "    print(\"Делить на ноль нельзя!\")\n",
    "except TypeError:\n",
    "    print(\"Ошибка типа данных\")"
   ]
  },
  {
   "cell_type": "code",
   "execution_count": 182,
   "id": "b7927c7d",
   "metadata": {},
   "outputs": [
    {
     "name": "stdout",
     "output_type": "stream",
     "text": [
      "деление на ноль или нечисловое значение\n"
     ]
    }
   ],
   "source": [
    "try:\n",
    "    x, y = 2, 0\n",
    "    res = x / y\n",
    "except (ZeroDivisionError, ValueError):\n",
    "    res = \"деление на ноль или нечисловое значение\"\n",
    "print(res)"
   ]
  },
  {
   "cell_type": "markdown",
   "id": "37f00226",
   "metadata": {},
   "source": [
    "Если мы хотим при возникновении ошибок взаимодействовать с объектами классов исключений, то это делается так. То есть, после имени исключения ставится ключевое слово as и дальше переменная, которая будет ссылаться на объект класса ValueError, в котором хранится служебная информация о конкретной ошибке."
   ]
  },
  {
   "cell_type": "code",
   "execution_count": 183,
   "id": "899665ee",
   "metadata": {},
   "outputs": [
    {
     "name": "stdout",
     "output_type": "stream",
     "text": [
      "division by zero\n"
     ]
    }
   ],
   "source": [
    "try:\n",
    "    x, y = 2, 0\n",
    "    res = x / y\n",
    "except ZeroDivisionError as z:\n",
    "    print(z)\n",
    "except TypeError as z:\n",
    "    print(z)"
   ]
  },
  {
   "cell_type": "markdown",
   "id": "f8914e3d",
   "metadata": {},
   "source": [
    "Сначала стоит прописывать локальные исключения, потом общие. [Иерархия исключений в Python](https://docs.python.org/3/library/exceptions.html#exception-hierarchy)"
   ]
  },
  {
   "cell_type": "code",
   "execution_count": 184,
   "id": "375c2d6d",
   "metadata": {},
   "outputs": [
    {
     "name": "stdout",
     "output_type": "stream",
     "text": [
      "Делить на ноль нельзя!\n"
     ]
    }
   ],
   "source": [
    "try:\n",
    "    x, y = '2', 3\n",
    "    res = x / y\n",
    "except ValueError:\n",
    "    print(\"Ошибка типа данных\")\n",
    "except Exception:\n",
    "    print(\"Делить на ноль нельзя!\")"
   ]
  },
  {
   "cell_type": "markdown",
   "id": "033738ad",
   "metadata": {},
   "source": [
    "### Обработка исключений. Блоки finally и else"
   ]
  },
  {
   "cell_type": "markdown",
   "id": "e1d89775",
   "metadata": {},
   "source": [
    "Блок try поддерживает необязательный блок else, который выполняется при штатном выполнении кода внутри блока try, то есть, когда не произошло никаких ошибок."
   ]
  },
  {
   "cell_type": "code",
   "execution_count": 185,
   "id": "35406463",
   "metadata": {},
   "outputs": [
    {
     "name": "stdout",
     "output_type": "stream",
     "text": [
      "Исключений не произошло\n"
     ]
    }
   ],
   "source": [
    "try:\n",
    "    x, y = 1,1\n",
    "    res = x / y\n",
    "except ZeroDivisionError as z:\n",
    "    print(z)\n",
    "except ValueError as z:\n",
    "    print(z) \n",
    "else:\n",
    "    print(\"Исключений не произошло\")"
   ]
  },
  {
   "cell_type": "markdown",
   "id": "1f24afba",
   "metadata": {},
   "source": [
    "Вторым необязательным блоком является блок finally, который, наоборот, выполняется всегда после блока try, вне зависимости произошла ошибка или нет:"
   ]
  },
  {
   "cell_type": "code",
   "execution_count": 186,
   "id": "92337136",
   "metadata": {},
   "outputs": [
    {
     "name": "stdout",
     "output_type": "stream",
     "text": [
      "division by zero\n",
      "ВСЕГДА\n"
     ]
    }
   ],
   "source": [
    "try:\n",
    "    x, y = 1,0\n",
    "    res = x / y\n",
    "except ZeroDivisionError as z:\n",
    "    print(z)\n",
    "except ValueError as z:\n",
    "    print(z) \n",
    "else:\n",
    "    print(\"Исключений не произошло\")\n",
    "finally:\n",
    "    print(\"ВСЕГДА\")"
   ]
  },
  {
   "cell_type": "markdown",
   "id": "58ec1dd4",
   "metadata": {},
   "source": [
    "Блок finally работает до return, break и т.д."
   ]
  },
  {
   "cell_type": "code",
   "execution_count": 187,
   "id": "dabf8254",
   "metadata": {},
   "outputs": [
    {
     "name": "stdout",
     "output_type": "stream",
     "text": [
      "invalid literal for int() with base 10: 'f'\n",
      "finally выполняется до return\n",
      "0 0\n"
     ]
    }
   ],
   "source": [
    "def get_values():\n",
    "    try:\n",
    "        x, y = int('2'), int('f')\n",
    "        return x, y\n",
    "    except ValueError as v:\n",
    "        print(v)\n",
    "        return 0, 0\n",
    "    finally:\n",
    "        print(\"finally выполняется до return\")\n",
    " \n",
    " \n",
    "x, y = get_values()\n",
    "print(x, y)"
   ]
  },
  {
   "cell_type": "markdown",
   "id": "26e923f4",
   "metadata": {},
   "source": [
    "### Распространение исключений (propagation exceptions)"
   ]
  },
  {
   "cell_type": "markdown",
   "id": "d4129cf3",
   "metadata": {},
   "source": [
    "Когда одна функция вызывает другую, Python сохраняет информацию о каждой из них в специальной структуре — стеке вызова (call stack).\n",
    "\n",
    "Если в одной из функций произойдёт ошибка (исключение), Python пробегает вверх по стеку вызовов в поисках try-except.  \n",
    "Это и есть распространение исключения — от места ошибки до первого обработчика."
   ]
  },
  {
   "cell_type": "markdown",
   "id": "2d5670f2",
   "metadata": {},
   "source": [
    "Отлавливать такие исключения можно на любом уровне"
   ]
  },
  {
   "cell_type": "code",
   "execution_count": 188,
   "id": "54a4d90d",
   "metadata": {},
   "outputs": [
    {
     "name": "stdout",
     "output_type": "stream",
     "text": [
      "Error for func1\n"
     ]
    },
    {
     "data": {
      "text/plain": [
       "'Error for func2'"
      ]
     },
     "execution_count": 188,
     "metadata": {},
     "output_type": "execute_result"
    }
   ],
   "source": [
    "def func1():\n",
    "    return 1/0\n",
    "\n",
    "def func2():\n",
    "    try:\n",
    "        return 1/0\n",
    "    except:\n",
    "        return \"Error for func2\"\n",
    "try:\n",
    "    func1()\n",
    "except:\n",
    "    print(\"Error for func1\")\n",
    "func2()"
   ]
  },
  {
   "cell_type": "markdown",
   "id": "908b9f06",
   "metadata": {},
   "source": [
    "### Инструкция raise и пользовательские исключения"
   ]
  },
  {
   "cell_type": "markdown",
   "id": "975a5843",
   "metadata": {},
   "source": [
    "Для формирования исключений в Python используется констркуция `raise`. Мы можем вручную выкидывать встроенные исключения."
   ]
  },
  {
   "cell_type": "code",
   "execution_count": 189,
   "id": "77cc472a",
   "metadata": {},
   "outputs": [
    {
     "name": "stdout",
     "output_type": "stream",
     "text": [
      "Ошибка деления на ноль\n"
     ]
    }
   ],
   "source": [
    "try:\n",
    "    raise ZeroDivisionError(\"Ошибка деления на ноль\")\n",
    "except ZeroDivisionError as z:\n",
    "    print(z)\n",
    "\n",
    "a = ZeroDivisionError(\"Ошибка деления на ноль\")"
   ]
  },
  {
   "cell_type": "markdown",
   "id": "efda34bc",
   "metadata": {},
   "source": [
    "Если хотим своё исключение, наследуем его от класса Exception"
   ]
  },
  {
   "cell_type": "code",
   "execution_count": 190,
   "id": "74d216aa",
   "metadata": {},
   "outputs": [],
   "source": [
    "class PrintData:\n",
    "    def print(self, data):\n",
    "        self.send_data(data)\n",
    "        print(f\"печать: {str(data)}\")\n",
    " \n",
    "    def send_data(self, data):\n",
    "        if not self.send_to_print(data):\n",
    "            raise Exception(\"принтер не отвечает\")\n",
    " \n",
    "    def send_to_print(self, data):\n",
    "        return False"
   ]
  },
  {
   "cell_type": "markdown",
   "id": "faa70681",
   "metadata": {},
   "source": [
    "Но, чтобы создать польностью своё кастомное исключение нужен отдельнный класс"
   ]
  },
  {
   "cell_type": "code",
   "execution_count": 191,
   "id": "621e1095",
   "metadata": {},
   "outputs": [
    {
     "name": "stdout",
     "output_type": "stream",
     "text": [
      "Ошибка: принтер не отвечает\n"
     ]
    }
   ],
   "source": [
    "class ExceptionPrintSendData(Exception):\n",
    "    \"\"\"Класс исключения при отправке данных принтеру\"\"\"\n",
    "    def __init__(self, *args):\n",
    "        self.message = args[0] if args else None\n",
    "    def __str__(self):\n",
    "        return f\"Ошибка: {self.message}\"\n",
    "\n",
    "class PrintData:\n",
    "    def print(self, data):\n",
    "        self.send_data(data)\n",
    "        print(f\"печать: {str(data)}\")\n",
    " \n",
    "    def send_data(self, data):\n",
    "        if not self.send_to_print(data):\n",
    "            raise ExceptionPrintSendData(\"принтер не отвечает\")\n",
    " \n",
    "    def send_to_print(self, data):\n",
    "        return False\n",
    "    \n",
    "\n",
    "p = PrintData()\n",
    " \n",
    "try:\n",
    "    p.print(\"123\")\n",
    "except ExceptionPrintSendData as err:\n",
    "    print(err)"
   ]
  },
  {
   "cell_type": "markdown",
   "id": "4bd6e7da",
   "metadata": {},
   "source": [
    "У нашего собственного класса исключения может быть также своя иерархия"
   ]
  },
  {
   "cell_type": "markdown",
   "id": "481681a2",
   "metadata": {},
   "source": [
    "### Менеджеры контекстов. Оператор with"
   ]
  },
  {
   "cell_type": "code",
   "execution_count": 192,
   "id": "4511c1a1",
   "metadata": {},
   "outputs": [
    {
     "name": "stdout",
     "output_type": "stream",
     "text": [
      "[Errno 2] No such file or directory: 'myfile.txt'\n"
     ]
    }
   ],
   "source": [
    "try:\n",
    "    with open(\"myfile.txt\") as fp:\n",
    "        for t in fp:\n",
    "            print(t)\n",
    "except Exception as e:\n",
    "    print(e)"
   ]
  },
  {
   "cell_type": "markdown",
   "id": "36b0f9ce",
   "metadata": {},
   "source": [
    "Менеджер контекста – это класс, в котором реализованы два магических метода `__enter__()` и `__exit__()`. Когда происходит создание менеджера контекста с помощью оператора with, то автоматически вызывается метод класса __enter__. А когда менеджер контекста завершает свою работу (программа внутри него выполнилась или произошло исключение), то вызывается метод __exit__. \n",
    "\n",
    "Общий синтексис вызова менеджера:  \n",
    "```\n",
    "with <менеджер контекста> as <переменная>:  \n",
    "....список конструкций языка Python\n",
    "```"
   ]
  },
  {
   "cell_type": "markdown",
   "id": "d4f9966c",
   "metadata": {},
   "source": [
    "Здесь «переменная» - это ссылка на экземпляр менеджера контекста, через которую, мы потом с ним можем работать. При необходимости ее можно опустить"
   ]
  },
  {
   "cell_type": "markdown",
   "id": "5845223c",
   "metadata": {},
   "source": [
    "Можно написать свой менеджер контекста, который например менял бы массив, только в случае если изменения прошли успешно, иначе оставлял бы исходным:"
   ]
  },
  {
   "cell_type": "code",
   "execution_count": 193,
   "id": "7430fce8",
   "metadata": {},
   "outputs": [
    {
     "name": "stdout",
     "output_type": "stream",
     "text": [
      "[2, 4, 6]\n"
     ]
    }
   ],
   "source": [
    "class DefenerVector:\n",
    "    def __init__(self, v):\n",
    "        self.__v = v\n",
    " \n",
    "    def __enter__(self):\n",
    "        self.__temp = self.__v[:]  # делаем копию вектора v\n",
    "        return self.__temp\n",
    " \n",
    "    def __exit__(self, exc_type, exc_val, exc_tb):\n",
    "        if exc_type is None:\n",
    "            self.__v[:] = self.__temp\n",
    "        return False\n",
    "    \n",
    "\n",
    "v1 = [1, 2, 3]\n",
    "v2 = [1, 2,3] #Если убрать элемент, массив не будет меняться\n",
    "\n",
    "try:\n",
    "    with DefenerVector(v1) as dv:\n",
    "        for i,val in enumerate(dv):\n",
    "            dv[i] += v2[i]\n",
    "except:\n",
    "    pass\n",
    "\n",
    "print(v1)"
   ]
  },
  {
   "cell_type": "markdown",
   "id": "32135476",
   "metadata": {},
   "source": [
    "## **Метаклассы, вложенные классы, Data Classes**"
   ]
  },
  {
   "cell_type": "markdown",
   "id": "6d7f47e9",
   "metadata": {},
   "source": [
    "### Вложенные классы"
   ]
  },
  {
   "cell_type": "markdown",
   "id": "9729d56a",
   "metadata": {},
   "source": [
    "Вложенные классы это когда один класс вложен внутри другого.   \n",
    "\n",
    "Зачем нужны вложенные классы?\n",
    "1. Инкапсуляция — скрытие внутренней логики от внешнего мира.\n",
    "\n",
    "2. Логическая группировка — если один класс служит только для другого.\n",
    "\n",
    "3. Изоляция области видимости — вложенный класс не \"засоряет\" глобальное пространство имён."
   ]
  },
  {
   "cell_type": "code",
   "execution_count": 194,
   "id": "b1f31933",
   "metadata": {},
   "outputs": [
    {
     "name": "stdout",
     "output_type": "stream",
     "text": [
      "Laptop: Lenovo\n",
      "Battery capacity: 56 Wh\n"
     ]
    }
   ],
   "source": [
    "class Laptop:\n",
    "    def __init__(self, brand, capacity):\n",
    "        self.brand = brand\n",
    "        self.battery = self.Battery(capacity)\n",
    "\n",
    "    def show_specs(self):\n",
    "        print(f\"Laptop: {self.brand}\")\n",
    "        self.battery.show_capacity()\n",
    "\n",
    "    class Battery:\n",
    "        def __init__(self, capacity):\n",
    "            self.capacity = capacity\n",
    "\n",
    "        def show_capacity(self):\n",
    "            print(f\"Battery capacity: {self.capacity} Wh\")\n",
    "\n",
    "\n",
    "laptop = Laptop(\"Lenovo\", 56)\n",
    "laptop.show_specs()\n"
   ]
  },
  {
   "cell_type": "markdown",
   "id": "8b6886d2",
   "metadata": {},
   "source": [
    "### Метаклассы. Объект type"
   ]
  },
  {
   "cell_type": "markdown",
   "id": "054a26e0",
   "metadata": {},
   "source": [
    "Метаклассы — это классы для создания других классов.  \n",
    "Просто: как экземпляры создаются из классов, так и классы создаются из метаклассов.\n",
    "\n",
    "Когда мы создаем класс, Python под капотом делает:\n",
    "```\n",
    "MyClass = type(\"MyClass\", (), {...})\n",
    "```\n",
    "То есть type — это метакласс, который создаёт новый класс."
   ]
  },
  {
   "cell_type": "code",
   "execution_count": 195,
   "id": "58ae34f5",
   "metadata": {},
   "outputs": [
    {
     "name": "stdout",
     "output_type": "stream",
     "text": [
      "123\n"
     ]
    }
   ],
   "source": [
    "MyClass = type(\n",
    "    \"MyClass\",         # имя класса\n",
    "    (),                # кортеж с базовыми классами\n",
    "    {\"attr\": 123}      # словарь с атрибутами и методами\n",
    ")\n",
    "\n",
    "obj = MyClass()\n",
    "print(obj.attr)\n"
   ]
  },
  {
   "cell_type": "markdown",
   "id": "73b5f19b",
   "metadata": {},
   "source": [
    "### Пользовательские метаклассы. Параметр metaclass"
   ]
  },
  {
   "cell_type": "markdown",
   "id": "d7daf4bd",
   "metadata": {},
   "source": [
    "По мимо создания метакласса через `type()`, можно воспользоваться отдельным классом. Далее метакласс можно применить к классу через параметр metaclass."
   ]
  },
  {
   "cell_type": "code",
   "execution_count": 196,
   "id": "af71e519",
   "metadata": {},
   "outputs": [
    {
     "name": "stdout",
     "output_type": "stream",
     "text": [
      "Создание класса MyClass\n",
      "True\n"
     ]
    }
   ],
   "source": [
    "class MyMeta(type):\n",
    "    def __new__(cls, name, bases, attrs):\n",
    "        print(f\"Создание класса {name}\")\n",
    "        attrs[\"created_by_meta\"] = True\n",
    "        return super().__new__(cls, name, bases, attrs)\n",
    "    \n",
    "    \n",
    "class MyClass(metaclass=MyMeta):\n",
    "    pass\n",
    "\n",
    "print(MyClass.created_by_meta)"
   ]
  },
  {
   "cell_type": "markdown",
   "id": "921812d7",
   "metadata": {},
   "source": [
    "Метаклассы — мощный и мега сложный инструмент:\n",
    "\n",
    "- Автоматически регистрировать все классы (например, плагины)\n",
    "\n",
    "- Валидировать структуру классов при их создании\n",
    "\n",
    "- Добавлять/менять методы и атрибуты в момент создания класса\n",
    "\n",
    "- Реализовать ORM, сериализацию, dependency injection и т.д."
   ]
  },
  {
   "cell_type": "markdown",
   "id": "d67b9c6e",
   "metadata": {},
   "source": [
    "### Введение в Python Data Classes"
   ]
  },
  {
   "cell_type": "markdown",
   "id": "d096e3a4",
   "metadata": {},
   "source": [
    "`dataclass` — это специальный декоратор в Python (с версии 3.7), который автоматически генерирует методы класса, такие как: `__init__()` `__repr__()` `__eq__()` и другие на основе описанных атрибутов."
   ]
  },
  {
   "cell_type": "code",
   "execution_count": 197,
   "id": "72f8ea3e",
   "metadata": {},
   "outputs": [
    {
     "name": "stdout",
     "output_type": "stream",
     "text": [
      "ThingData(name='Учебник по Python', weight=100, price=1024)\n",
      "True\n"
     ]
    }
   ],
   "source": [
    "from dataclasses import dataclass, field\n",
    "from pprint import pprint # Для отображений данных из коллекций\n",
    "\n",
    "@dataclass\n",
    "class ThingData:\n",
    "    name: str\n",
    "    weight: int\n",
    "    price: float\n",
    "\n",
    "# pprint(ThingData.__dict__)\n",
    "td = ThingData(\"Учебник по Python\", 100, 1024)\n",
    "print(td)\n",
    "\n",
    "td_2 = ThingData(\"Python ООП\", 80, 512)\n",
    "td_3 = ThingData(\"Python ООП\", 80, 512)\n",
    "print(td_2 == td_3)\n",
    "\n",
    "@dataclass\n",
    "class ThingData:\n",
    "    name: str\n",
    "    weight: int\n",
    "    price: float = 0\n",
    "    dims: list = field(default_factory=list) # Чтобы по умолчанию задать значение изменяемый тип данных"
   ]
  },
  {
   "cell_type": "markdown",
   "id": "8f1b1c71",
   "metadata": {},
   "source": [
    "Для вычисляемых атрибутов используем `__post_init__()`"
   ]
  },
  {
   "cell_type": "code",
   "execution_count": 198,
   "id": "c09f7571",
   "metadata": {},
   "outputs": [
    {
     "name": "stdout",
     "output_type": "stream",
     "text": [
      "V3D(x=1, y=2, z=3, length=3.7416573867739413)\n"
     ]
    }
   ],
   "source": [
    "class Vector3D:\n",
    "    def __init__(self, x: int, y: int, z: int):\n",
    "        self.x = x\n",
    "        self.y = y\n",
    "        self.z = z\n",
    "        self.length = (x * x + y * y + z * z) ** 0.5\n",
    "\n",
    "\n",
    "@dataclass\n",
    "class V3D:\n",
    "    x: int\n",
    "    y: int\n",
    "    z: int\n",
    "    length: float = field(init=False) # чтобы __repr__ воводил\n",
    " \n",
    "    def __post_init__(self):\n",
    "        self.length = (self.x * self.x + self.y * self.y + self.z * self.z) ** 0.5\n",
    "\n",
    "v = V3D(1, 2, 3)\n",
    "print(v) "
   ]
  },
  {
   "cell_type": "markdown",
   "id": "7ea7a9f6",
   "metadata": {},
   "source": [
    "**Функция field**\n",
    "\n",
    "Функция field() предоставляет богатый функционал по управлению объявляемых атрибутов в Data Classes.\n",
    "\n",
    "Документация - https://docs.python.org/3/library/dataclasses.html"
   ]
  },
  {
   "cell_type": "markdown",
   "id": "28abad59",
   "metadata": {},
   "source": [
    "Параметры декоратора @dataclass\n",
    "| Параметр         | Описание                                                               | Значение по умолчанию |\n",
    "| ---------------- | ---------------------------------------------------------------------- | --------------------- |\n",
    "| `init`           | Генерировать метод `__init__`                                          | `True`                |\n",
    "| `repr`           | Генерировать метод `__repr__`                                          | `True`                |\n",
    "| `eq`             | Генерировать метод `__eq__`                                            | `True`                |\n",
    "| `order`          | Генерировать методы сравнения (`<`, `<=`, `>`, `>=`)                   | `False`               |\n",
    "| `frozen`         | Делает экземпляры **неизменяемыми** (как `namedtuple`)                 | `False`               |\n",
    "| `unsafe_hash`    | Явно сгенерировать `__hash__`, даже если `frozen=False` и `eq=True`    | `False`               |\n"
   ]
  },
  {
   "cell_type": "markdown",
   "id": "ecba7889",
   "metadata": {},
   "source": [
    "### Python Data Classes при наследовании"
   ]
  },
  {
   "cell_type": "markdown",
   "id": "109f11a4",
   "metadata": {},
   "source": [
    "При наследовании уникальные атрибуты оказываются в конце"
   ]
  },
  {
   "cell_type": "code",
   "execution_count": 199,
   "id": "9d383814",
   "metadata": {},
   "outputs": [
    {
     "name": "stdout",
     "output_type": "stream",
     "text": [
      "Book(uid=1, price=0, weight=0, title='', author='')\n"
     ]
    }
   ],
   "source": [
    "from dataclasses import dataclass, field, InitVar\n",
    "from typing import Any\n",
    " \n",
    " \n",
    "@dataclass\n",
    "class Goods:\n",
    "    uid: Any\n",
    "    price: Any = None\n",
    "    weight: Any = None\n",
    "\n",
    "@dataclass\n",
    "class Book(Goods):\n",
    "    title: str = \"\"\n",
    "    author: str = \"\"\n",
    "    price: float = 0\n",
    "    weight: int | float = 0\n",
    "\n",
    "b = Book(1)\n",
    "print(b)"
   ]
  },
  {
   "cell_type": "markdown",
   "id": "a9497018",
   "metadata": {},
   "source": [
    "Функция `__post_init__()` при наследовании"
   ]
  },
  {
   "cell_type": "code",
   "execution_count": 200,
   "id": "dc34424b",
   "metadata": {},
   "outputs": [
    {
     "name": "stdout",
     "output_type": "stream",
     "text": [
      "Goods: post_init\n",
      "Book: post_init\n",
      "Goods: post_init\n",
      "Book: post_init\n",
      "Book(uid=1, price=1000, weight=100, title='Python ООП', author='z')\n",
      "Book(uid=2, price=0, weight=0, title='', author='')\n"
     ]
    }
   ],
   "source": [
    "@dataclass\n",
    "class Goods:\n",
    "    current_uid = 0\n",
    " \n",
    "    uid: int = field(init=False)\n",
    "    price: Any = None\n",
    "    weight: Any = None\n",
    " \n",
    "    def __post_init__(self):\n",
    "        print(\"Goods: post_init\")\n",
    "        Goods.current_uid += 1\n",
    "        self.uid = Goods.current_uid\n",
    "\n",
    "@dataclass\n",
    "class Book(Goods):\n",
    "    title: str = \"\"\n",
    "    author: str = \"\"\n",
    "    price: float = 0\n",
    "    weight: int | float = 0\n",
    " \n",
    "    def __post_init__(self):\n",
    "        super().__post_init__()\n",
    "        print(\"Book: post_init\")\n",
    "\n",
    "b = Book(1000, 100, \"Python ООП\", \"z\")\n",
    "b1 = Book()\n",
    "print(b)\n",
    "print(b1)"
   ]
  },
  {
   "cell_type": "markdown",
   "id": "aa027651",
   "metadata": {},
   "source": [
    "Пользовательские методы в параметре default_factory функции field"
   ]
  },
  {
   "cell_type": "markdown",
   "id": "632c928c",
   "metadata": {},
   "source": [
    "Использовать метод внутри класса Book не получится, так как он до конца не объявлен при инициализации переменной с default_factory"
   ]
  },
  {
   "cell_type": "code",
   "execution_count": 201,
   "id": "8608445c",
   "metadata": {},
   "outputs": [],
   "source": [
    "class GoodsMethodsFactory:\n",
    "    @staticmethod\n",
    "    def get_init_measure():\n",
    "        return [0, 0, 0]\n",
    "\n",
    "@dataclass\n",
    "class Book(Goods):\n",
    "    title: str = \"\"\n",
    "    author: str = \"\"\n",
    "    price: float = 0\n",
    "    weight: int | float = 0\n",
    "    measure: list = field(default_factory=GoodsMethodsFactory.get_init_measure)\n",
    " \n",
    "    def __post_init__(self):\n",
    "        super().__post_init__()\n",
    "        print(\"Book: post_init\")"
   ]
  },
  {
   "cell_type": "markdown",
   "id": "6f174da8",
   "metadata": {},
   "source": [
    "Существует метод для создания data class - `make_dataclass()`\n",
    "\n",
    "```\n",
    "dataclasses.make_dataclass(cls_name, fields, *, bases=(), namespace=None, init=True, repr=True, eq=True, order=False, unsafe_hash=False, frozen=False, match_args=True, kw_only=False, slots=False, weakref_slot=False)\n",
    "```"
   ]
  },
  {
   "cell_type": "code",
   "execution_count": 202,
   "id": "d414774d",
   "metadata": {},
   "outputs": [],
   "source": [
    "from dataclasses import make_dataclass\n",
    "\n",
    "class Car:\n",
    "    def __init__(self, model, max_speed, price):\n",
    "        self.model = model\n",
    "        self.max_speed = max_speed\n",
    "        self.price = price\n",
    " \n",
    "    def get_max_speed(self):\n",
    "        return self.max_speed\n",
    "    \n",
    "# Создам такой же класс\n",
    "\n",
    "CarData = make_dataclass(\"CarData\", [(\"model\", str),\n",
    "                                     \"max_speed\",\n",
    "                                     (\"price\", float, field(default=0))],\n",
    "                         namespace={'get_max_speed': lambda self: self.max_speed})"
   ]
  }
 ],
 "metadata": {
  "kernelspec": {
   "display_name": "Python 3",
   "language": "python",
   "name": "python3"
  },
  "language_info": {
   "codemirror_mode": {
    "name": "ipython",
    "version": 3
   },
   "file_extension": ".py",
   "mimetype": "text/x-python",
   "name": "python",
   "nbconvert_exporter": "python",
   "pygments_lexer": "ipython3",
   "version": "3.13.4"
  }
 },
 "nbformat": 4,
 "nbformat_minor": 5
}
