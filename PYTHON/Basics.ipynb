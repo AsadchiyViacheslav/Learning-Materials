{
 "cells": [
  {
   "cell_type": "markdown",
   "id": "4692a348",
   "metadata": {},
   "source": [
    "# Основы Python: Переменные, типы и операции"
   ]
  },
  {
   "cell_type": "markdown",
   "id": "66302cf0",
   "metadata": {},
   "source": [
    "## Переменные"
   ]
  },
  {
   "cell_type": "markdown",
   "id": "e8ed29a3",
   "metadata": {},
   "source": [
    "Переменная - ссылка на объект в памяти (создается с помощью оператора присваивания = )"
   ]
  },
  {
   "cell_type": "markdown",
   "id": "1aa3647a",
   "metadata": {},
   "source": [
    "Имена переменных:\n",
    "- Имена следует называть существительным\n",
    "- Имена должны быть осмысленными и отражать суть данных\n",
    "- Допустимые символы в именах: первый символ - любая буква латинского алфавита и символ _. В качестве последующих символов еще цифры 0-9."
   ]
  },
  {
   "cell_type": "markdown",
   "id": "2e01705f",
   "metadata": {},
   "source": [
    "У python **динамическая** типизация"
   ]
  },
  {
   "cell_type": "code",
   "execution_count": 70,
   "id": "e1860de1",
   "metadata": {},
   "outputs": [],
   "source": [
    "var1 = 7 # целое число\n",
    "var2 = 6.8 # вещественное число\n",
    "var3 = 'String' # строка\n",
    "var4 = True # логическая переменная\n",
    "var5 = 3 + 4j # комплексное число\n",
    "var6 = None # NoneType пустое значение\n",
    "\n",
    "# Также есть неизменяемые байтовые типы переменных"
   ]
  },
  {
   "cell_type": "markdown",
   "id": "6b193ffe",
   "metadata": {},
   "source": [
    "Каскадное (множественное) присваивание"
   ]
  },
  {
   "cell_type": "code",
   "execution_count": 71,
   "id": "b9becfaa",
   "metadata": {},
   "outputs": [],
   "source": [
    "a = b = c = d = e = f = 'hello world!'"
   ]
  },
  {
   "cell_type": "markdown",
   "id": "3e24eef7",
   "metadata": {},
   "source": [
    "Функция `id()` - возвращает идентификатор объекта на который ссылается переменная"
   ]
  },
  {
   "cell_type": "code",
   "execution_count": 72,
   "id": "22ee85ef",
   "metadata": {},
   "outputs": [
    {
     "name": "stdout",
     "output_type": "stream",
     "text": [
      "140703148819560\n",
      "-----------------\n",
      "2323589846192\n",
      "-----------------\n",
      "2323589846192\n"
     ]
    }
   ],
   "source": [
    "print(id(var1))\n",
    "print('-----------------')\n",
    "print(id(a))\n",
    "print('-----------------')\n",
    "print(id(b))"
   ]
  },
  {
   "cell_type": "markdown",
   "id": "a4befb73",
   "metadata": {},
   "source": [
    "Переприсваивание - меняем значение переменных между собой"
   ]
  },
  {
   "cell_type": "code",
   "execution_count": 73,
   "id": "e4ec4837",
   "metadata": {},
   "outputs": [],
   "source": [
    "var1, var2 = var2, var1"
   ]
  },
  {
   "cell_type": "markdown",
   "id": "41bc0c26",
   "metadata": {},
   "source": [
    "Функция `type()` - возвращает тип данных переменной"
   ]
  },
  {
   "cell_type": "code",
   "execution_count": 74,
   "id": "9fc23047",
   "metadata": {},
   "outputs": [
    {
     "name": "stdout",
     "output_type": "stream",
     "text": [
      "<class 'int'>\n",
      "<class 'float'>\n",
      "<class 'bool'>\n"
     ]
    }
   ],
   "source": [
    "print(type(1))\n",
    "print(type(1.25))\n",
    "print(type(True))"
   ]
  },
  {
   "cell_type": "markdown",
   "id": "ba590c6c",
   "metadata": {},
   "source": [
    "Существуют изменяемые (mutable) и неизменяемые (immutable) объекты в Python:\n",
    "\n",
    "* Изменяемые объекты можно изменить после их создания — не меняя их id() (то есть, не создавая новый объект в памяти).\n",
    "\n",
    "* Неизменяемые объекты нельзя изменить после создания. Любое \"изменение\" создаёт новый объект в памяти.\n",
    "\n",
    "```int, float, str, bool``` - неизменяемые\n",
    "\n",
    "*Изменяемые объекты можно модифицировать внутри функции, и изменения сохранятся.*"
   ]
  },
  {
   "cell_type": "markdown",
   "id": "6e95c5c0",
   "metadata": {},
   "source": [
    "## Арифмитические операции"
   ]
  },
  {
   "cell_type": "markdown",
   "id": "4027424d",
   "metadata": {},
   "source": [
    "| Оператор |       Описание      | Приоритет |\n",
    "|:------------------:|:-------------------:|:-------------------:|\n",
    "|         `+`         | Сложение | 2 | \n",
    "|         `-`         |       Вычитание      | 2 | \n",
    "|         `*`         |       Умножение       | 3 | \n",
    "|         `/, //`         |   Деление  | 3 | \n",
    "|         `%`         |    Остаток от деления   | 3 | \n",
    "|         `**`         |    Возведение в степень   | 4 | "
   ]
  },
  {
   "cell_type": "markdown",
   "id": "8eb6837b",
   "metadata": {},
   "source": [
    "При сложении двух объектов создается третий объект и удаляются два предыдущих, что не совсем эффективнно"
   ]
  },
  {
   "cell_type": "code",
   "execution_count": 75,
   "id": "6877ee98",
   "metadata": {},
   "outputs": [
    {
     "name": "stdout",
     "output_type": "stream",
     "text": [
      "4\n",
      "4.0\n",
      "-----------------\n",
      "3.0\n",
      "2\n",
      "-3\n",
      "-----------------\n",
      "4\n",
      "1\n",
      "-1\n",
      "-4\n",
      "-----------------\n",
      "8\n",
      "512\n",
      "3.0\n"
     ]
    }
   ],
   "source": [
    "print(1 + 3)\n",
    "print(1 + 3.0)\n",
    "\n",
    "print('-----------------')\n",
    "\n",
    "print(6 / 2)\n",
    "print(7 // 3)\n",
    "print(-7 // 3) # округление к наименьшему целому, а не отбрасывание дробной части !!!\n",
    "\n",
    "print('-----------------')\n",
    "\n",
    "# a % b == a - (a // b) * b \n",
    "print(9 % 5)\n",
    "print(-9 % 5) # разность между наименьшим кратным и нашим числом - поэтому 1 !!!\n",
    "print(9 % -5) # тут получаем не 10 - 9, а не 9 - 5, берем кратное которое превышает наше число\n",
    "print(-9 % -5)\n",
    "\n",
    "print('-----------------')\n",
    "\n",
    "print(2 ** 3)\n",
    "print(2 ** 3 ** 2) # справа налево получаем 2^9\n",
    "print(27 ** (1/3)) # сначала степень потом деление, поэтому ставим скобки"
   ]
  },
  {
   "cell_type": "markdown",
   "id": "22db9380",
   "metadata": {},
   "source": [
    "Сокращенные формулы операций"
   ]
  },
  {
   "cell_type": "code",
   "execution_count": 76,
   "id": "332ecf38",
   "metadata": {},
   "outputs": [],
   "source": [
    "var = 1\n",
    "var += 1\n",
    "var -= 1\n",
    "var *= 10\n",
    "var /= 10\n",
    "\n",
    "# так работает с любыми операциями"
   ]
  },
  {
   "cell_type": "markdown",
   "id": "e981f337",
   "metadata": {},
   "source": [
    "## Модуль Math"
   ]
  },
  {
   "cell_type": "markdown",
   "id": "7ea0e6f4",
   "metadata": {},
   "source": [
    "| Функция               | Назначение                                     |\n",
    "| --------------------- | ---------------------------------------------- |\n",
    "| `abs(x)`              | Модуль числа                                   |\n",
    "| `min(iterable)`       | Минимум из последовательности                  |\n",
    "| `max(iterable)`       | Максимум из последовательности                 |\n",
    "| `pow(x, y)`           | Возведение в степень (эквивалент `x ** y`)     |\n",
    "| `round(x[, ndigits])` | Округление (до `ndigits` знаков после запятой) |\n",
    "| `math.ceil(x)`        | Округление **вверх**                           |\n",
    "| `math.floor(x)`       | Округление **вниз**                            |\n"
   ]
  },
  {
   "cell_type": "code",
   "execution_count": 77,
   "id": "e2954629",
   "metadata": {},
   "outputs": [
    {
     "name": "stdout",
     "output_type": "stream",
     "text": [
      "10\n",
      "0\n",
      "2\n",
      "-----------------\n",
      "10.55\n",
      "10.0\n"
     ]
    }
   ],
   "source": [
    "print(round(10.5))\n",
    "print(round(0.5))\n",
    "print(round(1.5)) # неопределенность кратные .5 округляются к ближайшему чётному\n",
    "\n",
    "print('-----------------')\n",
    "\n",
    "print(round(10.5461461, 2))\n",
    "print(round(10.5461461, -1))"
   ]
  },
  {
   "cell_type": "markdown",
   "id": "5b7567e1",
   "metadata": {},
   "source": [
    "Библиотека math содержит мат. функции и полезные инструменты"
   ]
  },
  {
   "cell_type": "code",
   "execution_count": 78,
   "id": "0c65cfe5",
   "metadata": {},
   "outputs": [],
   "source": [
    "import math"
   ]
  },
  {
   "cell_type": "code",
   "execution_count": 79,
   "id": "96666592",
   "metadata": {},
   "outputs": [
    {
     "name": "stdout",
     "output_type": "stream",
     "text": [
      "6\n",
      "5\n"
     ]
    }
   ],
   "source": [
    "print(math.ceil(5.2))\n",
    "print(math.floor(5.2))"
   ]
  },
  {
   "cell_type": "markdown",
   "id": "d7a2e04b",
   "metadata": {},
   "source": [
    "`factorial()` - вычисление факториала  \n",
    "`log10, log2, log` - логарифмы  \n",
    "`sqrt()` - квадратный корень  "
   ]
  },
  {
   "cell_type": "code",
   "execution_count": 80,
   "id": "11e80b78",
   "metadata": {},
   "outputs": [
    {
     "name": "stdout",
     "output_type": "stream",
     "text": [
      "120\n",
      "2.0\n",
      "3.0\n",
      "3.0\n"
     ]
    }
   ],
   "source": [
    "print(math.factorial(5))\n",
    "print(math.log2(4))\n",
    "print(math.log10(1000))\n",
    "print(math.log(27,3))"
   ]
  },
  {
   "cell_type": "markdown",
   "id": "53fc591b",
   "metadata": {},
   "source": [
    "Математические константы и тригономитрические функции"
   ]
  },
  {
   "cell_type": "code",
   "execution_count": 81,
   "id": "c2193ea5",
   "metadata": {},
   "outputs": [
    {
     "name": "stdout",
     "output_type": "stream",
     "text": [
      "3.141592653589793\n",
      "2.718281828459045\n",
      "-----------------\n",
      "0.9999996829318346\n",
      "1.0\n",
      "0.9999999999999999\n",
      "-----------------\n",
      "1.0\n"
     ]
    }
   ],
   "source": [
    "print(math.pi)\n",
    "print(math.e)\n",
    "\n",
    "print('-----------------')\n",
    "\n",
    "print(math.sin(3.14/2))\n",
    "print(math.cos(0))\n",
    "print(math.tan(math.pi / 4))\n",
    "\n",
    "print('-----------------')\n",
    "\n",
    "degrees = 90\n",
    "radians = math.radians(degrees)\n",
    "print(math.sin(radians))"
   ]
  },
  {
   "cell_type": "markdown",
   "id": "8c62a3d3",
   "metadata": {},
   "source": [
    "| Функция              | Назначение                                      |\n",
    "| -------------------- | ----------------------------------------------- |\n",
    "| `math.fabs(x)`       | Модуль (только для чисел с плавающей точкой)    |\n",
    "| `math.trunc(x)`      | Усечение дробной части (не округление!)         |\n",
    "| `math.factorial(n)`  | Факториал числа                                 |\n",
    "| `math.gcd(a, b)`     | Наибольший общий делитель                       |\n",
    "| `math.lcm(a, b)`     | Наименьшее общее кратное (Python 3.9+)          |\n",
    "| `math.isclose(a, b)` | Проверка чисел на близость с учётом погрешности |\n"
   ]
  },
  {
   "cell_type": "markdown",
   "id": "1d39c967",
   "metadata": {},
   "source": [
    "## Функции print(), input(). Преобразование int(), float()."
   ]
  },
  {
   "cell_type": "markdown",
   "id": "f3fe6b62",
   "metadata": {},
   "source": [
    "Функция `print()` - вывод в консоль (stdout)"
   ]
  },
  {
   "cell_type": "code",
   "execution_count": 82,
   "id": "a495ba71",
   "metadata": {},
   "outputs": [
    {
     "name": "stdout",
     "output_type": "stream",
     "text": [
      "hello 5\n",
      "1/2/3/4/5 --- check\n",
      "var = hello\n",
      "var = hello\n",
      "Name: slava, Age: 10\n",
      "Name: slava, Age: 10\n",
      "3.14150\n",
      "     3.142\n",
      "3.14\n"
     ]
    }
   ],
   "source": [
    "var = 'hello'\n",
    "print(var, 5)\n",
    "\n",
    "# sep - разделитель, end - конец\n",
    "print(1,2,3,4,5, sep='/', end = ' --- ')\n",
    "print('check')\n",
    "\n",
    "# Использовать f-строки\n",
    "print(f\"var = {var}\")\n",
    "print(\"var =\", var)\n",
    "\n",
    "# Форматирование .format() и % устарвешее\n",
    "print(\"Name: {}, Age: {}\".format('slava', 10))\n",
    "print(\"Name: %s, Age: %d\" % ('slava', 10))\n",
    "\n",
    "# Округление и выравнивание через f-строку\n",
    "pi = 3.1415\n",
    "print(f\"{pi:.5f}\")\n",
    "print(f\"{pi:>10.3f}\")   \n",
    "\n",
    "# Округление и выравнивание через format\n",
    "print(\"{:.2f}\".format(pi))  "
   ]
  },
  {
   "cell_type": "markdown",
   "id": "7d29a198",
   "metadata": {},
   "source": [
    "Функция `input()` - ввод с консоли (stdin)"
   ]
  },
  {
   "cell_type": "code",
   "execution_count": 83,
   "id": "235ca0bb",
   "metadata": {},
   "outputs": [],
   "source": [
    "# a = input('Ввод строки')  \n",
    "# b = int(input('Ввод целого числа'))  \n",
    "# b = float(input('Ввод вещественного числа'))  \n",
    "\n",
    "# str1, str2 = input('Ввод двух строк').split()  \n",
    "# var1, var2 = map(int, input('Ввод двух чисел').split())  "
   ]
  },
  {
   "cell_type": "markdown",
   "id": "450cb6ee",
   "metadata": {},
   "source": [
    "## Логические операции"
   ]
  },
  {
   "cell_type": "code",
   "execution_count": 84,
   "id": "72f847e7",
   "metadata": {},
   "outputs": [
    {
     "name": "stdout",
     "output_type": "stream",
     "text": [
      "True\n",
      "True\n",
      "False\n",
      "False\n",
      "True\n",
      "False\n"
     ]
    }
   ],
   "source": [
    "print(4 > 2)\n",
    "print(4 >= 2)\n",
    "print(4 < 2)\n",
    "print(4 <= 2)\n",
    "print(5 == 5)\n",
    "print(5 != 5)"
   ]
  },
  {
   "cell_type": "markdown",
   "id": "b964dd5c",
   "metadata": {},
   "source": [
    "Операторы and, or, not"
   ]
  },
  {
   "cell_type": "code",
   "execution_count": 85,
   "id": "e83f406a",
   "metadata": {},
   "outputs": [
    {
     "name": "stdout",
     "output_type": "stream",
     "text": [
      "True\n",
      "False\n"
     ]
    }
   ],
   "source": [
    "print(2 > 5 or 6 % 2 == 0)\n",
    "\n",
    "print(not(2 < 5)) #not имеет самый высокий приоритет"
   ]
  },
  {
   "cell_type": "markdown",
   "id": "899c20e2",
   "metadata": {},
   "source": [
    "Функция `bool()` проверяет на пустоту и нулевые значения"
   ]
  },
  {
   "cell_type": "code",
   "execution_count": 86,
   "id": "d05407b6",
   "metadata": {},
   "outputs": [
    {
     "name": "stdout",
     "output_type": "stream",
     "text": [
      "True\n",
      "False\n",
      "True\n",
      "False\n"
     ]
    }
   ],
   "source": [
    "print(bool(213))\n",
    "print(bool(0))\n",
    "\n",
    "print(bool('fd'))\n",
    "print(bool(''))"
   ]
  }
 ],
 "metadata": {
  "kernelspec": {
   "display_name": "Python 3",
   "language": "python",
   "name": "python3"
  },
  "language_info": {
   "codemirror_mode": {
    "name": "ipython",
    "version": 3
   },
   "file_extension": ".py",
   "mimetype": "text/x-python",
   "name": "python",
   "nbconvert_exporter": "python",
   "pygments_lexer": "ipython3",
   "version": "3.13.4"
  }
 },
 "nbformat": 4,
 "nbformat_minor": 5
}
