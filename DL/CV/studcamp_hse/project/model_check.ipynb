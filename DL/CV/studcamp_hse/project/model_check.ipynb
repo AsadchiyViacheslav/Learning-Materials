{
 "cells": [
  {
   "cell_type": "code",
   "execution_count": null,
   "id": "f878c458",
   "metadata": {},
   "outputs": [
    {
     "name": "stdout",
     "output_type": "stream",
     "text": [
      "Predicted class: 0\n",
      "Raw output scores: [[ 5.3521585 -3.0202417 -3.8782444]]\n"
     ]
    }
   ],
   "source": [
    "import onnxruntime as ort\n",
    "import numpy as np\n",
    "from PIL import Image\n",
    "import os\n",
    "\n",
    "ONNX_PATH = \"models/mobilenetv3_small_best.onnx\"  \n",
    "IMG_PATH = \"image/present.jpeg\"                        \n",
    "\n",
    "IMG_SIZE = 224\n",
    "NUM_CLASSES = 3\n",
    "\n",
    "session = ort.InferenceSession(ONNX_PATH)\n",
    "\n",
    "input_name = session.get_inputs()[0].name\n",
    "output_name = session.get_outputs()[0].name\n",
    "\n",
    "def preprocess_image(img_path, img_size=IMG_SIZE):\n",
    "    img = Image.open(img_path).convert(\"RGB\")\n",
    "    img = img.resize((img_size, img_size))\n",
    "    img_array = np.array(img).astype(np.float32) / 255.0 \n",
    "    img_array = np.transpose(img_array, (2, 0, 1))\n",
    "    img_array = np.expand_dims(img_array, axis=0)  \n",
    "    return img_array\n",
    "\n",
    "input_tensor = preprocess_image(IMG_PATH)\n",
    "\n",
    "# --- 3. Инференс ---\n",
    "outputs = session.run([output_name], {input_name: input_tensor})\n",
    "preds = outputs[0]  # shape: (1, NUM_CLASSES)\n",
    "\n",
    "predicted_class = int(np.argmax(preds, axis=1)[0])\n",
    "print(\"Predicted class:\", predicted_class)\n",
    "print(\"Raw output scores:\", preds)\n"
   ]
  }
 ],
 "metadata": {
  "kernelspec": {
   "display_name": "myenv",
   "language": "python",
   "name": "python3"
  },
  "language_info": {
   "codemirror_mode": {
    "name": "ipython",
    "version": 3
   },
   "file_extension": ".py",
   "mimetype": "text/x-python",
   "name": "python",
   "nbconvert_exporter": "python",
   "pygments_lexer": "ipython3",
   "version": "3.10.6"
  }
 },
 "nbformat": 4,
 "nbformat_minor": 5
}
