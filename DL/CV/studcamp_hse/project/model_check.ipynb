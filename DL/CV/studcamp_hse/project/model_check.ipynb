{
 "cells": [
  {
   "cell_type": "code",
   "execution_count": null,
   "id": "f878c458",
   "metadata": {},
   "outputs": [
    {
     "name": "stdout",
     "output_type": "stream",
     "text": [
      "Predicted class: 2\n",
      "Raw output scores: [[-0.14788406 -1.819021    1.7512302 ]]\n"
     ]
    }
   ],
   "source": [
    "import onnxruntime as ort\n",
    "import numpy as np\n",
    "from PIL import Image\n",
    "import os\n",
    "\n",
    "ONNX_PATH = \"models/mobilenetv3_small_best.onnx\"  \n",
    "IMG_PATH = \"image/present4.jpeg\"                        \n",
    "\n",
    "IMG_SIZE = 224\n",
    "NUM_CLASSES = 3\n",
    "\n",
    "session = ort.InferenceSession(ONNX_PATH)\n",
    "\n",
    "input_name = session.get_inputs()[0].name\n",
    "output_name = session.get_outputs()[0].name\n",
    "\n",
    "def preprocess_image(img_path, img_size=IMG_SIZE):\n",
    "    img = Image.open(img_path).convert(\"RGB\")\n",
    "    img = img.resize((img_size, img_size))\n",
    "    img_array = np.array(img).astype(np.float32) / 255.0 \n",
    "    img_array = np.transpose(img_array, (2, 0, 1))\n",
    "    img_array = np.expand_dims(img_array, axis=0)  \n",
    "    return img_array\n",
    "\n",
    "input_tensor = preprocess_image(IMG_PATH)\n",
    "\n",
    "outputs = session.run([output_name], {input_name: input_tensor})\n",
    "preds = outputs[0] \n",
    "\n",
    "predicted_class = int(np.argmax(preds, axis=1)[0])\n",
    "print(\"Predicted class:\", predicted_class)\n",
    "print(\"Raw output scores:\", preds)\n"
   ]
  },
  {
   "cell_type": "code",
   "execution_count": null,
   "id": "bb821b57",
   "metadata": {},
   "outputs": [
    {
     "name": "stderr",
     "output_type": "stream",
     "text": [
      "Обработка изображений: 100%|██████████| 1000/1000 [07:58<00:00,  2.09it/s]"
     ]
    },
    {
     "name": "stdout",
     "output_type": "stream",
     "text": [
      "\n",
      "========= РЕЗУЛЬТАТ =========\n",
      "Всего изображений: 1000\n",
      "Общая точность: 85.10%\n",
      "\n",
      "Точность по классам:\n",
      "Класс 0: 96.63% (86/89)\n",
      "Класс 1: 69.64% (117/168)\n",
      "Класс 2: 87.21% (648/743)\n"
     ]
    },
    {
     "name": "stderr",
     "output_type": "stream",
     "text": [
      "\n"
     ]
    }
   ],
   "source": [
    "import onnxruntime as ort\n",
    "import numpy as np\n",
    "from PIL import Image\n",
    "import pandas as pd\n",
    "import requests\n",
    "from io import BytesIO\n",
    "from tqdm import tqdm\n",
    "\n",
    "\n",
    "ONNX_PATH = \"models/mobilenetv3_large.onnx\"\n",
    "EXCEL_PATH = \"data/scooter_photos.xlsx\"\n",
    "IMG_SIZE = 224\n",
    "NUM_CLASSES = 3\n",
    "N_SAMPLES = 1000\n",
    "\n",
    "LABEL_MAP = {\n",
    "    \"absent\": 0,\n",
    "    \"part\": 1,\n",
    "    \"present\": 2\n",
    "}\n",
    "\n",
    "session = ort.InferenceSession(ONNX_PATH, providers=[\"CPUExecutionProvider\"])\n",
    "input_name = session.get_inputs()[0].name\n",
    "output_name = session.get_outputs()[0].name\n",
    "\n",
    "\n",
    "def preprocess_image_from_url(url, img_size=IMG_SIZE):\n",
    "    try:\n",
    "        response = requests.get(url, timeout=10)\n",
    "        response.raise_for_status()\n",
    "        img = Image.open(BytesIO(response.content)).convert(\"RGB\")\n",
    "        img = img.resize((img_size, img_size))\n",
    "        img_array = np.array(img).astype(np.float32) / 255.0\n",
    "        img_array = np.transpose(img_array, (2, 0, 1))\n",
    "        img_array = np.expand_dims(img_array, axis=0)\n",
    "        return img_array\n",
    "    except Exception as e:\n",
    "        print(f\"[Ошибка] Не удалось обработать {url}: {e}\")\n",
    "        return None\n",
    "\n",
    "\n",
    "def predict_image(img_array):\n",
    "    outputs = session.run([output_name], {input_name: img_array})\n",
    "    preds = outputs[0]\n",
    "    predicted_class = int(np.argmax(preds, axis=1)[0])\n",
    "    return predicted_class\n",
    "\n",
    "\n",
    "df = pd.read_excel(EXCEL_PATH)\n",
    "df = df.iloc[:N_SAMPLES, :]\n",
    "df = df.rename(columns={df.columns[2]: \"scooter\", df.columns[3]: \"path\"})\n",
    "\n",
    "correct = 0\n",
    "total = 0\n",
    "per_class_correct = {0: 0, 1: 0, 2: 0}\n",
    "per_class_total = {0: 0, 1: 0, 2: 0}\n",
    "\n",
    "for _, row in tqdm(df.iterrows(), total=len(df), desc=\"Обработка изображений\"):\n",
    "    label_str = str(row[\"scooter\"]).strip().lower()\n",
    "    if label_str not in LABEL_MAP:\n",
    "        continue\n",
    "\n",
    "    true_label = LABEL_MAP[label_str]\n",
    "    url = row[\"path\"]\n",
    "\n",
    "    img_array = preprocess_image_from_url(url)\n",
    "    if img_array is None:\n",
    "        continue\n",
    "\n",
    "    pred = predict_image(img_array)\n",
    "\n",
    "    if pred == true_label:\n",
    "        correct += 1\n",
    "        per_class_correct[true_label] += 1\n",
    "    per_class_total[true_label] += 1\n",
    "    total += 1\n",
    "\n",
    "accuracy = correct / total * 100 if total > 0 else 0\n",
    "print(\"\\n========= РЕЗУЛЬТАТ =========\")\n",
    "print(f\"Всего изображений: {total}\")\n",
    "print(f\"Общая точность: {accuracy:.2f}%\\n\")\n",
    "\n",
    "print(\"Точность по классам:\")\n",
    "for k, v in per_class_total.items():\n",
    "    if v > 0:\n",
    "        acc = per_class_correct[k] / v * 100\n",
    "        print(f\"Класс {k}: {acc:.2f}% ({per_class_correct[k]}/{v})\")"
   ]
  }
 ],
 "metadata": {
  "kernelspec": {
   "display_name": "myenv",
   "language": "python",
   "name": "python3"
  },
  "language_info": {
   "codemirror_mode": {
    "name": "ipython",
    "version": 3
   },
   "file_extension": ".py",
   "mimetype": "text/x-python",
   "name": "python",
   "nbconvert_exporter": "python",
   "pygments_lexer": "ipython3",
   "version": "3.10.6"
  }
 },
 "nbformat": 4,
 "nbformat_minor": 5
}
