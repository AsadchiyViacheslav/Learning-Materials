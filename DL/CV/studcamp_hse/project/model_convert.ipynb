{
 "cells": [
  {
   "cell_type": "code",
   "execution_count": 1,
   "id": "0e4ce1ec",
   "metadata": {},
   "outputs": [],
   "source": [
    "import torch\n",
    "import torch.nn as nn\n",
    "import numpy as np\n",
    "from torchvision.models import mobilenet_v3_small, MobileNet_V3_Small_Weights\n",
    "from torchvision.models import mobilenet_v3_large, MobileNet_V3_Large_Weights\n",
    "from torchvision.models import efficientnet_v2_s, EfficientNet_V2_S_Weights\n",
    "from torchvision.models import efficientnet_b1, EfficientNet_B1_Weights\n",
    "import os\n",
    "\n",
    "IMG_SIZE = 224\n",
    "NUM_CLASSES = 3\n",
    "CKPT_PATH = \"models/park.pth\"\n",
    "ONNX_PATH = \"models/park.onnx\"\n",
    "DEVICE = \"cpu\"\n",
    "\n",
    "\n",
    "def build_model(num_classes=NUM_CLASSES, pretrained=True):\n",
    "    # weights = MobileNet_V3_Large_Weights.IMAGENET1K_V1 if pretrained else None\n",
    "    # model = mobilenet_v3_large(weights=weights)\n",
    "    weights = MobileNet_V3_Small_Weights.IMAGENET1K_V1 if pretrained else None\n",
    "    model = mobilenet_v3_small(weights=weights)\n",
    "    if hasattr(model, 'classifier'):\n",
    "        in_features = model.classifier[-1].in_features\n",
    "        model.classifier[-1] = nn.Linear(in_features, num_classes)\n",
    "    return model\n",
    "\n",
    "def build_model1(num_classes=NUM_CLASSES, pretrained=True):\n",
    "    weights = EfficientNet_V2_S_Weights.IMAGENET1K_V1 if pretrained else None\n",
    "    model = efficientnet_v2_s(weights=weights)\n",
    "    \n",
    "    in_features = model.classifier[-1].in_features\n",
    "    model.classifier[-1] = nn.Linear(in_features, num_classes)\n",
    "    \n",
    "    return model\n",
    "\n",
    "model = build_model(num_classes=NUM_CLASSES, pretrained=False)\n",
    "checkpoint = torch.load(CKPT_PATH, map_location=DEVICE)\n",
    "model.load_state_dict(checkpoint[\"model_state\"])\n",
    "model.eval()\n",
    "\n",
    "\n",
    "dummy_input = torch.randn(1, 3, IMG_SIZE, IMG_SIZE, device=DEVICE)\n",
    "\n",
    "input_names = [\"input\"]\n",
    "output_names = [\"output\"]\n",
    "\n",
    "torch.onnx.export(\n",
    "    model,\n",
    "    dummy_input,\n",
    "    ONNX_PATH,\n",
    "    export_params=True,\n",
    "    opset_version=11, \n",
    "    do_constant_folding=True,\n",
    "    input_names=input_names,\n",
    "    output_names=output_names,\n",
    "    dynamic_axes={ \"input\": {0: \"batch_size\"}, \"output\": {0: \"batch_size\"} }\n",
    ")"
   ]
  },
  {
   "cell_type": "code",
   "execution_count": 2,
   "id": "f22ccb4c",
   "metadata": {},
   "outputs": [],
   "source": [
    "import onnx\n",
    "onnx_model = onnx.load(\"models/park.onnx\")\n",
    "onnx.checker.check_model(onnx_model)"
   ]
  },
  {
   "cell_type": "code",
   "execution_count": 4,
   "id": "cc158064",
   "metadata": {},
   "outputs": [
    {
     "name": "stdout",
     "output_type": "stream",
     "text": [
      "✓ Model converted to opset 13: models/efficientnetv2s_int8_2.onnx\n"
     ]
    }
   ],
   "source": [
    "import onnx\n",
    "from onnx import version_converter\n",
    "\n",
    "# После quantize_static добавьте:\n",
    "# Загружаем квантованную модель\n",
    "model = onnx.load(\"models/efficientnetv2s.onnx\")\n",
    "\n",
    "# Конвертируем в opset 13 (хорошо поддерживается)\n",
    "converted_model = version_converter.convert_version(model, 17)\n",
    "\n",
    "# Сохраняем совместимую модель\n",
    "compatible_model = \"models/efficientnetv2s_int8_2.onnx\"\n",
    "onnx.save(converted_model, compatible_model)\n",
    "onnx.checker.check_model(onnx.load(compatible_model))\n",
    "\n",
    "print(f\"✓ Model converted to opset 13: {compatible_model}\")"
   ]
  }
 ],
 "metadata": {
  "kernelspec": {
   "display_name": "myenv",
   "language": "python",
   "name": "python3"
  },
  "language_info": {
   "codemirror_mode": {
    "name": "ipython",
    "version": 3
   },
   "file_extension": ".py",
   "mimetype": "text/x-python",
   "name": "python",
   "nbconvert_exporter": "python",
   "pygments_lexer": "ipython3",
   "version": "3.10.6"
  }
 },
 "nbformat": 4,
 "nbformat_minor": 5
}
