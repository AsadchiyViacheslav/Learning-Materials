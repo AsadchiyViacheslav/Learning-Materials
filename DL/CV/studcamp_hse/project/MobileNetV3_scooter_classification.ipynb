{
 "cells": [
  {
   "cell_type": "markdown",
   "id": "c9bcde84-80d1-49b1-9336-f61df4a169ee",
   "metadata": {},
   "source": [
    "## Импорты, параметры и константы"
   ]
  },
  {
   "cell_type": "code",
   "execution_count": 1,
   "id": "4a8ddc02-2d81-4d19-a4ab-06825919072f",
   "metadata": {
    "execution": {
     "iopub.execute_input": "2025-10-14T06:40:42.003042Z",
     "iopub.status.busy": "2025-10-14T06:40:42.001929Z",
     "iopub.status.idle": "2025-10-14T06:40:55.703610Z",
     "shell.execute_reply": "2025-10-14T06:40:55.702926Z",
     "shell.execute_reply.started": "2025-10-14T06:40:42.003003Z"
    },
    "tags": []
   },
   "outputs": [],
   "source": [
    "import os\n",
    "import json\n",
    "from pathlib import Path\n",
    "from collections import Counter\n",
    "import time\n",
    "import sys\n",
    "\n",
    "import numpy as np\n",
    "import pandas as pd\n",
    "from PIL import Image\n",
    "\n",
    "import torch\n",
    "import torch.nn as nn\n",
    "from torch.utils.data import Dataset, DataLoader\n",
    "from torchvision import transforms\n",
    "from torchvision.models import mobilenet_v3_small, MobileNet_V3_Small_Weights\n",
    "from torchvision.models import mobilenet_v3_large, MobileNet_V3_Large_Weights\n",
    "\n",
    "from sklearn.model_selection import train_test_split\n",
    "from sklearn.metrics import classification_report\n",
    "from sklearn.metrics import accuracy_score, precision_score, recall_score, f1_score, confusion_matrix\n",
    "import psutil\n",
    "from tqdm.notebook import tqdm\n",
    "\n",
    "\n",
    "DEFAULT_TRAIN_CSV = \"data/scooters_label_train.csv\"\n",
    "DEFAULT_TEST_CSV  = \"data/scooters_label_test.csv\"\n",
    "OUTPUT_DIR = \"MobileNetV3\"\n",
    "IMG_SIZE = 224\n",
    "BATCH_SIZE = 64\n",
    "NUM_WORKERS = min(8, os.cpu_count())\n",
    "NUM_EPOCHS = 100\n",
    "LR = 5e-4\n",
    "WEIGHT_DECAY = 1e-5\n",
    "PATIENCE = 30\n",
    "DEVICE = \"cuda\" if torch.cuda.is_available() else \"cpu\"\n",
    "NUM_CLASSES = 3\n",
    "SEED = 42\n",
    "PRETRAINED = True\n",
    "DATA_FRACTION = 0.6 \n",
    "MIN_FREE_GB = 5.0"
   ]
  },
  {
   "cell_type": "markdown",
   "id": "46367277-20ca-4fc3-a87e-a0ede1e92d3c",
   "metadata": {},
   "source": [
    "## Архитектура (модель, агументация, загрузка данных и т.д.)"
   ]
  },
  {
   "cell_type": "code",
   "execution_count": 2,
   "id": "f59833a5-94b0-447b-a919-6c104b5ea083",
   "metadata": {
    "execution": {
     "iopub.execute_input": "2025-10-14T06:41:02.769862Z",
     "iopub.status.busy": "2025-10-14T06:41:02.769208Z",
     "iopub.status.idle": "2025-10-14T06:41:02.811285Z",
     "shell.execute_reply": "2025-10-14T06:41:02.810613Z",
     "shell.execute_reply.started": "2025-10-14T06:41:02.769834Z"
    },
    "tags": []
   },
   "outputs": [],
   "source": [
    "def seed_everything(seed=SEED):\n",
    "    import random\n",
    "    random.seed(seed)\n",
    "    np.random.seed(seed)\n",
    "    torch.manual_seed(seed)\n",
    "    if torch.cuda.is_available():\n",
    "        torch.cuda.manual_seed_all(seed)\n",
    "\n",
    "class RandomRotate90:\n",
    "    \"\"\"Случайный поворот на 0, 90, 180 или 270 градусов\"\"\"\n",
    "    def __call__(self, img):\n",
    "        angle = np.random.choice([0, 90, 180, 270])\n",
    "        return img.rotate(angle) if angle != 0 else img\n",
    "\n",
    "\n",
    "class ScooterDataset(Dataset):\n",
    "    def __init__(self, csv_file, class_to_idx=None, transforms=None, sample_frac=1.0, cache=False, min_free_gb=1.0, max_cache_images = 21500):\n",
    "        if isinstance(csv_file, pd.DataFrame):\n",
    "            self.df = csv_file.copy()\n",
    "        else:\n",
    "            self.df = pd.read_csv(csv_file)\n",
    "\n",
    "        if 0 < sample_frac < 1.0:\n",
    "            self.df = self.df.sample(frac=sample_frac, random_state=SEED).reset_index(drop=True)\n",
    "\n",
    "        self.labels = self.df[\"scooter\"].astype(str).tolist()\n",
    "        self.paths = self.df[\"path\"].tolist()\n",
    "\n",
    "        if class_to_idx is None:\n",
    "            classes = sorted(list(set(self.labels)))\n",
    "            self.class_to_idx = {c: i for i, c in enumerate(classes)}\n",
    "        else:\n",
    "            self.class_to_idx = class_to_idx\n",
    "\n",
    "        self.targets = [self.class_to_idx[l] for l in self.labels]\n",
    "        self.transforms = transforms\n",
    "        self.cache = cache\n",
    "        self.min_free_gb = min_free_gb\n",
    "        self.cached_images = {}\n",
    "        self.max_cache_images = max_cache_images\n",
    "\n",
    "        if self.cache:\n",
    "            self._cache_images_safely()\n",
    "\n",
    "    def _cache_images_safely(self):\n",
    "        total_cached = 0\n",
    "        for idx, p in enumerate(tqdm(self.paths, mininterval=3, desc=\"Caching images\")):\n",
    "            if total_cached >= self.max_cache_images:\n",
    "                print(f\"Reached max_cache_images limit: {self.max_cache_images}\")\n",
    "                break\n",
    "                \n",
    "            mem = psutil.virtual_memory()\n",
    "            free_gb = mem.available / 1e9\n",
    "            if free_gb < self.min_free_gb:\n",
    "                print(f\"Stopping caching: only {free_gb:.2f} GB free after {total_cached} images\")\n",
    "                break\n",
    "\n",
    "            try:\n",
    "                img = Image.open(p).convert(\"RGB\")\n",
    "            except:\n",
    "                img = Image.new(\"RGB\", (IMG_SIZE, IMG_SIZE), (0, 0, 0))\n",
    "\n",
    "            if self.transforms:\n",
    "                img = self.transforms(img)\n",
    "\n",
    "            self.cached_images[idx] = img\n",
    "            total_cached += 1\n",
    "\n",
    "        print(f\"Cached {total_cached} / {len(self.paths)} images\")\n",
    "\n",
    "    def __len__(self):\n",
    "        return len(self.paths)\n",
    "\n",
    "    def __getitem__(self, idx):\n",
    "        label = self.targets[idx]\n",
    "        if idx in self.cached_images:\n",
    "            img = self.cached_images[idx]\n",
    "        else:\n",
    "            p = self.paths[idx]\n",
    "            try:\n",
    "                img = Image.open(p).convert(\"RGB\")\n",
    "            except:\n",
    "                img = Image.new(\"RGB\", (IMG_SIZE, IMG_SIZE), (0, 0, 0))\n",
    "            if self.transforms:\n",
    "                img = self.transforms(img)\n",
    "        return img, label\n",
    "\n",
    "\n",
    "def get_transforms(img_size=IMG_SIZE):\n",
    "    train_transforms = transforms.Compose([\n",
    "        RandomRotate90(),\n",
    "        transforms.RandomHorizontalFlip(p=0.5),\n",
    "        transforms.RandomApply([transforms.ColorJitter(brightness=0.3, contrast=0.3)], p=0.7),\n",
    "        transforms.Resize((img_size, img_size)),\n",
    "        transforms.ToTensor(),\n",
    "        transforms.Normalize(mean=[0.485,0.456,0.406], std=[0.229,0.224,0.225])\n",
    "    ])\n",
    "    val_transforms = transforms.Compose([\n",
    "        transforms.Resize((img_size, img_size)),\n",
    "        transforms.ToTensor(),\n",
    "        transforms.Normalize(mean=[0.485,0.456,0.406], std=[0.229,0.224,0.225])\n",
    "    ])\n",
    "    return train_transforms, val_transforms\n",
    "\n",
    "\n",
    "def build_model(num_classes=NUM_CLASSES, pretrained=True):\n",
    "    weights = MobileNet_V3_Small_Weights.IMAGENET1K_V1 if pretrained else None\n",
    "    model = mobilenet_v3_small(weights=weights)\n",
    "    if hasattr(model, 'classifier'):\n",
    "        in_features = model.classifier[-1].in_features\n",
    "        model.classifier[-1] = nn.Linear(in_features, num_classes)\n",
    "    return model\n",
    "\n",
    "\n",
    "def evaluate(model, dataloader, criterion, device, log=True):\n",
    "    model.eval()\n",
    "    all_preds, all_targets = [], []\n",
    "    running_loss = 0.0\n",
    "    inference_times = []\n",
    "\n",
    "    iterator = tqdm(dataloader, desc=\"Evaluating\", leave=False) if log else dataloader\n",
    "\n",
    "    with torch.no_grad():\n",
    "        for imgs, labels in iterator:\n",
    "            imgs = imgs.to(device, non_blocking=True)\n",
    "            labels = labels.to(device, non_blocking=True)\n",
    "\n",
    "            start = time.time()\n",
    "            outputs = model(imgs)\n",
    "            inference_times.append(time.time() - start)\n",
    "\n",
    "            loss = criterion(outputs, labels)\n",
    "            running_loss += loss.item() * imgs.size(0)\n",
    "\n",
    "            preds = outputs.argmax(dim=1).cpu().numpy()\n",
    "            all_preds.extend(preds.tolist())\n",
    "            all_targets.extend(labels.cpu().numpy().tolist())\n",
    "\n",
    "    avg_loss = running_loss / len(dataloader.dataset)\n",
    "    avg_time_per_image = np.mean(inference_times) / imgs.size(0)\n",
    "    total_time_per_image = np.sum(inference_times) / len(dataloader.dataset)\n",
    "\n",
    "    acc = accuracy_score(all_targets, all_preds)\n",
    "    prec = precision_score(all_targets, all_preds, average='macro', zero_division=0)\n",
    "    rec = recall_score(all_targets, all_preds, average='macro', zero_division=0)\n",
    "    f1 = f1_score(all_targets, all_preds, average='macro', zero_division=0)\n",
    "    cm = confusion_matrix(all_targets, all_preds)\n",
    "\n",
    "    print(f\"Average inference time per image: {total_time_per_image*1000:.2f} ms\")\n",
    "\n",
    "    return {\n",
    "        'loss': avg_loss, 'accuracy': acc, 'precision': prec, 'recall': rec, 'f1': f1,\n",
    "        'confusion_matrix': cm, 'avg_inference_time': total_time_per_image\n",
    "    }\n",
    "\n",
    "\n",
    "def evaluate_test(model, dataloader, criterion, device, class_names, log=True):\n",
    "    model.eval()\n",
    "    all_preds, all_targets = [], []\n",
    "    running_loss = 0.0\n",
    "    inference_times = []\n",
    "\n",
    "    iterator = tqdm(dataloader, desc=\"Evaluating on TEST set\", leave=False) if log else dataloader\n",
    "\n",
    "    with torch.no_grad():\n",
    "        for imgs, labels in iterator:\n",
    "            imgs = imgs.to(device, non_blocking=True)\n",
    "            labels = labels.to(device, non_blocking=True)\n",
    "\n",
    "            start = time.time()\n",
    "            outputs = model(imgs)\n",
    "            inference_times.append(time.time() - start)\n",
    "\n",
    "            loss = criterion(outputs, labels)\n",
    "            running_loss += loss.item() * imgs.size(0)\n",
    "\n",
    "            preds = outputs.argmax(dim=1).cpu().numpy()\n",
    "            all_preds.extend(preds.tolist())\n",
    "            all_targets.extend(labels.cpu().numpy().tolist())\n",
    "\n",
    "    avg_loss = running_loss / len(dataloader.dataset)\n",
    "    acc = accuracy_score(all_targets, all_preds)\n",
    "    prec = precision_score(all_targets, all_preds, average='macro', zero_division=0)\n",
    "    rec = recall_score(all_targets, all_preds, average='macro', zero_division=0)\n",
    "    f1 = f1_score(all_targets, all_preds, average='macro', zero_division=0)\n",
    "    cm = confusion_matrix(all_targets, all_preds)\n",
    "\n",
    "    print(\"\\n---------------- Final TEST Evaluation ----------------\")\n",
    "    print(f\"Loss:      {avg_loss:.4f}\")\n",
    "    print(f\"Accuracy:  {acc:.4f}\")\n",
    "    print(f\"Precision: {prec:.4f}\")\n",
    "    print(f\"Recall:    {rec:.4f}\")\n",
    "    print(f\"F1-score:  {f1:.4f}\")\n",
    "    print(\"\\nConfusion Matrix:\")\n",
    "    print(cm)\n",
    "\n",
    "    report = classification_report(\n",
    "        all_targets, all_preds, \n",
    "        target_names=class_names, \n",
    "        output_dict=True, \n",
    "        zero_division=0\n",
    "    )\n",
    "\n",
    "    df_report = pd.DataFrame(report).transpose()\n",
    "    print(\"\\nPer-class metrics:\")\n",
    "    print(df_report.round(4))\n",
    "\n",
    "    avg_time_per_image = np.sum(inference_times) / len(dataloader.dataset)\n",
    "    print(f\"\\nAverage inference time per image: {avg_time_per_image*1000:.2f} ms\")\n",
    "\n",
    "    return {\n",
    "        'loss': avg_loss,\n",
    "        'accuracy': acc,\n",
    "        'precision': prec,\n",
    "        'recall': rec,\n",
    "        'f1': f1,\n",
    "        'confusion_matrix': cm,\n",
    "        'per_class': df_report,\n",
    "        'avg_inference_time': avg_time_per_image\n",
    "    }\n",
    "\n",
    "\n",
    "def train_loop(train_loader, val_loader, model, criterion, optimizer, device, num_epochs=NUM_EPOCHS):\n",
    "    best_val_f1 = -float('inf')\n",
    "    best_epoch = -1\n",
    "    os.makedirs(OUTPUT_DIR, exist_ok=True)\n",
    "\n",
    "    for epoch in range(1, num_epochs+1):\n",
    "        model.train()\n",
    "        running_loss = 0.0\n",
    "        total_cpu_time = 0.0\n",
    "        total_gpu_time = 0.0\n",
    "\n",
    "        pbar = tqdm(train_loader, desc=f\"Epoch {epoch}/{num_epochs}\")\n",
    "        for imgs, labels in pbar:\n",
    "            start_cpu = time.time()\n",
    "            imgs = imgs.to(device, non_blocking=True)\n",
    "            labels = labels.to(device, non_blocking=True)\n",
    "            total_cpu_time += time.time() - start_cpu\n",
    "\n",
    "            start_gpu = time.time()\n",
    "            optimizer.zero_grad()\n",
    "            outputs = model(imgs)\n",
    "            loss = criterion(outputs, labels)\n",
    "            loss.backward()\n",
    "            optimizer.step()\n",
    "            total_gpu_time += time.time() - start_gpu\n",
    "\n",
    "            running_loss += loss.item() * imgs.size(0)\n",
    "            processed = min(((pbar.n + 1) * imgs.size(0)), len(train_loader.dataset))\n",
    "            avg_loss_running = running_loss / processed\n",
    "            pbar.set_postfix({'loss': f\"{avg_loss_running:.4f}\"})\n",
    "\n",
    "        epoch_train_loss = running_loss / len(train_loader.dataset)\n",
    "\n",
    "        # Валидация\n",
    "        start_val = time.time()\n",
    "        val_res = evaluate(model, val_loader, criterion, device, False)\n",
    "        val_time = time.time() - start_val\n",
    "\n",
    "        total_time = total_cpu_time + total_gpu_time + val_time\n",
    "        cpu_percent = total_cpu_time / total_time * 100\n",
    "        gpu_percent = total_gpu_time / total_time * 100\n",
    "        val_percent = val_time / total_time * 100\n",
    "\n",
    "        print(f\"Epoch {epoch} summary: total_time={total_time:.1f}s, CPU={cpu_percent:.1f}%, GPU={gpu_percent:.1f}%, VAL={val_percent:.1f}%\")\n",
    "        print(f\"Train loss={epoch_train_loss:.4f}, Val loss={val_res['loss']:.4f}, Val f1={val_res['f1']:.4f}, Val acc={val_res['accuracy']:.4f}\")\n",
    "\n",
    "        if val_res['f1'] > best_val_f1:\n",
    "            best_val_f1 = val_res['f1']\n",
    "            best_epoch = epoch\n",
    "            ckpt_path = os.path.join(OUTPUT_DIR, 'mobilenetv3_large_best.pth')\n",
    "            torch.save({'epoch': epoch, 'model_state': model.state_dict(), 'optimizer_state': optimizer.state_dict()}, ckpt_path)\n",
    "            print(f\"Saved best model to {ckpt_path}\")\n",
    "\n",
    "        if epoch - best_epoch >= PATIENCE:\n",
    "            print(f\"Early stopping triggered\")\n",
    "            break\n",
    "\n",
    "    print(f\"Training finished. Best epoch: {best_epoch}\")"
   ]
  },
  {
   "cell_type": "markdown",
   "id": "a4af6b6e-95d8-44b8-b62e-af73e1966700",
   "metadata": {},
   "source": [
    "## Загрузка данных и кэширование"
   ]
  },
  {
   "cell_type": "code",
   "execution_count": 3,
   "id": "c6a75eac-847a-4bd0-a176-8dfdce7734ee",
   "metadata": {
    "execution": {
     "iopub.execute_input": "2025-10-14T06:41:08.668013Z",
     "iopub.status.busy": "2025-10-14T06:41:08.666977Z",
     "iopub.status.idle": "2025-10-14T07:09:16.853737Z",
     "shell.execute_reply": "2025-10-14T07:09:16.852987Z",
     "shell.execute_reply.started": "2025-10-14T06:41:08.667981Z"
    },
    "tags": []
   },
   "outputs": [
    {
     "name": "stdout",
     "output_type": "stream",
     "text": [
      "GPU: NVIDIA L4\n",
      "Class to idx: {'absent': 0, 'part': 1, 'present': 2}\n"
     ]
    },
    {
     "data": {
      "application/vnd.jupyter.widget-view+json": {
       "model_id": "9796aaef119c4e80ad3c8813e04c9ba6",
       "version_major": 2,
       "version_minor": 0
      },
      "text/plain": [
       "Caching images:   0%|          | 0/21169 [00:00<?, ?it/s]"
      ]
     },
     "metadata": {},
     "output_type": "display_data"
    },
    {
     "name": "stdout",
     "output_type": "stream",
     "text": [
      "Reached max_cache_images limit: 20000\n",
      "Cached 20000 / 21169 images\n"
     ]
    },
    {
     "data": {
      "application/vnd.jupyter.widget-view+json": {
       "model_id": "618e2a79aeed4c0fb7932708aebf28f0",
       "version_major": 2,
       "version_minor": 0
      },
      "text/plain": [
       "Caching images:   0%|          | 0/2353 [00:00<?, ?it/s]"
      ]
     },
     "metadata": {},
     "output_type": "display_data"
    },
    {
     "name": "stdout",
     "output_type": "stream",
     "text": [
      "Cached 2353 / 2353 images\n",
      "Train samples: 21169, Val samples: 2353, Test samples: 5881\n"
     ]
    }
   ],
   "source": [
    "seed_everything(SEED)\n",
    "if DEVICE == \"cuda\":\n",
    "    print(f\"GPU: {torch.cuda.get_device_name(0)}\")\n",
    "\n",
    "train_transforms, val_transforms = get_transforms(IMG_SIZE)\n",
    "\n",
    "full_train_df = pd.read_csv(DEFAULT_TRAIN_CSV)\n",
    "train_df, val_df = train_test_split(\n",
    "    full_train_df, \n",
    "    test_size=0.1, \n",
    "    random_state=SEED, \n",
    "    stratify=full_train_df['scooter']\n",
    ")\n",
    "\n",
    "test_df = pd.read_csv(DEFAULT_TEST_CSV)\n",
    "\n",
    "if 0 < DATA_FRACTION < 1.0:\n",
    "    train_df = train_df.sample(frac=DATA_FRACTION, random_state=SEED).reset_index(drop=True)\n",
    "    val_df = val_df.sample(frac=DATA_FRACTION, random_state=SEED).reset_index(drop=True)\n",
    "    test_df  = test_df.sample(frac=DATA_FRACTION, random_state=SEED).reset_index(drop=True)\n",
    "\n",
    "classes = sorted(train_df['scooter'].unique())\n",
    "class_to_idx = {c: i for i, c in enumerate(classes)}\n",
    "print(\"Class to idx:\", class_to_idx)\n",
    "\n",
    "train_dataset = ScooterDataset(train_df, class_to_idx=class_to_idx, transforms=train_transforms, cache=True, min_free_gb=MIN_FREE_GB)\n",
    "val_dataset   = ScooterDataset(val_df,   class_to_idx=class_to_idx, transforms=val_transforms,   cache=True, min_free_gb=MIN_FREE_GB)\n",
    "test_dataset  = ScooterDataset(test_df, class_to_idx=class_to_idx, transforms=val_transforms, cache=False)\n",
    "\n",
    "print(f\"Train samples: {len(train_dataset)}, Val samples: {len(val_dataset)}, Test samples: {len(test_dataset)}\")\n",
    "\n",
    "counts = Counter(train_dataset.targets)\n",
    "class_counts = [counts[i] for i in range(len(class_to_idx))]\n",
    "total = sum(class_counts)\n",
    "class_weights = [total/(len(class_counts)*c) if c>0 else 0.0 for c in class_counts]\n",
    "class_weights_tensor = torch.tensor(class_weights, dtype=torch.float).to(DEVICE)\n",
    "\n",
    "pin_memory = DEVICE == \"cuda\"\n",
    "train_loader = DataLoader(train_dataset, batch_size=BATCH_SIZE, shuffle=True,  num_workers=NUM_WORKERS, pin_memory=pin_memory)\n",
    "val_loader   = DataLoader(val_dataset,   batch_size=BATCH_SIZE, shuffle=False, num_workers=NUM_WORKERS, pin_memory=pin_memory)\n",
    "test_loader  = DataLoader(test_dataset,  batch_size=BATCH_SIZE, shuffle=False, num_workers=NUM_WORKERS, pin_memory=pin_memory)"
   ]
  },
  {
   "cell_type": "markdown",
   "id": "c00a5323-8a96-4888-9500-6fae0579497f",
   "metadata": {},
   "source": [
    "## Обучение"
   ]
  },
  {
   "cell_type": "code",
   "execution_count": 13,
   "id": "1abfb174-053f-4755-b3b2-9671adfd4de3",
   "metadata": {
    "execution": {
     "iopub.execute_input": "2025-10-14T07:39:25.926998Z",
     "iopub.status.busy": "2025-10-14T07:39:25.926046Z",
     "iopub.status.idle": "2025-10-14T08:44:35.391181Z",
     "shell.execute_reply": "2025-10-14T08:44:35.390262Z",
     "shell.execute_reply.started": "2025-10-14T07:39:25.926956Z"
    },
    "tags": []
   },
   "outputs": [
    {
     "data": {
      "application/vnd.jupyter.widget-view+json": {
       "model_id": "0c209ca2d93f44d3913f8ddf57dcb375",
       "version_major": 2,
       "version_minor": 0
      },
      "text/plain": [
       "Epoch 1/100:   0%|          | 0/331 [00:00<?, ?it/s]"
      ]
     },
     "metadata": {},
     "output_type": "display_data"
    },
    {
     "name": "stdout",
     "output_type": "stream",
     "text": [
      "Average inference time per image: 0.11 ms\n",
      "Epoch 1 summary: total_time=12.5s, CPU=1.2%, GPU=76.2%, VAL=22.6%\n",
      "Train loss=0.3837, Val loss=0.3144, Val f1=0.8749, Val acc=0.9108\n",
      "Saved best model to MobileNetV3/mobilenetv3_large_best.pth\n"
     ]
    },
    {
     "data": {
      "application/vnd.jupyter.widget-view+json": {
       "model_id": "c73aac7ea034448c90705e96619496f3",
       "version_major": 2,
       "version_minor": 0
      },
      "text/plain": [
       "Epoch 2/100:   0%|          | 0/331 [00:00<?, ?it/s]"
      ]
     },
     "metadata": {},
     "output_type": "display_data"
    },
    {
     "name": "stdout",
     "output_type": "stream",
     "text": [
      "Average inference time per image: 0.10 ms\n",
      "Epoch 2 summary: total_time=12.3s, CPU=0.9%, GPU=76.2%, VAL=22.9%\n",
      "Train loss=0.2489, Val loss=0.3220, Val f1=0.8198, Val acc=0.8627\n"
     ]
    },
    {
     "data": {
      "application/vnd.jupyter.widget-view+json": {
       "model_id": "fa7dae7183d04281975945e515f6f198",
       "version_major": 2,
       "version_minor": 0
      },
      "text/plain": [
       "Epoch 3/100:   0%|          | 0/331 [00:00<?, ?it/s]"
      ]
     },
     "metadata": {},
     "output_type": "display_data"
    },
    {
     "name": "stdout",
     "output_type": "stream",
     "text": [
      "Average inference time per image: 0.10 ms\n",
      "Epoch 3 summary: total_time=12.6s, CPU=1.2%, GPU=76.3%, VAL=22.5%\n",
      "Train loss=0.1839, Val loss=0.4365, Val f1=0.8836, Val acc=0.9137\n",
      "Saved best model to MobileNetV3/mobilenetv3_large_best.pth\n"
     ]
    },
    {
     "data": {
      "application/vnd.jupyter.widget-view+json": {
       "model_id": "a7271a3cfb77486e9c8b41389da61c20",
       "version_major": 2,
       "version_minor": 0
      },
      "text/plain": [
       "Epoch 4/100:   0%|          | 0/331 [00:00<?, ?it/s]"
      ]
     },
     "metadata": {},
     "output_type": "display_data"
    },
    {
     "name": "stdout",
     "output_type": "stream",
     "text": [
      "Average inference time per image: 0.10 ms\n",
      "Epoch 4 summary: total_time=12.6s, CPU=0.9%, GPU=75.7%, VAL=23.3%\n",
      "Train loss=0.1532, Val loss=0.3774, Val f1=0.8726, Val acc=0.9065\n"
     ]
    },
    {
     "data": {
      "application/vnd.jupyter.widget-view+json": {
       "model_id": "ee515769346a45a6ba0aff82ae318955",
       "version_major": 2,
       "version_minor": 0
      },
      "text/plain": [
       "Epoch 5/100:   0%|          | 0/331 [00:00<?, ?it/s]"
      ]
     },
     "metadata": {},
     "output_type": "display_data"
    },
    {
     "name": "stdout",
     "output_type": "stream",
     "text": [
      "Average inference time per image: 0.13 ms\n",
      "Epoch 5 summary: total_time=12.4s, CPU=1.1%, GPU=76.6%, VAL=22.4%\n",
      "Train loss=0.1129, Val loss=0.5694, Val f1=0.8837, Val acc=0.9218\n",
      "Saved best model to MobileNetV3/mobilenetv3_large_best.pth\n"
     ]
    },
    {
     "data": {
      "application/vnd.jupyter.widget-view+json": {
       "model_id": "0523f2c4de4b4d58b3e20de9a93592d7",
       "version_major": 2,
       "version_minor": 0
      },
      "text/plain": [
       "Epoch 6/100:   0%|          | 0/331 [00:00<?, ?it/s]"
      ]
     },
     "metadata": {},
     "output_type": "display_data"
    },
    {
     "name": "stdout",
     "output_type": "stream",
     "text": [
      "Average inference time per image: 0.10 ms\n",
      "Epoch 6 summary: total_time=12.3s, CPU=1.1%, GPU=75.9%, VAL=23.1%\n",
      "Train loss=0.1018, Val loss=0.6081, Val f1=0.8504, Val acc=0.9031\n"
     ]
    },
    {
     "data": {
      "application/vnd.jupyter.widget-view+json": {
       "model_id": "e665c7541b5d430c88def97967205d5b",
       "version_major": 2,
       "version_minor": 0
      },
      "text/plain": [
       "Epoch 7/100:   0%|          | 0/331 [00:00<?, ?it/s]"
      ]
     },
     "metadata": {},
     "output_type": "display_data"
    },
    {
     "name": "stdout",
     "output_type": "stream",
     "text": [
      "Average inference time per image: 0.11 ms\n",
      "Epoch 7 summary: total_time=12.3s, CPU=1.0%, GPU=75.5%, VAL=23.5%\n",
      "Train loss=0.0856, Val loss=0.5618, Val f1=0.8823, Val acc=0.9163\n"
     ]
    },
    {
     "data": {
      "application/vnd.jupyter.widget-view+json": {
       "model_id": "533b007ca08441d4a3b9d663d92000c6",
       "version_major": 2,
       "version_minor": 0
      },
      "text/plain": [
       "Epoch 8/100:   0%|          | 0/331 [00:00<?, ?it/s]"
      ]
     },
     "metadata": {},
     "output_type": "display_data"
    },
    {
     "name": "stdout",
     "output_type": "stream",
     "text": [
      "Average inference time per image: 0.10 ms\n",
      "Epoch 8 summary: total_time=12.4s, CPU=1.1%, GPU=76.1%, VAL=22.8%\n",
      "Train loss=0.0710, Val loss=0.7798, Val f1=0.8832, Val acc=0.9197\n"
     ]
    },
    {
     "data": {
      "application/vnd.jupyter.widget-view+json": {
       "model_id": "eb976f70373649ada196ed19d9784ef7",
       "version_major": 2,
       "version_minor": 0
      },
      "text/plain": [
       "Epoch 9/100:   0%|          | 0/331 [00:00<?, ?it/s]"
      ]
     },
     "metadata": {},
     "output_type": "display_data"
    },
    {
     "name": "stdout",
     "output_type": "stream",
     "text": [
      "Average inference time per image: 0.09 ms\n",
      "Epoch 9 summary: total_time=12.2s, CPU=1.1%, GPU=75.9%, VAL=23.0%\n",
      "Train loss=0.0616, Val loss=0.5532, Val f1=0.8608, Val acc=0.9027\n"
     ]
    },
    {
     "data": {
      "application/vnd.jupyter.widget-view+json": {
       "model_id": "7c53d15fe73444b3b931ee9b090e1a79",
       "version_major": 2,
       "version_minor": 0
      },
      "text/plain": [
       "Epoch 10/100:   0%|          | 0/331 [00:00<?, ?it/s]"
      ]
     },
     "metadata": {},
     "output_type": "display_data"
    },
    {
     "name": "stdout",
     "output_type": "stream",
     "text": [
      "Average inference time per image: 0.10 ms\n",
      "Epoch 10 summary: total_time=12.3s, CPU=1.0%, GPU=75.4%, VAL=23.7%\n",
      "Train loss=0.0599, Val loss=0.5223, Val f1=0.8570, Val acc=0.8921\n"
     ]
    },
    {
     "data": {
      "application/vnd.jupyter.widget-view+json": {
       "model_id": "ef321bd1941240769d6aa5b5b746504d",
       "version_major": 2,
       "version_minor": 0
      },
      "text/plain": [
       "Epoch 11/100:   0%|          | 0/331 [00:00<?, ?it/s]"
      ]
     },
     "metadata": {},
     "output_type": "display_data"
    },
    {
     "name": "stdout",
     "output_type": "stream",
     "text": [
      "Average inference time per image: 0.10 ms\n",
      "Epoch 11 summary: total_time=12.4s, CPU=1.0%, GPU=75.8%, VAL=23.1%\n",
      "Train loss=0.0656, Val loss=0.6210, Val f1=0.8698, Val acc=0.9116\n"
     ]
    },
    {
     "data": {
      "application/vnd.jupyter.widget-view+json": {
       "model_id": "a1b1291b32164a6a93124b18ebbfd613",
       "version_major": 2,
       "version_minor": 0
      },
      "text/plain": [
       "Epoch 12/100:   0%|          | 0/331 [00:00<?, ?it/s]"
      ]
     },
     "metadata": {},
     "output_type": "display_data"
    },
    {
     "name": "stdout",
     "output_type": "stream",
     "text": [
      "Average inference time per image: 0.10 ms\n",
      "Epoch 12 summary: total_time=12.3s, CPU=0.9%, GPU=76.0%, VAL=23.1%\n",
      "Train loss=0.0388, Val loss=0.6054, Val f1=0.8726, Val acc=0.9014\n"
     ]
    },
    {
     "data": {
      "application/vnd.jupyter.widget-view+json": {
       "model_id": "39117af2a82642868a5cc6c53255a6f4",
       "version_major": 2,
       "version_minor": 0
      },
      "text/plain": [
       "Epoch 13/100:   0%|          | 0/331 [00:00<?, ?it/s]"
      ]
     },
     "metadata": {},
     "output_type": "display_data"
    },
    {
     "name": "stdout",
     "output_type": "stream",
     "text": [
      "Average inference time per image: 0.10 ms\n",
      "Epoch 13 summary: total_time=12.7s, CPU=0.9%, GPU=75.8%, VAL=23.3%\n",
      "Train loss=0.0541, Val loss=0.5623, Val f1=0.8774, Val acc=0.9159\n"
     ]
    },
    {
     "data": {
      "application/vnd.jupyter.widget-view+json": {
       "model_id": "0e2f03b0ff0849a7a6608b973df014ea",
       "version_major": 2,
       "version_minor": 0
      },
      "text/plain": [
       "Epoch 14/100:   0%|          | 0/331 [00:00<?, ?it/s]"
      ]
     },
     "metadata": {},
     "output_type": "display_data"
    },
    {
     "name": "stdout",
     "output_type": "stream",
     "text": [
      "Average inference time per image: 0.10 ms\n",
      "Epoch 14 summary: total_time=12.5s, CPU=1.0%, GPU=75.0%, VAL=23.9%\n",
      "Train loss=0.0380, Val loss=0.8437, Val f1=0.8790, Val acc=0.9159\n"
     ]
    },
    {
     "data": {
      "application/vnd.jupyter.widget-view+json": {
       "model_id": "df692ff46ee047868ff50512642dbc51",
       "version_major": 2,
       "version_minor": 0
      },
      "text/plain": [
       "Epoch 15/100:   0%|          | 0/331 [00:00<?, ?it/s]"
      ]
     },
     "metadata": {},
     "output_type": "display_data"
    },
    {
     "name": "stdout",
     "output_type": "stream",
     "text": [
      "Average inference time per image: 0.09 ms\n",
      "Epoch 15 summary: total_time=12.2s, CPU=0.9%, GPU=76.1%, VAL=22.9%\n",
      "Train loss=0.0464, Val loss=0.6924, Val f1=0.8636, Val acc=0.9069\n"
     ]
    },
    {
     "data": {
      "application/vnd.jupyter.widget-view+json": {
       "model_id": "53731ded2d3348c5a3604b9118a52a15",
       "version_major": 2,
       "version_minor": 0
      },
      "text/plain": [
       "Epoch 16/100:   0%|          | 0/331 [00:00<?, ?it/s]"
      ]
     },
     "metadata": {},
     "output_type": "display_data"
    },
    {
     "name": "stdout",
     "output_type": "stream",
     "text": [
      "Average inference time per image: 0.10 ms\n",
      "Epoch 16 summary: total_time=12.3s, CPU=1.0%, GPU=76.0%, VAL=23.0%\n",
      "Train loss=0.0436, Val loss=0.6716, Val f1=0.8809, Val acc=0.9120\n"
     ]
    },
    {
     "data": {
      "application/vnd.jupyter.widget-view+json": {
       "model_id": "d1b4565b05994f619e93718e6fd3aaef",
       "version_major": 2,
       "version_minor": 0
      },
      "text/plain": [
       "Epoch 17/100:   0%|          | 0/331 [00:00<?, ?it/s]"
      ]
     },
     "metadata": {},
     "output_type": "display_data"
    },
    {
     "name": "stdout",
     "output_type": "stream",
     "text": [
      "Average inference time per image: 0.10 ms\n",
      "Epoch 17 summary: total_time=12.4s, CPU=1.1%, GPU=76.2%, VAL=22.7%\n",
      "Train loss=0.0279, Val loss=0.6864, Val f1=0.8702, Val acc=0.9027\n"
     ]
    },
    {
     "data": {
      "application/vnd.jupyter.widget-view+json": {
       "model_id": "cf4a43a4372c406588e4736d3294ad62",
       "version_major": 2,
       "version_minor": 0
      },
      "text/plain": [
       "Epoch 18/100:   0%|          | 0/331 [00:00<?, ?it/s]"
      ]
     },
     "metadata": {},
     "output_type": "display_data"
    },
    {
     "name": "stdout",
     "output_type": "stream",
     "text": [
      "Average inference time per image: 0.10 ms\n",
      "Epoch 18 summary: total_time=12.4s, CPU=1.0%, GPU=76.2%, VAL=22.8%\n",
      "Train loss=0.0326, Val loss=0.8198, Val f1=0.8749, Val acc=0.9137\n"
     ]
    },
    {
     "data": {
      "application/vnd.jupyter.widget-view+json": {
       "model_id": "d4ee9b80754845aab60b6d9e78771c50",
       "version_major": 2,
       "version_minor": 0
      },
      "text/plain": [
       "Epoch 19/100:   0%|          | 0/331 [00:00<?, ?it/s]"
      ]
     },
     "metadata": {},
     "output_type": "display_data"
    },
    {
     "name": "stdout",
     "output_type": "stream",
     "text": [
      "Average inference time per image: 0.10 ms\n",
      "Epoch 19 summary: total_time=12.3s, CPU=1.2%, GPU=75.8%, VAL=23.1%\n",
      "Train loss=0.0431, Val loss=0.7385, Val f1=0.8577, Val acc=0.8908\n"
     ]
    },
    {
     "data": {
      "application/vnd.jupyter.widget-view+json": {
       "model_id": "c0109bcb45384ec2b70a477dae0827fc",
       "version_major": 2,
       "version_minor": 0
      },
      "text/plain": [
       "Epoch 20/100:   0%|          | 0/331 [00:00<?, ?it/s]"
      ]
     },
     "metadata": {},
     "output_type": "display_data"
    },
    {
     "name": "stdout",
     "output_type": "stream",
     "text": [
      "Average inference time per image: 0.10 ms\n",
      "Epoch 20 summary: total_time=12.5s, CPU=1.0%, GPU=76.3%, VAL=22.7%\n",
      "Train loss=0.0339, Val loss=0.8490, Val f1=0.8652, Val acc=0.9082\n"
     ]
    },
    {
     "data": {
      "application/vnd.jupyter.widget-view+json": {
       "model_id": "fd070483dc51446aaf46f430ffe6b463",
       "version_major": 2,
       "version_minor": 0
      },
      "text/plain": [
       "Epoch 21/100:   0%|          | 0/331 [00:00<?, ?it/s]"
      ]
     },
     "metadata": {},
     "output_type": "display_data"
    },
    {
     "name": "stdout",
     "output_type": "stream",
     "text": [
      "Average inference time per image: 0.11 ms\n",
      "Epoch 21 summary: total_time=12.6s, CPU=1.1%, GPU=76.8%, VAL=22.2%\n",
      "Train loss=0.0396, Val loss=0.6352, Val f1=0.8539, Val acc=0.8942\n"
     ]
    },
    {
     "data": {
      "application/vnd.jupyter.widget-view+json": {
       "model_id": "483434285faa46e5a903b9ed3b338c3c",
       "version_major": 2,
       "version_minor": 0
      },
      "text/plain": [
       "Epoch 22/100:   0%|          | 0/331 [00:00<?, ?it/s]"
      ]
     },
     "metadata": {},
     "output_type": "display_data"
    },
    {
     "name": "stdout",
     "output_type": "stream",
     "text": [
      "Average inference time per image: 0.10 ms\n",
      "Epoch 22 summary: total_time=12.3s, CPU=1.1%, GPU=76.1%, VAL=22.7%\n",
      "Train loss=0.0304, Val loss=0.6168, Val f1=0.8739, Val acc=0.9108\n"
     ]
    },
    {
     "data": {
      "application/vnd.jupyter.widget-view+json": {
       "model_id": "fe7e263bf80647eda49e1ba45e71b480",
       "version_major": 2,
       "version_minor": 0
      },
      "text/plain": [
       "Epoch 23/100:   0%|          | 0/331 [00:00<?, ?it/s]"
      ]
     },
     "metadata": {},
     "output_type": "display_data"
    },
    {
     "name": "stdout",
     "output_type": "stream",
     "text": [
      "Average inference time per image: 0.10 ms\n",
      "Epoch 23 summary: total_time=12.4s, CPU=1.1%, GPU=76.1%, VAL=22.8%\n",
      "Train loss=0.0283, Val loss=0.8621, Val f1=0.8790, Val acc=0.9137\n"
     ]
    },
    {
     "data": {
      "application/vnd.jupyter.widget-view+json": {
       "model_id": "da51315dd7d445dabdc128f083b05c45",
       "version_major": 2,
       "version_minor": 0
      },
      "text/plain": [
       "Epoch 24/100:   0%|          | 0/331 [00:00<?, ?it/s]"
      ]
     },
     "metadata": {},
     "output_type": "display_data"
    },
    {
     "name": "stdout",
     "output_type": "stream",
     "text": [
      "Average inference time per image: 0.10 ms\n",
      "Epoch 24 summary: total_time=12.5s, CPU=1.1%, GPU=76.1%, VAL=22.8%\n",
      "Train loss=0.0345, Val loss=0.9482, Val f1=0.8637, Val acc=0.9061\n"
     ]
    },
    {
     "data": {
      "application/vnd.jupyter.widget-view+json": {
       "model_id": "2aa901e805614987b5f4cf196e109e99",
       "version_major": 2,
       "version_minor": 0
      },
      "text/plain": [
       "Epoch 25/100:   0%|          | 0/331 [00:00<?, ?it/s]"
      ]
     },
     "metadata": {},
     "output_type": "display_data"
    },
    {
     "name": "stdout",
     "output_type": "stream",
     "text": [
      "Average inference time per image: 0.10 ms\n",
      "Epoch 25 summary: total_time=12.3s, CPU=1.0%, GPU=76.1%, VAL=22.9%\n",
      "Train loss=0.0315, Val loss=0.6850, Val f1=0.8051, Val acc=0.8262\n"
     ]
    },
    {
     "data": {
      "application/vnd.jupyter.widget-view+json": {
       "model_id": "e5d28e78761a47fa9492a247c34ac291",
       "version_major": 2,
       "version_minor": 0
      },
      "text/plain": [
       "Epoch 26/100:   0%|          | 0/331 [00:00<?, ?it/s]"
      ]
     },
     "metadata": {},
     "output_type": "display_data"
    },
    {
     "name": "stdout",
     "output_type": "stream",
     "text": [
      "Average inference time per image: 0.10 ms\n",
      "Epoch 26 summary: total_time=12.3s, CPU=1.0%, GPU=76.0%, VAL=23.0%\n",
      "Train loss=0.0297, Val loss=0.7257, Val f1=0.8651, Val acc=0.9078\n"
     ]
    },
    {
     "data": {
      "application/vnd.jupyter.widget-view+json": {
       "model_id": "2cb2b032c7d441829d9f51927ce5f547",
       "version_major": 2,
       "version_minor": 0
      },
      "text/plain": [
       "Epoch 27/100:   0%|          | 0/331 [00:00<?, ?it/s]"
      ]
     },
     "metadata": {},
     "output_type": "display_data"
    },
    {
     "name": "stdout",
     "output_type": "stream",
     "text": [
      "Average inference time per image: 0.10 ms\n",
      "Epoch 27 summary: total_time=12.6s, CPU=1.0%, GPU=76.6%, VAL=22.4%\n",
      "Train loss=0.0230, Val loss=0.9893, Val f1=0.8516, Val acc=0.9061\n"
     ]
    },
    {
     "data": {
      "application/vnd.jupyter.widget-view+json": {
       "model_id": "17ef1e6574114c52829c74eb29f56054",
       "version_major": 2,
       "version_minor": 0
      },
      "text/plain": [
       "Epoch 28/100:   0%|          | 0/331 [00:00<?, ?it/s]"
      ]
     },
     "metadata": {},
     "output_type": "display_data"
    },
    {
     "name": "stdout",
     "output_type": "stream",
     "text": [
      "Average inference time per image: 0.10 ms\n",
      "Epoch 28 summary: total_time=12.4s, CPU=1.0%, GPU=76.2%, VAL=22.9%\n",
      "Train loss=0.0290, Val loss=0.8367, Val f1=0.8632, Val acc=0.9065\n"
     ]
    },
    {
     "data": {
      "application/vnd.jupyter.widget-view+json": {
       "model_id": "739b85f9541e4da9a3b9d8ccea72c254",
       "version_major": 2,
       "version_minor": 0
      },
      "text/plain": [
       "Epoch 29/100:   0%|          | 0/331 [00:00<?, ?it/s]"
      ]
     },
     "metadata": {},
     "output_type": "display_data"
    },
    {
     "name": "stdout",
     "output_type": "stream",
     "text": [
      "Average inference time per image: 0.13 ms\n",
      "Epoch 29 summary: total_time=12.2s, CPU=1.1%, GPU=76.2%, VAL=22.7%\n",
      "Train loss=0.0257, Val loss=0.7964, Val f1=0.8765, Val acc=0.9163\n"
     ]
    },
    {
     "data": {
      "application/vnd.jupyter.widget-view+json": {
       "model_id": "b599a7dd3fd545ff941446b7aa1419de",
       "version_major": 2,
       "version_minor": 0
      },
      "text/plain": [
       "Epoch 30/100:   0%|          | 0/331 [00:00<?, ?it/s]"
      ]
     },
     "metadata": {},
     "output_type": "display_data"
    },
    {
     "name": "stdout",
     "output_type": "stream",
     "text": [
      "Average inference time per image: 0.11 ms\n",
      "Epoch 30 summary: total_time=12.6s, CPU=1.0%, GPU=76.5%, VAL=22.5%\n",
      "Train loss=0.0366, Val loss=0.7045, Val f1=0.8733, Val acc=0.9112\n"
     ]
    },
    {
     "data": {
      "application/vnd.jupyter.widget-view+json": {
       "model_id": "37227a9e4af1475fa6011fdfc6c65457",
       "version_major": 2,
       "version_minor": 0
      },
      "text/plain": [
       "Epoch 31/100:   0%|          | 0/331 [00:00<?, ?it/s]"
      ]
     },
     "metadata": {},
     "output_type": "display_data"
    },
    {
     "name": "stdout",
     "output_type": "stream",
     "text": [
      "Average inference time per image: 0.13 ms\n",
      "Epoch 31 summary: total_time=12.5s, CPU=1.0%, GPU=76.6%, VAL=22.3%\n",
      "Train loss=0.0245, Val loss=0.8657, Val f1=0.8847, Val acc=0.9210\n",
      "Saved best model to MobileNetV3/mobilenetv3_large_best.pth\n"
     ]
    },
    {
     "data": {
      "application/vnd.jupyter.widget-view+json": {
       "model_id": "1bb4494a02f540b2851c507f8f55fb6f",
       "version_major": 2,
       "version_minor": 0
      },
      "text/plain": [
       "Epoch 32/100:   0%|          | 0/331 [00:00<?, ?it/s]"
      ]
     },
     "metadata": {},
     "output_type": "display_data"
    },
    {
     "name": "stdout",
     "output_type": "stream",
     "text": [
      "Average inference time per image: 0.11 ms\n",
      "Epoch 32 summary: total_time=12.6s, CPU=0.9%, GPU=76.9%, VAL=22.2%\n",
      "Train loss=0.0225, Val loss=0.8048, Val f1=0.8685, Val acc=0.9023\n"
     ]
    },
    {
     "data": {
      "application/vnd.jupyter.widget-view+json": {
       "model_id": "d32c0068d2834e088eebd84abb56006b",
       "version_major": 2,
       "version_minor": 0
      },
      "text/plain": [
       "Epoch 33/100:   0%|          | 0/331 [00:00<?, ?it/s]"
      ]
     },
     "metadata": {},
     "output_type": "display_data"
    },
    {
     "name": "stdout",
     "output_type": "stream",
     "text": [
      "Average inference time per image: 0.10 ms\n",
      "Epoch 33 summary: total_time=12.7s, CPU=1.0%, GPU=76.4%, VAL=22.6%\n",
      "Train loss=0.0214, Val loss=0.9612, Val f1=0.8622, Val acc=0.8963\n"
     ]
    },
    {
     "data": {
      "application/vnd.jupyter.widget-view+json": {
       "model_id": "ab923f02bafc4768b52f5e73ea5a14f8",
       "version_major": 2,
       "version_minor": 0
      },
      "text/plain": [
       "Epoch 34/100:   0%|          | 0/331 [00:00<?, ?it/s]"
      ]
     },
     "metadata": {},
     "output_type": "display_data"
    },
    {
     "name": "stdout",
     "output_type": "stream",
     "text": [
      "Average inference time per image: 0.10 ms\n",
      "Epoch 34 summary: total_time=12.8s, CPU=0.8%, GPU=76.9%, VAL=22.3%\n",
      "Train loss=0.0259, Val loss=0.8379, Val f1=0.8812, Val acc=0.9154\n"
     ]
    },
    {
     "data": {
      "application/vnd.jupyter.widget-view+json": {
       "model_id": "ea74adf342584f4081274fab6f63dbb5",
       "version_major": 2,
       "version_minor": 0
      },
      "text/plain": [
       "Epoch 35/100:   0%|          | 0/331 [00:00<?, ?it/s]"
      ]
     },
     "metadata": {},
     "output_type": "display_data"
    },
    {
     "name": "stdout",
     "output_type": "stream",
     "text": [
      "Average inference time per image: 0.10 ms\n",
      "Epoch 35 summary: total_time=12.6s, CPU=0.9%, GPU=76.8%, VAL=22.3%\n",
      "Train loss=0.0267, Val loss=0.8467, Val f1=0.8711, Val acc=0.9133\n"
     ]
    },
    {
     "data": {
      "application/vnd.jupyter.widget-view+json": {
       "model_id": "c1bdf7e4d0c848b4848cfd1c93079b35",
       "version_major": 2,
       "version_minor": 0
      },
      "text/plain": [
       "Epoch 36/100:   0%|          | 0/331 [00:00<?, ?it/s]"
      ]
     },
     "metadata": {},
     "output_type": "display_data"
    },
    {
     "name": "stdout",
     "output_type": "stream",
     "text": [
      "Average inference time per image: 0.10 ms\n",
      "Epoch 36 summary: total_time=12.4s, CPU=1.0%, GPU=76.4%, VAL=22.6%\n",
      "Train loss=0.0270, Val loss=0.8053, Val f1=0.8617, Val acc=0.9099\n"
     ]
    },
    {
     "data": {
      "application/vnd.jupyter.widget-view+json": {
       "model_id": "1d9244d084a84476bb266eb6f732368b",
       "version_major": 2,
       "version_minor": 0
      },
      "text/plain": [
       "Epoch 37/100:   0%|          | 0/331 [00:00<?, ?it/s]"
      ]
     },
     "metadata": {},
     "output_type": "display_data"
    },
    {
     "name": "stdout",
     "output_type": "stream",
     "text": [
      "Average inference time per image: 0.11 ms\n",
      "Epoch 37 summary: total_time=12.7s, CPU=1.0%, GPU=75.7%, VAL=23.3%\n",
      "Train loss=0.0264, Val loss=0.7887, Val f1=0.8725, Val acc=0.9095\n"
     ]
    },
    {
     "data": {
      "application/vnd.jupyter.widget-view+json": {
       "model_id": "a7a20f315aad45368e6e32aa15bbb225",
       "version_major": 2,
       "version_minor": 0
      },
      "text/plain": [
       "Epoch 38/100:   0%|          | 0/331 [00:00<?, ?it/s]"
      ]
     },
     "metadata": {},
     "output_type": "display_data"
    },
    {
     "name": "stdout",
     "output_type": "stream",
     "text": [
      "Average inference time per image: 0.10 ms\n",
      "Epoch 38 summary: total_time=12.4s, CPU=1.0%, GPU=76.1%, VAL=22.9%\n",
      "Train loss=0.0175, Val loss=0.9804, Val f1=0.8747, Val acc=0.9150\n"
     ]
    },
    {
     "data": {
      "application/vnd.jupyter.widget-view+json": {
       "model_id": "1af2728e25334267a48742ba9e811e7b",
       "version_major": 2,
       "version_minor": 0
      },
      "text/plain": [
       "Epoch 39/100:   0%|          | 0/331 [00:00<?, ?it/s]"
      ]
     },
     "metadata": {},
     "output_type": "display_data"
    },
    {
     "name": "stdout",
     "output_type": "stream",
     "text": [
      "Average inference time per image: 0.10 ms\n",
      "Epoch 39 summary: total_time=12.6s, CPU=1.1%, GPU=76.7%, VAL=22.3%\n",
      "Train loss=0.0089, Val loss=1.5394, Val f1=0.8778, Val acc=0.9171\n"
     ]
    },
    {
     "data": {
      "application/vnd.jupyter.widget-view+json": {
       "model_id": "0a7a4223c92d402abfc468684cbd4f78",
       "version_major": 2,
       "version_minor": 0
      },
      "text/plain": [
       "Epoch 40/100:   0%|          | 0/331 [00:00<?, ?it/s]"
      ]
     },
     "metadata": {},
     "output_type": "display_data"
    },
    {
     "name": "stdout",
     "output_type": "stream",
     "text": [
      "Average inference time per image: 0.10 ms\n",
      "Epoch 40 summary: total_time=12.5s, CPU=0.9%, GPU=76.5%, VAL=22.5%\n",
      "Train loss=0.0318, Val loss=0.8750, Val f1=0.8827, Val acc=0.9201\n"
     ]
    },
    {
     "data": {
      "application/vnd.jupyter.widget-view+json": {
       "model_id": "7e561b27fa784ad199ed11d1d87436b7",
       "version_major": 2,
       "version_minor": 0
      },
      "text/plain": [
       "Epoch 41/100:   0%|          | 0/331 [00:00<?, ?it/s]"
      ]
     },
     "metadata": {},
     "output_type": "display_data"
    },
    {
     "name": "stdout",
     "output_type": "stream",
     "text": [
      "Average inference time per image: 0.11 ms\n",
      "Epoch 41 summary: total_time=12.5s, CPU=1.0%, GPU=76.6%, VAL=22.4%\n",
      "Train loss=0.0172, Val loss=0.6044, Val f1=0.8776, Val acc=0.9086\n"
     ]
    },
    {
     "data": {
      "application/vnd.jupyter.widget-view+json": {
       "model_id": "b3fc8e522fa8471894d9f24ed8bfaab4",
       "version_major": 2,
       "version_minor": 0
      },
      "text/plain": [
       "Epoch 42/100:   0%|          | 0/331 [00:00<?, ?it/s]"
      ]
     },
     "metadata": {},
     "output_type": "display_data"
    },
    {
     "name": "stdout",
     "output_type": "stream",
     "text": [
      "Average inference time per image: 0.10 ms\n",
      "Epoch 42 summary: total_time=12.3s, CPU=1.0%, GPU=76.2%, VAL=22.8%\n",
      "Train loss=0.0178, Val loss=1.0450, Val f1=0.8789, Val acc=0.9180\n"
     ]
    },
    {
     "data": {
      "application/vnd.jupyter.widget-view+json": {
       "model_id": "25bbb1dedf314ea5853e40330d159f79",
       "version_major": 2,
       "version_minor": 0
      },
      "text/plain": [
       "Epoch 43/100:   0%|          | 0/331 [00:00<?, ?it/s]"
      ]
     },
     "metadata": {},
     "output_type": "display_data"
    },
    {
     "name": "stdout",
     "output_type": "stream",
     "text": [
      "Average inference time per image: 0.10 ms\n",
      "Epoch 43 summary: total_time=12.6s, CPU=1.0%, GPU=76.5%, VAL=22.5%\n",
      "Train loss=0.0263, Val loss=0.9065, Val f1=0.8576, Val acc=0.9014\n"
     ]
    },
    {
     "data": {
      "application/vnd.jupyter.widget-view+json": {
       "model_id": "356dc809b225495ba2cb0e8572b9a02e",
       "version_major": 2,
       "version_minor": 0
      },
      "text/plain": [
       "Epoch 44/100:   0%|          | 0/331 [00:00<?, ?it/s]"
      ]
     },
     "metadata": {},
     "output_type": "display_data"
    },
    {
     "name": "stdout",
     "output_type": "stream",
     "text": [
      "Average inference time per image: 0.10 ms\n",
      "Epoch 44 summary: total_time=12.5s, CPU=1.0%, GPU=76.3%, VAL=22.8%\n",
      "Train loss=0.0167, Val loss=1.1325, Val f1=0.8601, Val acc=0.9031\n"
     ]
    },
    {
     "data": {
      "application/vnd.jupyter.widget-view+json": {
       "model_id": "55cb2e2adee84a4fb180c3f1fe59289c",
       "version_major": 2,
       "version_minor": 0
      },
      "text/plain": [
       "Epoch 45/100:   0%|          | 0/331 [00:00<?, ?it/s]"
      ]
     },
     "metadata": {},
     "output_type": "display_data"
    },
    {
     "name": "stdout",
     "output_type": "stream",
     "text": [
      "Average inference time per image: 0.10 ms\n",
      "Epoch 45 summary: total_time=12.4s, CPU=1.1%, GPU=76.3%, VAL=22.6%\n",
      "Train loss=0.0216, Val loss=1.0621, Val f1=0.8844, Val acc=0.9193\n"
     ]
    },
    {
     "data": {
      "application/vnd.jupyter.widget-view+json": {
       "model_id": "72deb73f25c640de9289ec6a7e335ec2",
       "version_major": 2,
       "version_minor": 0
      },
      "text/plain": [
       "Epoch 46/100:   0%|          | 0/331 [00:00<?, ?it/s]"
      ]
     },
     "metadata": {},
     "output_type": "display_data"
    },
    {
     "name": "stdout",
     "output_type": "stream",
     "text": [
      "Average inference time per image: 0.10 ms\n",
      "Epoch 46 summary: total_time=12.7s, CPU=1.0%, GPU=76.6%, VAL=22.4%\n",
      "Train loss=0.0291, Val loss=0.9465, Val f1=0.8741, Val acc=0.9125\n"
     ]
    },
    {
     "data": {
      "application/vnd.jupyter.widget-view+json": {
       "model_id": "bc739aa896754daf895d0e8a58640b10",
       "version_major": 2,
       "version_minor": 0
      },
      "text/plain": [
       "Epoch 47/100:   0%|          | 0/331 [00:00<?, ?it/s]"
      ]
     },
     "metadata": {},
     "output_type": "display_data"
    },
    {
     "name": "stdout",
     "output_type": "stream",
     "text": [
      "Average inference time per image: 0.13 ms\n",
      "Epoch 47 summary: total_time=12.6s, CPU=0.9%, GPU=76.9%, VAL=22.2%\n",
      "Train loss=0.0176, Val loss=0.9213, Val f1=0.8870, Val acc=0.9201\n",
      "Saved best model to MobileNetV3/mobilenetv3_large_best.pth\n"
     ]
    },
    {
     "data": {
      "application/vnd.jupyter.widget-view+json": {
       "model_id": "7631029b876c4d5ab745c3e905407ee2",
       "version_major": 2,
       "version_minor": 0
      },
      "text/plain": [
       "Epoch 48/100:   0%|          | 0/331 [00:00<?, ?it/s]"
      ]
     },
     "metadata": {},
     "output_type": "display_data"
    },
    {
     "name": "stdout",
     "output_type": "stream",
     "text": [
      "Average inference time per image: 0.10 ms\n",
      "Epoch 48 summary: total_time=12.4s, CPU=1.1%, GPU=76.4%, VAL=22.6%\n",
      "Train loss=0.0191, Val loss=0.9761, Val f1=0.8855, Val acc=0.9218\n"
     ]
    },
    {
     "data": {
      "application/vnd.jupyter.widget-view+json": {
       "model_id": "15e1df9d57cb42fb882eb42dfe82ae3e",
       "version_major": 2,
       "version_minor": 0
      },
      "text/plain": [
       "Epoch 49/100:   0%|          | 0/331 [00:00<?, ?it/s]"
      ]
     },
     "metadata": {},
     "output_type": "display_data"
    },
    {
     "name": "stdout",
     "output_type": "stream",
     "text": [
      "Average inference time per image: 0.10 ms\n",
      "Epoch 49 summary: total_time=12.5s, CPU=1.1%, GPU=76.4%, VAL=22.5%\n",
      "Train loss=0.0103, Val loss=1.0053, Val f1=0.8736, Val acc=0.9137\n"
     ]
    },
    {
     "data": {
      "application/vnd.jupyter.widget-view+json": {
       "model_id": "b731b108197f43d2ace2d27b7d791def",
       "version_major": 2,
       "version_minor": 0
      },
      "text/plain": [
       "Epoch 50/100:   0%|          | 0/331 [00:00<?, ?it/s]"
      ]
     },
     "metadata": {},
     "output_type": "display_data"
    },
    {
     "name": "stdout",
     "output_type": "stream",
     "text": [
      "Average inference time per image: 0.10 ms\n",
      "Epoch 50 summary: total_time=12.4s, CPU=0.9%, GPU=76.6%, VAL=22.5%\n",
      "Train loss=0.0192, Val loss=1.0525, Val f1=0.8701, Val acc=0.9133\n"
     ]
    },
    {
     "data": {
      "application/vnd.jupyter.widget-view+json": {
       "model_id": "0fb131cc22d94a599129d1ce3ef9f519",
       "version_major": 2,
       "version_minor": 0
      },
      "text/plain": [
       "Epoch 51/100:   0%|          | 0/331 [00:00<?, ?it/s]"
      ]
     },
     "metadata": {},
     "output_type": "display_data"
    },
    {
     "name": "stdout",
     "output_type": "stream",
     "text": [
      "Average inference time per image: 0.11 ms\n",
      "Epoch 51 summary: total_time=12.4s, CPU=1.0%, GPU=76.5%, VAL=22.5%\n",
      "Train loss=0.0187, Val loss=0.8652, Val f1=0.8550, Val acc=0.8997\n"
     ]
    },
    {
     "data": {
      "application/vnd.jupyter.widget-view+json": {
       "model_id": "cfc88ec6cc69400cb0a1d1e286bbbd3c",
       "version_major": 2,
       "version_minor": 0
      },
      "text/plain": [
       "Epoch 52/100:   0%|          | 0/331 [00:00<?, ?it/s]"
      ]
     },
     "metadata": {},
     "output_type": "display_data"
    },
    {
     "name": "stdout",
     "output_type": "stream",
     "text": [
      "Average inference time per image: 0.09 ms\n",
      "Epoch 52 summary: total_time=12.6s, CPU=1.2%, GPU=76.5%, VAL=22.4%\n",
      "Train loss=0.0210, Val loss=0.9992, Val f1=0.8713, Val acc=0.9163\n"
     ]
    },
    {
     "data": {
      "application/vnd.jupyter.widget-view+json": {
       "model_id": "6e55faf6d7274297bed95e8634795c7d",
       "version_major": 2,
       "version_minor": 0
      },
      "text/plain": [
       "Epoch 53/100:   0%|          | 0/331 [00:00<?, ?it/s]"
      ]
     },
     "metadata": {},
     "output_type": "display_data"
    },
    {
     "name": "stdout",
     "output_type": "stream",
     "text": [
      "Average inference time per image: 0.09 ms\n",
      "Epoch 53 summary: total_time=12.4s, CPU=1.0%, GPU=76.1%, VAL=22.8%\n",
      "Train loss=0.0163, Val loss=0.9747, Val f1=0.8624, Val acc=0.9125\n"
     ]
    },
    {
     "data": {
      "application/vnd.jupyter.widget-view+json": {
       "model_id": "87b0b47d6cdf4b6c952ea589e41df10a",
       "version_major": 2,
       "version_minor": 0
      },
      "text/plain": [
       "Epoch 54/100:   0%|          | 0/331 [00:00<?, ?it/s]"
      ]
     },
     "metadata": {},
     "output_type": "display_data"
    },
    {
     "name": "stdout",
     "output_type": "stream",
     "text": [
      "Average inference time per image: 0.11 ms\n",
      "Epoch 54 summary: total_time=12.4s, CPU=1.0%, GPU=76.3%, VAL=22.7%\n",
      "Train loss=0.0152, Val loss=1.2083, Val f1=0.8702, Val acc=0.9133\n"
     ]
    },
    {
     "data": {
      "application/vnd.jupyter.widget-view+json": {
       "model_id": "28096da5a82b432fb12646d1413a6151",
       "version_major": 2,
       "version_minor": 0
      },
      "text/plain": [
       "Epoch 55/100:   0%|          | 0/331 [00:00<?, ?it/s]"
      ]
     },
     "metadata": {},
     "output_type": "display_data"
    },
    {
     "name": "stdout",
     "output_type": "stream",
     "text": [
      "Average inference time per image: 0.12 ms\n",
      "Epoch 55 summary: total_time=12.3s, CPU=1.0%, GPU=76.3%, VAL=22.7%\n",
      "Train loss=0.0212, Val loss=0.7720, Val f1=0.8313, Val acc=0.8695\n"
     ]
    },
    {
     "data": {
      "application/vnd.jupyter.widget-view+json": {
       "model_id": "3a5047c1a1fc4e7d921481d1fb842143",
       "version_major": 2,
       "version_minor": 0
      },
      "text/plain": [
       "Epoch 56/100:   0%|          | 0/331 [00:00<?, ?it/s]"
      ]
     },
     "metadata": {},
     "output_type": "display_data"
    },
    {
     "name": "stdout",
     "output_type": "stream",
     "text": [
      "Average inference time per image: 0.10 ms\n",
      "Epoch 56 summary: total_time=12.7s, CPU=1.1%, GPU=76.4%, VAL=22.5%\n",
      "Train loss=0.0190, Val loss=0.9929, Val f1=0.8812, Val acc=0.9154\n"
     ]
    },
    {
     "data": {
      "application/vnd.jupyter.widget-view+json": {
       "model_id": "45f3451897cb4f828ac6a2b7f475c8ee",
       "version_major": 2,
       "version_minor": 0
      },
      "text/plain": [
       "Epoch 57/100:   0%|          | 0/331 [00:00<?, ?it/s]"
      ]
     },
     "metadata": {},
     "output_type": "display_data"
    },
    {
     "name": "stdout",
     "output_type": "stream",
     "text": [
      "Average inference time per image: 0.10 ms\n",
      "Epoch 57 summary: total_time=12.5s, CPU=1.0%, GPU=76.4%, VAL=22.6%\n",
      "Train loss=0.0122, Val loss=1.0162, Val f1=0.8814, Val acc=0.9176\n"
     ]
    },
    {
     "data": {
      "application/vnd.jupyter.widget-view+json": {
       "model_id": "689d9f43b78c4e2fbdd6d0054c1ce32f",
       "version_major": 2,
       "version_minor": 0
      },
      "text/plain": [
       "Epoch 58/100:   0%|          | 0/331 [00:00<?, ?it/s]"
      ]
     },
     "metadata": {},
     "output_type": "display_data"
    },
    {
     "name": "stdout",
     "output_type": "stream",
     "text": [
      "Average inference time per image: 0.09 ms\n",
      "Epoch 58 summary: total_time=12.5s, CPU=0.9%, GPU=76.4%, VAL=22.7%\n",
      "Train loss=0.0165, Val loss=0.8629, Val f1=0.8665, Val acc=0.9065\n"
     ]
    },
    {
     "data": {
      "application/vnd.jupyter.widget-view+json": {
       "model_id": "cb518e40e3b246699f8c94c5f5d35405",
       "version_major": 2,
       "version_minor": 0
      },
      "text/plain": [
       "Epoch 59/100:   0%|          | 0/331 [00:00<?, ?it/s]"
      ]
     },
     "metadata": {},
     "output_type": "display_data"
    },
    {
     "name": "stdout",
     "output_type": "stream",
     "text": [
      "Average inference time per image: 0.10 ms\n",
      "Epoch 59 summary: total_time=12.7s, CPU=0.9%, GPU=77.0%, VAL=22.1%\n",
      "Train loss=0.0187, Val loss=1.0548, Val f1=0.8808, Val acc=0.9188\n"
     ]
    },
    {
     "data": {
      "application/vnd.jupyter.widget-view+json": {
       "model_id": "df227b8765944958a8c75e6bfe8b63e6",
       "version_major": 2,
       "version_minor": 0
      },
      "text/plain": [
       "Epoch 60/100:   0%|          | 0/331 [00:00<?, ?it/s]"
      ]
     },
     "metadata": {},
     "output_type": "display_data"
    },
    {
     "name": "stdout",
     "output_type": "stream",
     "text": [
      "Average inference time per image: 0.11 ms\n",
      "Epoch 60 summary: total_time=12.4s, CPU=1.2%, GPU=76.1%, VAL=22.7%\n",
      "Train loss=0.0151, Val loss=1.1668, Val f1=0.8488, Val acc=0.8993\n"
     ]
    },
    {
     "data": {
      "application/vnd.jupyter.widget-view+json": {
       "model_id": "4acf5821f7a24b60b4339061caccd286",
       "version_major": 2,
       "version_minor": 0
      },
      "text/plain": [
       "Epoch 61/100:   0%|          | 0/331 [00:00<?, ?it/s]"
      ]
     },
     "metadata": {},
     "output_type": "display_data"
    },
    {
     "name": "stdout",
     "output_type": "stream",
     "text": [
      "Average inference time per image: 0.10 ms\n",
      "Epoch 61 summary: total_time=12.6s, CPU=1.0%, GPU=76.0%, VAL=23.0%\n",
      "Train loss=0.0236, Val loss=0.9573, Val f1=0.8699, Val acc=0.9125\n"
     ]
    },
    {
     "data": {
      "application/vnd.jupyter.widget-view+json": {
       "model_id": "25c7b58797c142b4b335c2c397daafd4",
       "version_major": 2,
       "version_minor": 0
      },
      "text/plain": [
       "Epoch 62/100:   0%|          | 0/331 [00:00<?, ?it/s]"
      ]
     },
     "metadata": {},
     "output_type": "display_data"
    },
    {
     "name": "stdout",
     "output_type": "stream",
     "text": [
      "Average inference time per image: 0.10 ms\n",
      "Epoch 62 summary: total_time=12.4s, CPU=1.0%, GPU=76.1%, VAL=22.9%\n",
      "Train loss=0.0099, Val loss=1.3428, Val f1=0.8864, Val acc=0.9227\n"
     ]
    },
    {
     "data": {
      "application/vnd.jupyter.widget-view+json": {
       "model_id": "e15a2792c9a24635bd719523b47a4fda",
       "version_major": 2,
       "version_minor": 0
      },
      "text/plain": [
       "Epoch 63/100:   0%|          | 0/331 [00:00<?, ?it/s]"
      ]
     },
     "metadata": {},
     "output_type": "display_data"
    },
    {
     "name": "stdout",
     "output_type": "stream",
     "text": [
      "Average inference time per image: 0.10 ms\n",
      "Epoch 63 summary: total_time=12.5s, CPU=1.1%, GPU=76.2%, VAL=22.7%\n",
      "Train loss=0.0111, Val loss=1.1728, Val f1=0.8658, Val acc=0.9086\n"
     ]
    },
    {
     "data": {
      "application/vnd.jupyter.widget-view+json": {
       "model_id": "58ba3b31667a449a89afbf020373aee8",
       "version_major": 2,
       "version_minor": 0
      },
      "text/plain": [
       "Epoch 64/100:   0%|          | 0/331 [00:00<?, ?it/s]"
      ]
     },
     "metadata": {},
     "output_type": "display_data"
    },
    {
     "name": "stdout",
     "output_type": "stream",
     "text": [
      "Average inference time per image: 0.10 ms\n",
      "Epoch 64 summary: total_time=12.5s, CPU=0.9%, GPU=76.4%, VAL=22.7%\n",
      "Train loss=0.0285, Val loss=0.8912, Val f1=0.8586, Val acc=0.8895\n"
     ]
    },
    {
     "data": {
      "application/vnd.jupyter.widget-view+json": {
       "model_id": "6aa679ce9a914755871eb862bfeb9bb3",
       "version_major": 2,
       "version_minor": 0
      },
      "text/plain": [
       "Epoch 65/100:   0%|          | 0/331 [00:00<?, ?it/s]"
      ]
     },
     "metadata": {},
     "output_type": "display_data"
    },
    {
     "name": "stdout",
     "output_type": "stream",
     "text": [
      "Average inference time per image: 0.11 ms\n",
      "Epoch 65 summary: total_time=12.5s, CPU=1.1%, GPU=76.5%, VAL=22.3%\n",
      "Train loss=0.0217, Val loss=1.3504, Val f1=0.8606, Val acc=0.9116\n"
     ]
    },
    {
     "data": {
      "application/vnd.jupyter.widget-view+json": {
       "model_id": "854bbd7182d34cf1b98904eb4de6d720",
       "version_major": 2,
       "version_minor": 0
      },
      "text/plain": [
       "Epoch 66/100:   0%|          | 0/331 [00:00<?, ?it/s]"
      ]
     },
     "metadata": {},
     "output_type": "display_data"
    },
    {
     "name": "stdout",
     "output_type": "stream",
     "text": [
      "Average inference time per image: 0.12 ms\n",
      "Epoch 66 summary: total_time=12.5s, CPU=1.0%, GPU=76.7%, VAL=22.4%\n",
      "Train loss=0.0169, Val loss=0.9402, Val f1=0.8619, Val acc=0.9018\n"
     ]
    },
    {
     "data": {
      "application/vnd.jupyter.widget-view+json": {
       "model_id": "34bd3dde0b764526872b1c7d7d897a60",
       "version_major": 2,
       "version_minor": 0
      },
      "text/plain": [
       "Epoch 67/100:   0%|          | 0/331 [00:00<?, ?it/s]"
      ]
     },
     "metadata": {},
     "output_type": "display_data"
    },
    {
     "name": "stdout",
     "output_type": "stream",
     "text": [
      "Average inference time per image: 0.10 ms\n",
      "Epoch 67 summary: total_time=12.4s, CPU=0.9%, GPU=76.3%, VAL=22.8%\n",
      "Train loss=0.0096, Val loss=1.0067, Val f1=0.8805, Val acc=0.9154\n"
     ]
    },
    {
     "data": {
      "application/vnd.jupyter.widget-view+json": {
       "model_id": "6863cc3660654729a706a35c69e95aa0",
       "version_major": 2,
       "version_minor": 0
      },
      "text/plain": [
       "Epoch 68/100:   0%|          | 0/331 [00:00<?, ?it/s]"
      ]
     },
     "metadata": {},
     "output_type": "display_data"
    },
    {
     "name": "stdout",
     "output_type": "stream",
     "text": [
      "Average inference time per image: 0.10 ms\n",
      "Epoch 68 summary: total_time=12.3s, CPU=1.1%, GPU=75.8%, VAL=23.1%\n",
      "Train loss=0.0136, Val loss=1.0063, Val f1=0.8749, Val acc=0.9086\n"
     ]
    },
    {
     "data": {
      "application/vnd.jupyter.widget-view+json": {
       "model_id": "2d345ea749b044d0bb1eb939fc207832",
       "version_major": 2,
       "version_minor": 0
      },
      "text/plain": [
       "Epoch 69/100:   0%|          | 0/331 [00:00<?, ?it/s]"
      ]
     },
     "metadata": {},
     "output_type": "display_data"
    },
    {
     "name": "stdout",
     "output_type": "stream",
     "text": [
      "Average inference time per image: 0.10 ms\n",
      "Epoch 69 summary: total_time=12.6s, CPU=0.9%, GPU=76.7%, VAL=22.4%\n",
      "Train loss=0.0303, Val loss=0.9446, Val f1=0.8618, Val acc=0.8963\n"
     ]
    },
    {
     "data": {
      "application/vnd.jupyter.widget-view+json": {
       "model_id": "6d3e5f85aecb4103a8b2e497ba749e71",
       "version_major": 2,
       "version_minor": 0
      },
      "text/plain": [
       "Epoch 70/100:   0%|          | 0/331 [00:00<?, ?it/s]"
      ]
     },
     "metadata": {},
     "output_type": "display_data"
    },
    {
     "name": "stdout",
     "output_type": "stream",
     "text": [
      "Average inference time per image: 0.10 ms\n",
      "Epoch 70 summary: total_time=12.5s, CPU=1.1%, GPU=76.5%, VAL=22.4%\n",
      "Train loss=0.0140, Val loss=1.0793, Val f1=0.8678, Val acc=0.9078\n"
     ]
    },
    {
     "data": {
      "application/vnd.jupyter.widget-view+json": {
       "model_id": "25761ceab7c44fc2a49fa86c4f6112f8",
       "version_major": 2,
       "version_minor": 0
      },
      "text/plain": [
       "Epoch 71/100:   0%|          | 0/331 [00:00<?, ?it/s]"
      ]
     },
     "metadata": {},
     "output_type": "display_data"
    },
    {
     "name": "stdout",
     "output_type": "stream",
     "text": [
      "Average inference time per image: 0.10 ms\n",
      "Epoch 71 summary: total_time=12.2s, CPU=1.1%, GPU=75.8%, VAL=23.1%\n",
      "Train loss=0.0068, Val loss=1.2617, Val f1=0.8726, Val acc=0.9150\n"
     ]
    },
    {
     "data": {
      "application/vnd.jupyter.widget-view+json": {
       "model_id": "82071125cce34dee9fa3d6099f847582",
       "version_major": 2,
       "version_minor": 0
      },
      "text/plain": [
       "Epoch 72/100:   0%|          | 0/331 [00:00<?, ?it/s]"
      ]
     },
     "metadata": {},
     "output_type": "display_data"
    },
    {
     "name": "stdout",
     "output_type": "stream",
     "text": [
      "Average inference time per image: 0.10 ms\n",
      "Epoch 72 summary: total_time=12.6s, CPU=1.1%, GPU=76.6%, VAL=22.4%\n",
      "Train loss=0.0296, Val loss=1.0245, Val f1=0.8750, Val acc=0.9112\n"
     ]
    },
    {
     "data": {
      "application/vnd.jupyter.widget-view+json": {
       "model_id": "f0c77ecdafe44584bde0a6227cd531cd",
       "version_major": 2,
       "version_minor": 0
      },
      "text/plain": [
       "Epoch 73/100:   0%|          | 0/331 [00:00<?, ?it/s]"
      ]
     },
     "metadata": {},
     "output_type": "display_data"
    },
    {
     "name": "stdout",
     "output_type": "stream",
     "text": [
      "Average inference time per image: 0.11 ms\n",
      "Epoch 73 summary: total_time=12.5s, CPU=1.1%, GPU=76.4%, VAL=22.6%\n",
      "Train loss=0.0101, Val loss=1.1383, Val f1=0.8743, Val acc=0.9146\n"
     ]
    },
    {
     "data": {
      "application/vnd.jupyter.widget-view+json": {
       "model_id": "b0bbabdc5da6410cb5a486f0bf673add",
       "version_major": 2,
       "version_minor": 0
      },
      "text/plain": [
       "Epoch 74/100:   0%|          | 0/331 [00:00<?, ?it/s]"
      ]
     },
     "metadata": {},
     "output_type": "display_data"
    },
    {
     "name": "stdout",
     "output_type": "stream",
     "text": [
      "Average inference time per image: 0.12 ms\n",
      "Epoch 74 summary: total_time=12.5s, CPU=1.0%, GPU=76.9%, VAL=22.2%\n",
      "Train loss=0.0121, Val loss=1.0820, Val f1=0.8842, Val acc=0.9180\n"
     ]
    },
    {
     "data": {
      "application/vnd.jupyter.widget-view+json": {
       "model_id": "f41ed4662ab841a2a19f5123afbeceeb",
       "version_major": 2,
       "version_minor": 0
      },
      "text/plain": [
       "Epoch 75/100:   0%|          | 0/331 [00:00<?, ?it/s]"
      ]
     },
     "metadata": {},
     "output_type": "display_data"
    },
    {
     "name": "stdout",
     "output_type": "stream",
     "text": [
      "Average inference time per image: 0.09 ms\n",
      "Epoch 75 summary: total_time=12.4s, CPU=1.0%, GPU=76.2%, VAL=22.9%\n",
      "Train loss=0.0076, Val loss=1.3673, Val f1=0.8843, Val acc=0.9214\n"
     ]
    },
    {
     "data": {
      "application/vnd.jupyter.widget-view+json": {
       "model_id": "bf6c3267f6dc43aba920fcb4a6e4d6d8",
       "version_major": 2,
       "version_minor": 0
      },
      "text/plain": [
       "Epoch 76/100:   0%|          | 0/331 [00:00<?, ?it/s]"
      ]
     },
     "metadata": {},
     "output_type": "display_data"
    },
    {
     "name": "stdout",
     "output_type": "stream",
     "text": [
      "Average inference time per image: 0.10 ms\n",
      "Epoch 76 summary: total_time=12.2s, CPU=1.1%, GPU=76.2%, VAL=22.7%\n",
      "Train loss=0.0138, Val loss=1.0881, Val f1=0.8674, Val acc=0.9108\n"
     ]
    },
    {
     "data": {
      "application/vnd.jupyter.widget-view+json": {
       "model_id": "49adad1ee196454e914fb8ab02752c93",
       "version_major": 2,
       "version_minor": 0
      },
      "text/plain": [
       "Epoch 77/100:   0%|          | 0/331 [00:00<?, ?it/s]"
      ]
     },
     "metadata": {},
     "output_type": "display_data"
    },
    {
     "name": "stdout",
     "output_type": "stream",
     "text": [
      "Average inference time per image: 0.10 ms\n",
      "Epoch 77 summary: total_time=12.5s, CPU=1.0%, GPU=76.2%, VAL=22.8%\n",
      "Train loss=0.0134, Val loss=1.4795, Val f1=0.8724, Val acc=0.9103\n"
     ]
    },
    {
     "data": {
      "application/vnd.jupyter.widget-view+json": {
       "model_id": "8c4ba7ae052547798315d22b4a4e8be5",
       "version_major": 2,
       "version_minor": 0
      },
      "text/plain": [
       "Epoch 78/100:   0%|          | 0/331 [00:00<?, ?it/s]"
      ]
     },
     "metadata": {},
     "output_type": "display_data"
    },
    {
     "name": "stdout",
     "output_type": "stream",
     "text": [
      "Average inference time per image: 0.10 ms\n",
      "Epoch 78 summary: total_time=12.4s, CPU=0.9%, GPU=76.3%, VAL=22.7%\n",
      "Train loss=0.0205, Val loss=1.5584, Val f1=0.8716, Val acc=0.9150\n"
     ]
    },
    {
     "data": {
      "application/vnd.jupyter.widget-view+json": {
       "model_id": "efd7380842b048acbd3dca22cd959bc1",
       "version_major": 2,
       "version_minor": 0
      },
      "text/plain": [
       "Epoch 79/100:   0%|          | 0/331 [00:00<?, ?it/s]"
      ]
     },
     "metadata": {},
     "output_type": "display_data"
    },
    {
     "name": "stdout",
     "output_type": "stream",
     "text": [
      "Average inference time per image: 0.10 ms\n",
      "Epoch 79 summary: total_time=12.3s, CPU=1.0%, GPU=76.0%, VAL=23.1%\n",
      "Train loss=0.0123, Val loss=1.6959, Val f1=0.8819, Val acc=0.9197\n"
     ]
    },
    {
     "data": {
      "application/vnd.jupyter.widget-view+json": {
       "model_id": "a8522dc7c4b04a67a3b6cc3b5c16242e",
       "version_major": 2,
       "version_minor": 0
      },
      "text/plain": [
       "Epoch 80/100:   0%|          | 0/331 [00:00<?, ?it/s]"
      ]
     },
     "metadata": {},
     "output_type": "display_data"
    },
    {
     "name": "stdout",
     "output_type": "stream",
     "text": [
      "Average inference time per image: 0.13 ms\n",
      "Epoch 80 summary: total_time=12.6s, CPU=1.0%, GPU=77.2%, VAL=21.8%\n",
      "Train loss=0.0244, Val loss=1.1884, Val f1=0.8806, Val acc=0.9150\n"
     ]
    },
    {
     "data": {
      "application/vnd.jupyter.widget-view+json": {
       "model_id": "8aa593e4a8b04c20b2a800047e6c26ee",
       "version_major": 2,
       "version_minor": 0
      },
      "text/plain": [
       "Epoch 81/100:   0%|          | 0/331 [00:00<?, ?it/s]"
      ]
     },
     "metadata": {},
     "output_type": "display_data"
    },
    {
     "name": "stdout",
     "output_type": "stream",
     "text": [
      "Average inference time per image: 0.10 ms\n",
      "Epoch 81 summary: total_time=12.5s, CPU=1.0%, GPU=76.4%, VAL=22.6%\n",
      "Train loss=0.0170, Val loss=1.0987, Val f1=0.8702, Val acc=0.9057\n"
     ]
    },
    {
     "data": {
      "application/vnd.jupyter.widget-view+json": {
       "model_id": "78d7fa617cd143b89831438dc282e72e",
       "version_major": 2,
       "version_minor": 0
      },
      "text/plain": [
       "Epoch 82/100:   0%|          | 0/331 [00:00<?, ?it/s]"
      ]
     },
     "metadata": {},
     "output_type": "display_data"
    },
    {
     "name": "stdout",
     "output_type": "stream",
     "text": [
      "Average inference time per image: 0.11 ms\n",
      "Epoch 82 summary: total_time=12.6s, CPU=1.1%, GPU=76.8%, VAL=22.1%\n",
      "Train loss=0.0071, Val loss=1.2398, Val f1=0.8845, Val acc=0.9180\n"
     ]
    },
    {
     "data": {
      "application/vnd.jupyter.widget-view+json": {
       "model_id": "d765019867bd4064bea72a6a1e54d54a",
       "version_major": 2,
       "version_minor": 0
      },
      "text/plain": [
       "Epoch 83/100:   0%|          | 0/331 [00:00<?, ?it/s]"
      ]
     },
     "metadata": {},
     "output_type": "display_data"
    },
    {
     "name": "stdout",
     "output_type": "stream",
     "text": [
      "Average inference time per image: 0.10 ms\n",
      "Epoch 83 summary: total_time=12.5s, CPU=0.9%, GPU=76.0%, VAL=23.0%\n",
      "Train loss=0.0116, Val loss=1.0277, Val f1=0.8838, Val acc=0.9201\n"
     ]
    },
    {
     "data": {
      "application/vnd.jupyter.widget-view+json": {
       "model_id": "2f9616eebd9846b08851b7a28315f97f",
       "version_major": 2,
       "version_minor": 0
      },
      "text/plain": [
       "Epoch 84/100:   0%|          | 0/331 [00:00<?, ?it/s]"
      ]
     },
     "metadata": {},
     "output_type": "display_data"
    },
    {
     "name": "stdout",
     "output_type": "stream",
     "text": [
      "Average inference time per image: 0.10 ms\n",
      "Epoch 84 summary: total_time=12.6s, CPU=1.1%, GPU=76.7%, VAL=22.2%\n",
      "Train loss=0.0113, Val loss=1.2812, Val f1=0.8714, Val acc=0.9108\n"
     ]
    },
    {
     "data": {
      "application/vnd.jupyter.widget-view+json": {
       "model_id": "e5ba697b8a1542da82154c6888a02996",
       "version_major": 2,
       "version_minor": 0
      },
      "text/plain": [
       "Epoch 85/100:   0%|          | 0/331 [00:00<?, ?it/s]"
      ]
     },
     "metadata": {},
     "output_type": "display_data"
    },
    {
     "name": "stdout",
     "output_type": "stream",
     "text": [
      "Average inference time per image: 0.10 ms\n",
      "Epoch 85 summary: total_time=12.3s, CPU=1.2%, GPU=76.2%, VAL=22.6%\n",
      "Train loss=0.0136, Val loss=1.3172, Val f1=0.8680, Val acc=0.9065\n"
     ]
    },
    {
     "data": {
      "application/vnd.jupyter.widget-view+json": {
       "model_id": "e821e8a127874fc9ab78feefaa95e1cb",
       "version_major": 2,
       "version_minor": 0
      },
      "text/plain": [
       "Epoch 86/100:   0%|          | 0/331 [00:00<?, ?it/s]"
      ]
     },
     "metadata": {},
     "output_type": "display_data"
    },
    {
     "name": "stdout",
     "output_type": "stream",
     "text": [
      "Average inference time per image: 0.10 ms\n",
      "Epoch 86 summary: total_time=12.5s, CPU=1.0%, GPU=76.3%, VAL=22.7%\n",
      "Train loss=0.0181, Val loss=1.0440, Val f1=0.8770, Val acc=0.9154\n"
     ]
    },
    {
     "data": {
      "application/vnd.jupyter.widget-view+json": {
       "model_id": "728b74adf19d473abdaf5ef3c4decf8b",
       "version_major": 2,
       "version_minor": 0
      },
      "text/plain": [
       "Epoch 87/100:   0%|          | 0/331 [00:00<?, ?it/s]"
      ]
     },
     "metadata": {},
     "output_type": "display_data"
    },
    {
     "name": "stdout",
     "output_type": "stream",
     "text": [
      "Average inference time per image: 0.10 ms\n",
      "Epoch 87 summary: total_time=12.5s, CPU=0.9%, GPU=76.5%, VAL=22.6%\n",
      "Train loss=0.0109, Val loss=0.9696, Val f1=0.8578, Val acc=0.8921\n"
     ]
    },
    {
     "data": {
      "application/vnd.jupyter.widget-view+json": {
       "model_id": "fa4f21c01e8f4a1abb18aa38f84730a8",
       "version_major": 2,
       "version_minor": 0
      },
      "text/plain": [
       "Epoch 88/100:   0%|          | 0/331 [00:00<?, ?it/s]"
      ]
     },
     "metadata": {},
     "output_type": "display_data"
    },
    {
     "name": "stdout",
     "output_type": "stream",
     "text": [
      "Average inference time per image: 0.10 ms\n",
      "Epoch 88 summary: total_time=12.5s, CPU=1.0%, GPU=76.4%, VAL=22.5%\n",
      "Train loss=0.0135, Val loss=1.0844, Val f1=0.8685, Val acc=0.9091\n"
     ]
    },
    {
     "data": {
      "application/vnd.jupyter.widget-view+json": {
       "model_id": "1725c75cd2ad403cbcca3185fe3a2837",
       "version_major": 2,
       "version_minor": 0
      },
      "text/plain": [
       "Epoch 89/100:   0%|          | 0/331 [00:00<?, ?it/s]"
      ]
     },
     "metadata": {},
     "output_type": "display_data"
    },
    {
     "name": "stdout",
     "output_type": "stream",
     "text": [
      "Average inference time per image: 0.10 ms\n",
      "Epoch 89 summary: total_time=12.6s, CPU=1.0%, GPU=76.6%, VAL=22.5%\n",
      "Train loss=0.0221, Val loss=0.9920, Val f1=0.8684, Val acc=0.9082\n"
     ]
    },
    {
     "data": {
      "application/vnd.jupyter.widget-view+json": {
       "model_id": "6371644bc7a941fba29f31f5772021f5",
       "version_major": 2,
       "version_minor": 0
      },
      "text/plain": [
       "Epoch 90/100:   0%|          | 0/331 [00:00<?, ?it/s]"
      ]
     },
     "metadata": {},
     "output_type": "display_data"
    },
    {
     "name": "stdout",
     "output_type": "stream",
     "text": [
      "Average inference time per image: 0.10 ms\n",
      "Epoch 90 summary: total_time=12.6s, CPU=0.9%, GPU=76.0%, VAL=23.1%\n",
      "Train loss=0.0133, Val loss=1.1722, Val f1=0.8741, Val acc=0.9099\n"
     ]
    },
    {
     "data": {
      "application/vnd.jupyter.widget-view+json": {
       "model_id": "65c6733fe51944f7bb168436ed8bca68",
       "version_major": 2,
       "version_minor": 0
      },
      "text/plain": [
       "Epoch 91/100:   0%|          | 0/331 [00:00<?, ?it/s]"
      ]
     },
     "metadata": {},
     "output_type": "display_data"
    },
    {
     "name": "stdout",
     "output_type": "stream",
     "text": [
      "Average inference time per image: 0.13 ms\n",
      "Epoch 91 summary: total_time=12.4s, CPU=1.0%, GPU=76.5%, VAL=22.5%\n",
      "Train loss=0.0089, Val loss=1.3937, Val f1=0.8849, Val acc=0.9201\n"
     ]
    },
    {
     "data": {
      "application/vnd.jupyter.widget-view+json": {
       "model_id": "b5a82147bcc54088abf40c45cd26c776",
       "version_major": 2,
       "version_minor": 0
      },
      "text/plain": [
       "Epoch 92/100:   0%|          | 0/331 [00:00<?, ?it/s]"
      ]
     },
     "metadata": {},
     "output_type": "display_data"
    },
    {
     "name": "stdout",
     "output_type": "stream",
     "text": [
      "Average inference time per image: 0.10 ms\n",
      "Epoch 92 summary: total_time=12.6s, CPU=1.0%, GPU=76.4%, VAL=22.6%\n",
      "Train loss=0.0043, Val loss=1.4217, Val f1=0.8748, Val acc=0.9146\n"
     ]
    },
    {
     "data": {
      "application/vnd.jupyter.widget-view+json": {
       "model_id": "74d79ff644fc467cb92e9e7bfc32feb3",
       "version_major": 2,
       "version_minor": 0
      },
      "text/plain": [
       "Epoch 93/100:   0%|          | 0/331 [00:00<?, ?it/s]"
      ]
     },
     "metadata": {},
     "output_type": "display_data"
    },
    {
     "name": "stdout",
     "output_type": "stream",
     "text": [
      "Average inference time per image: 0.11 ms\n",
      "Epoch 93 summary: total_time=12.6s, CPU=1.0%, GPU=76.4%, VAL=22.6%\n",
      "Train loss=0.0155, Val loss=0.9696, Val f1=0.8446, Val acc=0.8708\n"
     ]
    },
    {
     "data": {
      "application/vnd.jupyter.widget-view+json": {
       "model_id": "6fbac253eeb04948bff10d5c6f07ab15",
       "version_major": 2,
       "version_minor": 0
      },
      "text/plain": [
       "Epoch 94/100:   0%|          | 0/331 [00:00<?, ?it/s]"
      ]
     },
     "metadata": {},
     "output_type": "display_data"
    },
    {
     "name": "stdout",
     "output_type": "stream",
     "text": [
      "Average inference time per image: 0.10 ms\n",
      "Epoch 94 summary: total_time=12.6s, CPU=1.0%, GPU=76.4%, VAL=22.6%\n",
      "Train loss=0.0244, Val loss=1.2446, Val f1=0.8818, Val acc=0.9188\n"
     ]
    },
    {
     "data": {
      "application/vnd.jupyter.widget-view+json": {
       "model_id": "3ea0f6c128ac4c878f79bec889d7fcc2",
       "version_major": 2,
       "version_minor": 0
      },
      "text/plain": [
       "Epoch 95/100:   0%|          | 0/331 [00:00<?, ?it/s]"
      ]
     },
     "metadata": {},
     "output_type": "display_data"
    },
    {
     "name": "stdout",
     "output_type": "stream",
     "text": [
      "Average inference time per image: 0.10 ms\n",
      "Epoch 95 summary: total_time=12.5s, CPU=0.9%, GPU=76.8%, VAL=22.3%\n",
      "Train loss=0.0066, Val loss=1.4302, Val f1=0.8821, Val acc=0.9184\n"
     ]
    },
    {
     "data": {
      "application/vnd.jupyter.widget-view+json": {
       "model_id": "fdee0c6e0a2e4b61baba3b4001290b38",
       "version_major": 2,
       "version_minor": 0
      },
      "text/plain": [
       "Epoch 96/100:   0%|          | 0/331 [00:00<?, ?it/s]"
      ]
     },
     "metadata": {},
     "output_type": "display_data"
    },
    {
     "name": "stdout",
     "output_type": "stream",
     "text": [
      "Average inference time per image: 0.10 ms\n",
      "Epoch 96 summary: total_time=12.5s, CPU=0.9%, GPU=76.4%, VAL=22.6%\n",
      "Train loss=0.0105, Val loss=1.1497, Val f1=0.8677, Val acc=0.9061\n"
     ]
    },
    {
     "data": {
      "application/vnd.jupyter.widget-view+json": {
       "model_id": "fe662b9fd76e4ae1abdf78b56353f1fa",
       "version_major": 2,
       "version_minor": 0
      },
      "text/plain": [
       "Epoch 97/100:   0%|          | 0/331 [00:00<?, ?it/s]"
      ]
     },
     "metadata": {},
     "output_type": "display_data"
    },
    {
     "name": "stdout",
     "output_type": "stream",
     "text": [
      "Average inference time per image: 0.10 ms\n",
      "Epoch 97 summary: total_time=12.5s, CPU=1.0%, GPU=76.4%, VAL=22.6%\n",
      "Train loss=0.0132, Val loss=1.0162, Val f1=0.8596, Val acc=0.9065\n"
     ]
    },
    {
     "data": {
      "application/vnd.jupyter.widget-view+json": {
       "model_id": "157b305d0a374f3f864be001ef4beba6",
       "version_major": 2,
       "version_minor": 0
      },
      "text/plain": [
       "Epoch 98/100:   0%|          | 0/331 [00:00<?, ?it/s]"
      ]
     },
     "metadata": {},
     "output_type": "display_data"
    },
    {
     "name": "stdout",
     "output_type": "stream",
     "text": [
      "Average inference time per image: 0.10 ms\n",
      "Epoch 98 summary: total_time=12.5s, CPU=1.1%, GPU=76.3%, VAL=22.6%\n",
      "Train loss=0.0129, Val loss=0.9981, Val f1=0.8829, Val acc=0.9188\n"
     ]
    },
    {
     "data": {
      "application/vnd.jupyter.widget-view+json": {
       "model_id": "7b1622b28f4143c697be9b5d522551a3",
       "version_major": 2,
       "version_minor": 0
      },
      "text/plain": [
       "Epoch 99/100:   0%|          | 0/331 [00:00<?, ?it/s]"
      ]
     },
     "metadata": {},
     "output_type": "display_data"
    },
    {
     "name": "stdout",
     "output_type": "stream",
     "text": [
      "Average inference time per image: 0.10 ms\n",
      "Epoch 99 summary: total_time=12.5s, CPU=0.9%, GPU=76.6%, VAL=22.5%\n",
      "Train loss=0.0107, Val loss=0.8228, Val f1=0.8704, Val acc=0.9074\n"
     ]
    },
    {
     "data": {
      "application/vnd.jupyter.widget-view+json": {
       "model_id": "26ea1557db62424390169de8970f42b6",
       "version_major": 2,
       "version_minor": 0
      },
      "text/plain": [
       "Epoch 100/100:   0%|          | 0/331 [00:00<?, ?it/s]"
      ]
     },
     "metadata": {},
     "output_type": "display_data"
    },
    {
     "name": "stdout",
     "output_type": "stream",
     "text": [
      "Average inference time per image: 0.10 ms\n",
      "Epoch 100 summary: total_time=12.8s, CPU=1.0%, GPU=76.7%, VAL=22.3%\n",
      "Train loss=0.0147, Val loss=1.3102, Val f1=0.8754, Val acc=0.9163\n",
      "Training finished. Best epoch: 47\n"
     ]
    }
   ],
   "source": [
    "model = build_model(num_classes=len(class_to_idx), pretrained=PRETRAINED).to(DEVICE)\n",
    "criterion = nn.CrossEntropyLoss(weight=class_weights_tensor)\n",
    "optimizer = torch.optim.AdamW(model.parameters(), lr=LR, weight_decay=WEIGHT_DECAY)\n",
    "\n",
    "train_loop(train_loader, val_loader, model, criterion, optimizer, DEVICE, NUM_EPOCHS)"
   ]
  },
  {
   "cell_type": "markdown",
   "id": "88f3896b-7cd1-44a3-aac3-e5f30233d8c2",
   "metadata": {},
   "source": [
    "## Оценка на test"
   ]
  },
  {
   "cell_type": "code",
   "execution_count": 14,
   "id": "8909ae03-7a1a-4e5b-9e86-04f9ef64ad16",
   "metadata": {
    "execution": {
     "iopub.execute_input": "2025-10-14T08:44:35.401952Z",
     "iopub.status.busy": "2025-10-14T08:44:35.401202Z",
     "iopub.status.idle": "2025-10-14T08:45:13.506448Z",
     "shell.execute_reply": "2025-10-14T08:45:13.505756Z",
     "shell.execute_reply.started": "2025-10-14T08:44:35.401919Z"
    },
    "tags": []
   },
   "outputs": [
    {
     "name": "stdout",
     "output_type": "stream",
     "text": [
      "\n",
      "---------------- Final evaluation on TEST set ----------------\n"
     ]
    },
    {
     "data": {
      "application/vnd.jupyter.widget-view+json": {
       "model_id": "",
       "version_major": 2,
       "version_minor": 0
      },
      "text/plain": [
       "Evaluating on TEST set:   0%|          | 0/92 [00:00<?, ?it/s]"
      ]
     },
     "metadata": {},
     "output_type": "display_data"
    },
    {
     "name": "stdout",
     "output_type": "stream",
     "text": [
      "\n",
      "---------------- Final TEST Evaluation ----------------\n",
      "Loss:      0.7898\n",
      "Accuracy:  0.9160\n",
      "Precision: 0.8668\n",
      "Recall:    0.8882\n",
      "F1-score:  0.8771\n",
      "\n",
      "Confusion Matrix:\n",
      "[[ 449   21   18]\n",
      " [  33  849  178]\n",
      " [  45  199 4089]]\n",
      "\n",
      "Per-class metrics:\n",
      "              precision  recall  f1-score   support\n",
      "absent           0.8520  0.9201    0.8847   488.000\n",
      "part             0.7942  0.8009    0.7976  1060.000\n",
      "present          0.9543  0.9437    0.9489  4333.000\n",
      "accuracy         0.9160  0.9160    0.9160     0.916\n",
      "macro avg        0.8668  0.8882    0.8771  5881.000\n",
      "weighted avg     0.9169  0.9160    0.9163  5881.000\n",
      "\n",
      "Average inference time per image: 0.13 ms\n"
     ]
    }
   ],
   "source": [
    "best_ckpt = os.path.join(OUTPUT_DIR, 'mobilenetv3_large_best.pth')\n",
    "\n",
    "if os.path.exists(best_ckpt):\n",
    "    checkpoint = torch.load(best_ckpt, map_location=DEVICE)\n",
    "    model.load_state_dict(checkpoint['model_state'])\n",
    "\n",
    "    print(\"\\n---------------- Final evaluation on TEST set ----------------\")\n",
    "    test_results = evaluate_test(model, test_loader, criterion, DEVICE, class_names=list(class_to_idx.keys()))\n",
    "else:\n",
    "    print(\"No checkpoint found.\")"
   ]
  }
 ],
 "metadata": {
  "kernelspec": {
   "display_name": "DataSphere Kernel",
   "language": "python",
   "name": "python3"
  },
  "language_info": {
   "codemirror_mode": {
    "name": "ipython",
    "version": 3
   },
   "file_extension": ".py",
   "mimetype": "text/x-python",
   "name": "python",
   "nbconvert_exporter": "python",
   "pygments_lexer": "ipython3",
   "version": "3.10.12"
  }
 },
 "nbformat": 4,
 "nbformat_minor": 5
}
