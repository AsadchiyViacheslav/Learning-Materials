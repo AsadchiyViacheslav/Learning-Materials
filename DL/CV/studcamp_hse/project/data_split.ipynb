{
 "cells": [
  {
   "cell_type": "code",
   "execution_count": 5,
   "id": "6f50510a",
   "metadata": {},
   "outputs": [],
   "source": [
    "import pandas as pd\n",
    "from sklearn.model_selection import train_test_split\n",
    "import os"
   ]
  },
  {
   "cell_type": "code",
   "execution_count": 6,
   "id": "527a9925",
   "metadata": {},
   "outputs": [],
   "source": [
    "DATA_DIR = \"data\"\n",
    "TEST_SIZE = 0.2\n",
    "RANDOM_STATE = 42\n",
    "\n",
    "def split_csv(filename: str, label_col: str):\n",
    "    path = os.path.join(DATA_DIR, filename)\n",
    "    df = pd.read_csv(path)\n",
    "    df = df.dropna(subset=[label_col])\n",
    "    \n",
    "    print(f\"Файл: {filename}\")\n",
    "    print(\"Размер исходного датасета:\", len(df))\n",
    "    print(\"Распределение классов:\")\n",
    "    print(df[label_col].value_counts(), \"\\n\")\n",
    "    \n",
    "    train_df, test_df = train_test_split(\n",
    "        df,\n",
    "        test_size=TEST_SIZE,\n",
    "        stratify=df[label_col],\n",
    "        random_state=RANDOM_STATE\n",
    "    )\n",
    "\n",
    "    train_path = os.path.join(DATA_DIR, filename.replace(\".csv\", \"_train.csv\"))\n",
    "    test_path = os.path.join(DATA_DIR, filename.replace(\".csv\", \"_test.csv\"))\n",
    "\n",
    "    train_df.to_csv(train_path, index=False)\n",
    "    test_df.to_csv(test_path, index=False)\n",
    "\n",
    "    print(f\" - {train_path} ({len(train_df)} строк)\")\n",
    "    print(f\" - {test_path} ({len(test_df)} строк)\")"
   ]
  },
  {
   "cell_type": "code",
   "execution_count": 7,
   "id": "abbf3d22",
   "metadata": {},
   "outputs": [
    {
     "name": "stdout",
     "output_type": "stream",
     "text": [
      "Файл: parking_label.csv\n",
      "Размер исходного датасета: 44889\n",
      "Распределение классов:\n",
      "parking\n",
      "inside         27481\n",
      "hard_to_say    10625\n",
      "outside         6783\n",
      "Name: count, dtype: int64 \n",
      "\n",
      " - data\\parking_label_train.csv (35911 строк)\n",
      " - data\\parking_label_test.csv (8978 строк)\n",
      "Файл: scooters_label.csv\n",
      "Размер исходного датасета: 49004\n",
      "Распределение классов:\n",
      "scooter\n",
      "present    35859\n",
      "part        9011\n",
      "absent      4134\n",
      "Name: count, dtype: int64 \n",
      "\n",
      " - data\\scooters_label_train.csv (39203 строк)\n",
      " - data\\scooters_label_test.csv (9801 строк)\n"
     ]
    }
   ],
   "source": [
    "split_csv(\"parking_label.csv\", label_col=\"parking\")\n",
    "split_csv(\"scooters_label.csv\", label_col=\"scooter\")"
   ]
  }
 ],
 "metadata": {
  "kernelspec": {
   "display_name": "Python 3",
   "language": "python",
   "name": "python3"
  },
  "language_info": {
   "codemirror_mode": {
    "name": "ipython",
    "version": 3
   },
   "file_extension": ".py",
   "mimetype": "text/x-python",
   "name": "python",
   "nbconvert_exporter": "python",
   "pygments_lexer": "ipython3",
   "version": "3.13.7"
  }
 },
 "nbformat": 4,
 "nbformat_minor": 5
}
