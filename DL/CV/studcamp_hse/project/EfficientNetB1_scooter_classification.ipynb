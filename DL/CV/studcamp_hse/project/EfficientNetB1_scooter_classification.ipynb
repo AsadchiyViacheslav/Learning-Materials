{
 "cells": [
  {
   "cell_type": "markdown",
   "id": "c9bcde84-80d1-49b1-9336-f61df4a169ee",
   "metadata": {},
   "source": [
    "## Импорты, параметры и константы"
   ]
  },
  {
   "cell_type": "code",
   "execution_count": 1,
   "id": "4a8ddc02-2d81-4d19-a4ab-06825919072f",
   "metadata": {
    "execution": {
     "iopub.execute_input": "2025-10-14T11:29:33.817858Z",
     "iopub.status.busy": "2025-10-14T11:29:33.816930Z",
     "iopub.status.idle": "2025-10-14T11:29:46.303110Z",
     "shell.execute_reply": "2025-10-14T11:29:46.302394Z",
     "shell.execute_reply.started": "2025-10-14T11:29:33.817830Z"
    },
    "tags": []
   },
   "outputs": [],
   "source": [
    "import os\n",
    "import json\n",
    "from pathlib import Path\n",
    "from collections import Counter\n",
    "import time\n",
    "import sys\n",
    "\n",
    "import numpy as np\n",
    "import pandas as pd\n",
    "from PIL import Image\n",
    "\n",
    "import torch\n",
    "import torch.nn as nn\n",
    "from torch.utils.data import Dataset, DataLoader\n",
    "from torchvision import transforms\n",
    "from torchvision.models import efficientnet_b1, EfficientNet_B1_Weights\n",
    "\n",
    "from sklearn.model_selection import train_test_split\n",
    "from sklearn.metrics import classification_report\n",
    "from sklearn.metrics import accuracy_score, precision_score, recall_score, f1_score, confusion_matrix\n",
    "import psutil\n",
    "from tqdm.notebook import tqdm\n",
    "\n",
    "\n",
    "DEFAULT_TRAIN_CSV = \"data/scooters_label_train.csv\"\n",
    "DEFAULT_TEST_CSV  = \"data/scooters_label_test.csv\"\n",
    "OUTPUT_DIR = \"EfficientNetB1\"  \n",
    "IMG_SIZE = 240  \n",
    "BATCH_SIZE = 64 \n",
    "NUM_WORKERS = min(8, os.cpu_count())\n",
    "NUM_EPOCHS = 100\n",
    "LR = 5e-4\n",
    "WEIGHT_DECAY = 1e-5\n",
    "PATIENCE = 30\n",
    "DEVICE = \"cuda\" if torch.cuda.is_available() else \"cpu\"\n",
    "NUM_CLASSES = 3\n",
    "SEED = 42\n",
    "PRETRAINED = True\n",
    "DATA_FRACTION = 0.5 \n",
    "MIN_FREE_GB = 6.0"
   ]
  },
  {
   "cell_type": "markdown",
   "id": "46367277-20ca-4fc3-a87e-a0ede1e92d3c",
   "metadata": {},
   "source": [
    "## Архитектура (модель, агументация, загрузка данных и т.д.)"
   ]
  },
  {
   "cell_type": "code",
   "execution_count": 2,
   "id": "f59833a5-94b0-447b-a919-6c104b5ea083",
   "metadata": {
    "execution": {
     "iopub.execute_input": "2025-10-14T11:29:52.075638Z",
     "iopub.status.busy": "2025-10-14T11:29:52.074654Z",
     "iopub.status.idle": "2025-10-14T11:29:52.125585Z",
     "shell.execute_reply": "2025-10-14T11:29:52.124938Z",
     "shell.execute_reply.started": "2025-10-14T11:29:52.075607Z"
    },
    "tags": []
   },
   "outputs": [],
   "source": [
    "def seed_everything(seed=SEED):\n",
    "    import random\n",
    "    random.seed(seed)\n",
    "    np.random.seed(seed)\n",
    "    torch.manual_seed(seed)\n",
    "    if torch.cuda.is_available():\n",
    "        torch.cuda.manual_seed_all(seed)\n",
    "\n",
    "class RandomRotate90:\n",
    "    \"\"\"Случайный поворот на 0, 90, 180 или 270 градусов\"\"\"\n",
    "    def __call__(self, img):\n",
    "        angle = np.random.choice([0, 90, 180, 270])\n",
    "        return img.rotate(angle) if angle != 0 else img\n",
    "\n",
    "\n",
    "class ScooterDataset(Dataset):\n",
    "    def __init__(self, csv_file, class_to_idx=None, transforms=None, sample_frac=1.0, cache=False, min_free_gb=1.0, max_cache_images = 22000):\n",
    "        if isinstance(csv_file, pd.DataFrame):\n",
    "            self.df = csv_file.copy()\n",
    "        else:\n",
    "            self.df = pd.read_csv(csv_file)\n",
    "\n",
    "        if 0 < sample_frac < 1.0:\n",
    "            self.df = self.df.sample(frac=sample_frac, random_state=SEED).reset_index(drop=True)\n",
    "\n",
    "        self.labels = self.df[\"scooter\"].astype(str).tolist()\n",
    "        self.paths = self.df[\"path\"].tolist()\n",
    "\n",
    "        if class_to_idx is None:\n",
    "            classes = sorted(list(set(self.labels)))\n",
    "            self.class_to_idx = {c: i for i, c in enumerate(classes)}\n",
    "        else:\n",
    "            self.class_to_idx = class_to_idx\n",
    "\n",
    "        self.targets = [self.class_to_idx[l] for l in self.labels]\n",
    "        self.transforms = transforms\n",
    "        self.cache = cache\n",
    "        self.min_free_gb = min_free_gb\n",
    "        self.cached_images = {}\n",
    "        self.max_cache_images = max_cache_images\n",
    "\n",
    "        if self.cache:\n",
    "            self._cache_images_safely()\n",
    "\n",
    "    def _cache_images_safely(self):\n",
    "        total_cached = 0\n",
    "        for idx, p in enumerate(tqdm(self.paths, mininterval=3, desc=\"Caching images\")):\n",
    "            if total_cached >= self.max_cache_images:\n",
    "                print(f\"Reached max_cache_images limit: {self.max_cache_images}\")\n",
    "                break\n",
    "                \n",
    "            mem = psutil.virtual_memory()\n",
    "            free_gb = mem.available / 1e9\n",
    "            if free_gb < self.min_free_gb:\n",
    "                print(f\"Stopping caching: only {free_gb:.2f} GB free after {total_cached} images\")\n",
    "                break\n",
    "\n",
    "            try:\n",
    "                img = Image.open(p).convert(\"RGB\")\n",
    "            except:\n",
    "                img = Image.new(\"RGB\", (IMG_SIZE, IMG_SIZE), (0, 0, 0))\n",
    "\n",
    "            if self.transforms:\n",
    "                img = self.transforms(img)\n",
    "\n",
    "            self.cached_images[idx] = img\n",
    "            total_cached += 1\n",
    "\n",
    "        print(f\"Cached {total_cached} / {len(self.paths)} images\")\n",
    "\n",
    "    def __len__(self):\n",
    "        return len(self.paths)\n",
    "\n",
    "    def __getitem__(self, idx):\n",
    "        label = self.targets[idx]\n",
    "        if idx in self.cached_images:\n",
    "            img = self.cached_images[idx]\n",
    "        else:\n",
    "            p = self.paths[idx]\n",
    "            try:\n",
    "                img = Image.open(p).convert(\"RGB\")\n",
    "            except:\n",
    "                img = Image.new(\"RGB\", (IMG_SIZE, IMG_SIZE), (0, 0, 0))\n",
    "            if self.transforms:\n",
    "                img = self.transforms(img)\n",
    "        return img, label\n",
    "\n",
    "\n",
    "def get_transforms(img_size=IMG_SIZE):\n",
    "    train_transforms = transforms.Compose([\n",
    "        RandomRotate90(),\n",
    "        transforms.RandomHorizontalFlip(p=0.5),\n",
    "        transforms.RandomApply([transforms.ColorJitter(brightness=0.3, contrast=0.3)], p=0.7),\n",
    "        transforms.Resize((img_size, img_size)),\n",
    "        transforms.ToTensor(),\n",
    "        transforms.Normalize(mean=[0.485,0.456,0.406], std=[0.229,0.224,0.225])\n",
    "    ])\n",
    "    val_transforms = transforms.Compose([\n",
    "        transforms.Resize((img_size, img_size)),\n",
    "        transforms.ToTensor(),\n",
    "        transforms.Normalize(mean=[0.485,0.456,0.406], std=[0.229,0.224,0.225])\n",
    "    ])\n",
    "    return train_transforms, val_transforms\n",
    "\n",
    "\n",
    "def build_model(num_classes=NUM_CLASSES, pretrained=True):\n",
    "    \"\"\"Создание модели EfficientNet-B1\"\"\"\n",
    "    weights = EfficientNet_B1_Weights.IMAGENET1K_V1 if pretrained else None\n",
    "    model = efficientnet_b1(weights=weights)\n",
    "    \n",
    "    in_features = model.classifier[-1].in_features\n",
    "    model.classifier[-1] = nn.Linear(in_features, num_classes)\n",
    "    \n",
    "    return model\n",
    "\n",
    "\n",
    "def evaluate(model, dataloader, criterion, device, flag=True):\n",
    "    model.eval()\n",
    "    all_preds, all_targets = [], []\n",
    "    running_loss = 0.0\n",
    "    inference_times = []\n",
    "\n",
    "    iterator = tqdm(dataloader, desc=\"Evaluating\") if flag else dataloader\n",
    "\n",
    "    with torch.no_grad():\n",
    "        for imgs, labels in iterator:\n",
    "            imgs = imgs.to(device, non_blocking=True)\n",
    "            labels = labels.to(device, non_blocking=True)\n",
    "\n",
    "            start = time.time()\n",
    "            outputs = model(imgs)\n",
    "            inference_times.append(time.time() - start)\n",
    "\n",
    "            loss = criterion(outputs, labels)\n",
    "            running_loss += loss.item() * imgs.size(0)\n",
    "\n",
    "            preds = outputs.argmax(dim=1).cpu().numpy()\n",
    "            all_preds.extend(preds.tolist())\n",
    "            all_targets.extend(labels.cpu().numpy().tolist())\n",
    "\n",
    "    avg_loss = running_loss / len(dataloader.dataset)\n",
    "    avg_time_per_image = np.mean(inference_times) / imgs.size(0)\n",
    "    total_time_per_image = np.sum(inference_times) / len(dataloader.dataset)\n",
    "\n",
    "    acc = accuracy_score(all_targets, all_preds)\n",
    "    prec = precision_score(all_targets, all_preds, average='macro', zero_division=0)\n",
    "    rec = recall_score(all_targets, all_preds, average='macro', zero_division=0)\n",
    "    f1 = f1_score(all_targets, all_preds, average='macro', zero_division=0)\n",
    "    cm = confusion_matrix(all_targets, all_preds)\n",
    "\n",
    "    print(f\"Average inference time per image: {total_time_per_image*1000:.2f} ms\")\n",
    "\n",
    "    return {\n",
    "        'loss': avg_loss, 'accuracy': acc, 'precision': prec, 'recall': rec, 'f1': f1,\n",
    "        'confusion_matrix': cm, 'avg_inference_time': total_time_per_image\n",
    "    }\n",
    "\n",
    "\n",
    "def evaluate_test(model, dataloader, criterion, device, class_names, log=True):\n",
    "    model.eval()\n",
    "    all_preds, all_targets = [], []\n",
    "    running_loss = 0.0\n",
    "    inference_times = []\n",
    "\n",
    "    iterator = tqdm(dataloader, desc=\"Evaluating on TEST set\", leave=False) if log else dataloader\n",
    "\n",
    "    with torch.no_grad():\n",
    "        for imgs, labels in iterator:\n",
    "            imgs = imgs.to(device, non_blocking=True)\n",
    "            labels = labels.to(device, non_blocking=True)\n",
    "\n",
    "            start = time.time()\n",
    "            outputs = model(imgs)\n",
    "            inference_times.append(time.time() - start)\n",
    "\n",
    "            loss = criterion(outputs, labels)\n",
    "            running_loss += loss.item() * imgs.size(0)\n",
    "\n",
    "            preds = outputs.argmax(dim=1).cpu().numpy()\n",
    "            all_preds.extend(preds.tolist())\n",
    "            all_targets.extend(labels.cpu().numpy().tolist())\n",
    "\n",
    "    avg_loss = running_loss / len(dataloader.dataset)\n",
    "    acc = accuracy_score(all_targets, all_preds)\n",
    "    prec = precision_score(all_targets, all_preds, average='macro', zero_division=0)\n",
    "    rec = recall_score(all_targets, all_preds, average='macro', zero_division=0)\n",
    "    f1 = f1_score(all_targets, all_preds, average='macro', zero_division=0)\n",
    "    cm = confusion_matrix(all_targets, all_preds)\n",
    "\n",
    "    print(\"\\n---------------- Final TEST Evaluation ----------------\")\n",
    "    print(f\"Loss:      {avg_loss:.4f}\")\n",
    "    print(f\"Accuracy:  {acc:.4f}\")\n",
    "    print(f\"Precision: {prec:.4f}\")\n",
    "    print(f\"Recall:    {rec:.4f}\")\n",
    "    print(f\"F1-score:  {f1:.4f}\")\n",
    "    print(\"\\nConfusion Matrix:\")\n",
    "    print(cm)\n",
    "\n",
    "    report = classification_report(\n",
    "        all_targets, all_preds, \n",
    "        target_names=class_names, \n",
    "        output_dict=True, \n",
    "        zero_division=0\n",
    "    )\n",
    "\n",
    "    df_report = pd.DataFrame(report).transpose()\n",
    "    print(\"\\nPer-class metrics:\")\n",
    "    print(df_report.round(4))\n",
    "\n",
    "    avg_time_per_image = np.sum(inference_times) / len(dataloader.dataset)\n",
    "    print(f\"\\nAverage inference time per image: {avg_time_per_image*1000:.2f} ms\")\n",
    "\n",
    "    return {\n",
    "        'loss': avg_loss,\n",
    "        'accuracy': acc,\n",
    "        'precision': prec,\n",
    "        'recall': rec,\n",
    "        'f1': f1,\n",
    "        'confusion_matrix': cm,\n",
    "        'per_class': df_report,\n",
    "        'avg_inference_time': avg_time_per_image\n",
    "    }\n",
    "\n",
    "\n",
    "def train_loop(train_loader, val_loader, model, criterion, optimizer, device, num_epochs=NUM_EPOCHS):\n",
    "    best_val_f1 = -float('inf')\n",
    "    best_epoch = -1\n",
    "    os.makedirs(OUTPUT_DIR, exist_ok=True)\n",
    "\n",
    "    for epoch in range(1, num_epochs+1):\n",
    "        model.train()\n",
    "        running_loss = 0.0\n",
    "        total_cpu_time = 0.0\n",
    "        total_gpu_time = 0.0\n",
    "\n",
    "        pbar = tqdm(train_loader, desc=f\"Epoch {epoch}/{num_epochs}\")\n",
    "        for imgs, labels in pbar:\n",
    "            start_cpu = time.time()\n",
    "            imgs = imgs.to(device, non_blocking=True)\n",
    "            labels = labels.to(device, non_blocking=True)\n",
    "            total_cpu_time += time.time() - start_cpu\n",
    "\n",
    "            start_gpu = time.time()\n",
    "            optimizer.zero_grad()\n",
    "            outputs = model(imgs)\n",
    "            loss = criterion(outputs, labels)\n",
    "            loss.backward()\n",
    "            optimizer.step()\n",
    "            total_gpu_time += time.time() - start_gpu\n",
    "\n",
    "            running_loss += loss.item() * imgs.size(0)\n",
    "            processed = min(((pbar.n + 1) * imgs.size(0)), len(train_loader.dataset))\n",
    "            avg_loss_running = running_loss / processed\n",
    "            pbar.set_postfix({'loss': f\"{avg_loss_running:.4f}\"})\n",
    "\n",
    "        epoch_train_loss = running_loss / len(train_loader.dataset)\n",
    "\n",
    "        # Валидация\n",
    "        start_val = time.time()\n",
    "        val_res = evaluate(model, val_loader, criterion, device, False)\n",
    "        val_time = time.time() - start_val\n",
    "\n",
    "        total_time = total_cpu_time + total_gpu_time + val_time\n",
    "        cpu_percent = total_cpu_time / total_time * 100\n",
    "        gpu_percent = total_gpu_time / total_time * 100\n",
    "        val_percent = val_time / total_time * 100\n",
    "\n",
    "        print(f\"Epoch {epoch} summary: total_time={total_time:.1f}s, CPU={cpu_percent:.1f}%, GPU={gpu_percent:.1f}%, VAL={val_percent:.1f}%\")\n",
    "        print(f\"Train loss={epoch_train_loss:.4f}, Val loss={val_res['loss']:.4f}, Val f1={val_res['f1']:.4f}, Val acc={val_res['accuracy']:.4f}\")\n",
    "\n",
    "        if val_res['f1'] > best_val_f1:\n",
    "            best_val_f1 = val_res['f1']\n",
    "            best_epoch = epoch\n",
    "            ckpt_path = os.path.join(OUTPUT_DIR, 'efficientnet_b1_best.pth')\n",
    "            torch.save({'epoch': epoch, 'model_state': model.state_dict(), 'optimizer_state': optimizer.state_dict()}, ckpt_path)\n",
    "            print(f\"Saved best model to {ckpt_path}\")\n",
    "\n",
    "        if epoch - best_epoch >= PATIENCE:\n",
    "            print(f\"Early stopping triggered\")\n",
    "            break\n",
    "\n",
    "    print(f\"Training finished. Best epoch: {best_epoch}\")"
   ]
  },
  {
   "cell_type": "markdown",
   "id": "a4af6b6e-95d8-44b8-b62e-af73e1966700",
   "metadata": {},
   "source": [
    "## Загрузка данных и кэширование"
   ]
  },
  {
   "cell_type": "code",
   "execution_count": 3,
   "id": "c6a75eac-847a-4bd0-a176-8dfdce7734ee",
   "metadata": {
    "execution": {
     "iopub.execute_input": "2025-10-14T11:30:07.767053Z",
     "iopub.status.busy": "2025-10-14T11:30:07.766092Z",
     "iopub.status.idle": "2025-10-14T11:52:13.306476Z",
     "shell.execute_reply": "2025-10-14T11:52:13.305837Z",
     "shell.execute_reply.started": "2025-10-14T11:30:07.767023Z"
    },
    "tags": []
   },
   "outputs": [
    {
     "name": "stdout",
     "output_type": "stream",
     "text": [
      "GPU: NVIDIA L4\n",
      "Class to idx: {'absent': 0, 'part': 1, 'present': 2}\n"
     ]
    },
    {
     "data": {
      "application/vnd.jupyter.widget-view+json": {
       "model_id": "bfa407f6c9b346ea9d7d2f67f79b9db6",
       "version_major": 2,
       "version_minor": 0
      },
      "text/plain": [
       "Caching images:   0%|          | 0/17641 [00:00<?, ?it/s]"
      ]
     },
     "metadata": {},
     "output_type": "display_data"
    },
    {
     "name": "stdout",
     "output_type": "stream",
     "text": [
      "Cached 17641 / 17641 images\n"
     ]
    },
    {
     "data": {
      "application/vnd.jupyter.widget-view+json": {
       "model_id": "fef453c9f3084c1187d40673d586b3d9",
       "version_major": 2,
       "version_minor": 0
      },
      "text/plain": [
       "Caching images:   0%|          | 0/1960 [00:00<?, ?it/s]"
      ]
     },
     "metadata": {},
     "output_type": "display_data"
    },
    {
     "name": "stdout",
     "output_type": "stream",
     "text": [
      "Cached 1960 / 1960 images\n",
      "Train samples: 17641, Val samples: 1960, Test samples: 4900\n"
     ]
    }
   ],
   "source": [
    "seed_everything(SEED)\n",
    "if DEVICE == \"cuda\":\n",
    "    print(f\"GPU: {torch.cuda.get_device_name(0)}\")\n",
    "\n",
    "train_transforms, val_transforms = get_transforms(IMG_SIZE)\n",
    "\n",
    "full_train_df = pd.read_csv(DEFAULT_TRAIN_CSV)\n",
    "train_df, val_df = train_test_split(\n",
    "    full_train_df, \n",
    "    test_size=0.1, \n",
    "    random_state=SEED, \n",
    "    stratify=full_train_df['scooter']\n",
    ")\n",
    "\n",
    "test_df = pd.read_csv(DEFAULT_TEST_CSV)\n",
    "\n",
    "if 0 < DATA_FRACTION < 1.0:\n",
    "    train_df = train_df.sample(frac=DATA_FRACTION, random_state=SEED).reset_index(drop=True)\n",
    "    val_df = val_df.sample(frac=DATA_FRACTION, random_state=SEED).reset_index(drop=True)\n",
    "    test_df  = test_df.sample(frac=DATA_FRACTION, random_state=SEED).reset_index(drop=True)\n",
    "\n",
    "classes = sorted(train_df['scooter'].unique())\n",
    "class_to_idx = {c: i for i, c in enumerate(classes)}\n",
    "print(\"Class to idx:\", class_to_idx)\n",
    "\n",
    "train_dataset = ScooterDataset(train_df, class_to_idx=class_to_idx, transforms=train_transforms, cache=True, min_free_gb=MIN_FREE_GB)\n",
    "val_dataset   = ScooterDataset(val_df,   class_to_idx=class_to_idx, transforms=val_transforms,   cache=True, min_free_gb=MIN_FREE_GB)\n",
    "test_dataset  = ScooterDataset(test_df, class_to_idx=class_to_idx, transforms=val_transforms, cache=False)\n",
    "\n",
    "print(f\"Train samples: {len(train_dataset)}, Val samples: {len(val_dataset)}, Test samples: {len(test_dataset)}\")\n",
    "\n",
    "counts = Counter(train_dataset.targets)\n",
    "class_counts = [counts[i] for i in range(len(class_to_idx))]\n",
    "total = sum(class_counts)\n",
    "class_weights = [total/(len(class_counts)*c) if c>0 else 0.0 for c in class_counts]\n",
    "class_weights_tensor = torch.tensor(class_weights, dtype=torch.float).to(DEVICE)\n",
    "\n",
    "pin_memory = DEVICE == \"cuda\"\n",
    "train_loader = DataLoader(train_dataset, batch_size=BATCH_SIZE, shuffle=True,  num_workers=NUM_WORKERS, pin_memory=pin_memory)\n",
    "val_loader   = DataLoader(val_dataset,   batch_size=BATCH_SIZE, shuffle=False, num_workers=NUM_WORKERS, pin_memory=pin_memory)\n",
    "test_loader  = DataLoader(test_dataset,  batch_size=BATCH_SIZE, shuffle=False, num_workers=NUM_WORKERS, pin_memory=pin_memory)"
   ]
  },
  {
   "cell_type": "markdown",
   "id": "c00a5323-8a96-4888-9500-6fae0579497f",
   "metadata": {},
   "source": [
    "## Обучение"
   ]
  },
  {
   "cell_type": "code",
   "execution_count": 4,
   "id": "1abfb174-053f-4755-b3b2-9671adfd4de3",
   "metadata": {
    "execution": {
     "iopub.execute_input": "2025-10-14T11:52:13.308358Z",
     "iopub.status.busy": "2025-10-14T11:52:13.307605Z",
     "iopub.status.idle": "2025-10-14T13:34:31.057646Z",
     "shell.execute_reply": "2025-10-14T13:34:31.051714Z",
     "shell.execute_reply.started": "2025-10-14T11:52:13.308321Z"
    },
    "tags": []
   },
   "outputs": [
    {
     "name": "stderr",
     "output_type": "stream",
     "text": [
      "Downloading: \"https://download.pytorch.org/models/efficientnet_b1_rwightman-533bc792.pth\" to /tmp/xdg_cache/torch/hub/checkpoints/efficientnet_b1_rwightman-533bc792.pth\n",
      "100%|██████████| 30.1M/30.1M [00:00<00:00, 82.4MB/s]\n"
     ]
    },
    {
     "data": {
      "application/vnd.jupyter.widget-view+json": {
       "model_id": "d91357a76daf4735a8c50a993430f1d2",
       "version_major": 2,
       "version_minor": 0
      },
      "text/plain": [
       "Epoch 1/100:   0%|          | 0/276 [00:00<?, ?it/s]"
      ]
     },
     "metadata": {},
     "output_type": "display_data"
    },
    {
     "name": "stdout",
     "output_type": "stream",
     "text": [
      "Average inference time per image: 0.37 ms\n",
      "Epoch 1 summary: total_time=41.8s, CPU=0.2%, GPU=88.8%, VAL=11.0%\n",
      "Train loss=0.3936, Val loss=0.2946, Val f1=0.8560, Val acc=0.8893\n",
      "Saved best model to EfficientNetB1/mobilenetv3_large_best.pth\n"
     ]
    },
    {
     "data": {
      "application/vnd.jupyter.widget-view+json": {
       "model_id": "e84dc854c50e4f7f8461a9961dcf9154",
       "version_major": 2,
       "version_minor": 0
      },
      "text/plain": [
       "Epoch 2/100:   0%|          | 0/276 [00:00<?, ?it/s]"
      ]
     },
     "metadata": {},
     "output_type": "display_data"
    },
    {
     "name": "stdout",
     "output_type": "stream",
     "text": [
      "Average inference time per image: 0.16 ms\n",
      "Epoch 2 summary: total_time=30.4s, CPU=0.3%, GPU=85.8%, VAL=13.9%\n",
      "Train loss=0.2334, Val loss=0.3331, Val f1=0.8758, Val acc=0.9148\n",
      "Saved best model to EfficientNetB1/mobilenetv3_large_best.pth\n"
     ]
    },
    {
     "data": {
      "application/vnd.jupyter.widget-view+json": {
       "model_id": "8740e31c4659422dbb92d1658fe4d534",
       "version_major": 2,
       "version_minor": 0
      },
      "text/plain": [
       "Epoch 3/100:   0%|          | 0/276 [00:00<?, ?it/s]"
      ]
     },
     "metadata": {},
     "output_type": "display_data"
    },
    {
     "name": "stdout",
     "output_type": "stream",
     "text": [
      "Average inference time per image: 0.17 ms\n",
      "Epoch 3 summary: total_time=30.3s, CPU=0.3%, GPU=85.6%, VAL=14.0%\n",
      "Train loss=0.1634, Val loss=0.3753, Val f1=0.8846, Val acc=0.9199\n",
      "Saved best model to EfficientNetB1/mobilenetv3_large_best.pth\n"
     ]
    },
    {
     "data": {
      "application/vnd.jupyter.widget-view+json": {
       "model_id": "e04490c7640045ab8048c58ed99f225d",
       "version_major": 2,
       "version_minor": 0
      },
      "text/plain": [
       "Epoch 4/100:   0%|          | 0/276 [00:00<?, ?it/s]"
      ]
     },
     "metadata": {},
     "output_type": "display_data"
    },
    {
     "name": "stdout",
     "output_type": "stream",
     "text": [
      "Average inference time per image: 0.16 ms\n",
      "Epoch 4 summary: total_time=30.2s, CPU=0.3%, GPU=85.7%, VAL=14.0%\n",
      "Train loss=0.1235, Val loss=0.4222, Val f1=0.8598, Val acc=0.9077\n"
     ]
    },
    {
     "data": {
      "application/vnd.jupyter.widget-view+json": {
       "model_id": "a26a896132be4d4cadea85cee753ae33",
       "version_major": 2,
       "version_minor": 0
      },
      "text/plain": [
       "Epoch 5/100:   0%|          | 0/276 [00:00<?, ?it/s]"
      ]
     },
     "metadata": {},
     "output_type": "display_data"
    },
    {
     "name": "stdout",
     "output_type": "stream",
     "text": [
      "Average inference time per image: 0.16 ms\n",
      "Epoch 5 summary: total_time=30.3s, CPU=0.3%, GPU=85.7%, VAL=14.0%\n",
      "Train loss=0.1011, Val loss=0.5640, Val f1=0.8847, Val acc=0.9214\n",
      "Saved best model to EfficientNetB1/mobilenetv3_large_best.pth\n"
     ]
    },
    {
     "data": {
      "application/vnd.jupyter.widget-view+json": {
       "model_id": "4f6ec9aa05f846a196b7ae6da5e4904c",
       "version_major": 2,
       "version_minor": 0
      },
      "text/plain": [
       "Epoch 6/100:   0%|          | 0/276 [00:00<?, ?it/s]"
      ]
     },
     "metadata": {},
     "output_type": "display_data"
    },
    {
     "name": "stdout",
     "output_type": "stream",
     "text": [
      "Average inference time per image: 0.17 ms\n",
      "Epoch 6 summary: total_time=30.6s, CPU=0.3%, GPU=85.4%, VAL=14.3%\n",
      "Train loss=0.0665, Val loss=0.6137, Val f1=0.8781, Val acc=0.9204\n"
     ]
    },
    {
     "data": {
      "application/vnd.jupyter.widget-view+json": {
       "model_id": "64e02b60fea5401394c24e7e192532c4",
       "version_major": 2,
       "version_minor": 0
      },
      "text/plain": [
       "Epoch 7/100:   0%|          | 0/276 [00:00<?, ?it/s]"
      ]
     },
     "metadata": {},
     "output_type": "display_data"
    },
    {
     "name": "stdout",
     "output_type": "stream",
     "text": [
      "Average inference time per image: 0.16 ms\n",
      "Epoch 7 summary: total_time=30.3s, CPU=0.3%, GPU=85.7%, VAL=14.1%\n",
      "Train loss=0.0525, Val loss=0.7638, Val f1=0.8718, Val acc=0.9158\n"
     ]
    },
    {
     "data": {
      "application/vnd.jupyter.widget-view+json": {
       "model_id": "09b58a37d18449868dbdb367eac3896a",
       "version_major": 2,
       "version_minor": 0
      },
      "text/plain": [
       "Epoch 8/100:   0%|          | 0/276 [00:00<?, ?it/s]"
      ]
     },
     "metadata": {},
     "output_type": "display_data"
    },
    {
     "name": "stdout",
     "output_type": "stream",
     "text": [
      "Average inference time per image: 0.16 ms\n",
      "Epoch 8 summary: total_time=30.3s, CPU=0.3%, GPU=85.7%, VAL=14.0%\n",
      "Train loss=0.0614, Val loss=0.6826, Val f1=0.8728, Val acc=0.9051\n"
     ]
    },
    {
     "data": {
      "application/vnd.jupyter.widget-view+json": {
       "model_id": "e87b175a8b4449d6b4e84c08546afa85",
       "version_major": 2,
       "version_minor": 0
      },
      "text/plain": [
       "Epoch 9/100:   0%|          | 0/276 [00:00<?, ?it/s]"
      ]
     },
     "metadata": {},
     "output_type": "display_data"
    },
    {
     "name": "stdout",
     "output_type": "stream",
     "text": [
      "Average inference time per image: 0.17 ms\n",
      "Epoch 9 summary: total_time=30.3s, CPU=0.3%, GPU=85.7%, VAL=14.0%\n",
      "Train loss=0.0648, Val loss=0.5339, Val f1=0.8746, Val acc=0.9143\n"
     ]
    },
    {
     "data": {
      "application/vnd.jupyter.widget-view+json": {
       "model_id": "ccc6985a5e8b48509f795195d7816009",
       "version_major": 2,
       "version_minor": 0
      },
      "text/plain": [
       "Epoch 10/100:   0%|          | 0/276 [00:00<?, ?it/s]"
      ]
     },
     "metadata": {},
     "output_type": "display_data"
    },
    {
     "name": "stdout",
     "output_type": "stream",
     "text": [
      "Average inference time per image: 0.16 ms\n",
      "Epoch 10 summary: total_time=30.3s, CPU=0.3%, GPU=85.6%, VAL=14.1%\n",
      "Train loss=0.0420, Val loss=0.6804, Val f1=0.8915, Val acc=0.9224\n",
      "Saved best model to EfficientNetB1/mobilenetv3_large_best.pth\n"
     ]
    },
    {
     "data": {
      "application/vnd.jupyter.widget-view+json": {
       "model_id": "4d3ff6bcab864a8ba8f71b3e098036dc",
       "version_major": 2,
       "version_minor": 0
      },
      "text/plain": [
       "Epoch 11/100:   0%|          | 0/276 [00:00<?, ?it/s]"
      ]
     },
     "metadata": {},
     "output_type": "display_data"
    },
    {
     "name": "stdout",
     "output_type": "stream",
     "text": [
      "Average inference time per image: 0.16 ms\n",
      "Epoch 11 summary: total_time=30.2s, CPU=0.3%, GPU=85.7%, VAL=14.0%\n",
      "Train loss=0.0446, Val loss=0.6141, Val f1=0.8740, Val acc=0.9066\n"
     ]
    },
    {
     "data": {
      "application/vnd.jupyter.widget-view+json": {
       "model_id": "f967fff4dc4c49b8ae93a431a26f0f39",
       "version_major": 2,
       "version_minor": 0
      },
      "text/plain": [
       "Epoch 12/100:   0%|          | 0/276 [00:00<?, ?it/s]"
      ]
     },
     "metadata": {},
     "output_type": "display_data"
    },
    {
     "name": "stdout",
     "output_type": "stream",
     "text": [
      "Average inference time per image: 0.16 ms\n",
      "Epoch 12 summary: total_time=30.3s, CPU=0.3%, GPU=85.7%, VAL=14.1%\n",
      "Train loss=0.0481, Val loss=0.6699, Val f1=0.8714, Val acc=0.9122\n"
     ]
    },
    {
     "data": {
      "application/vnd.jupyter.widget-view+json": {
       "model_id": "52d0b12909bc413ba6c21be86deb4c4c",
       "version_major": 2,
       "version_minor": 0
      },
      "text/plain": [
       "Epoch 13/100:   0%|          | 0/276 [00:00<?, ?it/s]"
      ]
     },
     "metadata": {},
     "output_type": "display_data"
    },
    {
     "name": "stdout",
     "output_type": "stream",
     "text": [
      "Average inference time per image: 0.16 ms\n",
      "Epoch 13 summary: total_time=30.3s, CPU=0.3%, GPU=85.7%, VAL=14.0%\n",
      "Train loss=0.0212, Val loss=0.6666, Val f1=0.8822, Val acc=0.9143\n"
     ]
    },
    {
     "data": {
      "application/vnd.jupyter.widget-view+json": {
       "model_id": "eea7e673975a43a5bf42289ea59cf53b",
       "version_major": 2,
       "version_minor": 0
      },
      "text/plain": [
       "Epoch 14/100:   0%|          | 0/276 [00:00<?, ?it/s]"
      ]
     },
     "metadata": {},
     "output_type": "display_data"
    },
    {
     "name": "stdout",
     "output_type": "stream",
     "text": [
      "Average inference time per image: 0.15 ms\n",
      "Epoch 14 summary: total_time=30.3s, CPU=0.3%, GPU=85.6%, VAL=14.1%\n",
      "Train loss=0.0358, Val loss=0.7105, Val f1=0.8832, Val acc=0.9128\n"
     ]
    },
    {
     "data": {
      "application/vnd.jupyter.widget-view+json": {
       "model_id": "acb907d789604cdc8ba4b8f2e453e755",
       "version_major": 2,
       "version_minor": 0
      },
      "text/plain": [
       "Epoch 15/100:   0%|          | 0/276 [00:00<?, ?it/s]"
      ]
     },
     "metadata": {},
     "output_type": "display_data"
    },
    {
     "name": "stdout",
     "output_type": "stream",
     "text": [
      "Average inference time per image: 0.19 ms\n",
      "Epoch 15 summary: total_time=30.4s, CPU=0.3%, GPU=85.8%, VAL=13.9%\n",
      "Train loss=0.0246, Val loss=0.7684, Val f1=0.8809, Val acc=0.9199\n"
     ]
    },
    {
     "data": {
      "application/vnd.jupyter.widget-view+json": {
       "model_id": "962820f2a6164012a1d8cd07f4ad6a09",
       "version_major": 2,
       "version_minor": 0
      },
      "text/plain": [
       "Epoch 16/100:   0%|          | 0/276 [00:00<?, ?it/s]"
      ]
     },
     "metadata": {},
     "output_type": "display_data"
    },
    {
     "name": "stdout",
     "output_type": "stream",
     "text": [
      "Average inference time per image: 0.16 ms\n",
      "Epoch 16 summary: total_time=30.3s, CPU=0.3%, GPU=85.6%, VAL=14.1%\n",
      "Train loss=0.0359, Val loss=0.7271, Val f1=0.8881, Val acc=0.9230\n"
     ]
    },
    {
     "data": {
      "application/vnd.jupyter.widget-view+json": {
       "model_id": "49f944d7d7fd4cfeb68aa6ef851c5180",
       "version_major": 2,
       "version_minor": 0
      },
      "text/plain": [
       "Epoch 17/100:   0%|          | 0/276 [00:00<?, ?it/s]"
      ]
     },
     "metadata": {},
     "output_type": "display_data"
    },
    {
     "name": "stdout",
     "output_type": "stream",
     "text": [
      "Average inference time per image: 0.16 ms\n",
      "Epoch 17 summary: total_time=30.3s, CPU=0.3%, GPU=85.7%, VAL=14.0%\n",
      "Train loss=0.0387, Val loss=0.7491, Val f1=0.8905, Val acc=0.9245\n"
     ]
    },
    {
     "data": {
      "application/vnd.jupyter.widget-view+json": {
       "model_id": "c4f1f36daa644c0785ec7b2cdc4a535f",
       "version_major": 2,
       "version_minor": 0
      },
      "text/plain": [
       "Epoch 18/100:   0%|          | 0/276 [00:00<?, ?it/s]"
      ]
     },
     "metadata": {},
     "output_type": "display_data"
    },
    {
     "name": "stdout",
     "output_type": "stream",
     "text": [
      "Average inference time per image: 0.16 ms\n",
      "Epoch 18 summary: total_time=30.4s, CPU=0.3%, GPU=85.4%, VAL=14.3%\n",
      "Train loss=0.0286, Val loss=0.7019, Val f1=0.8899, Val acc=0.9250\n"
     ]
    },
    {
     "data": {
      "application/vnd.jupyter.widget-view+json": {
       "model_id": "e608e40d91d440a3b9a1252f1a071278",
       "version_major": 2,
       "version_minor": 0
      },
      "text/plain": [
       "Epoch 19/100:   0%|          | 0/276 [00:00<?, ?it/s]"
      ]
     },
     "metadata": {},
     "output_type": "display_data"
    },
    {
     "name": "stdout",
     "output_type": "stream",
     "text": [
      "Average inference time per image: 0.16 ms\n",
      "Epoch 19 summary: total_time=30.3s, CPU=0.3%, GPU=85.6%, VAL=14.1%\n",
      "Train loss=0.0283, Val loss=0.7283, Val f1=0.8813, Val acc=0.9199\n"
     ]
    },
    {
     "data": {
      "application/vnd.jupyter.widget-view+json": {
       "model_id": "5fb4ab7c42e54885bef6633a7fd65450",
       "version_major": 2,
       "version_minor": 0
      },
      "text/plain": [
       "Epoch 20/100:   0%|          | 0/276 [00:00<?, ?it/s]"
      ]
     },
     "metadata": {},
     "output_type": "display_data"
    },
    {
     "name": "stdout",
     "output_type": "stream",
     "text": [
      "Average inference time per image: 0.16 ms\n",
      "Epoch 20 summary: total_time=30.4s, CPU=0.3%, GPU=85.8%, VAL=13.9%\n",
      "Train loss=0.0312, Val loss=0.7021, Val f1=0.8742, Val acc=0.9153\n"
     ]
    },
    {
     "data": {
      "application/vnd.jupyter.widget-view+json": {
       "model_id": "952ad1c7f73f4705827770219d6cd17b",
       "version_major": 2,
       "version_minor": 0
      },
      "text/plain": [
       "Epoch 21/100:   0%|          | 0/276 [00:00<?, ?it/s]"
      ]
     },
     "metadata": {},
     "output_type": "display_data"
    },
    {
     "name": "stdout",
     "output_type": "stream",
     "text": [
      "Average inference time per image: 0.17 ms\n",
      "Epoch 21 summary: total_time=30.3s, CPU=0.3%, GPU=85.5%, VAL=14.2%\n",
      "Train loss=0.0408, Val loss=0.6670, Val f1=0.8913, Val acc=0.9240\n"
     ]
    },
    {
     "data": {
      "application/vnd.jupyter.widget-view+json": {
       "model_id": "0822c2c605b1481492b316745dc2c080",
       "version_major": 2,
       "version_minor": 0
      },
      "text/plain": [
       "Epoch 22/100:   0%|          | 0/276 [00:00<?, ?it/s]"
      ]
     },
     "metadata": {},
     "output_type": "display_data"
    },
    {
     "name": "stdout",
     "output_type": "stream",
     "text": [
      "Average inference time per image: 0.19 ms\n",
      "Epoch 22 summary: total_time=30.3s, CPU=0.3%, GPU=85.7%, VAL=14.0%\n",
      "Train loss=0.0237, Val loss=0.6984, Val f1=0.8857, Val acc=0.9209\n"
     ]
    },
    {
     "data": {
      "application/vnd.jupyter.widget-view+json": {
       "model_id": "1546a4c1f8944cc190e9af1e96f1369d",
       "version_major": 2,
       "version_minor": 0
      },
      "text/plain": [
       "Epoch 23/100:   0%|          | 0/276 [00:00<?, ?it/s]"
      ]
     },
     "metadata": {},
     "output_type": "display_data"
    },
    {
     "name": "stdout",
     "output_type": "stream",
     "text": [
      "Average inference time per image: 0.16 ms\n",
      "Epoch 23 summary: total_time=30.3s, CPU=0.3%, GPU=85.7%, VAL=14.0%\n",
      "Train loss=0.0162, Val loss=0.8926, Val f1=0.8904, Val acc=0.9245\n"
     ]
    },
    {
     "data": {
      "application/vnd.jupyter.widget-view+json": {
       "model_id": "abd949cb4d4f4ed882533a9d7033a720",
       "version_major": 2,
       "version_minor": 0
      },
      "text/plain": [
       "Epoch 24/100:   0%|          | 0/276 [00:00<?, ?it/s]"
      ]
     },
     "metadata": {},
     "output_type": "display_data"
    },
    {
     "name": "stdout",
     "output_type": "stream",
     "text": [
      "Average inference time per image: 0.16 ms\n",
      "Epoch 24 summary: total_time=30.3s, CPU=0.3%, GPU=85.7%, VAL=14.0%\n",
      "Train loss=0.0217, Val loss=0.8154, Val f1=0.8708, Val acc=0.9112\n"
     ]
    },
    {
     "data": {
      "application/vnd.jupyter.widget-view+json": {
       "model_id": "373e7df08d8846a7b3f640823c5141e5",
       "version_major": 2,
       "version_minor": 0
      },
      "text/plain": [
       "Epoch 25/100:   0%|          | 0/276 [00:00<?, ?it/s]"
      ]
     },
     "metadata": {},
     "output_type": "display_data"
    },
    {
     "name": "stdout",
     "output_type": "stream",
     "text": [
      "Average inference time per image: 0.16 ms\n",
      "Epoch 25 summary: total_time=30.4s, CPU=0.3%, GPU=85.8%, VAL=13.9%\n",
      "Train loss=0.0170, Val loss=0.8937, Val f1=0.8731, Val acc=0.9133\n"
     ]
    },
    {
     "data": {
      "application/vnd.jupyter.widget-view+json": {
       "model_id": "48ebc2bc3bb84dc0a1363fa40bc6ad44",
       "version_major": 2,
       "version_minor": 0
      },
      "text/plain": [
       "Epoch 26/100:   0%|          | 0/276 [00:00<?, ?it/s]"
      ]
     },
     "metadata": {},
     "output_type": "display_data"
    },
    {
     "name": "stdout",
     "output_type": "stream",
     "text": [
      "Average inference time per image: 0.16 ms\n",
      "Epoch 26 summary: total_time=30.3s, CPU=0.3%, GPU=85.7%, VAL=14.0%\n",
      "Train loss=0.0107, Val loss=1.2169, Val f1=0.8693, Val acc=0.9133\n"
     ]
    },
    {
     "data": {
      "application/vnd.jupyter.widget-view+json": {
       "model_id": "59c9e7b6bcc843bc8845a9a6b479b7de",
       "version_major": 2,
       "version_minor": 0
      },
      "text/plain": [
       "Epoch 27/100:   0%|          | 0/276 [00:00<?, ?it/s]"
      ]
     },
     "metadata": {},
     "output_type": "display_data"
    },
    {
     "name": "stdout",
     "output_type": "stream",
     "text": [
      "Average inference time per image: 0.16 ms\n",
      "Epoch 27 summary: total_time=30.3s, CPU=0.3%, GPU=85.7%, VAL=14.0%\n",
      "Train loss=0.0289, Val loss=0.7537, Val f1=0.8409, Val acc=0.8704\n"
     ]
    },
    {
     "data": {
      "application/vnd.jupyter.widget-view+json": {
       "model_id": "c108ea770fe1492da8c77c33dbdbfbb7",
       "version_major": 2,
       "version_minor": 0
      },
      "text/plain": [
       "Epoch 28/100:   0%|          | 0/276 [00:00<?, ?it/s]"
      ]
     },
     "metadata": {},
     "output_type": "display_data"
    },
    {
     "name": "stdout",
     "output_type": "stream",
     "text": [
      "Average inference time per image: 0.16 ms\n",
      "Epoch 28 summary: total_time=30.3s, CPU=0.3%, GPU=85.7%, VAL=14.1%\n",
      "Train loss=0.0291, Val loss=0.8371, Val f1=0.8730, Val acc=0.9158\n"
     ]
    },
    {
     "data": {
      "application/vnd.jupyter.widget-view+json": {
       "model_id": "2f5e2e6d392a4282b9e0239f08e1680e",
       "version_major": 2,
       "version_minor": 0
      },
      "text/plain": [
       "Epoch 29/100:   0%|          | 0/276 [00:00<?, ?it/s]"
      ]
     },
     "metadata": {},
     "output_type": "display_data"
    },
    {
     "name": "stdout",
     "output_type": "stream",
     "text": [
      "Average inference time per image: 0.16 ms\n",
      "Epoch 29 summary: total_time=30.4s, CPU=0.3%, GPU=85.7%, VAL=14.0%\n",
      "Train loss=0.0300, Val loss=0.8947, Val f1=0.8844, Val acc=0.9224\n"
     ]
    },
    {
     "data": {
      "application/vnd.jupyter.widget-view+json": {
       "model_id": "ad39c90d93e446a591fb045f98b4a7a2",
       "version_major": 2,
       "version_minor": 0
      },
      "text/plain": [
       "Epoch 30/100:   0%|          | 0/276 [00:00<?, ?it/s]"
      ]
     },
     "metadata": {},
     "output_type": "display_data"
    },
    {
     "name": "stdout",
     "output_type": "stream",
     "text": [
      "Average inference time per image: 0.16 ms\n",
      "Epoch 30 summary: total_time=30.2s, CPU=0.3%, GPU=85.7%, VAL=14.0%\n",
      "Train loss=0.0116, Val loss=0.9240, Val f1=0.8861, Val acc=0.9235\n"
     ]
    },
    {
     "data": {
      "application/vnd.jupyter.widget-view+json": {
       "model_id": "c5ce8fca70f7405b807168e976b77e70",
       "version_major": 2,
       "version_minor": 0
      },
      "text/plain": [
       "Epoch 31/100:   0%|          | 0/276 [00:00<?, ?it/s]"
      ]
     },
     "metadata": {},
     "output_type": "display_data"
    },
    {
     "name": "stdout",
     "output_type": "stream",
     "text": [
      "Average inference time per image: 0.16 ms\n",
      "Epoch 31 summary: total_time=30.4s, CPU=0.3%, GPU=85.5%, VAL=14.2%\n",
      "Train loss=0.0069, Val loss=1.0257, Val f1=0.8852, Val acc=0.9235\n"
     ]
    },
    {
     "data": {
      "application/vnd.jupyter.widget-view+json": {
       "model_id": "6d4389c45280477fa9568d9190e43963",
       "version_major": 2,
       "version_minor": 0
      },
      "text/plain": [
       "Epoch 32/100:   0%|          | 0/276 [00:00<?, ?it/s]"
      ]
     },
     "metadata": {},
     "output_type": "display_data"
    },
    {
     "name": "stdout",
     "output_type": "stream",
     "text": [
      "Average inference time per image: 0.16 ms\n",
      "Epoch 32 summary: total_time=30.3s, CPU=0.3%, GPU=85.7%, VAL=14.0%\n",
      "Train loss=0.0064, Val loss=0.9802, Val f1=0.8917, Val acc=0.9219\n",
      "Saved best model to EfficientNetB1/mobilenetv3_large_best.pth\n"
     ]
    },
    {
     "data": {
      "application/vnd.jupyter.widget-view+json": {
       "model_id": "248be08d40264f64afc9fbc0b49b1577",
       "version_major": 2,
       "version_minor": 0
      },
      "text/plain": [
       "Epoch 33/100:   0%|          | 0/276 [00:00<?, ?it/s]"
      ]
     },
     "metadata": {},
     "output_type": "display_data"
    },
    {
     "name": "stdout",
     "output_type": "stream",
     "text": [
      "Average inference time per image: 0.17 ms\n",
      "Epoch 33 summary: total_time=30.3s, CPU=0.3%, GPU=85.7%, VAL=14.1%\n",
      "Train loss=0.0288, Val loss=0.9084, Val f1=0.8868, Val acc=0.9250\n"
     ]
    },
    {
     "data": {
      "application/vnd.jupyter.widget-view+json": {
       "model_id": "207b1c87406c4ea3b86f112013581951",
       "version_major": 2,
       "version_minor": 0
      },
      "text/plain": [
       "Epoch 34/100:   0%|          | 0/276 [00:00<?, ?it/s]"
      ]
     },
     "metadata": {},
     "output_type": "display_data"
    },
    {
     "name": "stdout",
     "output_type": "stream",
     "text": [
      "Average inference time per image: 0.16 ms\n",
      "Epoch 34 summary: total_time=30.5s, CPU=0.3%, GPU=85.8%, VAL=14.0%\n",
      "Train loss=0.0235, Val loss=1.2647, Val f1=0.8522, Val acc=0.9077\n"
     ]
    },
    {
     "data": {
      "application/vnd.jupyter.widget-view+json": {
       "model_id": "a66753c6a06a46c6924b126cf4ef78bf",
       "version_major": 2,
       "version_minor": 0
      },
      "text/plain": [
       "Epoch 35/100:   0%|          | 0/276 [00:00<?, ?it/s]"
      ]
     },
     "metadata": {},
     "output_type": "display_data"
    },
    {
     "name": "stdout",
     "output_type": "stream",
     "text": [
      "Average inference time per image: 0.16 ms\n",
      "Epoch 35 summary: total_time=30.3s, CPU=0.3%, GPU=85.6%, VAL=14.1%\n",
      "Train loss=0.0277, Val loss=0.8543, Val f1=0.8832, Val acc=0.9168\n"
     ]
    },
    {
     "data": {
      "application/vnd.jupyter.widget-view+json": {
       "model_id": "8b07be093603467a86039c906a888c15",
       "version_major": 2,
       "version_minor": 0
      },
      "text/plain": [
       "Epoch 36/100:   0%|          | 0/276 [00:00<?, ?it/s]"
      ]
     },
     "metadata": {},
     "output_type": "display_data"
    },
    {
     "name": "stdout",
     "output_type": "stream",
     "text": [
      "Average inference time per image: 0.17 ms\n",
      "Epoch 36 summary: total_time=30.3s, CPU=0.3%, GPU=85.7%, VAL=14.0%\n",
      "Train loss=0.0159, Val loss=0.9523, Val f1=0.8785, Val acc=0.9153\n"
     ]
    },
    {
     "data": {
      "application/vnd.jupyter.widget-view+json": {
       "model_id": "4e4afeac65db4b82a860e7ddd0a195c9",
       "version_major": 2,
       "version_minor": 0
      },
      "text/plain": [
       "Epoch 37/100:   0%|          | 0/276 [00:00<?, ?it/s]"
      ]
     },
     "metadata": {},
     "output_type": "display_data"
    },
    {
     "name": "stdout",
     "output_type": "stream",
     "text": [
      "Average inference time per image: 0.17 ms\n",
      "Epoch 37 summary: total_time=30.3s, CPU=0.3%, GPU=85.7%, VAL=14.0%\n",
      "Train loss=0.0147, Val loss=1.0272, Val f1=0.8877, Val acc=0.9245\n"
     ]
    },
    {
     "data": {
      "application/vnd.jupyter.widget-view+json": {
       "model_id": "ab03d3549dcb47a4a11c33118481e505",
       "version_major": 2,
       "version_minor": 0
      },
      "text/plain": [
       "Epoch 38/100:   0%|          | 0/276 [00:00<?, ?it/s]"
      ]
     },
     "metadata": {},
     "output_type": "display_data"
    },
    {
     "name": "stdout",
     "output_type": "stream",
     "text": [
      "Average inference time per image: 0.17 ms\n",
      "Epoch 38 summary: total_time=30.3s, CPU=0.3%, GPU=85.7%, VAL=14.0%\n",
      "Train loss=0.0116, Val loss=1.1112, Val f1=0.8834, Val acc=0.9209\n"
     ]
    },
    {
     "data": {
      "application/vnd.jupyter.widget-view+json": {
       "model_id": "710485a105354d199b8988d03f1c9e0d",
       "version_major": 2,
       "version_minor": 0
      },
      "text/plain": [
       "Epoch 39/100:   0%|          | 0/276 [00:00<?, ?it/s]"
      ]
     },
     "metadata": {},
     "output_type": "display_data"
    },
    {
     "name": "stdout",
     "output_type": "stream",
     "text": [
      "Average inference time per image: 0.17 ms\n",
      "Epoch 39 summary: total_time=30.4s, CPU=0.3%, GPU=85.8%, VAL=13.9%\n",
      "Train loss=0.0296, Val loss=1.1535, Val f1=0.8664, Val acc=0.9158\n"
     ]
    },
    {
     "data": {
      "application/vnd.jupyter.widget-view+json": {
       "model_id": "05eb128db3214c37bf36b07519c1451b",
       "version_major": 2,
       "version_minor": 0
      },
      "text/plain": [
       "Epoch 40/100:   0%|          | 0/276 [00:00<?, ?it/s]"
      ]
     },
     "metadata": {},
     "output_type": "display_data"
    },
    {
     "name": "stdout",
     "output_type": "stream",
     "text": [
      "Average inference time per image: 0.16 ms\n",
      "Epoch 40 summary: total_time=30.3s, CPU=0.3%, GPU=85.5%, VAL=14.2%\n",
      "Train loss=0.0314, Val loss=0.6962, Val f1=0.8757, Val acc=0.9122\n"
     ]
    },
    {
     "data": {
      "application/vnd.jupyter.widget-view+json": {
       "model_id": "946eb241c62347f4b62fa98ae0ac57b6",
       "version_major": 2,
       "version_minor": 0
      },
      "text/plain": [
       "Epoch 41/100:   0%|          | 0/276 [00:00<?, ?it/s]"
      ]
     },
     "metadata": {},
     "output_type": "display_data"
    },
    {
     "name": "stdout",
     "output_type": "stream",
     "text": [
      "Average inference time per image: 0.17 ms\n",
      "Epoch 41 summary: total_time=30.3s, CPU=0.3%, GPU=85.7%, VAL=14.0%\n",
      "Train loss=0.0168, Val loss=0.9098, Val f1=0.8852, Val acc=0.9235\n"
     ]
    },
    {
     "data": {
      "application/vnd.jupyter.widget-view+json": {
       "model_id": "23572b9c683d4ff3bb00ffbfc32a14a9",
       "version_major": 2,
       "version_minor": 0
      },
      "text/plain": [
       "Epoch 42/100:   0%|          | 0/276 [00:00<?, ?it/s]"
      ]
     },
     "metadata": {},
     "output_type": "display_data"
    },
    {
     "name": "stdout",
     "output_type": "stream",
     "text": [
      "Average inference time per image: 0.17 ms\n",
      "Epoch 42 summary: total_time=30.3s, CPU=0.3%, GPU=85.7%, VAL=14.0%\n",
      "Train loss=0.0083, Val loss=0.8735, Val f1=0.8762, Val acc=0.9102\n"
     ]
    },
    {
     "data": {
      "application/vnd.jupyter.widget-view+json": {
       "model_id": "378d1a0a90eb4b0292b98ab88f9b69fe",
       "version_major": 2,
       "version_minor": 0
      },
      "text/plain": [
       "Epoch 43/100:   0%|          | 0/276 [00:00<?, ?it/s]"
      ]
     },
     "metadata": {},
     "output_type": "display_data"
    },
    {
     "name": "stdout",
     "output_type": "stream",
     "text": [
      "Average inference time per image: 0.16 ms\n",
      "Epoch 43 summary: total_time=30.5s, CPU=0.3%, GPU=85.8%, VAL=14.0%\n",
      "Train loss=0.0054, Val loss=1.1986, Val f1=0.8922, Val acc=0.9276\n",
      "Saved best model to EfficientNetB1/mobilenetv3_large_best.pth\n"
     ]
    },
    {
     "data": {
      "application/vnd.jupyter.widget-view+json": {
       "model_id": "aaf805dcdfe0449dbaae4069ced0546a",
       "version_major": 2,
       "version_minor": 0
      },
      "text/plain": [
       "Epoch 44/100:   0%|          | 0/276 [00:00<?, ?it/s]"
      ]
     },
     "metadata": {},
     "output_type": "display_data"
    },
    {
     "name": "stdout",
     "output_type": "stream",
     "text": [
      "Average inference time per image: 0.17 ms\n",
      "Epoch 44 summary: total_time=30.4s, CPU=0.3%, GPU=85.6%, VAL=14.1%\n",
      "Train loss=0.0096, Val loss=1.1141, Val f1=0.8770, Val acc=0.9184\n"
     ]
    },
    {
     "data": {
      "application/vnd.jupyter.widget-view+json": {
       "model_id": "e91f93d6e5064461b305968bafb06a1b",
       "version_major": 2,
       "version_minor": 0
      },
      "text/plain": [
       "Epoch 45/100:   0%|          | 0/276 [00:00<?, ?it/s]"
      ]
     },
     "metadata": {},
     "output_type": "display_data"
    },
    {
     "name": "stdout",
     "output_type": "stream",
     "text": [
      "Average inference time per image: 0.18 ms\n",
      "Epoch 45 summary: total_time=30.3s, CPU=0.3%, GPU=85.7%, VAL=14.1%\n",
      "Train loss=0.0119, Val loss=1.1259, Val f1=0.8770, Val acc=0.9168\n"
     ]
    },
    {
     "data": {
      "application/vnd.jupyter.widget-view+json": {
       "model_id": "8bb199f5c2e84817802b952a34b25979",
       "version_major": 2,
       "version_minor": 0
      },
      "text/plain": [
       "Epoch 46/100:   0%|          | 0/276 [00:00<?, ?it/s]"
      ]
     },
     "metadata": {},
     "output_type": "display_data"
    },
    {
     "name": "stdout",
     "output_type": "stream",
     "text": [
      "Average inference time per image: 0.16 ms\n",
      "Epoch 46 summary: total_time=30.3s, CPU=0.3%, GPU=85.8%, VAL=14.0%\n",
      "Train loss=0.0259, Val loss=0.9812, Val f1=0.8849, Val acc=0.9230\n"
     ]
    },
    {
     "data": {
      "application/vnd.jupyter.widget-view+json": {
       "model_id": "f17c9093a65e41ddb01e6dba314d903e",
       "version_major": 2,
       "version_minor": 0
      },
      "text/plain": [
       "Epoch 47/100:   0%|          | 0/276 [00:00<?, ?it/s]"
      ]
     },
     "metadata": {},
     "output_type": "display_data"
    },
    {
     "name": "stdout",
     "output_type": "stream",
     "text": [
      "Average inference time per image: 0.17 ms\n",
      "Epoch 47 summary: total_time=30.3s, CPU=0.3%, GPU=85.7%, VAL=14.0%\n",
      "Train loss=0.0069, Val loss=0.9543, Val f1=0.8840, Val acc=0.9184\n"
     ]
    },
    {
     "data": {
      "application/vnd.jupyter.widget-view+json": {
       "model_id": "f830f680ac3648e099647d38ac1df0ea",
       "version_major": 2,
       "version_minor": 0
      },
      "text/plain": [
       "Epoch 48/100:   0%|          | 0/276 [00:00<?, ?it/s]"
      ]
     },
     "metadata": {},
     "output_type": "display_data"
    },
    {
     "name": "stdout",
     "output_type": "stream",
     "text": [
      "Average inference time per image: 0.16 ms\n",
      "Epoch 48 summary: total_time=30.5s, CPU=0.3%, GPU=85.7%, VAL=14.1%\n",
      "Train loss=0.0211, Val loss=1.1036, Val f1=0.8711, Val acc=0.9117\n"
     ]
    },
    {
     "data": {
      "application/vnd.jupyter.widget-view+json": {
       "model_id": "6d354891831e4b20a98ef11ff68d9882",
       "version_major": 2,
       "version_minor": 0
      },
      "text/plain": [
       "Epoch 49/100:   0%|          | 0/276 [00:00<?, ?it/s]"
      ]
     },
     "metadata": {},
     "output_type": "display_data"
    },
    {
     "name": "stdout",
     "output_type": "stream",
     "text": [
      "Average inference time per image: 0.17 ms\n",
      "Epoch 49 summary: total_time=30.3s, CPU=0.3%, GPU=85.7%, VAL=14.0%\n",
      "Train loss=0.0270, Val loss=1.0768, Val f1=0.8814, Val acc=0.9158\n"
     ]
    },
    {
     "data": {
      "application/vnd.jupyter.widget-view+json": {
       "model_id": "8fa72a570e0142b2be083554fe6b8a0f",
       "version_major": 2,
       "version_minor": 0
      },
      "text/plain": [
       "Epoch 50/100:   0%|          | 0/276 [00:00<?, ?it/s]"
      ]
     },
     "metadata": {},
     "output_type": "display_data"
    },
    {
     "name": "stdout",
     "output_type": "stream",
     "text": [
      "Average inference time per image: 0.16 ms\n",
      "Epoch 50 summary: total_time=30.3s, CPU=0.3%, GPU=85.7%, VAL=14.0%\n",
      "Train loss=0.0124, Val loss=1.2452, Val f1=0.8701, Val acc=0.9128\n"
     ]
    },
    {
     "data": {
      "application/vnd.jupyter.widget-view+json": {
       "model_id": "59104af704b64500aa907ce57ef3d7cb",
       "version_major": 2,
       "version_minor": 0
      },
      "text/plain": [
       "Epoch 51/100:   0%|          | 0/276 [00:00<?, ?it/s]"
      ]
     },
     "metadata": {},
     "output_type": "display_data"
    },
    {
     "name": "stdout",
     "output_type": "stream",
     "text": [
      "Average inference time per image: 0.17 ms\n",
      "Epoch 51 summary: total_time=30.3s, CPU=0.3%, GPU=85.7%, VAL=14.0%\n",
      "Train loss=0.0133, Val loss=0.9851, Val f1=0.8773, Val acc=0.9128\n"
     ]
    },
    {
     "data": {
      "application/vnd.jupyter.widget-view+json": {
       "model_id": "3c28d7d83f2849aea33c4a74bff6ccfc",
       "version_major": 2,
       "version_minor": 0
      },
      "text/plain": [
       "Epoch 52/100:   0%|          | 0/276 [00:00<?, ?it/s]"
      ]
     },
     "metadata": {},
     "output_type": "display_data"
    },
    {
     "name": "stdout",
     "output_type": "stream",
     "text": [
      "Average inference time per image: 0.20 ms\n",
      "Epoch 52 summary: total_time=30.3s, CPU=0.3%, GPU=85.7%, VAL=14.0%\n",
      "Train loss=0.0224, Val loss=1.0410, Val f1=0.8889, Val acc=0.9209\n"
     ]
    },
    {
     "data": {
      "application/vnd.jupyter.widget-view+json": {
       "model_id": "648e2490e2be416a89511585bbb71fe2",
       "version_major": 2,
       "version_minor": 0
      },
      "text/plain": [
       "Epoch 53/100:   0%|          | 0/276 [00:00<?, ?it/s]"
      ]
     },
     "metadata": {},
     "output_type": "display_data"
    },
    {
     "name": "stdout",
     "output_type": "stream",
     "text": [
      "Average inference time per image: 0.16 ms\n",
      "Epoch 53 summary: total_time=30.4s, CPU=0.3%, GPU=85.9%, VAL=13.9%\n",
      "Train loss=0.0043, Val loss=1.2445, Val f1=0.8821, Val acc=0.9158\n"
     ]
    },
    {
     "data": {
      "application/vnd.jupyter.widget-view+json": {
       "model_id": "7562e470f3f44a03893a27f24f0d4dea",
       "version_major": 2,
       "version_minor": 0
      },
      "text/plain": [
       "Epoch 54/100:   0%|          | 0/276 [00:00<?, ?it/s]"
      ]
     },
     "metadata": {},
     "output_type": "display_data"
    },
    {
     "name": "stdout",
     "output_type": "stream",
     "text": [
      "Average inference time per image: 0.17 ms\n",
      "Epoch 54 summary: total_time=30.3s, CPU=0.3%, GPU=85.7%, VAL=14.0%\n",
      "Train loss=0.0039, Val loss=1.0151, Val f1=0.8888, Val acc=0.9199\n"
     ]
    },
    {
     "data": {
      "application/vnd.jupyter.widget-view+json": {
       "model_id": "c1c811f11ecc450cbc9c1f4056e6503f",
       "version_major": 2,
       "version_minor": 0
      },
      "text/plain": [
       "Epoch 55/100:   0%|          | 0/276 [00:00<?, ?it/s]"
      ]
     },
     "metadata": {},
     "output_type": "display_data"
    },
    {
     "name": "stdout",
     "output_type": "stream",
     "text": [
      "Average inference time per image: 0.17 ms\n",
      "Epoch 55 summary: total_time=30.3s, CPU=0.3%, GPU=85.7%, VAL=14.0%\n",
      "Train loss=0.0114, Val loss=1.1472, Val f1=0.8931, Val acc=0.9245\n",
      "Saved best model to EfficientNetB1/mobilenetv3_large_best.pth\n"
     ]
    },
    {
     "data": {
      "application/vnd.jupyter.widget-view+json": {
       "model_id": "3eb295f92a8547028e2b0e4fa824ed71",
       "version_major": 2,
       "version_minor": 0
      },
      "text/plain": [
       "Epoch 56/100:   0%|          | 0/276 [00:00<?, ?it/s]"
      ]
     },
     "metadata": {},
     "output_type": "display_data"
    },
    {
     "name": "stdout",
     "output_type": "stream",
     "text": [
      "Average inference time per image: 0.16 ms\n",
      "Epoch 56 summary: total_time=30.2s, CPU=0.3%, GPU=85.7%, VAL=14.0%\n",
      "Train loss=0.0211, Val loss=0.8675, Val f1=0.8692, Val acc=0.9112\n"
     ]
    },
    {
     "data": {
      "application/vnd.jupyter.widget-view+json": {
       "model_id": "07e510f3ed634a3686987a3cbe74b61a",
       "version_major": 2,
       "version_minor": 0
      },
      "text/plain": [
       "Epoch 57/100:   0%|          | 0/276 [00:00<?, ?it/s]"
      ]
     },
     "metadata": {},
     "output_type": "display_data"
    },
    {
     "name": "stdout",
     "output_type": "stream",
     "text": [
      "Average inference time per image: 0.17 ms\n",
      "Epoch 57 summary: total_time=30.5s, CPU=0.3%, GPU=85.7%, VAL=14.0%\n",
      "Train loss=0.0203, Val loss=0.9997, Val f1=0.8682, Val acc=0.9128\n"
     ]
    },
    {
     "data": {
      "application/vnd.jupyter.widget-view+json": {
       "model_id": "b32a16ea3aeb49dba791a2fae9c83706",
       "version_major": 2,
       "version_minor": 0
      },
      "text/plain": [
       "Epoch 58/100:   0%|          | 0/276 [00:00<?, ?it/s]"
      ]
     },
     "metadata": {},
     "output_type": "display_data"
    },
    {
     "name": "stdout",
     "output_type": "stream",
     "text": [
      "Average inference time per image: 0.16 ms\n",
      "Epoch 58 summary: total_time=30.3s, CPU=0.3%, GPU=85.7%, VAL=14.0%\n",
      "Train loss=0.0147, Val loss=1.1761, Val f1=0.8769, Val acc=0.9158\n"
     ]
    },
    {
     "data": {
      "application/vnd.jupyter.widget-view+json": {
       "model_id": "460b973ee2a543ad8443b777eba0ec0f",
       "version_major": 2,
       "version_minor": 0
      },
      "text/plain": [
       "Epoch 59/100:   0%|          | 0/276 [00:00<?, ?it/s]"
      ]
     },
     "metadata": {},
     "output_type": "display_data"
    },
    {
     "name": "stdout",
     "output_type": "stream",
     "text": [
      "Average inference time per image: 0.18 ms\n",
      "Epoch 59 summary: total_time=30.3s, CPU=0.3%, GPU=85.5%, VAL=14.2%\n",
      "Train loss=0.0067, Val loss=1.2415, Val f1=0.8807, Val acc=0.9209\n"
     ]
    },
    {
     "data": {
      "application/vnd.jupyter.widget-view+json": {
       "model_id": "a83eae88d25b4f4594d719c295c6a0c3",
       "version_major": 2,
       "version_minor": 0
      },
      "text/plain": [
       "Epoch 60/100:   0%|          | 0/276 [00:00<?, ?it/s]"
      ]
     },
     "metadata": {},
     "output_type": "display_data"
    },
    {
     "name": "stdout",
     "output_type": "stream",
     "text": [
      "Average inference time per image: 0.16 ms\n",
      "Epoch 60 summary: total_time=30.3s, CPU=0.3%, GPU=85.7%, VAL=14.0%\n",
      "Train loss=0.0052, Val loss=1.1900, Val f1=0.8881, Val acc=0.9219\n"
     ]
    },
    {
     "data": {
      "application/vnd.jupyter.widget-view+json": {
       "model_id": "b2c743ba92a9453c9efd9639e1be8c03",
       "version_major": 2,
       "version_minor": 0
      },
      "text/plain": [
       "Epoch 61/100:   0%|          | 0/276 [00:00<?, ?it/s]"
      ]
     },
     "metadata": {},
     "output_type": "display_data"
    },
    {
     "name": "stdout",
     "output_type": "stream",
     "text": [
      "Average inference time per image: 0.17 ms\n",
      "Epoch 61 summary: total_time=30.3s, CPU=0.3%, GPU=85.7%, VAL=14.0%\n",
      "Train loss=0.0076, Val loss=1.1962, Val f1=0.8790, Val acc=0.9168\n"
     ]
    },
    {
     "data": {
      "application/vnd.jupyter.widget-view+json": {
       "model_id": "d16b8d5134f04588a5d0ce3e61bc5bd3",
       "version_major": 2,
       "version_minor": 0
      },
      "text/plain": [
       "Epoch 62/100:   0%|          | 0/276 [00:00<?, ?it/s]"
      ]
     },
     "metadata": {},
     "output_type": "display_data"
    },
    {
     "name": "stdout",
     "output_type": "stream",
     "text": [
      "Average inference time per image: 0.17 ms\n",
      "Epoch 62 summary: total_time=30.6s, CPU=0.3%, GPU=85.4%, VAL=14.3%\n",
      "Train loss=0.0057, Val loss=1.4689, Val f1=0.8837, Val acc=0.9209\n"
     ]
    },
    {
     "data": {
      "application/vnd.jupyter.widget-view+json": {
       "model_id": "4e561bbae78548ef9d3ad50af10a8067",
       "version_major": 2,
       "version_minor": 0
      },
      "text/plain": [
       "Epoch 63/100:   0%|          | 0/276 [00:00<?, ?it/s]"
      ]
     },
     "metadata": {},
     "output_type": "display_data"
    },
    {
     "name": "stdout",
     "output_type": "stream",
     "text": [
      "Average inference time per image: 0.18 ms\n",
      "Epoch 63 summary: total_time=30.3s, CPU=0.3%, GPU=85.7%, VAL=14.1%\n",
      "Train loss=0.0236, Val loss=0.8356, Val f1=0.8830, Val acc=0.9158\n"
     ]
    },
    {
     "data": {
      "application/vnd.jupyter.widget-view+json": {
       "model_id": "cd59fd5b9f8342e1a6d15ea358ef7963",
       "version_major": 2,
       "version_minor": 0
      },
      "text/plain": [
       "Epoch 64/100:   0%|          | 0/276 [00:00<?, ?it/s]"
      ]
     },
     "metadata": {},
     "output_type": "display_data"
    },
    {
     "name": "stdout",
     "output_type": "stream",
     "text": [
      "Average inference time per image: 0.22 ms\n",
      "Epoch 64 summary: total_time=30.4s, CPU=0.3%, GPU=85.3%, VAL=14.4%\n",
      "Train loss=0.0270, Val loss=0.9862, Val f1=0.8684, Val acc=0.9112\n"
     ]
    },
    {
     "data": {
      "application/vnd.jupyter.widget-view+json": {
       "model_id": "0e25b55abb524eee9f8b966e51ec2ac8",
       "version_major": 2,
       "version_minor": 0
      },
      "text/plain": [
       "Epoch 65/100:   0%|          | 0/276 [00:00<?, ?it/s]"
      ]
     },
     "metadata": {},
     "output_type": "display_data"
    },
    {
     "ename": "KeyboardInterrupt",
     "evalue": "",
     "output_type": "error",
     "traceback": [
      "\u001b[0;31m---------------------------------------------------------------------------\u001b[0m",
      "\u001b[0;31mKeyboardInterrupt\u001b[0m                         Traceback (most recent call last)",
      "\u001b[0;32m/tmp/ipykernel_6500/1659694144.py\u001b[0m in \u001b[0;36m<cell line: 5>\u001b[0;34m()\u001b[0m\n\u001b[1;32m      3\u001b[0m \u001b[0moptimizer\u001b[0m \u001b[0;34m=\u001b[0m \u001b[0mtorch\u001b[0m\u001b[0;34m.\u001b[0m\u001b[0moptim\u001b[0m\u001b[0;34m.\u001b[0m\u001b[0mAdamW\u001b[0m\u001b[0;34m(\u001b[0m\u001b[0mmodel\u001b[0m\u001b[0;34m.\u001b[0m\u001b[0mparameters\u001b[0m\u001b[0;34m(\u001b[0m\u001b[0;34m)\u001b[0m\u001b[0;34m,\u001b[0m \u001b[0mlr\u001b[0m\u001b[0;34m=\u001b[0m\u001b[0mLR\u001b[0m\u001b[0;34m,\u001b[0m \u001b[0mweight_decay\u001b[0m\u001b[0;34m=\u001b[0m\u001b[0mWEIGHT_DECAY\u001b[0m\u001b[0;34m)\u001b[0m\u001b[0;34m\u001b[0m\u001b[0;34m\u001b[0m\u001b[0m\n\u001b[1;32m      4\u001b[0m \u001b[0;34m\u001b[0m\u001b[0m\n\u001b[0;32m----> 5\u001b[0;31m \u001b[0mtrain_loop\u001b[0m\u001b[0;34m(\u001b[0m\u001b[0mtrain_loader\u001b[0m\u001b[0;34m,\u001b[0m \u001b[0mval_loader\u001b[0m\u001b[0;34m,\u001b[0m \u001b[0mmodel\u001b[0m\u001b[0;34m,\u001b[0m \u001b[0mcriterion\u001b[0m\u001b[0;34m,\u001b[0m \u001b[0moptimizer\u001b[0m\u001b[0;34m,\u001b[0m \u001b[0mDEVICE\u001b[0m\u001b[0;34m,\u001b[0m \u001b[0mNUM_EPOCHS\u001b[0m\u001b[0;34m)\u001b[0m\u001b[0;34m\u001b[0m\u001b[0;34m\u001b[0m\u001b[0m\n\u001b[0m",
      "\u001b[0;32m/tmp/ipykernel_6500/1069818013.py\u001b[0m in \u001b[0;36mtrain_loop\u001b[0;34m(train_loader, val_loader, model, criterion, optimizer, device, num_epochs)\u001b[0m\n\u001b[1;32m    249\u001b[0m             \u001b[0mtotal_gpu_time\u001b[0m \u001b[0;34m+=\u001b[0m \u001b[0mtime\u001b[0m\u001b[0;34m.\u001b[0m\u001b[0mtime\u001b[0m\u001b[0;34m(\u001b[0m\u001b[0;34m)\u001b[0m \u001b[0;34m-\u001b[0m \u001b[0mstart_gpu\u001b[0m\u001b[0;34m\u001b[0m\u001b[0;34m\u001b[0m\u001b[0m\n\u001b[1;32m    250\u001b[0m \u001b[0;34m\u001b[0m\u001b[0m\n\u001b[0;32m--> 251\u001b[0;31m             \u001b[0mrunning_loss\u001b[0m \u001b[0;34m+=\u001b[0m \u001b[0mloss\u001b[0m\u001b[0;34m.\u001b[0m\u001b[0mitem\u001b[0m\u001b[0;34m(\u001b[0m\u001b[0;34m)\u001b[0m \u001b[0;34m*\u001b[0m \u001b[0mimgs\u001b[0m\u001b[0;34m.\u001b[0m\u001b[0msize\u001b[0m\u001b[0;34m(\u001b[0m\u001b[0;36m0\u001b[0m\u001b[0;34m)\u001b[0m\u001b[0;34m\u001b[0m\u001b[0;34m\u001b[0m\u001b[0m\n\u001b[0m\u001b[1;32m    252\u001b[0m             \u001b[0mprocessed\u001b[0m \u001b[0;34m=\u001b[0m \u001b[0mmin\u001b[0m\u001b[0;34m(\u001b[0m\u001b[0;34m(\u001b[0m\u001b[0;34m(\u001b[0m\u001b[0mpbar\u001b[0m\u001b[0;34m.\u001b[0m\u001b[0mn\u001b[0m \u001b[0;34m+\u001b[0m \u001b[0;36m1\u001b[0m\u001b[0;34m)\u001b[0m \u001b[0;34m*\u001b[0m \u001b[0mimgs\u001b[0m\u001b[0;34m.\u001b[0m\u001b[0msize\u001b[0m\u001b[0;34m(\u001b[0m\u001b[0;36m0\u001b[0m\u001b[0;34m)\u001b[0m\u001b[0;34m)\u001b[0m\u001b[0;34m,\u001b[0m \u001b[0mlen\u001b[0m\u001b[0;34m(\u001b[0m\u001b[0mtrain_loader\u001b[0m\u001b[0;34m.\u001b[0m\u001b[0mdataset\u001b[0m\u001b[0;34m)\u001b[0m\u001b[0;34m)\u001b[0m\u001b[0;34m\u001b[0m\u001b[0;34m\u001b[0m\u001b[0m\n\u001b[1;32m    253\u001b[0m             \u001b[0mavg_loss_running\u001b[0m \u001b[0;34m=\u001b[0m \u001b[0mrunning_loss\u001b[0m \u001b[0;34m/\u001b[0m \u001b[0mprocessed\u001b[0m\u001b[0;34m\u001b[0m\u001b[0;34m\u001b[0m\u001b[0m\n",
      "\u001b[0;31mKeyboardInterrupt\u001b[0m: "
     ]
    }
   ],
   "source": [
    "model = build_model(num_classes=len(class_to_idx), pretrained=PRETRAINED).to(DEVICE)\n",
    "criterion = nn.CrossEntropyLoss(weight=class_weights_tensor)\n",
    "optimizer = torch.optim.AdamW(model.parameters(), lr=LR, weight_decay=WEIGHT_DECAY)\n",
    "\n",
    "train_loop(train_loader, val_loader, model, criterion, optimizer, DEVICE, NUM_EPOCHS)"
   ]
  },
  {
   "cell_type": "markdown",
   "id": "88f3896b-7cd1-44a3-aac3-e5f30233d8c2",
   "metadata": {},
   "source": [
    "## Оценка на test"
   ]
  },
  {
   "cell_type": "code",
   "execution_count": 6,
   "id": "8909ae03-7a1a-4e5b-9e86-04f9ef64ad16",
   "metadata": {
    "execution": {
     "iopub.execute_input": "2025-10-14T13:35:40.154683Z",
     "iopub.status.busy": "2025-10-14T13:35:40.153702Z",
     "iopub.status.idle": "2025-10-14T13:37:17.687437Z",
     "shell.execute_reply": "2025-10-14T13:37:17.686800Z",
     "shell.execute_reply.started": "2025-10-14T13:35:40.154646Z"
    },
    "tags": []
   },
   "outputs": [
    {
     "name": "stdout",
     "output_type": "stream",
     "text": [
      "\n",
      "---------------- Final evaluation on TEST set ----------------\n"
     ]
    },
    {
     "data": {
      "application/vnd.jupyter.widget-view+json": {
       "model_id": "",
       "version_major": 2,
       "version_minor": 0
      },
      "text/plain": [
       "Evaluating on TEST set:   0%|          | 0/77 [00:00<?, ?it/s]"
      ]
     },
     "metadata": {},
     "output_type": "display_data"
    },
    {
     "name": "stdout",
     "output_type": "stream",
     "text": [
      "\n",
      "---------------- Final TEST Evaluation ----------------\n",
      "Loss:      0.9967\n",
      "Accuracy:  0.9188\n",
      "Precision: 0.8845\n",
      "Recall:    0.8804\n",
      "F1-score:  0.8822\n",
      "\n",
      "Confusion Matrix:\n",
      "[[ 385   14   23]\n",
      " [  24  684  176]\n",
      " [  24  137 3433]]\n",
      "\n",
      "Per-class metrics:\n",
      "              precision  recall  f1-score    support\n",
      "absent           0.8891  0.9123    0.9006   422.0000\n",
      "part             0.8192  0.7738    0.7958   884.0000\n",
      "present          0.9452  0.9552    0.9502  3594.0000\n",
      "accuracy         0.9188  0.9188    0.9188     0.9188\n",
      "macro avg        0.8845  0.8804    0.8822  4900.0000\n",
      "weighted avg     0.9176  0.9188    0.9181  4900.0000\n",
      "\n",
      "Average inference time per image: 0.18 ms\n"
     ]
    }
   ],
   "source": [
    "best_ckpt = os.path.join(OUTPUT_DIR, 'efficientnet_b1_best.pth')  \n",
    "\n",
    "if os.path.exists(best_ckpt):\n",
    "    checkpoint = torch.load(best_ckpt, map_location=DEVICE)\n",
    "    model.load_state_dict(checkpoint['model_state'])\n",
    "\n",
    "    print(\"\\n---------------- Final evaluation on TEST set ----------------\")\n",
    "    test_results = evaluate_test(model, test_loader, criterion, DEVICE, class_names=list(class_to_idx.keys()))\n",
    "else:\n",
    "    print(\"No checkpoint found.\")"
   ]
  },
  {
   "cell_type": "code",
   "execution_count": null,
   "id": "e87554c1-9700-4123-b7ef-c5e07b6f73fa",
   "metadata": {},
   "outputs": [],
   "source": []
  }
 ],
 "metadata": {
  "kernelspec": {
   "display_name": "DataSphere Kernel",
   "language": "python",
   "name": "python3"
  },
  "language_info": {
   "codemirror_mode": {
    "name": "ipython",
    "version": 3
   },
   "file_extension": ".py",
   "mimetype": "text/x-python",
   "name": "python",
   "nbconvert_exporter": "python",
   "pygments_lexer": "ipython3",
   "version": "3.10.12"
  }
 },
 "nbformat": 4,
 "nbformat_minor": 5
}
