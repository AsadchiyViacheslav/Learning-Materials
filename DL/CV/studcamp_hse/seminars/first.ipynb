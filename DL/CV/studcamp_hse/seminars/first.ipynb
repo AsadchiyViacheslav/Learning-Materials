{
 "cells": [
  {
   "cell_type": "markdown",
   "id": "ff2c54c3",
   "metadata": {},
   "source": [
    "# Семинар 1 - OpenCV"
   ]
  }
 ],
 "metadata": {
  "language_info": {
   "name": "python"
  }
 },
 "nbformat": 4,
 "nbformat_minor": 5
}
